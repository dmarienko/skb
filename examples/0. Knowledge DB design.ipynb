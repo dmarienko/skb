{
 "cells": [
  {
   "cell_type": "code",
   "execution_count": 13,
   "metadata": {},
   "outputs": [
    {
     "data": {
      "text/html": [
       "<pre style=\"white-space:pre;overflow-x:auto;line-height:normal;font-family:Menlo,'DejaVu Sans Mono',consolas,'Courier New',monospace\"><span style=\"font-weight: bold\">(</span>c<span style=\"font-weight: bold\">)</span> <span style=\"color: #008000; text-decoration-color: #008000; font-weight: bold\">2017</span>, AppliedAlpha Infrastructure for Quantitative Research and Analysis, ver. master: \n",
       "<span style=\"color: #008000; text-decoration-color: #008000; font-weight: bold\">0.1534</span>\n",
       "</pre>\n"
      ],
      "text/plain": [
       "\u001b[1m(\u001b[0mc\u001b[1m)\u001b[0m \u001b[1;5;32m2017\u001b[0m, AppliedAlpha Infrastructure for Quantitative Research and Analysis, ver. master: \n",
       "\u001b[1;5;32m0.1534\u001b[0m\n"
      ]
     },
     "metadata": {},
     "output_type": "display_data"
    },
    {
     "name": "stdout",
     "output_type": "stream",
     "text": [
      "The autoreload extension is already loaded. To reload it, use:\n",
      "  %reload_ext autoreload\n"
     ]
    }
   ],
   "source": [
    "import ira\n",
    "%alphalab dark\n",
    "\n",
    "%load_ext autoreload\n",
    "%autoreload 2\n",
    "from skb.structs import * \n",
    "from skb.nodes import *\n",
    "from skb.utils import *"
   ]
  },
  {
   "cell_type": "markdown",
   "metadata": {},
   "source": [
    "Initial design on structures etc - very rough and preliminary ..."
   ]
  },
  {
   "cell_type": "markdown",
   "metadata": {
    "tags": []
   },
   "source": [
    "# Supplement Code"
   ]
  },
  {
   "cell_type": "code",
   "execution_count": 14,
   "metadata": {},
   "outputs": [],
   "source": [
    "# check collisions\n",
    "assert len(set(generate_id('sdasd') for i in range(1_000_000))) == 1_000_000, \"There are collissions !!!\""
   ]
  },
  {
   "cell_type": "markdown",
   "metadata": {},
   "source": [
    "# Designs"
   ]
  },
  {
   "cell_type": "code",
   "execution_count": 15,
   "metadata": {},
   "outputs": [],
   "source": [
    "r = R_struct()"
   ]
  },
  {
   "cell_type": "code",
   "execution_count": 5,
   "metadata": {},
   "outputs": [
    {
     "data": {
      "text/plain": [
       "mstruct(i8F8E1881C57A=mstruct(parent='Root', children=[], linked=[], description='False Breakout Strategy Research', node_type='T', tags=[], data_type='text', data='', created='2022-02-02T11:01:37.539473', last_modified='2022-02-02T11:01:37.539473', timespan=None, id='i8F8E1881C57A'))"
      ]
     },
     "execution_count": 5,
     "metadata": {},
     "output_type": "execute_result"
    }
   ],
   "source": [
    "r // T('False Breakout Strategy Research')"
   ]
  },
  {
   "cell_type": "code",
   "execution_count": 6,
   "metadata": {},
   "outputs": [
    {
     "data": {
      "text/plain": [
       "mstruct(i8F8E1881C57A=mstruct(parent='Root', children=[], linked=[], description='False Breakout Strategy Research', node_type='T', tags=[], data_type='text', data='', created='2022-02-02T11:01:37.539473', last_modified='2022-02-02T11:01:37.539473', timespan=None, id='i8F8E1881C57A'), iA954BA8D5E55=mstruct(parent='Root', children=[], linked=[], description='Finish optimal params framework', node_type='D', tags=['gptr', 'optimization'], data_type='', data='', created='2022-02-02T11:01:39.993091', last_modified='2022-02-02T11:01:39.993091', timespan=None, id='iA954BA8D5E55'))"
      ]
     },
     "execution_count": 6,
     "metadata": {},
     "output_type": "execute_result"
    }
   ],
   "source": [
    "r // D('Finish optimal params framework', ['gptr', 'optimization'])"
   ]
  },
  {
   "cell_type": "code",
   "execution_count": 8,
   "metadata": {},
   "outputs": [
    {
     "data": {
      "text/plain": [
       "mstruct(parent='Root', children=[], linked=[], description='False Breakout Strategy Research', node_type='T', tags=[], data_type='text', data='', created='2022-02-02T11:01:37.539473', last_modified='2022-02-02T11:01:37.539473', timespan=None, id='i8F8E1881C57A')"
      ]
     },
     "execution_count": 8,
     "metadata": {},
     "output_type": "execute_result"
    }
   ],
   "source": [
    "r.i8F8E1881C57A"
   ]
  },
  {
   "cell_type": "code",
   "execution_count": 12,
   "metadata": {},
   "outputs": [
    {
     "data": {
      "text/plain": [
       "'FOMF'"
      ]
     },
     "execution_count": 12,
     "metadata": {},
     "output_type": "execute_result"
    }
   ],
   "source": [
    "get_short_id('Finish optimization of mini-framework')"
   ]
  },
  {
   "cell_type": "code",
   "execution_count": null,
   "metadata": {},
   "outputs": [],
   "source": []
  }
 ],
 "metadata": {
  "kernelspec": {
   "display_name": "Python 3 (ipykernel)",
   "language": "python",
   "name": "python3"
  },
  "language_info": {
   "codemirror_mode": {
    "name": "ipython",
    "version": 3
   },
   "file_extension": ".py",
   "mimetype": "text/x-python",
   "name": "python",
   "nbconvert_exporter": "python",
   "pygments_lexer": "ipython3",
   "version": "3.9.7"
  },
  "widgets": {
   "application/vnd.jupyter.widget-state+json": {
    "state": {},
    "version_major": 2,
    "version_minor": 0
   }
  }
 },
 "nbformat": 4,
 "nbformat_minor": 4
}
