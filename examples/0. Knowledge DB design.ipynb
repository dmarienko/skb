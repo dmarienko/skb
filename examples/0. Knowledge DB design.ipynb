{
 "cells": [
  {
   "cell_type": "code",
   "execution_count": 1,
   "metadata": {},
   "outputs": [
    {
     "data": {
      "text/html": [
       "<pre style=\"white-space:pre;overflow-x:auto;line-height:normal;font-family:Menlo,'DejaVu Sans Mono',consolas,'Courier New',monospace\"><span style=\"font-weight: bold\">(</span>c<span style=\"font-weight: bold\">)</span> <span style=\"color: #008000; font-weight: bold\">2017</span>, AppliedAlpha Infrastructure for Quantitative Research and Analysis, ver. master: \n",
       "<span style=\"color: #008000; font-weight: bold\">0.1513</span>\n",
       "</pre>\n"
      ],
      "text/plain": [
       "<rich.jupyter.JupyterRenderable at 0x7f5699264160>"
      ]
     },
     "metadata": {},
     "output_type": "display_data"
    }
   ],
   "source": [
    "import ira\n",
    "%alphalab dark"
   ]
  },
  {
   "cell_type": "code",
   "execution_count": 2,
   "metadata": {},
   "outputs": [],
   "source": [
    "%load_ext autoreload\n",
    "%autoreload 2\n",
    "\n",
    "from skb.nodes import *"
   ]
  },
  {
   "cell_type": "markdown",
   "metadata": {},
   "source": [
    "Initial design on structures etc - very rough and preliminary ..."
   ]
  },
  {
   "cell_type": "markdown",
   "metadata": {
    "tags": []
   },
   "source": [
    "# Supplement Code"
   ]
  },
  {
   "cell_type": "code",
   "execution_count": 3,
   "metadata": {},
   "outputs": [],
   "source": [
    "# check collisions\n",
    "assert len(set(generate_id('sdasd') for i in range(1_000_000))) == 1_000_000, \"There are collissions !!!\""
   ]
  },
  {
   "cell_type": "markdown",
   "metadata": {},
   "source": [
    "# Designs"
   ]
  },
  {
   "cell_type": "markdown",
   "metadata": {},
   "source": [
    "<hr/>"
   ]
  },
  {
   "cell_type": "code",
   "execution_count": 191,
   "metadata": {},
   "outputs": [],
   "source": [
    "from collections import defaultdict\n",
    "def kls(host=None):\n",
    "    paths = defaultdict(list)\n",
    "    for n in z_ls('knodes', host=host, dbname='skb'):\n",
    "        d = z_ld(n, dbname='skb')\n",
    "        paths[d['path']].append(d)\n",
    "        \n",
    "    for p, vs in sorted(paths.items()): \n",
    "        print(f\"[yellow]---( {p} )\".ljust(80, '-') + '[/yellow]')\n",
    "        for d in vs:\n",
    "            descr = '\\n\\t\\t\\t'.join(d['description'].split('\\n'))\n",
    "            tags = '|'.join(d['tags'])\n",
    "            print(f\"  {d['id']} {pd.Timestamp(d['created']).strftime('%d/%b/%y %H:%M:%S')} |> {d['name']} [cyan]{tags}[/cyan]\\n\\t\\t\\t{ descr }\")"
   ]
  },
  {
   "cell_type": "code",
   "execution_count": null,
   "metadata": {},
   "outputs": [],
   "source": [
    "kls()"
   ]
  },
  {
   "cell_type": "code",
   "execution_count": 19,
   "metadata": {},
   "outputs": [],
   "source": [
    "from ipytree import Tree, Node\n",
    "from ipywidgets import Text, jslink, link, HBox, VBox\n",
    "import os\n",
    "in_dir = os.path.join(os.path.expanduser('~'), 'projects/alpha')"
   ]
  },
  {
   "cell_type": "markdown",
   "metadata": {},
   "source": [
    "## tree example"
   ]
  },
  {
   "cell_type": "code",
   "execution_count": null,
   "metadata": {},
   "outputs": [],
   "source": [
    "print(s)"
   ]
  },
  {
   "cell_type": "code",
   "execution_count": 190,
   "metadata": {},
   "outputs": [],
   "source": [
    "from ipytree import Tree, Node\n",
    "from ipywidgets import Text, jslink, link, HBox, VBox\n",
    "import os\n",
    "\n",
    "def file_browser(in_dir=None, show_hidden=False):\n",
    "    \"\"\"Creates a simple file browser and text editor.\n",
    "\n",
    "    Args:\n",
    "        in_dir (str, optional): The input directory. Defaults to None, which will use the current working directory.\n",
    "        show_hidden (bool, optional): Whether to show hidden files/folders. Defaults to False.\n",
    "\n",
    "    Returns:\n",
    "        object: An ipywidget.\n",
    "    \"\"\"\n",
    "    import os\n",
    "    import ipywidgets as widgets\n",
    "    from ipytree import Tree, Node\n",
    "    \n",
    "    if in_dir is None:\n",
    "        in_dir = os.getcwd()\n",
    "\n",
    "    if not os.path.exists(in_dir):\n",
    "        print('The provided directory does not exist.')\n",
    "        return\n",
    "    elif not os.path.isdir(in_dir):\n",
    "        print('The provided path is not a valid directory.')\n",
    "        return\n",
    "\n",
    "    if in_dir.endswith('/'):\n",
    "        in_dir = in_dir[:-1]\n",
    "\n",
    "    full_widget = widgets.HBox()\n",
    "    left_widget = widgets.VBox()\n",
    "\n",
    "    right_widget = widgets.VBox()\n",
    "\n",
    "    path_widget = widgets.Text()\n",
    "    path_widget.layout.min_width = '475px'\n",
    "    save_widget = widgets.Button(\n",
    "        description='Save', button_style='primary', tooltip='Save edits to file.')\n",
    "    info_widget = widgets.HBox()\n",
    "    info_widget.children = [path_widget, save_widget]\n",
    "\n",
    "    text_widget = widgets.Textarea()\n",
    "    text_widget.layout.width = '630px'\n",
    "    text_widget.layout.height = '600px'\n",
    "\n",
    "    right_widget.children = [info_widget, text_widget]\n",
    "    full_widget.children = [left_widget]\n",
    "\n",
    "    search_box = widgets.Text(placeholder='Search files/folders...')\n",
    "    search_box.layout.width = '310px'\n",
    "    tree_widget = widgets.Output()\n",
    "    tree_widget.layout.max_width = '310px'\n",
    "    tree_widget.overflow = 'auto'\n",
    "\n",
    "    left_widget.children = [search_box, tree_widget]\n",
    "\n",
    "    tree = Tree(multiple_selection=False)\n",
    "    tree_dict = {}\n",
    "\n",
    "    def on_button_clicked(b):\n",
    "        content = text_widget.value\n",
    "        out_file = path_widget.value\n",
    "\n",
    "        out_dir = os.path.dirname(out_file)\n",
    "        if not os.path.exists(out_dir):\n",
    "            os.makedirs(out_dir)\n",
    "\n",
    "        with open(out_file, 'w') as f:\n",
    "            f.write(content)\n",
    "\n",
    "        text_widget.disabled = True\n",
    "        text_widget.value = 'The content has been saved successfully.'\n",
    "        save_widget.disabled = True\n",
    "        path_widget.disabled = True\n",
    "\n",
    "        if (out_file not in tree_dict.keys()) and (out_dir in tree_dict.keys()):\n",
    "            node = Node(os.path.basename(out_file))\n",
    "            tree_dict[out_file] = node\n",
    "            parent_node = tree_dict[out_dir]\n",
    "            parent_node.add_node(node)\n",
    "\n",
    "    save_widget.on_click(on_button_clicked)\n",
    "\n",
    "    def search_box_callback(text):\n",
    "\n",
    "        with tree_widget:\n",
    "            if text.value == '':\n",
    "                print('Loading...')\n",
    "                tree_widget.clear_output(wait=True)\n",
    "                display(tree)\n",
    "            else:\n",
    "                tree_widget.clear_output()\n",
    "                print('Searching...')\n",
    "                tree_widget.clear_output(wait=True)\n",
    "                sub_tree = search_api_tree(text.value, tree_dict)\n",
    "                display(sub_tree)\n",
    "    search_box.on_submit(search_box_callback)\n",
    "\n",
    "    def handle_file_click(event):\n",
    "        if event['new']:\n",
    "            cur_node = event['owner']\n",
    "            for key in tree_dict.keys():\n",
    "                if (cur_node is tree_dict[key]) and (os.path.isfile(key)):\n",
    "                    try:\n",
    "                        with open(key) as f:\n",
    "                            content = f.read()\n",
    "                            text_widget.value = content\n",
    "                            text_widget.disabled = False\n",
    "                            path_widget.value = key\n",
    "                            path_widget.disabled = False\n",
    "                            save_widget.disabled = False\n",
    "                            full_widget.children = [left_widget, right_widget]\n",
    "                    except Exception as e:\n",
    "                        path_widget.value = key\n",
    "                        path_widget.disabled = True\n",
    "                        save_widget.disabled = True\n",
    "                        text_widget.disabled = True\n",
    "                        text_widget.value = 'Failed to open {}.'.format(\n",
    "                            cur_node.name) + '\\n\\n' + str(e)\n",
    "                        return\n",
    "\n",
    "    def handle_folder_click(event):\n",
    "        if event['new']:\n",
    "            full_widget.children = [left_widget]\n",
    "            text_widget.value = ''\n",
    "\n",
    "    root_name = in_dir.split('/')[-1]\n",
    "    root_node = Node(root_name)\n",
    "    tree_dict[in_dir] = root_node\n",
    "    tree.add_node(root_node)\n",
    "    root_node.observe(handle_folder_click, 'selected')\n",
    "\n",
    "    for root, d_names, f_names in os.walk(in_dir):\n",
    "\n",
    "        if not show_hidden:\n",
    "            folders = root.split('/')\n",
    "            for folder in folders:\n",
    "                if folder.startswith('.'):\n",
    "                    continue\n",
    "            for d_name in d_names:\n",
    "                if d_name.startswith('.'):\n",
    "                    d_names.remove(d_name)\n",
    "            for f_name in f_names:\n",
    "                if f_name.startswith('.'):\n",
    "                    f_names.remove(f_name)\n",
    "\n",
    "        d_names.sort()\n",
    "        f_names.sort()\n",
    "\n",
    "        if root not in tree_dict.keys():\n",
    "            name = root.split('/')[-1]\n",
    "            dir_name = os.path.dirname(root)\n",
    "            parent_node = tree_dict[dir_name]\n",
    "            node = Node(name)\n",
    "            tree_dict[root] = node\n",
    "            parent_node.add_node(node)\n",
    "            node.observe(handle_folder_click, 'selected')\n",
    "\n",
    "        if len(f_names) > 0:\n",
    "            parent_node = tree_dict[root]\n",
    "            parent_node.opened = False\n",
    "            for f_name in f_names:\n",
    "                node = Node(f_name)\n",
    "                node.icon = 'file'\n",
    "                full_path = os.path.join(root, f_name)\n",
    "                tree_dict[full_path] = node\n",
    "                parent_node.add_node(node)\n",
    "                node.observe(handle_file_click, 'selected')\n",
    "\n",
    "    with tree_widget:\n",
    "        tree_widget.clear_output()\n",
    "        display(tree)\n",
    "\n",
    "    return full_widget"
   ]
  },
  {
   "cell_type": "markdown",
   "metadata": {},
   "source": [
    "## tree test"
   ]
  },
  {
   "cell_type": "code",
   "execution_count": null,
   "metadata": {},
   "outputs": [],
   "source": [
    "tree = file_browser(os.path.join(os.path.expanduser('~'), 'projects/'))\n",
    "tree"
   ]
  },
  {
   "cell_type": "code",
   "execution_count": null,
   "metadata": {},
   "outputs": [],
   "source": []
  }
 ],
 "metadata": {
  "kernelspec": {
   "display_name": "Python 3",
   "language": "python",
   "name": "python3"
  },
  "language_info": {
   "codemirror_mode": {
    "name": "ipython",
    "version": 3
   },
   "file_extension": ".py",
   "mimetype": "text/x-python",
   "name": "python",
   "nbconvert_exporter": "python",
   "pygments_lexer": "ipython3",
   "version": "3.6.9"
  },
  "widgets": {
   "application/vnd.jupyter.widget-state+json": {
    "state": {
     "0011afc0378d4fd9a733234ae3935843": {
      "model_module": "ipytree",
      "model_module_version": "0.2.1",
      "model_name": "NodeModel",
      "state": {
       "_id": "1c97cb8b-7c32-4491-893d-a45a30725458",
       "_model_module_version": "0.2.1",
       "_view_module_version": "0.2.1",
       "icon": "file",
       "name": "README.md"
      }
     },
     "001a594b11d746e0b9f29e8e99d6e6f3": {
      "model_module": "ipytree",
      "model_module_version": "0.2.1",
      "model_name": "NodeModel",
      "state": {
       "_id": "176e083a-b81c-4c7d-8eed-4272c75b34b0",
       "_model_module_version": "0.2.1",
       "_view_module_version": "0.2.1",
       "name": "garch",
       "nodes": [
        "IPY_MODEL_8e6a2d1674c4420e84f64df86b941dba"
       ],
       "opened": false
      }
     },
     "001d9edf1c3243b780bdcbd4574ef59a": {
      "model_module": "@jupyter-widgets/base",
      "model_module_version": "1.2.0",
      "model_name": "LayoutModel",
      "state": {
       "width": "310px"
      }
     },
     "004278968c9644b795a62b532eb09382": {
      "model_module": "ipytree",
      "model_module_version": "0.2.1",
      "model_name": "NodeModel",
      "state": {
       "_id": "96d58d49-71a0-46d9-a344-510e40602569",
       "_model_module_version": "0.2.1",
       "_view_module_version": "0.2.1",
       "icon": "file",
       "name": "feature_selector.py"
      }
     },
     "00613963fe274b5281b26bbd895727ba": {
      "model_module": "@jupyter-widgets/controls",
      "model_module_version": "1.5.0",
      "model_name": "VBoxModel",
      "state": {
       "children": [
        "IPY_MODEL_6fecaf7f8cb147d4b102bfff262e6d79",
        "IPY_MODEL_5b4736c6cfd24ed189ba1c36a0a88f9c"
       ],
       "layout": "IPY_MODEL_32ab49d1cf4a417897914e81c31ccef7"
      }
     },
     "0065b3b0f82e425b9749395f132b47f1": {
      "model_module": "ipytree",
      "model_module_version": "0.2.1",
      "model_name": "NodeModel",
      "state": {
       "_id": "26af8942-1067-40ed-b140-2122ffa31ca9",
       "_model_module_version": "0.2.1",
       "_view_module_version": "0.2.1",
       "icon": "file",
       "name": "portfolio.cpython-36.pyc"
      }
     },
     "009b26eaeafb483ea2447541a08aab51": {
      "model_module": "ipytree",
      "model_module_version": "0.2.1",
      "model_name": "NodeModel",
      "state": {
       "_id": "14d4ed3f-2e2d-4d6b-92bd-5328349ed160",
       "_model_module_version": "0.2.1",
       "_view_module_version": "0.2.1",
       "icon": "file",
       "name": "4. Composite Model.ipynb"
      }
     },
     "009da2c04b5746aa86e741eca0ecafe6": {
      "model_module": "ipytree",
      "model_module_version": "0.2.1",
      "model_name": "NodeModel",
      "state": {
       "_id": "88557f5b-0b89-46fd-a9d8-f53e5581d085",
       "_model_module_version": "0.2.1",
       "_view_module_version": "0.2.1",
       "icon": "file",
       "name": "binance.py"
      }
     },
     "00a76b52aea048efb51b6cc616372d7a": {
      "model_module": "ipytree",
      "model_module_version": "0.2.1",
      "model_name": "TreeModel",
      "state": {
       "_model_module_version": "0.2.1",
       "_view_module_version": "0.2.1",
       "layout": "IPY_MODEL_a59e5c8a685d4e55978c199125734660",
       "nodes": [
        "IPY_MODEL_6195a00742f8424299a8f8711399aeb2",
        "IPY_MODEL_2d79a1438cb842f8bbe7233ea02727b5",
        "IPY_MODEL_60dbc131e0c24087b993b82b3610cd5f",
        "IPY_MODEL_9aea1d52fa534b5ba8cbf755d5a31d27"
       ],
       "selected_nodes": [
        "IPY_MODEL_b28ad133dfc049b4a462cc5c07dbd208"
       ]
      }
     },
     "010fcdb2a8c74ab78e4d697d7abf7d0d": {
      "model_module": "ipytree",
      "model_module_version": "0.2.1",
      "model_name": "NodeModel",
      "state": {
       "_id": "acf065da-bb71-48c9-b550-a6b3ac2c4631",
       "_model_module_version": "0.2.1",
       "_view_module_version": "0.2.1",
       "icon": "file",
       "name": "FX book v2.xlsx"
      }
     },
     "0135f22dd79c4a32afc6c52fa661574b": {
      "model_module": "ipytree",
      "model_module_version": "0.2.1",
      "model_name": "NodeModel",
      "state": {
       "_id": "2f9a4ab9-aa22-4d0d-8c62-0f1b14b5fe78",
       "_model_module_version": "0.2.1",
       "_view_module_version": "0.2.1",
       "icon": "info",
       "icon_style": "info",
       "name": "media"
      }
     },
     "015fa36ed4f3482bb2ca72269b0bd147": {
      "model_module": "ipytree",
      "model_module_version": "0.2.1",
      "model_name": "NodeModel",
      "state": {
       "_id": "9de3afa9-f164-4a48-ba42-496690d8c2e5",
       "_model_module_version": "0.2.1",
       "_view_module_version": "0.2.1",
       "icon": "file",
       "name": "supertrend_models.py"
      }
     },
     "0162ff370e1a459b94012ddee029e082": {
      "model_module": "ipytree",
      "model_module_version": "0.2.1",
      "model_name": "NodeModel",
      "state": {
       "_id": "80c22381-0807-46c0-9c52-8016bb27a1dc",
       "_model_module_version": "0.2.1",
       "_view_module_version": "0.2.1",
       "icon": "file",
       "name": "Groking_algos.pdf.gz"
      }
     },
     "01a42f533b554901a56bb586e2e24092": {
      "model_module": "ipytree",
      "model_module_version": "0.2.1",
      "model_name": "NodeModel",
      "state": {
       "_id": "0d74379b-da80-4a1a-a6b6-978d54ff1659",
       "_model_module_version": "0.2.1",
       "_view_module_version": "0.2.1",
       "icon": "file",
       "name": "binance.py"
      }
     },
     "01d1d1d178e44918b62beda29c9a8304": {
      "model_module": "ipytree",
      "model_module_version": "0.2.1",
      "model_name": "NodeModel",
      "state": {
       "_id": "e0883b8a-525d-4266-a6fd-27424b4a36e1",
       "_model_module_version": "0.2.1",
       "_view_module_version": "0.2.1",
       "icon": "file",
       "name": "Reversal Analysis With Deps.ipynb"
      }
     },
     "02058080dff14e38baef1811d1388f4e": {
      "model_module": "ipytree",
      "model_module_version": "0.2.1",
      "model_name": "NodeModel",
      "state": {
       "_id": "3c04473a-0442-49a0-abec-cbfdf710739c",
       "_model_module_version": "0.2.1",
       "_view_module_version": "0.2.1",
       "name": "core",
       "nodes": [
        "IPY_MODEL_91ece5d5d845487fa37778a15ef0a494",
        "IPY_MODEL_7b3b96fa9a4f45248451090576d7a5f9",
        "IPY_MODEL_48592421c9524475b5700a5796214488",
        "IPY_MODEL_54dfd0c474ee4389a3ec0ed53c2ec172",
        "IPY_MODEL_0f7ce54ece7941589c59146710d15b75",
        "IPY_MODEL_7fb49fcc509d4f499f8d2ea4c3b7077c",
        "IPY_MODEL_0bd6c4c77af34fd2b3f3149e2c8835cb",
        "IPY_MODEL_0bb696a54ca944bfa9f8b49cd9d70644",
        "IPY_MODEL_dc1699589f8d4762bcc9761a64ac6495",
        "IPY_MODEL_9379a1e949c84976a4d36d5f48349405",
        "IPY_MODEL_9bf651c7a4a6480cb6a00a4f419dc4ca",
        "IPY_MODEL_68f70e8813b5451f92c0d7ba46633af1",
        "IPY_MODEL_31b19331f3f34e9bb9d37b706563062f",
        "IPY_MODEL_1c63c78c4bc34edebb1e5df1c1e992c7"
       ],
       "opened": false
      }
     },
     "02091d6349fb4889a7077835110c916e": {
      "model_module": "ipytree",
      "model_module_version": "0.2.1",
      "model_name": "NodeModel",
      "state": {
       "_id": "536cac2c-c58b-4e87-ac7d-c10d19c2bfb1",
       "_model_module_version": "0.2.1",
       "_view_module_version": "0.2.1",
       "name": "progressive",
       "nodes": [
        "IPY_MODEL_ab3a4b9f0ef44ebf994e37eb2f582503",
        "IPY_MODEL_357ffc9e83c24f68bc47f4a958297e50",
        "IPY_MODEL_448e210dd8464d2f9ed4b7b749067335",
        "IPY_MODEL_d2f208be4809432c88f38406138add56",
        "IPY_MODEL_b05638c80f794c6199bb13b48ab43372",
        "IPY_MODEL_38e46807ac84493684d9df2c6ea90732",
        "IPY_MODEL_c73ece92a18641248f56e4416a740ee2"
       ],
       "opened": false
      }
     },
     "0219abc28e4f478a8d51fc83abccaf42": {
      "model_module": "ipytree",
      "model_module_version": "0.2.1",
      "model_name": "NodeModel",
      "state": {
       "_id": "6d97607c-0719-4283-b2b8-c3d22f90d5c8",
       "_model_module_version": "0.2.1",
       "_view_module_version": "0.2.1",
       "icon": "file",
       "name": "0. RSI on OHLC.ipynb"
      }
     },
     "023d796dc4ce4326a8ac76c19a7257ff": {
      "model_module": "@jupyter-widgets/controls",
      "model_module_version": "1.5.0",
      "model_name": "VBoxModel",
      "state": {
       "children": [
        "IPY_MODEL_d7641bd461944c188a9a23c1a0690507",
        "IPY_MODEL_8af9951985304b189e12425e528db38b"
       ],
       "layout": "IPY_MODEL_caf4b107456e4fe8a3a530e3838154c6"
      }
     },
     "0240f83840734776870c84fe5f26c5d3": {
      "model_module": "ipytree",
      "model_module_version": "0.2.1",
      "model_name": "NodeModel",
      "state": {
       "_id": "d004ceb2-6538-4087-a19e-37e74301f94a",
       "_model_module_version": "0.2.1",
       "_view_module_version": "0.2.1",
       "icon": "cut",
       "icon_style": "danger",
       "name": "Documents"
      }
     },
     "026b1cf8e17144a6bf0a107671140331": {
      "model_module": "ipytree",
      "model_module_version": "0.2.1",
      "model_name": "NodeModel",
      "state": {
       "_id": "e92e36cb-06da-4f24-980f-d19e2a6da2bf",
       "_model_module_version": "0.2.1",
       "_view_module_version": "0.2.1",
       "icon": "file",
       "name": "2. Market Distance Estimation.ipynb"
      }
     },
     "0288ac5a0b0d49759a268d9fc865135f": {
      "model_module": "ipytree",
      "model_module_version": "0.2.1",
      "model_name": "NodeModel",
      "state": {
       "_id": "24998c3c-4ee1-4d44-a7f2-6c063532797e",
       "_model_module_version": "0.2.1",
       "_view_module_version": "0.2.1",
       "icon": "file",
       "name": "4. Cash And Carry Crypto.ipynb"
      }
     },
     "03282e659c9c42279e9958dc3d1b43e6": {
      "model_module": "ipytree",
      "model_module_version": "0.2.1",
      "model_name": "NodeModel",
      "state": {
       "_id": "9b4641f0-f410-44cb-87bd-aeccbdad695e",
       "_model_module_version": "0.2.1",
       "_view_module_version": "0.2.1",
       "icon": "file",
       "name": "ensemble_prediction.py"
      }
     },
     "032d0fad45ac4b3d8c668333a3229802": {
      "model_module": "ipytree",
      "model_module_version": "0.2.1",
      "model_name": "NodeModel",
      "state": {
       "_id": "2326af8b-832c-4279-9961-a2b32b98cf45",
       "_model_module_version": "0.2.1",
       "_view_module_version": "0.2.1",
       "icon": "file",
       "name": "10.3 FXCM Optimization.ipynb"
      }
     },
     "034c675b218242eea4eaa0c153115016": {
      "model_module": "ipytree",
      "model_module_version": "0.2.1",
      "model_name": "NodeModel",
      "state": {
       "_id": "2e638815-3ea0-46bf-a7d4-a5a0f18b0628",
       "_model_module_version": "0.2.1",
       "_view_module_version": "0.2.1",
       "icon": "file",
       "name": "equal_weight_etf_portfolio_backtest.py"
      }
     },
     "035cb671b45d4a939307bbe311d00b0b": {
      "model_module": "ipytree",
      "model_module_version": "0.2.1",
      "model_name": "NodeModel",
      "state": {
       "_id": "c3be7381-2f2b-458d-b8d6-b37bd3c98e1e",
       "_model_module_version": "0.2.1",
       "_view_module_version": "0.2.1",
       "icon": "file",
       "name": "viewer.py"
      }
     },
     "0370ac9280f0490c98524695e8e1437e": {
      "model_module": "ipytree",
      "model_module_version": "0.2.1",
      "model_name": "NodeModel",
      "state": {
       "_id": "c39085e3-11c6-4ddd-a3a1-f44a490221f6",
       "_model_module_version": "0.2.1",
       "_view_module_version": "0.2.1",
       "name": "simulation",
       "nodes": [
        "IPY_MODEL_ab86c28a1a234c2b8405d8acbf739305",
        "IPY_MODEL_d1cde431ea1045fdb2d4b6ef39350c9d",
        "IPY_MODEL_71e2adfcb6524598a1d33cd8c9e3734a",
        "IPY_MODEL_7a709402e0594b30961d26eb83f10e19",
        "IPY_MODEL_9c53c7cf25b74b20bd826d578fd83321"
       ],
       "opened": false
      }
     },
     "041ee022baf94642aaae55d2d4bdf37c": {
      "model_module": "ipytree",
      "model_module_version": "0.2.1",
      "model_name": "NodeModel",
      "state": {
       "_id": "4b3fa56d-01d4-4ddf-bb27-a8eb682c09e0",
       "_model_module_version": "0.2.1",
       "_view_module_version": "0.2.1",
       "icon": "info",
       "icon_style": "warning",
       "name": "File1",
       "opened": false,
       "selected": true
      }
     },
     "044c5f4e661148ddb515db21a105c818": {
      "model_module": "ipytree",
      "model_module_version": "0.2.1",
      "model_name": "NodeModel",
      "state": {
       "_id": "98e6dcf1-97ca-475f-b64b-24183dd6f2ae",
       "_model_module_version": "0.2.1",
       "_view_module_version": "0.2.1",
       "name": "ethereum_input_decoder",
       "nodes": [
        "IPY_MODEL_6a82fc1e01df451a85800facca1d9962",
        "IPY_MODEL_48ede1a5317442a1a4ad667ee35ada3d",
        "IPY_MODEL_63955d43344e4fb8a6a4d48619229389"
       ],
       "opened": false
      }
     },
     "046b2513c8bc45aa96d3b7e0c574b488": {
      "model_module": "ipytree",
      "model_module_version": "0.2.1",
      "model_name": "NodeModel",
      "state": {
       "_id": "839a0bab-69ae-42fd-9fbd-200e30d7dda5",
       "_model_module_version": "0.2.1",
       "_view_module_version": "0.2.1",
       "icon": "file",
       "name": "Links.ipynb"
      }
     },
     "053eb3b2f1514bbabe76d92293c38cf0": {
      "model_module": "ipytree",
      "model_module_version": "0.2.1",
      "model_name": "NodeModel",
      "state": {
       "_id": "672d4a12-3e8b-42b9-8968-4664e86356bb",
       "_model_module_version": "0.2.1",
       "_view_module_version": "0.2.1",
       "icon": "file",
       "name": "benchmarks.py"
      }
     },
     "054fd7ee7cd74c06a7fa6926601ef070": {
      "model_module": "ipytree",
      "model_module_version": "0.2.1",
      "model_name": "NodeModel",
      "state": {
       "_id": "0ddba550-bdec-4e0a-b5bd-a398416967d5",
       "_model_module_version": "0.2.1",
       "_view_module_version": "0.2.1",
       "icon": "file",
       "name": "google_trends.py"
      }
     },
     "05ef812e442e4b52bff39123128348fa": {
      "model_module": "ipytree",
      "model_module_version": "0.2.1",
      "model_name": "NodeModel",
      "state": {
       "_id": "cf27e502-aecb-4bab-bbc6-f347a61052c8",
       "_model_module_version": "0.2.1",
       "_view_module_version": "0.2.1",
       "icon": "file",
       "name": "readme.md"
      }
     },
     "05ffed42800c49439d0bbcc1bf019134": {
      "model_module": "ipytree",
      "model_module_version": "0.2.1",
      "model_name": "NodeModel",
      "state": {
       "_id": "5bb40535-8aea-4faa-a169-3b102a9a4916",
       "_model_module_version": "0.2.1",
       "_view_module_version": "0.2.1",
       "icon": "file",
       "name": "FIX_cracker.ipynb"
      }
     },
     "06111b2423a64ad2806b9fa479528971": {
      "model_module": "ipytree",
      "model_module_version": "0.2.1",
      "model_name": "NodeModel",
      "state": {
       "_id": "b948d833-c0aa-4624-ae06-cbc9ae3c2305",
       "_model_module_version": "0.2.1",
       "_view_module_version": "0.2.1",
       "icon": "file",
       "name": "intraday_ml_model_fit.py"
      }
     },
     "063d7eb0435b4937b3dad2f1bd194386": {
      "model_module": "ipytree",
      "model_module_version": "0.2.1",
      "model_name": "NodeModel",
      "state": {
       "_id": "5cfd0989-604b-46a0-bb60-34bffa384868",
       "_model_module_version": "0.2.1",
       "_view_module_version": "0.2.1",
       "icon": "info",
       "icon_style": "info",
       "name": "media",
       "opened": false
      }
     },
     "06467122363d4ebcac7635145d842d09": {
      "model_module": "ipytree",
      "model_module_version": "0.2.1",
      "model_name": "NodeModel",
      "state": {
       "_id": "19423db5-e5a7-46d8-b53c-9d7312a1e6db",
       "_model_module_version": "0.2.1",
       "_view_module_version": "0.2.1",
       "icon": "file",
       "name": "Channels Detecting.ipynb"
      }
     },
     "06501cd4c8fc45109cd960d2ec410e4f": {
      "model_module": "ipytree",
      "model_module_version": "0.2.1",
      "model_name": "NodeModel",
      "state": {
       "_id": "8b04a18d-37ab-42e0-9e2d-d5bdee116f48",
       "_model_module_version": "0.2.1",
       "_view_module_version": "0.2.1",
       "name": "SSA",
       "nodes": [
        "IPY_MODEL_f1a293eaeede4846a9b18ce49be8dc1c",
        "IPY_MODEL_0a3c0754d6fc45cd9587208388621ed8"
       ],
       "opened": false
      }
     },
     "068efb2d8fc64f4fa9a6f9fca02de307": {
      "model_module": "ipytree",
      "model_module_version": "0.2.1",
      "model_name": "NodeModel",
      "state": {
       "_id": "915efe85-d43e-4f56-9bfc-06c22589b8cb",
       "_model_module_version": "0.2.1",
       "_view_module_version": "0.2.1",
       "icon": "file",
       "name": "VolatilityPrediction.ipynb"
      }
     },
     "06a1719d45b740eca9f32ebb326d96cb": {
      "model_module": "ipytree",
      "model_module_version": "0.2.1",
      "model_name": "NodeModel",
      "state": {
       "_id": "d3cf91a4-a1f9-4db8-ae20-1338d6752962",
       "_model_module_version": "0.2.1",
       "_view_module_version": "0.2.1",
       "icon": "warning",
       "icon_style": "success",
       "name": "local"
      }
     },
     "06c6d6dcf9b5448d9062acb3195a6e4b": {
      "model_module": "ipytree",
      "model_module_version": "0.2.1",
      "model_name": "NodeModel",
      "state": {
       "_id": "23175192-3e26-4c76-83e1-eaec859c48b5",
       "_model_module_version": "0.2.1",
       "_view_module_version": "0.2.1",
       "icon": "file",
       "name": "stochastic.py"
      }
     },
     "071a7d6c1d9d47dbb566a706c84dfb6d": {
      "model_module": "ipytree",
      "model_module_version": "0.2.1",
      "model_name": "NodeModel",
      "state": {
       "_id": "0f2fbb5e-b033-48fc-a48e-0e8957d92377",
       "_model_module_version": "0.2.1",
       "_view_module_version": "0.2.1",
       "name": "__pycache__",
       "nodes": [
        "IPY_MODEL_cf0271856bf847a2871efbe0a3b3fc51",
        "IPY_MODEL_e753f159e6c747f0b9a6d52516b3bad8",
        "IPY_MODEL_abba8cbfdfed4d9780b9355320c33efd",
        "IPY_MODEL_be276d6c7cbe4ff1957f62a6826480c7"
       ],
       "opened": false
      }
     },
     "073774c2345d4bdcbe6f82c80636300d": {
      "model_module": "ipytree",
      "model_module_version": "0.2.1",
      "model_name": "NodeModel",
      "state": {
       "_id": "4bd2b6b6-4b05-4b1d-bd7b-06c68fa2b8d8",
       "_model_module_version": "0.2.1",
       "_view_module_version": "0.2.1",
       "icon": "file",
       "name": "SSA_for_volatility_research.ipynb"
      }
     },
     "0782a53f7265481b8858970c1d782175": {
      "model_module": "ipytree",
      "model_module_version": "0.2.1",
      "model_name": "NodeModel",
      "state": {
       "_id": "e7d3fcb7-1342-4424-bc93-91615e2f368e",
       "_model_module_version": "0.2.1",
       "_view_module_version": "0.2.1",
       "icon": "file",
       "name": "SSA_momentum.ipynb"
      }
     },
     "0794aa16813f4c3ea0b019c76a4eee68": {
      "model_module": "ipytree",
      "model_module_version": "0.2.1",
      "model_name": "NodeModel",
      "state": {
       "_id": "921aa169-4948-4968-8e86-33e867e2b9a4",
       "_model_module_version": "0.2.1",
       "_view_module_version": "0.2.1",
       "icon": "file",
       "name": "130725_kienitz.pdf"
      }
     },
     "07a6e8b64ad741c6947bd6acfc5c3720": {
      "model_module": "ipytree",
      "model_module_version": "0.2.1",
      "model_name": "NodeModel",
      "state": {
       "_id": "2599a8ae-98bb-4e62-89db-d7814dae1a75",
       "_model_module_version": "0.2.1",
       "_view_module_version": "0.2.1",
       "icon": "file",
       "name": "bm_cfg.json"
      }
     },
     "07c61d6d065746579ef4fc0aa8b90dda": {
      "model_module": "ipytree",
      "model_module_version": "0.2.1",
      "model_name": "NodeModel",
      "state": {
       "_id": "80612753-80ba-44cf-9d9e-a4b9ca00ca91",
       "_model_module_version": "0.2.1",
       "_view_module_version": "0.2.1",
       "icon": "file",
       "name": "0. Knowledge DB design.ipynb"
      }
     },
     "07cb12e2b0a94af69d7819d3ef7165b9": {
      "model_module": "@jupyter-widgets/base",
      "model_module_version": "1.2.0",
      "model_name": "LayoutModel",
      "state": {
       "max_width": "310px"
      }
     },
     "07d807aa84d941ad96672161fe72f5a3": {
      "model_module": "ipytree",
      "model_module_version": "0.2.1",
      "model_name": "NodeModel",
      "state": {
       "_id": "a3d090dd-0c8d-4e22-849b-48cdcd1e0c8c",
       "_model_module_version": "0.2.1",
       "_view_module_version": "0.2.1",
       "icon": "file",
       "name": "algoseek_loaders.py"
      }
     },
     "083368dd8adc4e9791aa7d7b68dcf1dc": {
      "model_module": "@jupyter-widgets/controls",
      "model_module_version": "1.5.0",
      "model_name": "DescriptionStyleModel",
      "state": {
       "description_width": ""
      }
     },
     "084864e65f8b414ca1c140f9b436a4a0": {
      "model_module": "ipytree",
      "model_module_version": "0.2.1",
      "model_name": "NodeModel",
      "state": {
       "_id": "ed5b443b-e188-410a-b94d-e5fd82e6480b",
       "_model_module_version": "0.2.1",
       "_view_module_version": "0.2.1",
       "icon": "file",
       "name": "aat-ebook-20170711.pdf"
      }
     },
     "0858cbd4b47e4b4cafb0f95ffab22fa0": {
      "model_module": "ipytree",
      "model_module_version": "0.2.1",
      "model_name": "NodeModel",
      "state": {
       "_id": "c95ddd4c-5489-4261-86fa-a0c0e67bf060",
       "_model_module_version": "0.2.1",
       "_view_module_version": "0.2.1",
       "icon": "file",
       "name": "11. New Wave Model Optimizations.ipynb"
      }
     },
     "0886038ac2444f97821a2de9dcef0c3a": {
      "model_module": "ipytree",
      "model_module_version": "0.2.1",
      "model_name": "NodeModel",
      "state": {
       "_id": "588f6bb8-05c9-4d5c-8af2-2957782d6cc7",
       "_model_module_version": "0.2.1",
       "_view_module_version": "0.2.1",
       "icon": "file",
       "name": "NYSE.txt"
      }
     },
     "08babcc9f1a14b059cb63f1f93a96a4d": {
      "model_module": "ipytree",
      "model_module_version": "0.2.1",
      "model_name": "NodeModel",
      "state": {
       "_id": "e0e5b882-4fb7-4a3c-a5e4-a5368974723c",
       "_model_module_version": "0.2.1",
       "_view_module_version": "0.2.1",
       "name": "__pycache__",
       "nodes": [
        "IPY_MODEL_a6df623c16474972be14f86c2484ac56"
       ],
       "opened": false
      }
     },
     "096ad896b6e845bfa8a9f290e168a17c": {
      "model_module": "ipytree",
      "model_module_version": "0.2.1",
      "model_name": "NodeModel",
      "state": {
       "_id": "d4b08eab-50a7-47dd-a082-370a3a5d6dce",
       "_model_module_version": "0.2.1",
       "_view_module_version": "0.2.1",
       "name": "utils",
       "nodes": [
        "IPY_MODEL_12aa6a298c7049c3934b4d5cfc43277b",
        "IPY_MODEL_16e53832a5344bf8ae48a63bfd57e1a1",
        "IPY_MODEL_d152ce4dfd4947bab39a385122da9a4e"
       ],
       "opened": false
      }
     },
     "09d86643bb294bc0911506bd493dfa0f": {
      "model_module": "ipytree",
      "model_module_version": "0.2.1",
      "model_name": "NodeModel",
      "state": {
       "_id": "c0d3adfa-d249-4ec3-9b04-d2e4262a45ab",
       "_model_module_version": "0.2.1",
       "_view_module_version": "0.2.1",
       "icon": "file",
       "name": "data_helpers.cpython-36.pyc"
      }
     },
     "09f0b181f25e4e51aa928b14117a3c34": {
      "model_module": "ipytree",
      "model_module_version": "0.2.1",
      "model_name": "NodeModel",
      "state": {
       "_id": "502ab4cf-6d7b-4123-9f8b-4ad01565bd2a",
       "_model_module_version": "0.2.1",
       "_view_module_version": "0.2.1",
       "icon": "file",
       "name": "InterExchangeArb.ipynb"
      }
     },
     "0a0fe4540b504c41ac265e1f76449120": {
      "model_module": "ipytree",
      "model_module_version": "0.2.1",
      "model_name": "NodeModel",
      "state": {
       "_id": "76e76d69-b847-4855-ac47-4fe16431568d",
       "_model_module_version": "0.2.1",
       "_view_module_version": "0.2.1",
       "icon": "file",
       "name": "data_utils.ipynb"
      }
     },
     "0a32b2df7e094bd0a6cf8e03c5e39371": {
      "model_module": "ipytree",
      "model_module_version": "0.2.1",
      "model_name": "NodeModel",
      "state": {
       "_id": "981c6555-4ef1-4351-a6fa-adf99ec69129",
       "_model_module_version": "0.2.1",
       "_view_module_version": "0.2.1",
       "icon": "file",
       "name": "0. Support Resistance explorations.ipynb"
      }
     },
     "0a3c0754d6fc45cd9587208388621ed8": {
      "model_module": "ipytree",
      "model_module_version": "0.2.1",
      "model_name": "NodeModel",
      "state": {
       "_id": "8065db20-74ff-4bab-9e89-1de5e9d8a3d2",
       "_model_module_version": "0.2.1",
       "_view_module_version": "0.2.1",
       "icon": "file",
       "name": "SSA-SVM-prediction.pdf"
      }
     },
     "0a52b5f0c3bd4bd8aaa322575feb75a6": {
      "model_module": "ipytree",
      "model_module_version": "0.2.1",
      "model_name": "NodeModel",
      "state": {
       "_id": "105b46da-a409-4a09-bb39-76898f4c8d45",
       "_model_module_version": "0.2.1",
       "_view_module_version": "0.2.1",
       "icon": "file",
       "name": "validator.py"
      }
     },
     "0a78656d29b849848ed5a10e891fadca": {
      "model_module": "ipytree",
      "model_module_version": "0.2.1",
      "model_name": "NodeModel",
      "state": {
       "_id": "d31345ee-dd59-49f4-9e40-4323a4b5fdf9",
       "_model_module_version": "0.2.1",
       "_view_module_version": "0.2.1",
       "name": "patterns",
       "nodes": [
        "IPY_MODEL_17dcaab6a60545c082c5fb42a3aa5527"
       ],
       "opened": false
      }
     },
     "0b6ac60fe2a44f7392ee40cca7c5d1d5": {
      "model_module": "ipytree",
      "model_module_version": "0.2.1",
      "model_name": "NodeModel",
      "state": {
       "_id": "ac577bb2-cf6c-420b-a13c-3362e99fac1f",
       "_model_module_version": "0.2.1",
       "_view_module_version": "0.2.1",
       "icon": "file",
       "name": "2. Statistical Analysis of ToD pattern.ipynb"
      }
     },
     "0b6e7cd6bf074662a8408506d9e80b55": {
      "model_module": "ipytree",
      "model_module_version": "0.2.1",
      "model_name": "NodeModel",
      "state": {
       "_id": "72eacc60-fcbf-464a-9e92-a1eb8c9bf7f6",
       "_model_module_version": "0.2.1",
       "_view_module_version": "0.2.1",
       "icon": "file",
       "name": "3. Blended Model.ipynb"
      }
     },
     "0b82c461fa314034993f94791988278f": {
      "model_module": "ipytree",
      "model_module_version": "0.2.1",
      "model_name": "NodeModel",
      "state": {
       "_id": "f2134476-fd3f-4ba9-aa28-2998a7e2d491",
       "_model_module_version": "0.2.1",
       "_view_module_version": "0.2.1",
       "icon": "file",
       "name": "coint_bollinger_strategy.py"
      }
     },
     "0ba2b05cdc504048a122e91ad35d11d6": {
      "model_module": "ipytree",
      "model_module_version": "0.2.1",
      "model_name": "NodeModel",
      "state": {
       "_id": "ee1eb6a2-33ab-4f18-b1f4-8983d1c7cca0",
       "_model_module_version": "0.2.1",
       "_view_module_version": "0.2.1",
       "icon": "cut",
       "icon_style": "danger",
       "name": "Documents"
      }
     },
     "0bb696a54ca944bfa9f8b49cd9d70644": {
      "model_module": "ipytree",
      "model_module_version": "0.2.1",
      "model_name": "NodeModel",
      "state": {
       "_id": "7432eabc-1398-41fe-b1ca-e94e71fd747b",
       "_model_module_version": "0.2.1",
       "_view_module_version": "0.2.1",
       "icon": "file",
       "name": "mlhelpers.py"
      }
     },
     "0bd6c4c77af34fd2b3f3149e2c8835cb": {
      "model_module": "ipytree",
      "model_module_version": "0.2.1",
      "model_name": "NodeModel",
      "state": {
       "_id": "c7edcb22-6438-437b-ab84-2fc178c74192",
       "_model_module_version": "0.2.1",
       "_view_module_version": "0.2.1",
       "icon": "file",
       "name": "metrics.py"
      }
     },
     "0c28e1f2bbbf4ac7a52bb6a3f6287a33": {
      "model_module": "@jupyter-widgets/controls",
      "model_module_version": "1.5.0",
      "model_name": "TextModel",
      "state": {
       "layout": "IPY_MODEL_253381f265a44a639be0c458fdfb7d18",
       "style": "IPY_MODEL_eee1f373d38447efa1762749e8d75ec3",
       "value": "/home/quant1/projects/skb/examples/0. Knowledge DB design.ipynb"
      }
     },
     "0c308f3aef114b568adbd3b00f33430b": {
      "model_module": "ipytree",
      "model_module_version": "0.2.1",
      "model_name": "NodeModel",
      "state": {
       "_id": "26e41d0e-94ea-4ef0-840b-95b22b9b6b83",
       "_model_module_version": "0.2.1",
       "_view_module_version": "0.2.1",
       "icon": "file",
       "name": "First Notebook.ipynb"
      }
     },
     "0c49f13e6bfa4e37905833ccc3462a0f": {
      "model_module": "ipytree",
      "model_module_version": "0.2.1",
      "model_name": "NodeModel",
      "state": {
       "_id": "f59d4e65-b2bd-4a9a-a92b-25a876232bd8",
       "_model_module_version": "0.2.1",
       "_view_module_version": "0.2.1",
       "icon": "file",
       "name": "InsuranceFundsHist.csv"
      }
     },
     "0cdd54a4a57440a39b13b6864ff2e23e": {
      "model_module": "ipytree",
      "model_module_version": "0.2.1",
      "model_name": "NodeModel",
      "state": {
       "_id": "c0606d42-2055-4901-bfa4-37a74c72fbf9",
       "_model_module_version": "0.2.1",
       "_view_module_version": "0.2.1",
       "name": "ComputerScienceBooks",
       "nodes": [
        "IPY_MODEL_51b7e22a0cdf4ea29731ed89d7a70eda",
        "IPY_MODEL_0162ff370e1a459b94012ddee029e082"
       ],
       "opened": false
      }
     },
     "0cdf42b970a24045b9c3ec15ac6a71cd": {
      "model_module": "ipytree",
      "model_module_version": "0.2.1",
      "model_name": "NodeModel",
      "state": {
       "_id": "7887e69b-483c-4eb5-b581-96f0ed1cd7ea",
       "_model_module_version": "0.2.1",
       "_view_module_version": "0.2.1",
       "icon": "archive",
       "icon_style": "warning",
       "name": "root"
      }
     },
     "0d407284b22946aea8b562043d30a980": {
      "model_module": "ipytree",
      "model_module_version": "0.2.1",
      "model_name": "NodeModel",
      "state": {
       "_id": "e9d3b8f2-44eb-49a0-be67-eda97d6fd151",
       "_model_module_version": "0.2.1",
       "_view_module_version": "0.2.1",
       "name": "chapter-bayesian-statistics-intro-to-bayesian-methods",
       "nodes": [
        "IPY_MODEL_ae3c99bdd55c416e89f2ecc557bb0c7d"
       ],
       "opened": false
      }
     },
     "0d45460e3cd54e08994aec190fde0c6e": {
      "model_module": "ipytree",
      "model_module_version": "0.2.1",
      "model_name": "NodeModel",
      "state": {
       "_id": "7397f475-92a6-4cb5-b497-f7ba0db8bf29",
       "_model_module_version": "0.2.1",
       "_view_module_version": "0.2.1",
       "icon": "file",
       "name": "Continuous Contract.ipynb"
      }
     },
     "0e27076218aa40dcbe086bb1074d1a73": {
      "model_module": "ipytree",
      "model_module_version": "0.2.1",
      "model_name": "NodeModel",
      "state": {
       "_id": "f73471b2-717e-4c8b-9d89-439b01fb8682",
       "_model_module_version": "0.2.1",
       "_view_module_version": "0.2.1",
       "icon": "file",
       "name": "Etherscan tests.ipynb"
      }
     },
     "0e38a79615d14a41b4dd5b1d217775aa": {
      "model_module": "ipytree",
      "model_module_version": "0.2.1",
      "model_name": "NodeModel",
      "state": {
       "_id": "dfa5c414-adaa-4125-a461-713c5d90654d",
       "_model_module_version": "0.2.1",
       "_view_module_version": "0.2.1",
       "icon": "file",
       "name": "0. Market Regimes Statistics.ipynb"
      }
     },
     "0e510371d5ee4e7480e065cb634264a6": {
      "model_module": "ipytree",
      "model_module_version": "0.2.1",
      "model_name": "NodeModel",
      "state": {
       "_id": "18de4561-7512-4bcd-a42c-1b69a0095917",
       "_model_module_version": "0.2.1",
       "_view_module_version": "0.2.1",
       "name": "qlearn_model",
       "nodes": [
        "IPY_MODEL_b1078bdf8a3e4ffeb8d55e94298d692a"
       ],
       "opened": false
      }
     },
     "0e5b2478d3ca44e19d3c3e88510e9fac": {
      "model_module": "ipytree",
      "model_module_version": "0.2.1",
      "model_name": "NodeModel",
      "state": {
       "_id": "65989abc-f2ae-4a20-8a3c-107fc17abe35",
       "_model_module_version": "0.2.1",
       "_view_module_version": "0.2.1",
       "name": "fxcm",
       "nodes": [
        "IPY_MODEL_90a899b40d7742b3b28ac8235183d06c",
        "IPY_MODEL_1e8d835cbefd4d678dcf0ee2a0888b92",
        "IPY_MODEL_d2adee2f385544f0a11aa46adb73aa55",
        "IPY_MODEL_d394cbd7aa174f6da6299fd9fd07ce3a",
        "IPY_MODEL_e7d0a68e52ef4843a37dbc9b68a5b057",
        "IPY_MODEL_98c195b6332848c0bdd4fe7b4e3ceccf",
        "IPY_MODEL_14e3bf0b3dc7416e88090ba3af031030",
        "IPY_MODEL_38a4f553752e446fa70b98102cbaf3c3",
        "IPY_MODEL_848471e23bda4c58b2fe137529bac8dd",
        "IPY_MODEL_2ca678ac531a44afb7ef15b289f025a3"
       ],
       "opened": false
      }
     },
     "0e5d33668d4544d3902fcff90e9df22b": {
      "model_module": "ipytree",
      "model_module_version": "0.2.1",
      "model_name": "NodeModel",
      "state": {
       "_id": "2b4a7d42-6cc6-4427-a942-cd785c0b96d4",
       "_model_module_version": "0.2.1",
       "_view_module_version": "0.2.1",
       "icon": "file",
       "name": "UW Personal Presentation.ipynb"
      }
     },
     "0ef1d24327b7402eb05be9f687548a3a": {
      "model_module": "ipytree",
      "model_module_version": "0.2.1",
      "model_name": "NodeModel",
      "state": {
       "_id": "1fbc51af-b5e9-4250-8be1-596ea5452dd9",
       "_model_module_version": "0.2.1",
       "_view_module_version": "0.2.1",
       "name": "marketdata",
       "nodes": [
        "IPY_MODEL_8355c2388bb94059a5cea3b3c43eb866",
        "IPY_MODEL_b889bd49f5724333b925429078b4707d",
        "IPY_MODEL_70fc311d440246dda96691f88292d66a",
        "IPY_MODEL_6356d22599d9403ab6339dffd49df2ac",
        "IPY_MODEL_4bb9b38950f645b7bba62d0fbfc0f39a",
        "IPY_MODEL_f129e35b0e3449d1b33a7bec6260b149",
        "IPY_MODEL_a61a848585db4755b8a0f0c5a7e50c1a",
        "IPY_MODEL_959c012b89054d1a8b4c14716139ae24",
        "IPY_MODEL_6cec3d294fe94a5ba7036d008ca435fd",
        "IPY_MODEL_0e5b2478d3ca44e19d3c3e88510e9fac",
        "IPY_MODEL_c8785769a9d84e699f911f13a7c70e97",
        "IPY_MODEL_3bbbe2eb820c45fbbf41a8c6b8cef949"
       ],
       "opened": false
      }
     },
     "0efc812653d2446080df7eaa95d059af": {
      "model_module": "ipytree",
      "model_module_version": "0.2.1",
      "model_name": "NodeModel",
      "state": {
       "_id": "4e2aa52c-39e6-4b68-aa3c-a2ef48183b33",
       "_model_module_version": "0.2.1",
       "_view_module_version": "0.2.1",
       "icon": "file",
       "name": "coint_bollinger_backtest.py"
      }
     },
     "0f19328a84734cfdb3ae968412a67dc6": {
      "model_module": "ipytree",
      "model_module_version": "0.2.1",
      "model_name": "NodeModel",
      "state": {
       "_id": "a0cb6487-ff5b-4b9f-85c7-c837a1805495",
       "_model_module_version": "0.2.1",
       "_view_module_version": "0.2.1",
       "icon": "file",
       "name": "fast_ols.py"
      }
     },
     "0f3a2ed983ce41979c26764b53989b69": {
      "model_module": "@jupyter-widgets/base",
      "model_module_version": "1.2.0",
      "model_name": "LayoutModel",
      "state": {}
     },
     "0f6fb94510d745419f3ab07bb5f8115e": {
      "model_module": "ipytree",
      "model_module_version": "0.2.1",
      "model_name": "NodeModel",
      "state": {
       "_id": "1b6f5291-9b47-49e1-b369-0d192f466423",
       "_model_module_version": "0.2.1",
       "_view_module_version": "0.2.1",
       "icon": "save",
       "icon_style": "info",
       "name": "Desktop",
       "nodes": [
        "IPY_MODEL_a5ab502b71ee48dc8757a8bf4fac4656",
        "IPY_MODEL_593dc4f897504c669b944737d4f9f059"
       ]
      }
     },
     "0f7ce54ece7941589c59146710d15b75": {
      "model_module": "ipytree",
      "model_module_version": "0.2.1",
      "model_name": "NodeModel",
      "state": {
       "_id": "471e4d06-f451-437c-a8d6-3c3cc1fd685c",
       "_model_module_version": "0.2.1",
       "_view_module_version": "0.2.1",
       "icon": "file",
       "name": "filters.py"
      }
     },
     "0f9e50f24dcf4e7285d9f04c5cf7115f": {
      "model_module": "ipytree",
      "model_module_version": "0.2.1",
      "model_name": "NodeModel",
      "state": {
       "_id": "e9bcb056-9039-4e92-afd4-4568812dbd6b",
       "_model_module_version": "0.2.1",
       "_view_module_version": "0.2.1",
       "icon": "file",
       "name": "140303_kienitz.pdf"
      }
     },
     "0f9f184eea2c43999211ef97fffdf124": {
      "model_module": "ipytree",
      "model_module_version": "0.2.1",
      "model_name": "NodeModel",
      "state": {
       "_id": "1496ddb3-674e-49b5-b598-eca6606ab6ff",
       "_model_module_version": "0.2.1",
       "_view_module_version": "0.2.1",
       "icon": "file",
       "name": "simctrl.cpython-36.pyc"
      }
     },
     "0fbb1c1752f44f1fbca391bca1b6439a": {
      "model_module": "ipytree",
      "model_module_version": "0.2.1",
      "model_name": "NodeModel",
      "state": {
       "_id": "49824fef-4709-4b98-8403-da62bceb1288",
       "_model_module_version": "0.2.1",
       "_view_module_version": "0.2.1",
       "icon": "file",
       "name": "XBTUSD.csv.gz"
      }
     },
     "10a0915c762d47f2866f2cb302ee15ba": {
      "model_module": "@jupyter-widgets/controls",
      "model_module_version": "1.5.0",
      "model_name": "TextModel",
      "state": {
       "layout": "IPY_MODEL_001d9edf1c3243b780bdcbd4574ef59a",
       "placeholder": "Search files/folders...",
       "style": "IPY_MODEL_afeb565dd04c44c58598d6a7e6f2214a"
      }
     },
     "10ccc6d45e1b4c9f99f3e1008676b8c0": {
      "model_module": "ipytree",
      "model_module_version": "0.2.1",
      "model_name": "NodeModel",
      "state": {
       "_id": "897f95cf-b7d8-464a-88d5-f219420e7e9b",
       "_model_module_version": "0.2.1",
       "_view_module_version": "0.2.1",
       "icon": "file",
       "name": "__init__.cpython-36.pyc"
      }
     },
     "112d838b5991467eb72d06eadd0e6404": {
      "model_module": "ipytree",
      "model_module_version": "0.2.1",
      "model_name": "NodeModel",
      "state": {
       "_id": "db4accbf-3e8d-4c72-a1be-e14ab2146adb",
       "_model_module_version": "0.2.1",
       "_view_module_version": "0.2.1",
       "icon": "file",
       "name": "CryptonE.ipynb"
      }
     },
     "116c860d2dbd4b0b96c67ab8751d80c3": {
      "model_module": "@jupyter-widgets/base",
      "model_module_version": "1.2.0",
      "model_name": "LayoutModel",
      "state": {}
     },
     "118f071e48984d7bbe49fa79a31d08e2": {
      "model_module": "ipytree",
      "model_module_version": "0.2.1",
      "model_name": "NodeModel",
      "state": {
       "_id": "22baaecd-a324-449d-b039-570c63a5d76d",
       "_model_module_version": "0.2.1",
       "_view_module_version": "0.2.1",
       "icon": "file",
       "name": "sim.R"
      }
     },
     "12aa6a298c7049c3934b4d5cfc43277b": {
      "model_module": "ipytree",
      "model_module_version": "0.2.1",
      "model_name": "NodeModel",
      "state": {
       "_id": "27b59f6b-5a00-40fd-bfbc-32851170607d",
       "_model_module_version": "0.2.1",
       "_view_module_version": "0.2.1",
       "icon": "file",
       "name": "research_helpers.py"
      }
     },
     "12cf32fe6afe4722ae294864cbe165a5": {
      "model_module": "ipytree",
      "model_module_version": "0.2.1",
      "model_name": "NodeModel",
      "state": {
       "_id": "cd8401f1-849f-4024-ab95-95e6cf9a157b",
       "_model_module_version": "0.2.1",
       "_view_module_version": "0.2.1",
       "icon": "file",
       "name": "trend_detectors.py"
      }
     },
     "12e049d71762426391f8df308951ca19": {
      "model_module": "ipytree",
      "model_module_version": "0.2.1",
      "model_name": "NodeModel",
      "state": {
       "_id": "572a2cdd-3ca1-4af3-82bd-e6395ff808d0",
       "_model_module_version": "0.2.1",
       "_view_module_version": "0.2.1",
       "icon": "file",
       "name": "index.tpl"
      }
     },
     "12eac8f551a74395ba5883f189169785": {
      "model_module": "ipytree",
      "model_module_version": "0.2.1",
      "model_name": "NodeModel",
      "state": {
       "_id": "1e5775cc-be69-4221-b0e9-20b9f43e89af",
       "_model_module_version": "0.2.1",
       "_view_module_version": "0.2.1",
       "name": "qlearn",
       "nodes": [
        "IPY_MODEL_162b8672954f4979872021b9f080b5c0",
        "IPY_MODEL_6fa587cbf5054fe783c8d5ab82756438",
        "IPY_MODEL_31987910c4784e11be2a9f5c2e5c0464",
        "IPY_MODEL_3839a8f8673d4817b3f8c7846fc38efc",
        "IPY_MODEL_02058080dff14e38baef1811d1388f4e",
        "IPY_MODEL_87e788cb97404b16b93eccd19d598435",
        "IPY_MODEL_0370ac9280f0490c98524695e8e1437e",
        "IPY_MODEL_b9e837a33cb94a0a8a872376953d87f9",
        "IPY_MODEL_ac0bd69c8d40492db6ee8e5322099fbc"
       ],
       "opened": false
      }
     },
     "132e8b1d936f40af907ad08f96dfcacc": {
      "model_module": "ipytree",
      "model_module_version": "0.2.1",
      "model_name": "NodeModel",
      "state": {
       "_id": "3dc77ae8-b0fb-42d7-a9b2-18500edb60b7",
       "_model_module_version": "0.2.1",
       "_view_module_version": "0.2.1",
       "icon": "file",
       "name": "grabocka2014e-kdd.pdf"
      }
     },
     "1359218e1c9e45e0baaa7c004b21a19f": {
      "model_module": "ipytree",
      "model_module_version": "0.2.1",
      "model_name": "NodeModel",
      "state": {
       "_id": "39cd08f1-d5b8-46ab-b28f-b99bee4351b8",
       "_model_module_version": "0.2.1",
       "_view_module_version": "0.2.1",
       "name": "design",
       "nodes": [
        "IPY_MODEL_fab69a02f47345be9d5b55b290d3cfeb",
        "IPY_MODEL_207558ab43c840e39a9cdeda3a918803",
        "IPY_MODEL_4dc377c351a04f2582da9181f7ca6c2d",
        "IPY_MODEL_853cbfe2b7e84ed1b1853635df35e5a0"
       ],
       "opened": false
      }
     },
     "1368350e8c4f4d0799921eb867107450": {
      "model_module": "ipytree",
      "model_module_version": "0.2.1",
      "model_name": "NodeModel",
      "state": {
       "_id": "76faf54d-5866-4f22-bfcb-559af2a4064a",
       "_model_module_version": "0.2.1",
       "_view_module_version": "0.2.1",
       "icon": "file",
       "name": "metrics.cpython-36.pyc"
      }
     },
     "137f463b553f47ad85c60625b96229cd": {
      "model_module": "ipytree",
      "model_module_version": "0.2.1",
      "model_name": "NodeModel",
      "state": {
       "_id": "63671052-3550-407d-89e5-d2a9a2e96641",
       "_model_module_version": "0.2.1",
       "_view_module_version": "0.2.1",
       "icon": "file",
       "name": "initlibs.py"
      }
     },
     "14361c5e55aa483388b7b9ed6dd3d913": {
      "model_module": "ipytree",
      "model_module_version": "0.2.1",
      "model_name": "NodeModel",
      "state": {
       "_id": "e17a4db7-022f-4f7b-b617-7f53921a1235",
       "_model_module_version": "0.2.1",
       "_view_module_version": "0.2.1",
       "icon": "file",
       "name": "custom.css"
      }
     },
     "14d8c38d034245a783e0e2c7165294d2": {
      "model_module": "ipytree",
      "model_module_version": "0.2.1",
      "model_name": "NodeModel",
      "state": {
       "_id": "b4553728-c19f-406d-804a-8092d276d263",
       "_model_module_version": "0.2.1",
       "_view_module_version": "0.2.1",
       "icon": "file",
       "name": "orders_imbalance_models.py"
      }
     },
     "14e3bf0b3dc7416e88090ba3af031030": {
      "model_module": "ipytree",
      "model_module_version": "0.2.1",
      "model_name": "NodeModel",
      "state": {
       "_id": "0cd9d92d-6839-4efd-8c27-e49b86cbe888",
       "_model_module_version": "0.2.1",
       "_view_module_version": "0.2.1",
       "icon": "file",
       "name": "FXCM_NZDUSD_ticks_links.txt"
      }
     },
     "15583e07515b4429ad329c55c23a6875": {
      "model_module": "ipytree",
      "model_module_version": "0.2.1",
      "model_name": "NodeModel",
      "state": {
       "_id": "95af44de-97b0-4151-8035-5b68ac9f9faa",
       "_model_module_version": "0.2.1",
       "_view_module_version": "0.2.1",
       "icon": "file",
       "name": "0. Crypto Data Loader.ipynb"
      }
     },
     "1576378fb1d54693a6698e6cd51b1cb8": {
      "model_module": "ipytree",
      "model_module_version": "0.2.1",
      "model_name": "NodeModel",
      "state": {
       "_id": "52785a7a-13f3-4fad-8d72-3440072d999c",
       "_model_module_version": "0.2.1",
       "_view_module_version": "0.2.1",
       "icon": "file",
       "name": "readme.md"
      }
     },
     "15c34ebc2264476a83aebe9d6f775cc4": {
      "model_module": "ipytree",
      "model_module_version": "0.2.1",
      "model_name": "NodeModel",
      "state": {
       "_id": "299fe387-858e-4f03-9b76-a24f5a177cbc",
       "_model_module_version": "0.2.1",
       "_view_module_version": "0.2.1",
       "name": "data",
       "nodes": [
        "IPY_MODEL_252cae45709548cda2d72584c15dfdb7"
       ],
       "opened": false
      }
     },
     "15c38070bdd3480c8154c4b54c85f087": {
      "model_module": "ipytree",
      "model_module_version": "0.2.1",
      "model_name": "NodeModel",
      "state": {
       "_id": "7d2a0e09-fd1e-4ab3-8915-d56854d6a267",
       "_model_module_version": "0.2.1",
       "_view_module_version": "0.2.1",
       "icon": "file",
       "name": "algo_test.py"
      }
     },
     "162b8672954f4979872021b9f080b5c0": {
      "model_module": "ipytree",
      "model_module_version": "0.2.1",
      "model_name": "NodeModel",
      "state": {
       "_id": "cee5c5e1-4fe2-4d2e-b0b3-6559ae29788e",
       "_model_module_version": "0.2.1",
       "_view_module_version": "0.2.1",
       "icon": "file",
       "name": "LICENSE"
      }
     },
     "162d1cf7f6c444aca020bf181ea6d6f3": {
      "model_module": "ipytree",
      "model_module_version": "0.2.1",
      "model_name": "NodeModel",
      "state": {
       "_id": "c80f7a0e-284c-4851-b3ac-2cafe3202edb",
       "_model_module_version": "0.2.1",
       "_view_module_version": "0.2.1",
       "icon": "file",
       "name": "README.md"
      }
     },
     "16b74789b890452486d39fb76303e8e0": {
      "model_module": "ipytree",
      "model_module_version": "0.2.1",
      "model_name": "NodeModel",
      "state": {
       "_id": "c1a2d3c2-bd60-4f0d-9bc3-17d863f70b57",
       "_model_module_version": "0.2.1",
       "_view_module_version": "0.2.1",
       "icon": "plus",
       "icon_style": "success",
       "name": "File2",
       "opened": false
      }
     },
     "16e3858fe9dc47eb99e06f75cd260c72": {
      "model_module": "ipytree",
      "model_module_version": "0.2.1",
      "model_name": "NodeModel",
      "state": {
       "_id": "b42ea046-72ec-45b2-8671-76c3d41e4725",
       "_model_module_version": "0.2.1",
       "_view_module_version": "0.2.1",
       "icon": "file",
       "name": "2. Mean Reverting Research.ipynb"
      }
     },
     "16e53832a5344bf8ae48a63bfd57e1a1": {
      "model_module": "ipytree",
      "model_module_version": "0.2.1",
      "model_name": "NodeModel",
      "state": {
       "_id": "70ef4251-a071-4d57-b8e0-478bbc077291",
       "_model_module_version": "0.2.1",
       "_view_module_version": "0.2.1",
       "icon": "file",
       "name": "trades_flows_utils.py"
      }
     },
     "16eda2ab996f40879d5f2af5ead08fd5": {
      "model_module": "ipytree",
      "model_module_version": "0.2.1",
      "model_name": "NodeModel",
      "state": {
       "_id": "1dc8b8c5-51fc-4b4a-8413-0b6524a4984f",
       "_model_module_version": "0.2.1",
       "_view_module_version": "0.2.1",
       "icon": "file",
       "name": "31-12-2019.csv"
      }
     },
     "171f919806df42c3afa44727d2e09db7": {
      "model_module": "ipytree",
      "model_module_version": "0.2.1",
      "model_name": "NodeModel",
      "state": {
       "_id": "815b7792-266b-48c0-aea6-40137eea5f47",
       "_model_module_version": "0.2.1",
       "_view_module_version": "0.2.1",
       "name": "contrflow",
       "nodes": [
        "IPY_MODEL_6a8fe2a212174fc98a851a4e33634899"
       ],
       "opened": false
      }
     },
     "17552aaf2add49149de2ce3368825376": {
      "model_module": "ipytree",
      "model_module_version": "0.2.1",
      "model_name": "NodeModel",
      "state": {
       "_id": "c451c69f-b309-4614-92d0-31dc97ee2fd8",
       "_model_module_version": "0.2.1",
       "_view_module_version": "0.2.1",
       "icon": "file",
       "name": "Publicator.ipynb"
      }
     },
     "1756489d8d174c1494a8fa000b59e5b9": {
      "model_module": "ipytree",
      "model_module_version": "0.2.1",
      "model_name": "NodeModel",
      "state": {
       "_id": "eabe6eff-9b7d-48ef-8cae-cb373d49c06f",
       "_model_module_version": "0.2.1",
       "_view_module_version": "0.2.1",
       "icon": "file",
       "name": "FXCM_real_account_speedtest_results.ipynb"
      }
     },
     "175df57040094d88b44aea1d0e6ab37f": {
      "model_module": "@jupyter-widgets/controls",
      "model_module_version": "1.5.0",
      "model_name": "HBoxModel",
      "state": {
       "children": [
        "IPY_MODEL_0c28e1f2bbbf4ac7a52bb6a3f6287a33",
        "IPY_MODEL_ba1566179ca6481586b380a6c0c89ef0"
       ],
       "layout": "IPY_MODEL_2c204bbcacb6406fafd33cf904254738"
      }
     },
     "17887049e0bb488ea843fe8a20f2e7d9": {
      "model_module": "ipytree",
      "model_module_version": "0.2.1",
      "model_name": "NodeModel",
      "state": {
       "_id": "52f5dc2b-3ed7-4584-bed9-88b417482d95",
       "_model_module_version": "0.2.1",
       "_view_module_version": "0.2.1",
       "icon": "file",
       "name": "portfolio.py"
      }
     },
     "1794462bc7e84939876b4f81e99f4422": {
      "model_module": "ipytree",
      "model_module_version": "0.2.1",
      "model_name": "NodeModel",
      "state": {
       "_id": "b0da3c25-96f9-428c-a62f-71dafb8a890c",
       "_model_module_version": "0.2.1",
       "_view_module_version": "0.2.1",
       "icon": "file",
       "name": "900. Test PTI_MX indicator.ipynb"
      }
     },
     "17b5a67f21ae4319a3384077ee170b5f": {
      "model_module": "ipytree",
      "model_module_version": "0.2.1",
      "model_name": "NodeModel",
      "state": {
       "_id": "51c5fd62-dda3-4cbf-a906-35e64df14ed8",
       "_model_module_version": "0.2.1",
       "_view_module_version": "0.2.1",
       "icon": "file",
       "name": "task1.py"
      }
     },
     "17d184825b0f4fd1a71a748225dff856": {
      "model_module": "ipytree",
      "model_module_version": "0.2.1",
      "model_name": "NodeModel",
      "state": {
       "_id": "edddbac6-3fb8-41aa-b36f-7342ed701d26",
       "_model_module_version": "0.2.1",
       "_view_module_version": "0.2.1",
       "icon": "file",
       "name": "FXCM Sentiments Analysis.ipynb"
      }
     },
     "17dcaab6a60545c082c5fb42a3aa5527": {
      "model_module": "ipytree",
      "model_module_version": "0.2.1",
      "model_name": "NodeModel",
      "state": {
       "_id": "5424b242-5bab-40cb-8ebc-db0c894595cc",
       "_model_module_version": "0.2.1",
       "_view_module_version": "0.2.1",
       "icon": "file",
       "name": "0. Bart Pattern Statistics.ipynb"
      }
     },
     "17e213d932184269be29f4e7231f3f41": {
      "model_module": "ipytree",
      "model_module_version": "0.2.1",
      "model_name": "NodeModel",
      "state": {
       "_id": "da38c1d2-68c1-427c-9407-d49002c7b64a",
       "_model_module_version": "0.2.1",
       "_view_module_version": "0.2.1",
       "icon": "file",
       "name": "binance_1D.db"
      }
     },
     "188dc9d034c54350ac8e2521f3fad037": {
      "model_module": "ipytree",
      "model_module_version": "0.2.1",
      "model_name": "NodeModel",
      "state": {
       "_id": "8e29392d-32af-46ca-ac30-44ad00325e94",
       "_model_module_version": "0.2.1",
       "_view_module_version": "0.2.1",
       "icon": "file",
       "name": "utils.py"
      }
     },
     "18d620e3609d408d93d73ec97affc05a": {
      "model_module": "ipytree",
      "model_module_version": "0.2.1",
      "model_name": "NodeModel",
      "state": {
       "_id": "f12645b1-7784-4af3-a2d0-df2bba1736d7",
       "_model_module_version": "0.2.1",
       "_view_module_version": "0.2.1",
       "icon": "file",
       "name": "base.cpython-36.pyc"
      }
     },
     "19331a132c744f8abb0357064a740e24": {
      "model_module": "ipytree",
      "model_module_version": "0.2.1",
      "model_name": "NodeModel",
      "state": {
       "_id": "b0136d82-5915-4e9d-92e5-d62a7b3e88aa",
       "_model_module_version": "0.2.1",
       "_view_module_version": "0.2.1",
       "icon": "file",
       "name": "Galaxy Model.ipynb"
      }
     },
     "19636fba48ff4158b82bfedc6fe95109": {
      "model_module": "ipytree",
      "model_module_version": "0.2.1",
      "model_name": "NodeModel",
      "state": {
       "_id": "54a4cca4-5269-4913-bd85-b6e792a52667",
       "_model_module_version": "0.2.1",
       "_view_module_version": "0.2.1",
       "icon": "file",
       "name": "Demo_14_0.png"
      }
     },
     "19f2282d043549a8b3bcfc354e9cffd4": {
      "model_module": "ipytree",
      "model_module_version": "0.2.1",
      "model_name": "NodeModel",
      "state": {
       "_id": "b195f825-c0c9-42cc-b857-dc648da42d14",
       "_model_module_version": "0.2.1",
       "_view_module_version": "0.2.1",
       "name": "optimizations",
       "nodes": [
        "IPY_MODEL_4a14b1cfb8254efdacd48289801b6aec",
        "IPY_MODEL_85f3d316cdc44982a1fa031b35b76dc9",
        "IPY_MODEL_27b85e4f7b004e4293d95076127355f0",
        "IPY_MODEL_bd3a4398a696402ea717a84d08cd26e6",
        "IPY_MODEL_93dcfedbc92c414ebdf7f4008a0ec665",
        "IPY_MODEL_3da1fb0ce183455ab8e84b3f0421e203",
        "IPY_MODEL_1f24cd1bee814ecf80479ec2d63068b9",
        "IPY_MODEL_5f197822099f4415a19eb658c4c28307",
        "IPY_MODEL_6689c02f4c6c4e5faa3441d9ed52c155"
       ],
       "opened": false
      }
     },
     "1a2cb729ae0849cb9ec181311136de6c": {
      "model_module": "@jupyter-widgets/controls",
      "model_module_version": "1.5.0",
      "model_name": "DescriptionStyleModel",
      "state": {
       "description_width": ""
      }
     },
     "1a7973c1a7e84a79bdb8295ce6bf0549": {
      "model_module": "ipytree",
      "model_module_version": "0.2.1",
      "model_name": "NodeModel",
      "state": {
       "_id": "eb04968f-56ec-4c14-8722-f30a151dfb84",
       "_model_module_version": "0.2.1",
       "_view_module_version": "0.2.1",
       "icon": "file",
       "name": "Examples.ipynb"
      }
     },
     "1a81418171a44af39d64b571d59b7d90": {
      "model_module": "ipytree",
      "model_module_version": "0.2.1",
      "model_name": "NodeModel",
      "state": {
       "_id": "bfe71be7-c7ab-42c9-805e-88464bcdf79d",
       "_model_module_version": "0.2.1",
       "_view_module_version": "0.2.1",
       "name": "orderbook",
       "nodes": [
        "IPY_MODEL_b7d50e764aa444ef810bf2e69320a29f"
       ],
       "opened": false
      }
     },
     "1acc89199cf744a4824d9c0f52515489": {
      "model_module": "ipytree",
      "model_module_version": "0.2.1",
      "model_name": "NodeModel",
      "state": {
       "_id": "a416f0d9-676b-484e-8f86-c3d3ffd0caa2",
       "_model_module_version": "0.2.1",
       "_view_module_version": "0.2.1",
       "icon": "file",
       "name": "999. Utils.ipynb"
      }
     },
     "1ae30c31c7254ee9ac8d9eb05918fcd8": {
      "model_module": "ipytree",
      "model_module_version": "0.2.1",
      "model_name": "NodeModel",
      "state": {
       "_id": "30dc4b15-cd2c-4f09-8145-9c2dd6c5f4af",
       "_model_module_version": "0.2.1",
       "_view_module_version": "0.2.1",
       "icon": "file",
       "name": "5. OutOfSample Test.ipynb"
      }
     },
     "1b5c177faef5478aada376d4e090a9ac": {
      "model_module": "@jupyter-widgets/base",
      "model_module_version": "1.2.0",
      "model_name": "LayoutModel",
      "state": {}
     },
     "1b9f407fe2f74fadb73c6b84ea1b3248": {
      "model_module": "ipytree",
      "model_module_version": "0.2.1",
      "model_name": "NodeModel",
      "state": {
       "_id": "d9805969-b578-4539-a6bd-5c1d489bd85d",
       "_model_module_version": "0.2.1",
       "_view_module_version": "0.2.1",
       "icon": "file",
       "name": "3. Spread properties.ipynb"
      }
     },
     "1bc7269510cc46d4968e56fab19b08d8": {
      "model_module": "ipytree",
      "model_module_version": "0.2.1",
      "model_name": "NodeModel",
      "state": {
       "_id": "784cec0d-a56a-4df0-ae06-5971163d53a2",
       "_model_module_version": "0.2.1",
       "_view_module_version": "0.2.1",
       "icon": "file",
       "name": "coint_cadf.R"
      }
     },
     "1c3ef0a2cfa540d9beaeed4694b34af3": {
      "model_module": "ipytree",
      "model_module_version": "0.2.1",
      "model_name": "NodeModel",
      "state": {
       "_id": "50d5d986-8942-4f44-84aa-ac9743379f63",
       "_model_module_version": "0.2.1",
       "_view_module_version": "0.2.1",
       "icon": "file",
       "name": "d2l-en.pdf"
      }
     },
     "1c63c78c4bc34edebb1e5df1c1e992c7": {
      "model_module": "ipytree",
      "model_module_version": "0.2.1",
      "model_name": "NodeModel",
      "state": {
       "_id": "7655dd98-d2e5-4c38-9f19-b8b44378c533",
       "_model_module_version": "0.2.1",
       "_view_module_version": "0.2.1",
       "name": "__pycache__",
       "nodes": [
        "IPY_MODEL_4a5b5320de424bc7a48b35c729ae5c01",
        "IPY_MODEL_18d620e3609d408d93d73ec97affc05a",
        "IPY_MODEL_87f2268d18294e289b3bbc3bd41643be",
        "IPY_MODEL_df5a514e1e60440d8e8f43e35651585a",
        "IPY_MODEL_1368350e8c4f4d0799921eb867107450",
        "IPY_MODEL_7b3e9a8ae4e44d1f8c1f0e4c6c163660",
        "IPY_MODEL_f9b8e0ab85284fe1bca8e1d7e5b340aa",
        "IPY_MODEL_e4e1cfc9732a43889f13dc9165cdd119",
        "IPY_MODEL_e0619b9cf821451ea49f96044c50427f",
        "IPY_MODEL_7aa6d8779536437aa8588b1c6a8b6d31"
       ],
       "opened": false
      }
     },
     "1cb97ec547964ffca53db0fc34f203ee": {
      "model_module": "ipytree",
      "model_module_version": "0.2.1",
      "model_name": "NodeModel",
      "state": {
       "_id": "46cf7ecc-103a-42d6-a016-506f39a56a56",
       "_model_module_version": "0.2.1",
       "_view_module_version": "0.2.1",
       "name": "statistics",
       "nodes": [
        "IPY_MODEL_5ec812a7b5ff443889b5e89589c020a7"
       ],
       "opened": false
      }
     },
     "1cd30bb901b346728e08c7494c801f64": {
      "model_module": "ipytree",
      "model_module_version": "0.2.1",
      "model_name": "NodeModel",
      "state": {
       "_id": "64288435-77fe-4834-9e1b-e77052a62d13",
       "_model_module_version": "0.2.1",
       "_view_module_version": "0.2.1",
       "icon": "file",
       "name": "AAlogo.png"
      }
     },
     "1d0799ad758f4a7184ca9e66a371f71b": {
      "model_module": "ipytree",
      "model_module_version": "0.2.1",
      "model_name": "NodeModel",
      "state": {
       "_id": "cc6c589b-7811-442c-a85d-f5f451216f5f",
       "_model_module_version": "0.2.1",
       "_view_module_version": "0.2.1",
       "icon": "file",
       "name": "CryptoDelta_formal_rules_notes.ipynb"
      }
     },
     "1d27aebcbf6548b0923dbe3cb169b91a": {
      "model_module": "ipytree",
      "model_module_version": "0.2.1",
      "model_name": "NodeModel",
      "state": {
       "_id": "b4d00347-0e87-4a1f-9de2-0bf4d0c8f50a",
       "_model_module_version": "0.2.1",
       "_view_module_version": "0.2.1",
       "icon": "file",
       "name": "arma_models.R"
      }
     },
     "1dd55826ff8a49a3afad394214f3e5e6": {
      "model_module": "ipytree",
      "model_module_version": "0.2.1",
      "model_name": "TreeModel",
      "state": {
       "_model_module_version": "0.2.1",
       "_view_module_version": "0.2.1",
       "layout": "IPY_MODEL_d71558d0791c4dbab317a30910536a85",
       "multiple_selection": false,
       "nodes": [
        "IPY_MODEL_3673b71d7e2247229cba62c61b69d47c"
       ]
      }
     },
     "1de63680f7db4806ac92b05b9c91f0d0": {
      "model_module": "ipytree",
      "model_module_version": "0.2.1",
      "model_name": "NodeModel",
      "state": {
       "_id": "0562f7bb-66a2-49e4-aae6-e5546c351e4a",
       "_model_module_version": "0.2.1",
       "_view_module_version": "0.2.1",
       "icon": "file",
       "name": "levels_detector.py"
      }
     },
     "1deffa50e14847e5b90829dd1ed2a9aa": {
      "model_module": "ipytree",
      "model_module_version": "0.2.1",
      "model_name": "NodeModel",
      "state": {
       "_id": "21022bb7-86c3-473f-be19-7dbd4144dd74",
       "_model_module_version": "0.2.1",
       "_view_module_version": "0.2.1",
       "icon": "file",
       "name": "jot_fall_2010_pipeline.pdf"
      }
     },
     "1e309aa205084afdbb97fd9878cfbacf": {
      "model_module": "ipytree",
      "model_module_version": "0.2.1",
      "model_name": "NodeModel",
      "state": {
       "_id": "666e9bbb-1b6b-4573-88bd-26db4c6b41ed",
       "_model_module_version": "0.2.1",
       "_view_module_version": "0.2.1",
       "icon": "file",
       "name": "stochastic.py"
      }
     },
     "1e338fa257ce46579f11e91d88db43f1": {
      "model_module": "ipytree",
      "model_module_version": "0.2.1",
      "model_name": "NodeModel",
      "state": {
       "_id": "0d6f20fe-9a3b-465b-8ad3-f7f2fad20be3",
       "_model_module_version": "0.2.1",
       "_view_module_version": "0.2.1",
       "icon": "file",
       "name": "10.5 FXCM Optimization.ipynb"
      }
     },
     "1e42b0cbb25e480d8a8e1cee4fa5670f": {
      "model_module": "ipytree",
      "model_module_version": "0.2.1",
      "model_name": "NodeModel",
      "state": {
       "_id": "76e5e50f-605c-4a07-be4b-52eed6848cb1",
       "_model_module_version": "0.2.1",
       "_view_module_version": "0.2.1",
       "name": "benchmarks",
       "nodes": [
        "IPY_MODEL_6e5224440e7c45719b17d7622dd82f0f"
       ],
       "opened": false
      }
     },
     "1e53e3fdadf74b8f89c5c753cb7a2e5a": {
      "model_module": "ipytree",
      "model_module_version": "0.2.1",
      "model_name": "NodeModel",
      "state": {
       "_id": "eb45ad76-f678-4fc1-a00a-3a0bf57d30dd",
       "_model_module_version": "0.2.1",
       "_view_module_version": "0.2.1",
       "icon": "file",
       "name": "utils.py"
      }
     },
     "1e8d835cbefd4d678dcf0ee2a0888b92": {
      "model_module": "ipytree",
      "model_module_version": "0.2.1",
      "model_name": "NodeModel",
      "state": {
       "_id": "ef8bcb7b-e713-47b3-b237-a452f1534b5e",
       "_model_module_version": "0.2.1",
       "_view_module_version": "0.2.1",
       "icon": "file",
       "name": "FXCM_EURGBP_ticks_links.txt"
      }
     },
     "1eb23038cdb3477cbbd21a9b77976007": {
      "model_module": "ipytree",
      "model_module_version": "0.2.1",
      "model_name": "NodeModel",
      "state": {
       "_id": "0c217979-e602-4a1b-80c9-47b5e607a3b2",
       "_model_module_version": "0.2.1",
       "_view_module_version": "0.2.1",
       "icon": "file",
       "name": "Liquidity.ipynb"
      }
     },
     "1f24cd1bee814ecf80479ec2d63068b9": {
      "model_module": "ipytree",
      "model_module_version": "0.2.1",
      "model_name": "NodeModel",
      "state": {
       "_id": "1ba38878-9b7b-44df-89b3-37a8f22ae735",
       "_model_module_version": "0.2.1",
       "_view_module_version": "0.2.1",
       "name": "XBT15Min",
       "nodes": [
        "IPY_MODEL_d9b812258ac14543ae976121f57b36b0",
        "IPY_MODEL_a39e9f8337f542b3853627af50e9a877",
        "IPY_MODEL_85537a0aa27240539c3ff5cecb0d6b19"
       ],
       "opened": false
      }
     },
     "1f35969345894eef905daf86ad9a9d22": {
      "model_module": "ipytree",
      "model_module_version": "0.2.1",
      "model_name": "NodeModel",
      "state": {
       "_id": "e8dfcfeb-5764-41e6-895d-8f4f46d46fd8",
       "_model_module_version": "0.2.1",
       "_view_module_version": "0.2.1",
       "icon": "file",
       "name": "__init__.py"
      }
     },
     "1f9ab50e66104789b85ba937aa3830b8": {
      "model_module": "ipytree",
      "model_module_version": "0.2.1",
      "model_name": "NodeModel",
      "state": {
       "_id": "2700985c-b55d-4e5b-8791-e4384fe14186",
       "_model_module_version": "0.2.1",
       "_view_module_version": "0.2.1",
       "icon": "file",
       "name": "levels_stats.py"
      }
     },
     "1fc0be8f898b49c8bc4cc313a550a4ee": {
      "model_module": "ipytree",
      "model_module_version": "0.2.1",
      "model_name": "NodeModel",
      "state": {
       "_id": "1fdef84b-f28d-4c0e-8aa7-6c8b165709c6",
       "_model_module_version": "0.2.1",
       "_view_module_version": "0.2.1",
       "name": "tests",
       "nodes": [
        "IPY_MODEL_d7c9ae02190343f9b6ff048594032032",
        "IPY_MODEL_2edd2983f59e433daa26817a5703728d"
       ],
       "opened": false
      }
     },
     "1ff2afb460ad4edeab87e45aea324347": {
      "model_module": "ipytree",
      "model_module_version": "0.2.1",
      "model_name": "NodeModel",
      "state": {
       "_id": "dffe44ea-426b-46c2-9dcb-d6bb4d21914d",
       "_model_module_version": "0.2.1",
       "_view_module_version": "0.2.1",
       "icon": "file",
       "name": "0. Initial Research.ipynb"
      }
     },
     "204037f55d32474588e942d47f28b6ea": {
      "model_module": "ipytree",
      "model_module_version": "0.2.1",
      "model_name": "NodeModel",
      "state": {
       "_id": "32b53e70-98ba-4aaf-a65e-d414915a00c9",
       "_model_module_version": "0.2.1",
       "_view_module_version": "0.2.1",
       "icon": "file",
       "name": "stat_helpers.py"
      }
     },
     "207558ab43c840e39a9cdeda3a918803": {
      "model_module": "ipytree",
      "model_module_version": "0.2.1",
      "model_name": "NodeModel",
      "state": {
       "_id": "76c5c781-eb1d-4c50-a043-5c0d0119881e",
       "_model_module_version": "0.2.1",
       "_view_module_version": "0.2.1",
       "icon": "file",
       "name": "P_20170310_111331.jpg"
      }
     },
     "20c39e566f4c44c2bfd415e69897dd41": {
      "model_module": "ipytree",
      "model_module_version": "0.2.1",
      "model_name": "NodeModel",
      "state": {
       "_id": "24e33fe3-92c5-4462-b474-4dd1ff57b091",
       "_model_module_version": "0.2.1",
       "_view_module_version": "0.2.1",
       "name": "projects",
       "nodes": [
        "IPY_MODEL_3979de54d57c467c9f64b52909132ea7",
        "IPY_MODEL_8afa0ba544474a42af409d0e8a349dfd",
        "IPY_MODEL_51be60f35a8f4b3ea8921b1cb54b92bc",
        "IPY_MODEL_58880fe542c249a7ae0e88781765f27b",
        "IPY_MODEL_49ba3e0f445d4ee5b85580ece754efaa",
        "IPY_MODEL_3b0614bb4973467490added708b1a01a",
        "IPY_MODEL_6cc34ea84fe84e7dbbccf65b207cf8ea",
        "IPY_MODEL_bc37244931894bad9345c1e7fec0e83f",
        "IPY_MODEL_12eac8f551a74395ba5883f189169785",
        "IPY_MODEL_2232f22404654b35a053276e723c3262",
        "IPY_MODEL_e7fd3ea3b23d43a0976d2aff61dd5ce9",
        "IPY_MODEL_a2b6a12225dd4fd3affec4a3189d2131"
       ]
      }
     },
     "212a0cc171db4bf29a6046e9c861606e": {
      "model_module": "ipytree",
      "model_module_version": "0.2.1",
      "model_name": "NodeModel",
      "state": {
       "_id": "3c4065f2-0f28-40e5-8421-90a717366143",
       "_model_module_version": "0.2.1",
       "_view_module_version": "0.2.1",
       "icon": "file",
       "name": "Optimal portfolio weighting (log regression).ipynb"
      }
     },
     "215174fdbe004b359617245590f2e4af": {
      "model_module": "ipytree",
      "model_module_version": "0.2.1",
      "model_name": "NodeModel",
      "state": {
       "_id": "8345686f-aa8f-487f-bf82-78f0ea94a231",
       "_model_module_version": "0.2.1",
       "_view_module_version": "0.2.1",
       "icon": "file",
       "name": "bitmex_api.py"
      }
     },
     "21541e2fb3be4b6381d9a6779604d30f": {
      "model_module": "ipytree",
      "model_module_version": "0.2.1",
      "model_name": "NodeModel",
      "state": {
       "_id": "5176746a-e71e-45ab-9cd7-507a965f4bc6",
       "_model_module_version": "0.2.1",
       "_view_module_version": "0.2.1",
       "icon": "file",
       "name": "5. FeaturesEngineering.ipynb"
      }
     },
     "215464f88f954bbda9e90c11f9061667": {
      "model_module": "ipytree",
      "model_module_version": "0.2.1",
      "model_name": "NodeModel",
      "state": {
       "_id": "fbb06036-b162-4f70-82a4-a3a16b766b5b",
       "_model_module_version": "0.2.1",
       "_view_module_version": "0.2.1",
       "name": "fx",
       "nodes": [
        "IPY_MODEL_7f1681cb045945afb400684000fb7879",
        "IPY_MODEL_a58d5d1ca92943ac9cb7853ac970bbf7",
        "IPY_MODEL_6767b22c9eb943ff9b1a5a7f8c960da2",
        "IPY_MODEL_4e7615befe6740e4ab8de80d3b7ef8aa",
        "IPY_MODEL_16e3858fe9dc47eb99e06f75cd260c72",
        "IPY_MODEL_87a3811099e7469db260242f84023501"
       ],
       "opened": false
      }
     },
     "2232f22404654b35a053276e723c3262": {
      "model_module": "ipytree",
      "model_module_version": "0.2.1",
      "model_name": "NodeModel",
      "state": {
       "_id": "7a6110a7-5b32-42a3-bd18-b28aaac320c5",
       "_model_module_version": "0.2.1",
       "_view_module_version": "0.2.1",
       "name": "research",
       "nodes": [
        "IPY_MODEL_c70145ccab4843beb3a2852899d3a12a",
        "IPY_MODEL_dcb636edc2ec46939f78757f47c05783",
        "IPY_MODEL_73cc4e3de39e441f914cfae769066fc7",
        "IPY_MODEL_a5ba6dc009c04165ae2d73a97799ca96"
       ],
       "opened": false
      }
     },
     "22692534e3c048e69fa5a29854197354": {
      "model_module": "@jupyter-widgets/controls",
      "model_module_version": "1.5.0",
      "model_name": "ButtonStyleModel",
      "state": {}
     },
     "226ad119391b4c4c987e79beb1a2b538": {
      "model_module": "ipytree",
      "model_module_version": "0.2.1",
      "model_name": "NodeModel",
      "state": {
       "_id": "0d0c656d-3ae3-4c62-954e-cd75ecc24ac5",
       "_model_module_version": "0.2.1",
       "_view_module_version": "0.2.1",
       "icon": "file",
       "name": "Untitled.ipynb"
      }
     },
     "22fa88266add42f29b3bef7c3970da6e": {
      "model_module": "ipytree",
      "model_module_version": "0.2.1",
      "model_name": "NodeModel",
      "state": {
       "_id": "4ce18498-7a44-41cd-bef8-8d11e6f2f4c9",
       "_model_module_version": "0.2.1",
       "_view_module_version": "0.2.1",
       "icon": "file",
       "name": "TC accounting in returns series.ipynb"
      }
     },
     "2347f62c389c46b1883427c3e41563fc": {
      "model_module": "ipytree",
      "model_module_version": "0.2.1",
      "model_name": "NodeModel",
      "state": {
       "_id": "05573bf1-451c-48b7-bbd0-342b52e363aa",
       "_model_module_version": "0.2.1",
       "_view_module_version": "0.2.1",
       "icon": "file",
       "name": "blockchain_data.py"
      }
     },
     "235e31d767284951b9dc9fbb500ecfb2": {
      "model_module": "ipytree",
      "model_module_version": "0.2.1",
      "model_name": "NodeModel",
      "state": {
       "_id": "09e4d131-a048-4724-9334-e699edee7c70",
       "_model_module_version": "0.2.1",
       "_view_module_version": "0.2.1",
       "icon": "file",
       "name": "1. Imbalance Models.ipynb"
      }
     },
     "2394eb722f4e47cea257246c64a91243": {
      "model_module": "ipytree",
      "model_module_version": "0.2.1",
      "model_name": "NodeModel",
      "state": {
       "_id": "5c087b1f-462a-40d6-b6d2-f4c483a72ba7",
       "_model_module_version": "0.2.1",
       "_view_module_version": "0.2.1",
       "icon": "file",
       "name": "XBTUSD.csv.gz"
      }
     },
     "23bb38bf23bd461a9c2e7710376a0095": {
      "model_module": "ipytree",
      "model_module_version": "0.2.1",
      "model_name": "NodeModel",
      "state": {
       "_id": "495abf33-41fd-4f74-8255-c6d2161f79f7",
       "_model_module_version": "0.2.1",
       "_view_module_version": "0.2.1",
       "icon": "file",
       "name": "test_multisim.py"
      }
     },
     "23ec55ada61241f79d85e0d35ef316d8": {
      "model_module": "ipytree",
      "model_module_version": "0.2.1",
      "model_name": "NodeModel",
      "state": {
       "_id": "e653ba34-ac0f-49a2-b183-a0717a0b723e",
       "_model_module_version": "0.2.1",
       "_view_module_version": "0.2.1",
       "icon": "file",
       "name": "reversal_points_utils.ipynb"
      }
     },
     "23f79e66eadb42779db13f2e43175e86": {
      "model_module": "ipytree",
      "model_module_version": "0.2.1",
      "model_name": "NodeModel",
      "state": {
       "_id": "36ebe81c-7ec0-4c5f-9ff3-ea4204db9582",
       "_model_module_version": "0.2.1",
       "_view_module_version": "0.2.1",
       "icon": "archive",
       "icon_style": "warning",
       "name": "root"
      }
     },
     "2478ea1945454dcc9fa78a29a865c791": {
      "model_module": "ipytree",
      "model_module_version": "0.2.1",
      "model_name": "NodeModel",
      "state": {
       "_id": "beb379ea-fa75-4825-8485-4ebf2e211d21",
       "_model_module_version": "0.2.1",
       "_view_module_version": "0.2.1",
       "name": "data",
       "nodes": [
        "IPY_MODEL_ca396a30cb724574b9e2cb3d91594404",
        "IPY_MODEL_9d389db2e90e4233bb4dd43f675351a0",
        "IPY_MODEL_e85b0ed4d4f740fc9c2f6a20077b7fa4",
        "IPY_MODEL_915d9ef485d14cfe8dba012a45a354cb"
       ],
       "opened": false
      }
     },
     "2500dd81f9ee4aff8b1f1d0c674b1fd9": {
      "model_module": "ipytree",
      "model_module_version": "0.2.1",
      "model_name": "NodeModel",
      "state": {
       "_id": "470cea65-3bec-43b0-8559-29f38ca44aa6",
       "_model_module_version": "0.2.1",
       "_view_module_version": "0.2.1",
       "icon": "file",
       "name": "0. First Pairs Tests on FX.ipynb"
      }
     },
     "25076c64b44e4a47a586b46ec8ee797c": {
      "model_module": "ipytree",
      "model_module_version": "0.2.1",
      "model_name": "NodeModel",
      "state": {
       "_id": "20951716-33a0-4f8f-8d8f-71af95badbb0",
       "_model_module_version": "0.2.1",
       "_view_module_version": "0.2.1",
       "name": "execution",
       "nodes": [
        "IPY_MODEL_a899f33ea804431f996c711acfcc26f8",
        "IPY_MODEL_7c03e97950a347a49f288468d9204bc5"
       ],
       "opened": false
      }
     },
     "252cae45709548cda2d72584c15dfdb7": {
      "model_module": "ipytree",
      "model_module_version": "0.2.1",
      "model_name": "NodeModel",
      "state": {
       "_id": "b7bd3bb9-a3aa-4a2d-86e8-44d4200f319e",
       "_model_module_version": "0.2.1",
       "_view_module_version": "0.2.1",
       "icon": "file",
       "name": "ESH5.Futures.TradesOnly.20150128.csv.zip"
      }
     },
     "253381f265a44a639be0c458fdfb7d18": {
      "model_module": "@jupyter-widgets/base",
      "model_module_version": "1.2.0",
      "model_name": "LayoutModel",
      "state": {
       "min_width": "475px"
      }
     },
     "258925a4cace44e19386dcbff9f992eb": {
      "model_module": "ipytree",
      "model_module_version": "0.2.1",
      "model_name": "NodeModel",
      "state": {
       "_id": "8dfb5e4c-fa3f-4ca6-b438-4be2cb29cefe",
       "_model_module_version": "0.2.1",
       "_view_module_version": "0.2.1",
       "name": "models",
       "nodes": [
        "IPY_MODEL_15583e07515b4429ad329c55c23a6875",
        "IPY_MODEL_a68b30467255480bad45ef9a363c003b",
        "IPY_MODEL_7e5aa028d12f4159a5ecb280a71c3c5c",
        "IPY_MODEL_4f643049116b434db3ad6301b91d3a01",
        "IPY_MODEL_31c3c60acc154c358232e6f2bf90f6c1",
        "IPY_MODEL_a4fa3c40ac4f40229a7caa2a82390d08",
        "IPY_MODEL_6a6dce1c4d0c4ff78b7d9a185ca75123",
        "IPY_MODEL_137f463b553f47ad85c60625b96229cd",
        "IPY_MODEL_7362b339298047c28d3de1e401db400a"
       ],
       "opened": false
      }
     },
     "25b3c395cb6f42fd9437077acae6aee5": {
      "model_module": "ipytree",
      "model_module_version": "0.2.1",
      "model_name": "NodeModel",
      "state": {
       "_id": "f3fe00ed-a068-43c8-88f1-88526ad6e568",
       "_model_module_version": "0.2.1",
       "_view_module_version": "0.2.1",
       "icon": "file",
       "name": "utils.py"
      }
     },
     "26ae7123be86482598c511ee1ba41526": {
      "model_module": "ipytree",
      "model_module_version": "0.2.1",
      "model_name": "NodeModel",
      "state": {
       "_id": "4b101151-c6e0-41a1-8f22-cb5395135b65",
       "_model_module_version": "0.2.1",
       "_view_module_version": "0.2.1",
       "icon": "file",
       "name": "3. Extreme Momentum Duration.ipynb"
      }
     },
     "27214eb403114ee0a2afa901b38b8cde": {
      "model_module": "ipytree",
      "model_module_version": "0.2.1",
      "model_name": "NodeModel",
      "state": {
       "_id": "492e8913-e02f-45ee-b941-9a0512c6cd88",
       "_model_module_version": "0.2.1",
       "_view_module_version": "0.2.1",
       "icon": "file",
       "name": "multisim.cpython-36.pyc"
      }
     },
     "2795a1f70fdc404a8a38840f5a7dae83": {
      "model_module": "ipytree",
      "model_module_version": "0.2.1",
      "model_name": "NodeModel",
      "state": {
       "_id": "e776ed27-66bc-4170-a70a-364ade5dbbde",
       "_model_module_version": "0.2.1",
       "_view_module_version": "0.2.1",
       "icon": "file",
       "name": "KalmanMeanModel.ipynb"
      }
     },
     "27b85e4f7b004e4293d95076127355f0": {
      "model_module": "ipytree",
      "model_module_version": "0.2.1",
      "model_name": "NodeModel",
      "state": {
       "_id": "3f8e79ff-c2c9-48dc-a333-e14a4c422d34",
       "_model_module_version": "0.2.1",
       "_view_module_version": "0.2.1",
       "icon": "file",
       "name": "WALKFWD15.ipynb"
      }
     },
     "27d3845a257f430b9b9e8de87b10c07c": {
      "model_module": "@jupyter-widgets/base",
      "model_module_version": "1.2.0",
      "model_name": "LayoutModel",
      "state": {}
     },
     "27e2869d320f4873a3884144433f7646": {
      "model_module": "ipytree",
      "model_module_version": "0.2.1",
      "model_name": "NodeModel",
      "state": {
       "_id": "93f9e13f-11d9-444d-a55e-7eff318f2f6d",
       "_model_module_version": "0.2.1",
       "_view_module_version": "0.2.1",
       "icon": "file",
       "name": "0. Intro.ipynb"
      }
     },
     "28803f4749734b9a91237e5f7cfb3254": {
      "model_module": "@jupyter-widgets/controls",
      "model_module_version": "1.5.0",
      "model_name": "ButtonModel",
      "state": {
       "button_style": "primary",
       "description": "Save",
       "layout": "IPY_MODEL_a5a01e10e2944f139c85bfb38e26a141",
       "style": "IPY_MODEL_22692534e3c048e69fa5a29854197354",
       "tooltip": "Save edits to file."
      }
     },
     "28e46fea06204bed8007981b8d99c810": {
      "model_module": "ipytree",
      "model_module_version": "0.2.1",
      "model_name": "NodeModel",
      "state": {
       "_id": "cdd64469-4a28-410a-bc17-a5738215acc7",
       "_model_module_version": "0.2.1",
       "_view_module_version": "0.2.1",
       "icon": "warning",
       "icon_style": "success",
       "name": "local"
      }
     },
     "294263428ebb4a85a46369e5aea33478": {
      "model_module": "ipytree",
      "model_module_version": "0.2.1",
      "model_name": "NodeModel",
      "state": {
       "_id": "c9a59867-b366-4639-840b-9dc6e0fa95f4",
       "_model_module_version": "0.2.1",
       "_view_module_version": "0.2.1",
       "icon": "home",
       "icon_style": "success",
       "name": "home",
       "nodes": [
        "IPY_MODEL_51c8fba5c00d4b189646cbf4cee0bab5",
        "IPY_MODEL_36cca5a62b3844eda3280f249bd6d980"
       ]
      }
     },
     "29a6c7273c5f46d7910f6f3fb99068d1": {
      "model_module": "ipytree",
      "model_module_version": "0.2.1",
      "model_name": "NodeModel",
      "state": {
       "_id": "d5b4795f-311d-4d81-92ec-20b61413982c",
       "_model_module_version": "0.2.1",
       "_view_module_version": "0.2.1",
       "name": "alpha",
       "nodes": [
        "IPY_MODEL_c597ec21a0224baa960693b894ea202c",
        "IPY_MODEL_96524e6555a64a9aa64b0683e1f6d2df",
        "IPY_MODEL_9183904479c94582bc314c1e7aa43c05",
        "IPY_MODEL_9978ce7ed91d4ccc9f6ef1eb01932f1a",
        "IPY_MODEL_77bd25f126d048cbb1aea1e27ee86dc9",
        "IPY_MODEL_d4cd248bbe85492d92e362fac41ace14",
        "IPY_MODEL_2a2cb41cbb6d49c781cdb6252d473e65"
       ]
      }
     },
     "29b1528bdf0d48fa89f21967c153c763": {
      "model_module": "ipytree",
      "model_module_version": "0.2.1",
      "model_name": "NodeModel",
      "state": {
       "_id": "f8d326d8-e917-493e-925e-8d1848d71591",
       "_model_module_version": "0.2.1",
       "_view_module_version": "0.2.1",
       "icon": "file",
       "name": "drawdown.cpython-36.pyc"
      }
     },
     "29fc9788bb584e72a9bee6a8da9b313f": {
      "model_module": "ipytree",
      "model_module_version": "0.2.1",
      "model_name": "NodeModel",
      "state": {
       "_id": "dc1f00dd-715c-491b-bf39-c9c6aef24957",
       "_model_module_version": "0.2.1",
       "_view_module_version": "0.2.1",
       "icon": "file",
       "name": "utils.py"
      }
     },
     "2a2cb41cbb6d49c781cdb6252d473e65": {
      "model_module": "ipytree",
      "model_module_version": "0.2.1",
      "model_name": "NodeModel",
      "state": {
       "_id": "c1fa013e-8700-4c3c-b2a0-2ad4eca89592",
       "_model_module_version": "0.2.1",
       "_view_module_version": "0.2.1",
       "name": "utils",
       "nodes": [
        "IPY_MODEL_71bc6f1e11454ef79dbbb9aac3768cf2",
        "IPY_MODEL_d1ebe1d309144858bb83b68a893dba1b",
        "IPY_MODEL_9b03630781a74b54ab0da7cc6f7fbb72",
        "IPY_MODEL_7fc3190d59ec401da2060de12454e8fa",
        "IPY_MODEL_004278968c9644b795a62b532eb09382",
        "IPY_MODEL_7a0c2563d8234bcf879dc41cbbda67d2",
        "IPY_MODEL_ab56c062beed4b4db9871bd52eec25b3",
        "IPY_MODEL_3d72cee9f4ac4e36aca904dd0b7d1f64",
        "IPY_MODEL_bb658ac0489248f4bb08f3a38572ef69",
        "IPY_MODEL_e1ddcbc5286a4dd5bf38b0c641bb1a7a",
        "IPY_MODEL_204037f55d32474588e942d47f28b6ea",
        "IPY_MODEL_41410eeb3c344488a0f81a28f06143f9",
        "IPY_MODEL_e3ed9a9be9a24abf81eea177b7db3817",
        "IPY_MODEL_35b80703e0b845e586a8830c7a9a72e7"
       ]
      }
     },
     "2a840ce8cb7044279c327f1fba162422": {
      "model_module": "ipytree",
      "model_module_version": "0.2.1",
      "model_name": "NodeModel",
      "state": {
       "_id": "d8ebe40c-ca9e-4776-a3f8-852bd5c6dcb5",
       "_model_module_version": "0.2.1",
       "_view_module_version": "0.2.1",
       "name": "optimizations",
       "nodes": [
        "IPY_MODEL_5e9a79e9aa3b41dbbc67cc1b2c3cdd84",
        "IPY_MODEL_62245b437a7641799ec0e4deef180cbf",
        "IPY_MODEL_957b0a72a2a943219940538a55aa5efe",
        "IPY_MODEL_5a865271295845fc9f4c1ee1e93dd795"
       ]
      }
     },
     "2ab8898091704b2ea08a0ced5aedae17": {
      "model_module": "ipytree",
      "model_module_version": "0.2.1",
      "model_name": "NodeModel",
      "state": {
       "_id": "68764009-b7cf-4e1a-b893-4f7a80fdf6b4",
       "_model_module_version": "0.2.1",
       "_view_module_version": "0.2.1",
       "name": "__pycache__",
       "nodes": [
        "IPY_MODEL_31231844612b4ab4a1b1ff2eff5ad120",
        "IPY_MODEL_9313bf0560ca4815b4a12584f4e887fe"
       ],
       "opened": false
      }
     },
     "2afde24302e94762984716f20f60f50d": {
      "model_module": "ipytree",
      "model_module_version": "0.2.1",
      "model_name": "NodeModel",
      "state": {
       "_id": "cc2b0ab3-1246-4e87-8b46-59ab508e959c",
       "_model_module_version": "0.2.1",
       "_view_module_version": "0.2.1",
       "icon": "file",
       "name": "WSS_serum.ipynb"
      }
     },
     "2b286337412b4b4cb410a50e98aee5b0": {
      "model_module": "ipytree",
      "model_module_version": "0.2.1",
      "model_name": "NodeModel",
      "state": {
       "_id": "a7ed6194-e48d-42e7-a3e7-1f98f3b2fbd0",
       "_model_module_version": "0.2.1",
       "_view_module_version": "0.2.1",
       "name": "__pycache__",
       "nodes": [
        "IPY_MODEL_31fc8a0a349346a48ab4bcfe5d0bf7f4",
        "IPY_MODEL_fefd6ad07ace431695384de60c184dc2",
        "IPY_MODEL_c18be129f0c2461ba7a0172b560c4b7f",
        "IPY_MODEL_d66964dee90f4f00a44d8e936a73058e",
        "IPY_MODEL_f883116fc2884879b789a26a597c799d"
       ],
       "opened": false
      }
     },
     "2b3be589ed40456fb545e028b7d77810": {
      "model_module": "ipytree",
      "model_module_version": "0.2.1",
      "model_name": "NodeModel",
      "state": {
       "_id": "8614ee2a-ccb2-4c73-86c1-289ed802790a",
       "_model_module_version": "0.2.1",
       "_view_module_version": "0.2.1",
       "icon": "file",
       "name": "Testing Utils.ipynb"
      }
     },
     "2b4b573cf7a0420db88a0e1dd84571ee": {
      "model_module": "ipytree",
      "model_module_version": "0.2.1",
      "model_name": "NodeModel",
      "state": {
       "_id": "d799c77a-aaf2-4cba-935a-e5d90ba4f267",
       "_model_module_version": "0.2.1",
       "_view_module_version": "0.2.1",
       "icon": "file",
       "name": "Demo_21_0.png"
      }
     },
     "2ba23639844f4f56bc70eb8e73b57fdf": {
      "model_module": "@jupyter-widgets/base",
      "model_module_version": "1.2.0",
      "model_name": "LayoutModel",
      "state": {
       "height": "600px",
       "width": "630px"
      }
     },
     "2bce61cb2e7940d89dc633b32cec0509": {
      "model_module": "ipytree",
      "model_module_version": "0.2.1",
      "model_name": "NodeModel",
      "state": {
       "_id": "d8128b1c-da45-46d1-a160-afb6c446aa99",
       "_model_module_version": "0.2.1",
       "_view_module_version": "0.2.1",
       "icon": "file",
       "name": "test_blend_models.yml"
      }
     },
     "2c01f3e8580e43db97f4d6dd60be8fd7": {
      "model_module": "ipytree",
      "model_module_version": "0.2.1",
      "model_name": "NodeModel",
      "state": {
       "_id": "148f7172-a80f-48e4-817b-154a07a988e1",
       "_model_module_version": "0.2.1",
       "_view_module_version": "0.2.1",
       "icon": "file",
       "name": "2. Arbitrage Model.ipynb"
      }
     },
     "2c204bbcacb6406fafd33cf904254738": {
      "model_module": "@jupyter-widgets/base",
      "model_module_version": "1.2.0",
      "model_name": "LayoutModel",
      "state": {}
     },
     "2c5b6a2cb0614bcba49ff918fc9f0ef4": {
      "model_module": "ipytree",
      "model_module_version": "0.2.1",
      "model_name": "NodeModel",
      "state": {
       "_id": "0de2a324-c2a1-493b-b7b4-571f2b25a7df",
       "_model_module_version": "0.2.1",
       "_view_module_version": "0.2.1",
       "name": "TraderToolsMeasurenents",
       "nodes": [
        "IPY_MODEL_a0f37917846d4cc69999e95bb75ec6e8",
        "IPY_MODEL_8224dfea47b14cf18b4b99ea0ac3cfa5",
        "IPY_MODEL_e610f6a2c2254e2e88145c82866217d3",
        "IPY_MODEL_92a08e3d563a4046b28a517f2d365b6c",
        "IPY_MODEL_cd7831cd3c444ae594b45c6506241b7e",
        "IPY_MODEL_9cebcf8356e0446dbf7ea4e464946897"
       ],
       "opened": false
      }
     },
     "2c757adc9f0b4bb6b1a53a7be754ef12": {
      "model_module": "ipytree",
      "model_module_version": "0.2.1",
      "model_name": "NodeModel",
      "state": {
       "_id": "97fd4b49-9a62-4ab9-b21d-ba0507772c58",
       "_model_module_version": "0.2.1",
       "_view_module_version": "0.2.1",
       "icon": "file",
       "name": "10.7 FXCM Optimitzation all pairs.ipynb"
      }
     },
     "2c7dcb9d2f0a4f92af1dedcf75f4db97": {
      "model_module": "ipytree",
      "model_module_version": "0.2.1",
      "model_name": "NodeModel",
      "state": {
       "_id": "303a52c5-4bf8-44fd-9119-18d31eaa54a1",
       "_model_module_version": "0.2.1",
       "_view_module_version": "0.2.1",
       "icon": "file",
       "name": "2. HiProf divergency trading.ipynb"
      }
     },
     "2ca678ac531a44afb7ef15b289f025a3": {
      "model_module": "ipytree",
      "model_module_version": "0.2.1",
      "model_name": "NodeModel",
      "state": {
       "_id": "269f51df-7ebe-4887-a876-c4a9a613d8f9",
       "_model_module_version": "0.2.1",
       "_view_module_version": "0.2.1",
       "icon": "file",
       "name": "FXCM_samples_loader.ipynb"
      }
     },
     "2ca83ef5a324456fbba30a773d958251": {
      "model_module": "ipytree",
      "model_module_version": "0.2.1",
      "model_name": "NodeModel",
      "state": {
       "_id": "9abeb0ec-ab3a-4548-a565-80419900bc71",
       "_model_module_version": "0.2.1",
       "_view_module_version": "0.2.1",
       "icon": "file",
       "name": "simulator.py"
      }
     },
     "2cca9c8a640c472390a760c1333ceb19": {
      "model_module": "ipytree",
      "model_module_version": "0.2.1",
      "model_name": "NodeModel",
      "state": {
       "_id": "3eb51d0e-2285-4b4d-95a8-feaa0338dae9",
       "_model_module_version": "0.2.1",
       "_view_module_version": "0.2.1",
       "icon": "file",
       "name": "4. Report on new data.ipynb"
      }
     },
     "2ced653d8e324a31b917c1d445a26c64": {
      "model_module": "ipytree",
      "model_module_version": "0.2.1",
      "model_name": "NodeModel",
      "state": {
       "_id": "1d4bf8e0-7e76-4081-afa7-51858151c475",
       "_model_module_version": "0.2.1",
       "_view_module_version": "0.2.1",
       "icon": "file",
       "name": "Nimble II working model.ipynb"
      }
     },
     "2d79a1438cb842f8bbe7233ea02727b5": {
      "model_module": "ipytree",
      "model_module_version": "0.2.1",
      "model_name": "NodeModel",
      "state": {
       "_id": "9baa8225-8a76-4458-bfd4-fdfc150f4912",
       "_model_module_version": "0.2.1",
       "_view_module_version": "0.2.1",
       "icon": "info",
       "icon_style": "info",
       "name": "media"
      }
     },
     "2da54621186840789fa678267bb103e3": {
      "model_module": "ipytree",
      "model_module_version": "0.2.1",
      "model_name": "NodeModel",
      "state": {
       "_id": "f16d057d-0f4c-45b0-8453-906c967d7ac4",
       "_model_module_version": "0.2.1",
       "_view_module_version": "0.2.1",
       "icon": "file",
       "name": "grid_model_basic.py"
      }
     },
     "2de9e380013a47f8813724a524933afa": {
      "model_module": "ipytree",
      "model_module_version": "0.2.1",
      "model_name": "NodeModel",
      "state": {
       "_id": "776d5b27-a980-4663-8e54-2d0292a7d670",
       "_model_module_version": "0.2.1",
       "_view_module_version": "0.2.1",
       "icon": "file",
       "name": "forecasts_new.csv"
      }
     },
     "2e2776300fb0474d98bd5b243bb332e9": {
      "model_module": "ipytree",
      "model_module_version": "0.2.1",
      "model_name": "NodeModel",
      "state": {
       "_id": "ee317abd-b5e0-4e45-916f-61f1986f0438",
       "_model_module_version": "0.2.1",
       "_view_module_version": "0.2.1",
       "icon": "file",
       "name": "10.8 FXCM Volatility And Sentiments all pairs.ipynb"
      }
     },
     "2e55f890951243d781cf9c35ebbe4ede": {
      "model_module": "@jupyter-widgets/output",
      "model_module_version": "1.0.0",
      "model_name": "OutputModel",
      "state": {
       "layout": "IPY_MODEL_d3ce740d5dec479c946214b95874e883",
       "outputs": [
        {
         "data": {
          "application/vnd.jupyter.widget-view+json": {
           "model_id": "",
           "version_major": 2,
           "version_minor": 0
          },
          "text/plain": "Tree(multiple_selection=False, nodes=(Node(name='examples', nodes=(Node(icon='file', name='0. Knowledge DB des…"
         },
         "metadata": {},
         "output_type": "display_data"
        }
       ]
      }
     },
     "2ea14cab71e3499c8d8dd76362725b79": {
      "model_module": "ipytree",
      "model_module_version": "0.2.1",
      "model_name": "NodeModel",
      "state": {
       "_id": "2971eae7-f2ca-418b-ab1a-37c13952d99f",
       "_model_module_version": "0.2.1",
       "_view_module_version": "0.2.1",
       "name": "optimizations",
       "nodes": [
        "IPY_MODEL_fe999617163f4c4ea22a2c970f13db1d",
        "IPY_MODEL_efd742330bed4e3e9aa4c2bd70886277",
        "IPY_MODEL_032d0fad45ac4b3d8c668333a3229802",
        "IPY_MODEL_f13994695ab74e519a228db777aedcb0",
        "IPY_MODEL_1e338fa257ce46579f11e91d88db43f1",
        "IPY_MODEL_a3fea888ffbe49d588bda1b3866405a7",
        "IPY_MODEL_2c757adc9f0b4bb6b1a53a7be754ef12",
        "IPY_MODEL_2e2776300fb0474d98bd5b243bb332e9",
        "IPY_MODEL_0858cbd4b47e4b4cafb0f95ffab22fa0",
        "IPY_MODEL_4ac9ff66353644ce87e717f65631535f",
        "IPY_MODEL_ffb6766ba9df49f59fb391366059d1f5"
       ],
       "opened": false
      }
     },
     "2edd2983f59e433daa26817a5703728d": {
      "model_module": "ipytree",
      "model_module_version": "0.2.1",
      "model_name": "NodeModel",
      "state": {
       "_id": "969a7af7-4ec9-4b03-9837-1e78bd8a5b98",
       "_model_module_version": "0.2.1",
       "_view_module_version": "0.2.1",
       "name": "data",
       "nodes": [
        "IPY_MODEL_2394eb722f4e47cea257246c64a91243"
       ],
       "opened": false
      }
     },
     "2f0721d8aa88432d9b0c8b0664456603": {
      "model_module": "ipytree",
      "model_module_version": "0.2.1",
      "model_name": "NodeModel",
      "state": {
       "_id": "4f7318b9-d4f4-42ac-977c-8393a50639ba",
       "_model_module_version": "0.2.1",
       "_view_module_version": "0.2.1",
       "name": "dukas",
       "nodes": [
        "IPY_MODEL_f8880d9833164925969ea0ccca114fb7",
        "IPY_MODEL_2fd602f112ac460a9e1d69be66738a46",
        "IPY_MODEL_4b58d6f852ae478bbc86a50f350e5d2c"
       ],
       "opened": false
      }
     },
     "2f123a4fcf7f4f1791f0b0dc11279ba2": {
      "model_module": "ipytree",
      "model_module_version": "0.2.1",
      "model_name": "NodeModel",
      "state": {
       "_id": "4a289e02-142b-4242-a145-15bd530702f9",
       "_model_module_version": "0.2.1",
       "_view_module_version": "0.2.1",
       "name": "crypto",
       "nodes": [
        "IPY_MODEL_0c49f13e6bfa4e37905833ccc3462a0f"
       ],
       "opened": false
      }
     },
     "2f7f12cf4d6446c188921c1b48b93fb4": {
      "model_module": "ipytree",
      "model_module_version": "0.2.1",
      "model_name": "NodeModel",
      "state": {
       "_id": "3e6f82f3-47ce-4687-945c-ce1ab9d1439c",
       "_model_module_version": "0.2.1",
       "_view_module_version": "0.2.1",
       "name": "portfolio",
       "nodes": [
        "IPY_MODEL_212a0cc171db4bf29a6046e9c861606e"
       ],
       "opened": false
      }
     },
     "2f8f2a1474284f9bb285b07a1471f15f": {
      "model_module": "ipytree",
      "model_module_version": "0.2.1",
      "model_name": "NodeModel",
      "state": {
       "_id": "c02796da-a497-4fbc-a203-eb74ce2bb08f",
       "_model_module_version": "0.2.1",
       "_view_module_version": "0.2.1",
       "icon": "cut",
       "icon_style": "danger",
       "name": "Documents"
      }
     },
     "2f99e148265f49a687104c7d04b078e0": {
      "model_module": "ipytree",
      "model_module_version": "0.2.1",
      "model_name": "NodeModel",
      "state": {
       "_id": "772d57fd-dc64-43e0-ac3a-28b63174dbd0",
       "_model_module_version": "0.2.1",
       "_view_module_version": "0.2.1",
       "icon": "file",
       "name": "test_NZ.ipynb"
      }
     },
     "2f9c4c8650df4dadafd46642675f1d42": {
      "model_module": "ipytree",
      "model_module_version": "0.2.1",
      "model_name": "NodeModel",
      "state": {
       "_id": "f133be5a-09e4-415d-b0f2-8c60f9809132",
       "_model_module_version": "0.2.1",
       "_view_module_version": "0.2.1",
       "icon": "file",
       "name": "OrderBookHistory.ipynb"
      }
     },
     "2fd602f112ac460a9e1d69be66738a46": {
      "model_module": "ipytree",
      "model_module_version": "0.2.1",
      "model_name": "NodeModel",
      "state": {
       "_id": "f596685d-803a-4bfb-99aa-7a23045088fe",
       "_model_module_version": "0.2.1",
       "_view_module_version": "0.2.1",
       "icon": "file",
       "name": "avg_fx_spread.ipynb"
      }
     },
     "2fdcbc40f27c4b14b6b4901c5415dd19": {
      "model_module": "ipytree",
      "model_module_version": "0.2.1",
      "model_name": "NodeModel",
      "state": {
       "_id": "ff0aca63-a65a-4b06-a1e4-659adc48435d",
       "_model_module_version": "0.2.1",
       "_view_module_version": "0.2.1",
       "icon": "file",
       "name": "LinearPredictor_model_estimation.ipynb"
      }
     },
     "2fe23172988a4551a43172ad6c2d2b79": {
      "model_module": "ipytree",
      "model_module_version": "0.2.1",
      "model_name": "NodeModel",
      "state": {
       "_id": "09f041cc-6ade-41a6-a219-2d8d7245be4f",
       "_model_module_version": "0.2.1",
       "_view_module_version": "0.2.1",
       "name": "mltms",
       "nodes": [
        "IPY_MODEL_ed269f25fba5416d964bb6d54fda3d20",
        "IPY_MODEL_fe1e5c29706d4627a6ccfc53d8bc6069",
        "IPY_MODEL_4f3c7136686d4a10bbf66200fdc47d34",
        "IPY_MODEL_909be8bf512b4aa2810d519931fda06f",
        "IPY_MODEL_74825bd2e3fb48b58007308f35a9d8ad",
        "IPY_MODEL_1deffa50e14847e5b90829dd1ed2a9aa",
        "IPY_MODEL_a53713c388914542841d9c66723d1f9a"
       ],
       "opened": false
      }
     },
     "30a9ced6146a45df99256036eb55b3a2": {
      "model_module": "ipytree",
      "model_module_version": "0.2.1",
      "model_name": "NodeModel",
      "state": {
       "_id": "a2f2bec2-ebc3-4343-a328-38e1de23a320",
       "_model_module_version": "0.2.1",
       "_view_module_version": "0.2.1",
       "icon": "file",
       "name": "levels_algos.py"
      }
     },
     "30b91d10f14d42638339264f5a587ffc": {
      "model_module": "ipytree",
      "model_module_version": "0.2.1",
      "model_name": "NodeModel",
      "state": {
       "_id": "8f9497cd-54d3-4976-9743-b2ca75ad8541",
       "_model_module_version": "0.2.1",
       "_view_module_version": "0.2.1",
       "icon": "warning",
       "icon_style": "success",
       "name": "local"
      }
     },
     "30bc59234d574ac2b437a0d343286d08": {
      "model_module": "ipytree",
      "model_module_version": "0.2.1",
      "model_name": "NodeModel",
      "state": {
       "_id": "e9a540a9-c3cb-4537-986e-c9f8fef27a8b",
       "_model_module_version": "0.2.1",
       "_view_module_version": "0.2.1",
       "icon": "file",
       "name": "regime_hmm_backtest.py"
      }
     },
     "30e8753f86874b29aaa01b2b3a7f81e1": {
      "model_module": "ipytree",
      "model_module_version": "0.2.1",
      "model_name": "NodeModel",
      "state": {
       "_id": "b0c45baa-10a3-491e-9e5e-bb056e62d793",
       "_model_module_version": "0.2.1",
       "_view_module_version": "0.2.1",
       "icon": "file",
       "name": "utils.py"
      }
     },
     "31231844612b4ab4a1b1ff2eff5ad120": {
      "model_module": "ipytree",
      "model_module_version": "0.2.1",
      "model_name": "NodeModel",
      "state": {
       "_id": "a9b50eb0-dae2-47f8-884d-7e35277b708f",
       "_model_module_version": "0.2.1",
       "_view_module_version": "0.2.1",
       "icon": "file",
       "name": "levels_structs.cpython-36.pyc"
      }
     },
     "3155ca4388464210b6d8aa5cdda33604": {
      "model_module": "ipytree",
      "model_module_version": "0.2.1",
      "model_name": "NodeModel",
      "state": {
       "_id": "1e2f0773-1a59-4a54-bbe9-6d0722ab6332",
       "_model_module_version": "0.2.1",
       "_view_module_version": "0.2.1",
       "icon": "file",
       "name": "spread_helper.py"
      }
     },
     "31987910c4784e11be2a9f5c2e5c0464": {
      "model_module": "ipytree",
      "model_module_version": "0.2.1",
      "model_name": "NodeModel",
      "state": {
       "_id": "bb486807-83ae-4553-9e9b-532ae8ddd571",
       "_model_module_version": "0.2.1",
       "_view_module_version": "0.2.1",
       "icon": "file",
       "name": "__init__.py"
      }
     },
     "31b19331f3f34e9bb9d37b706563062f": {
      "model_module": "ipytree",
      "model_module_version": "0.2.1",
      "model_name": "NodeModel",
      "state": {
       "_id": "542a857b-45a9-4529-be88-a5323f538315",
       "_model_module_version": "0.2.1",
       "_view_module_version": "0.2.1",
       "icon": "file",
       "name": "utils.py"
      }
     },
     "31c3c60acc154c358232e6f2bf90f6c1": {
      "model_module": "ipytree",
      "model_module_version": "0.2.1",
      "model_name": "NodeModel",
      "state": {
       "_id": "f9583f6c-0cd6-41f5-a8f4-5e516ddd2d34",
       "_model_module_version": "0.2.1",
       "_view_module_version": "0.2.1",
       "icon": "file",
       "name": "3.1 CryptCorrellations.ipynb"
      }
     },
     "31fc8a0a349346a48ab4bcfe5d0bf7f4": {
      "model_module": "ipytree",
      "model_module_version": "0.2.1",
      "model_name": "NodeModel",
      "state": {
       "_id": "1614159d-cdc4-4a32-9058-4ed678c38214",
       "_model_module_version": "0.2.1",
       "_view_module_version": "0.2.1",
       "icon": "file",
       "name": "entries_generator.cpython-36.pyc"
      }
     },
     "325e9445beeb4bd4860305f26edb7ee0": {
      "model_module": "ipytree",
      "model_module_version": "0.2.1",
      "model_name": "NodeModel",
      "state": {
       "_id": "68b0bd27-7f9f-4967-aa78-59ccea8846a7",
       "_model_module_version": "0.2.1",
       "_view_module_version": "0.2.1",
       "icon": "file",
       "name": "nu_gs_100k_1to16.html"
      }
     },
     "32a78ee806de4d3f83cc9ac6a6b0ce40": {
      "model_module": "ipytree",
      "model_module_version": "0.2.1",
      "model_name": "NodeModel",
      "state": {
       "_id": "641eb5ac-5696-4e3e-9771-40d8cea95db3",
       "_model_module_version": "0.2.1",
       "_view_module_version": "0.2.1",
       "icon": "file",
       "name": "binance.py"
      }
     },
     "32ab49d1cf4a417897914e81c31ccef7": {
      "model_module": "@jupyter-widgets/base",
      "model_module_version": "1.2.0",
      "model_name": "LayoutModel",
      "state": {}
     },
     "32f190a73fca494a8f79b207133bc48e": {
      "model_module": "ipytree",
      "model_module_version": "0.2.1",
      "model_name": "NodeModel",
      "state": {
       "_id": "9f273584-e901-4301-acbd-6b5b91d9dec7",
       "_model_module_version": "0.2.1",
       "_view_module_version": "0.2.1",
       "name": "Algorithmic and High-Frequency Trading",
       "nodes": [
        "IPY_MODEL_a2f8032d7a404208a414acfe519f330d",
        "IPY_MODEL_998667d2a27e4faab499539179aa5142",
        "IPY_MODEL_a04a1476c9d048bda714d43e9ca62af1",
        "IPY_MODEL_68d2f3be3e934a409f5e6b9317f12f9e"
       ],
       "opened": false
      }
     },
     "32f4d1af3d124b3293a2f766764479e4": {
      "model_module": "ipytree",
      "model_module_version": "0.2.1",
      "model_name": "NodeModel",
      "state": {
       "_id": "1034d906-7017-4cab-a353-71d24076bce7",
       "_model_module_version": "0.2.1",
       "_view_module_version": "0.2.1",
       "icon": "file",
       "name": "1. Plan of research.ipynb"
      }
     },
     "3337d33a0abe4267b4abbd19a2c1237b": {
      "model_module": "ipytree",
      "model_module_version": "0.2.1",
      "model_name": "NodeModel",
      "state": {
       "_id": "923a3354-a0e0-4db5-81ec-814d65475163",
       "_model_module_version": "0.2.1",
       "_view_module_version": "0.2.1",
       "icon": "file",
       "name": "PWMA_from_aws.ipynb"
      }
     },
     "33467a1dfaed407c8149ad38dfe65fba": {
      "model_module": "ipytree",
      "model_module_version": "0.2.1",
      "model_name": "NodeModel",
      "state": {
       "_id": "75dea367-7894-4dda-856c-18a80065079b",
       "_model_module_version": "0.2.1",
       "_view_module_version": "0.2.1",
       "icon": "file",
       "name": "PatternsDetectingUtilities.ipynb"
      }
     },
     "3359178649314aeb86a1ed958b00534f": {
      "model_module": "ipytree",
      "model_module_version": "0.2.1",
      "model_name": "NodeModel",
      "state": {
       "_id": "22fa2268-155e-455f-85a0-a73f4a04ab67",
       "_model_module_version": "0.2.1",
       "_view_module_version": "0.2.1",
       "name": "data",
       "nodes": [
        "IPY_MODEL_4fd2ee5d61bf4087b91edee6b06fed06",
        "IPY_MODEL_7e7b7d7635074d489a4b33f17d13a29b",
        "IPY_MODEL_16eda2ab996f40879d5f2af5ead08fd5",
        "IPY_MODEL_f2a6319fea1f47d0aa3fc7379c87378b",
        "IPY_MODEL_4e797f4b0d2e4b19b6bdf440d76ddeea",
        "IPY_MODEL_de4f5095fcf4479dbbaea5a29f21caff",
        "IPY_MODEL_0886038ac2444f97821a2de9dcef0c3a",
        "IPY_MODEL_17e213d932184269be29f4e7231f3f41"
       ],
       "opened": false
      }
     },
     "342df03a42a143cd98c95a462b3887e0": {
      "model_module": "ipytree",
      "model_module_version": "0.2.1",
      "model_name": "NodeModel",
      "state": {
       "_id": "3eb30920-2eb3-4e80-b47a-af9b0ac194a5",
       "_model_module_version": "0.2.1",
       "_view_module_version": "0.2.1",
       "icon": "plus",
       "icon_style": "success",
       "name": "File2"
      }
     },
     "3447edb2e0cc4a139b99e67f2efd1412": {
      "model_module": "ipytree",
      "model_module_version": "0.2.1",
      "model_name": "NodeModel",
      "state": {
       "_id": "a350073e-2df8-4c3c-ac35-d9ab9782313f",
       "_model_module_version": "0.2.1",
       "_view_module_version": "0.2.1",
       "name": "FIX44_smarttrade",
       "nodes": [
        "IPY_MODEL_05ffed42800c49439d0bbcc1bf019134",
        "IPY_MODEL_e6a70c062993424bbb3c3a00f013a844",
        "IPY_MODEL_da2eae74dab248a8be9e3e02b85560f4",
        "IPY_MODEL_919016d2bf934ffb88bbb8ab8d4f23d0",
        "IPY_MODEL_cb3f2f9467224764a502da70de84b20e"
       ],
       "opened": false
      }
     },
     "345e4807b4d64c0a9aabdc1e3b242151": {
      "model_module": "ipytree",
      "model_module_version": "0.2.1",
      "model_name": "NodeModel",
      "state": {
       "_id": "2b61b2ec-1932-4fa1-b3a6-213952a3d6b4",
       "_model_module_version": "0.2.1",
       "_view_module_version": "0.2.1",
       "name": "utils",
       "nodes": [
        "IPY_MODEL_fa8f087b8fc04ebf915cce14a0ba31ab",
        "IPY_MODEL_ad03b1a9cdb44473a0d081a49b1152f7",
        "IPY_MODEL_8e36e491a1b54c16bae4ee6f530095d0"
       ],
       "opened": false
      }
     },
     "34d04b9bb4394bb3a803eeba4bf54fc4": {
      "model_module": "ipytree",
      "model_module_version": "0.2.1",
      "model_name": "NodeModel",
      "state": {
       "_id": "f454d501-0fa9-4d4f-95a4-832232c92535",
       "_model_module_version": "0.2.1",
       "_view_module_version": "0.2.1",
       "icon": "file",
       "name": "market_regim_utils.ipynb"
      }
     },
     "34f2fb212aca41f99902ada1ad3fb3bd": {
      "model_module": "ipytree",
      "model_module_version": "0.2.1",
      "model_name": "NodeModel",
      "state": {
       "_id": "b0090e33-2a3d-434b-9fe0-2d251c8a0536",
       "_model_module_version": "0.2.1",
       "_view_module_version": "0.2.1",
       "icon": "file",
       "name": "WSS_realtime.ipynb"
      }
     },
     "355c415e30444295aab773acb04433ad": {
      "model_module": "ipytree",
      "model_module_version": "0.2.1",
      "model_name": "NodeModel",
      "state": {
       "_id": "36fd77b9-9155-45f0-8074-3910740d77eb",
       "_model_module_version": "0.2.1",
       "_view_module_version": "0.2.1",
       "icon": "file",
       "name": "3.1 Signals Analysis trailing.ipynb"
      }
     },
     "35772695d1fc4050bd0286072724d998": {
      "model_module": "ipytree",
      "model_module_version": "0.2.1",
      "model_name": "NodeModel",
      "state": {
       "_id": "493cca46-4260-492d-8b0b-c72993691e0c",
       "_model_module_version": "0.2.1",
       "_view_module_version": "0.2.1",
       "icon": "file",
       "name": "Simulation Results Processing.ipynb"
      }
     },
     "357ffc9e83c24f68bc47f4a958297e50": {
      "model_module": "ipytree",
      "model_module_version": "0.2.1",
      "model_name": "NodeModel",
      "state": {
       "_id": "04681dcc-5e47-4c11-81c1-431ef8e3d6d6",
       "_model_module_version": "0.2.1",
       "_view_module_version": "0.2.1",
       "icon": "file",
       "name": "Progressive.py"
      }
     },
     "359caf490d0c4cd09b70a11fcb772d80": {
      "model_module": "ipytree",
      "model_module_version": "0.2.1",
      "model_name": "NodeModel",
      "state": {
       "_id": "a5823ebf-52e2-4997-aa12-a33ef8f1adb3",
       "_model_module_version": "0.2.1",
       "_view_module_version": "0.2.1",
       "icon": "file",
       "name": "trading_server.py"
      }
     },
     "35af72dd13ae40389a154facbf892018": {
      "model_module": "ipytree",
      "model_module_version": "0.2.1",
      "model_name": "NodeModel",
      "state": {
       "_id": "64e81faf-8f2b-45f6-bc53-40a54a26ab15",
       "_model_module_version": "0.2.1",
       "_view_module_version": "0.2.1",
       "icon": "file",
       "name": "base_test.py"
      }
     },
     "35b80703e0b845e586a8830c7a9a72e7": {
      "model_module": "ipytree",
      "model_module_version": "0.2.1",
      "model_name": "NodeModel",
      "state": {
       "_id": "b61929d4-bb9c-4532-9296-e63fb0ef761c",
       "_model_module_version": "0.2.1",
       "_view_module_version": "0.2.1",
       "name": "publication",
       "nodes": [
        "IPY_MODEL_e691c9e7987242d3af9c7bd629182337",
        "IPY_MODEL_b6188412eeb74b949b4fbd457d8b1583",
        "IPY_MODEL_12e049d71762426391f8df308951ca19",
        "IPY_MODEL_489a7e95c3294131bb690c296891591a"
       ],
       "opened": false
      }
     },
     "35f45cb4168042818dd995da5c749123": {
      "model_module": "@jupyter-widgets/base",
      "model_module_version": "1.2.0",
      "model_name": "LayoutModel",
      "state": {}
     },
     "366250fa648644fa8d683657a711f055": {
      "model_module": "ipytree",
      "model_module_version": "0.2.1",
      "model_name": "NodeModel",
      "state": {
       "_id": "346c3e90-ee65-43d3-a448-b1b7fe502e78",
       "_model_module_version": "0.2.1",
       "_view_module_version": "0.2.1",
       "name": "crypto",
       "nodes": [
        "IPY_MODEL_a7c0b0df1fce4c0fa75e13197891023d",
        "IPY_MODEL_57f8ff44a62746f7bc39d1e997b90444",
        "IPY_MODEL_9430feb8538c45be800ff95919bf937c",
        "IPY_MODEL_c9efa3fac24d445f92da54a0b0dc0161",
        "IPY_MODEL_59b29359f3974174b9fd09ed09b22ba8"
       ]
      }
     },
     "3673b71d7e2247229cba62c61b69d47c": {
      "model_module": "ipytree",
      "model_module_version": "0.2.1",
      "model_name": "NodeModel",
      "state": {
       "_id": "eb2bf469-e2ed-401a-8ec5-25d68ec44223",
       "_model_module_version": "0.2.1",
       "_view_module_version": "0.2.1",
       "name": "examples",
       "nodes": [
        "IPY_MODEL_93e62185867348989d284dd9b5976640"
       ]
      }
     },
     "367c4730f199437ba88eba141f797a86": {
      "model_module": "ipytree",
      "model_module_version": "0.2.1",
      "model_name": "NodeModel",
      "state": {
       "_id": "915d08ec-648f-49b1-a5a0-11a3e4c97037",
       "_model_module_version": "0.2.1",
       "_view_module_version": "0.2.1",
       "icon": "file",
       "name": "tools.py"
      }
     },
     "36cca5a62b3844eda3280f249bd6d980": {
      "model_module": "ipytree",
      "model_module_version": "0.2.1",
      "model_name": "NodeModel",
      "state": {
       "_id": "7d19f227-ae19-4b19-ba27-5066dff42cdf",
       "_model_module_version": "0.2.1",
       "_view_module_version": "0.2.1",
       "icon": "cut",
       "icon_style": "danger",
       "name": "Documents"
      }
     },
     "36ff18dca2b0464cbc08a9d93e488a6a": {
      "model_module": "ipytree",
      "model_module_version": "0.2.1",
      "model_name": "NodeModel",
      "state": {
       "_id": "86b4ba5b-4e69-4e98-9132-09b8eefe8b36",
       "_model_module_version": "0.2.1",
       "_view_module_version": "0.2.1",
       "icon": "file",
       "name": "progression_mar_only.json"
      }
     },
     "37477645f2424855b6c3d3a8f52b2383": {
      "model_module": "ipytree",
      "model_module_version": "0.2.1",
      "model_name": "NodeModel",
      "state": {
       "_id": "99e3258f-e4b9-4ea3-afdd-d469b01e8b37",
       "_model_module_version": "0.2.1",
       "_view_module_version": "0.2.1",
       "icon": "file",
       "name": "1. Futures vs CFD tests.ipynb"
      }
     },
     "3788e165c8da41dcb1f743a092794b1c": {
      "model_module": "ipytree",
      "model_module_version": "0.2.1",
      "model_name": "NodeModel",
      "state": {
       "_id": "f749ecf6-51b7-4575-ba5d-2bd5756cec9d",
       "_model_module_version": "0.2.1",
       "_view_module_version": "0.2.1",
       "icon": "file",
       "name": "data_helpers.cpython-36.pyc"
      }
     },
     "37aa2c35b31147d7aac383219ead8136": {
      "model_module": "@jupyter-widgets/controls",
      "model_module_version": "1.5.0",
      "model_name": "HBoxModel",
      "state": {
       "children": [
        "IPY_MODEL_dd3a4fa21b5e454a8d87fcfe0f4681a3",
        "IPY_MODEL_59e3cb619b4f45d0b95d175ea45273fc"
       ],
       "layout": "IPY_MODEL_1b5c177faef5478aada376d4e090a9ac"
      }
     },
     "37bff793fcff41c18af8dd31f9f2236b": {
      "model_module": "ipytree",
      "model_module_version": "0.2.1",
      "model_name": "NodeModel",
      "state": {
       "_id": "9b7f1c99-fb51-4685-91b9-01aec3795128",
       "_model_module_version": "0.2.1",
       "_view_module_version": "0.2.1",
       "icon": "file",
       "name": "1. Dynamic Range Detector By LinearRegression.ipynb"
      }
     },
     "37e8630a7ecf4584a4bb4e9103832969": {
      "model_module": "ipytree",
      "model_module_version": "0.2.1",
      "model_name": "NodeModel",
      "state": {
       "_id": "92050e81-f9cc-4eed-a1a5-2f3cb08325d4",
       "_model_module_version": "0.2.1",
       "_view_module_version": "0.2.1",
       "icon": "file",
       "name": "Additional Data.ipynb"
      }
     },
     "382365a27f384c8a81f83fd9677d41d5": {
      "model_module": "ipytree",
      "model_module_version": "0.2.1",
      "model_name": "NodeModel",
      "state": {
       "_id": "22a2a5fb-b0b9-46af-9977-bf47eab85436",
       "_model_module_version": "0.2.1",
       "_view_module_version": "0.2.1",
       "name": "FundingRates",
       "nodes": [
        "IPY_MODEL_85089c260dfa40f795163765f7b96852",
        "IPY_MODEL_6986b96028034e689e6873a41b8c78e8",
        "IPY_MODEL_4c839cd448c4471d9fb9ee2aba6bd8b0"
       ],
       "opened": false
      }
     },
     "3839a8f8673d4817b3f8c7846fc38efc": {
      "model_module": "ipytree",
      "model_module_version": "0.2.1",
      "model_name": "NodeModel",
      "state": {
       "_id": "a287b4cf-77a9-4e67-a2ce-7c4e4536c179",
       "_model_module_version": "0.2.1",
       "_view_module_version": "0.2.1",
       "name": "__pycache__",
       "nodes": [
        "IPY_MODEL_958ac054e9e84d59a3fde888a5886238"
       ],
       "opened": false
      }
     },
     "3861616b0f864e7a949d6c8a24aac6d5": {
      "model_module": "ipytree",
      "model_module_version": "0.2.1",
      "model_name": "NodeModel",
      "state": {
       "_id": "06474aab-bce1-4920-af4c-8c3570afcb59",
       "_model_module_version": "0.2.1",
       "_view_module_version": "0.2.1",
       "icon": "file",
       "name": "levels_utils.py"
      }
     },
     "38a4f553752e446fa70b98102cbaf3c3": {
      "model_module": "ipytree",
      "model_module_version": "0.2.1",
      "model_name": "NodeModel",
      "state": {
       "_id": "934a019d-8781-4445-9ce8-8c39473a2fc2",
       "_model_module_version": "0.2.1",
       "_view_module_version": "0.2.1",
       "icon": "file",
       "name": "FXCM_QuantConnect_Loader.ipynb"
      }
     },
     "38c5ea3ab1af41c69e88616d38ee2de5": {
      "model_module": "ipytree",
      "model_module_version": "0.2.1",
      "model_name": "NodeModel",
      "state": {
       "_id": "965e2be7-38c0-4c46-af1a-d15b2b397c64",
       "_model_module_version": "0.2.1",
       "_view_module_version": "0.2.1",
       "icon": "file",
       "name": "2.1. Arbitrage Model QLearn.ipynb"
      }
     },
     "38dc87ed8fda427f9f33cf8343f77e04": {
      "model_module": "ipytree",
      "model_module_version": "0.2.1",
      "model_name": "NodeModel",
      "state": {
       "_id": "3305bb92-a597-408b-93af-f44223248508",
       "_model_module_version": "0.2.1",
       "_view_module_version": "0.2.1",
       "name": "separatedflow",
       "nodes": [
        "IPY_MODEL_f71dc45ec1d84e4190e94a19f6693d67",
        "IPY_MODEL_4369e4994ccb4af8a7a997d836df0eeb",
        "IPY_MODEL_9c627bb3618d40c289de94bacbc4db37",
        "IPY_MODEL_6b6c58e6fdd44d53a17111933897f2ab",
        "IPY_MODEL_69e5539b014d467d998c8d8def1f5b43"
       ],
       "opened": false
      }
     },
     "38e46807ac84493684d9df2c6ea90732": {
      "model_module": "ipytree",
      "model_module_version": "0.2.1",
      "model_name": "NodeModel",
      "state": {
       "_id": "21d47503-56d3-4540-82f8-bb1748d3fc58",
       "_model_module_version": "0.2.1",
       "_view_module_version": "0.2.1",
       "icon": "file",
       "name": "mocks.py"
      }
     },
     "3979de54d57c467c9f64b52909132ea7": {
      "model_module": "ipytree",
      "model_module_version": "0.2.1",
      "model_name": "NodeModel",
      "state": {
       "_id": "78c7e46c-5a20-4651-8692-948127366e44",
       "_model_module_version": "0.2.1",
       "_view_module_version": "0.2.1",
       "icon": "file",
       "name": "external"
      }
     },
     "39994115e8a045638f018bd56f1d0198": {
      "model_module": "ipytree",
      "model_module_version": "0.2.1",
      "model_name": "NodeModel",
      "state": {
       "_id": "c4b2432f-6807-48e1-810f-c1cb5e9f791b",
       "_model_module_version": "0.2.1",
       "_view_module_version": "0.2.1",
       "icon": "file",
       "name": "UWseeker.ipynb"
      }
     },
     "39a563e8f8c541669be03bd40e95fb77": {
      "model_module": "ipytree",
      "model_module_version": "0.2.1",
      "model_name": "NodeModel",
      "state": {
       "_id": "ef3b01b6-5ed4-4a0e-9490-aece2fc505bb",
       "_model_module_version": "0.2.1",
       "_view_module_version": "0.2.1",
       "icon": "file",
       "name": "strategic_weight_etf_portfolio_backtest.py"
      }
     },
     "39c91a2cccd744c2b064b9037ffb7708": {
      "model_module": "@jupyter-widgets/controls",
      "model_module_version": "1.5.0",
      "model_name": "ButtonStyleModel",
      "state": {}
     },
     "3a2bd1c9883442dfabca70020a709100": {
      "model_module": "ipytree",
      "model_module_version": "0.2.1",
      "model_name": "NodeModel",
      "state": {
       "_id": "812fc66b-e0ed-4134-96fc-b91f28b6f9e7",
       "_model_module_version": "0.2.1",
       "_view_module_version": "0.2.1",
       "icon": "file",
       "name": "Demo_43_2.png"
      }
     },
     "3a63945045754a8091412f256c967ad2": {
      "model_module": "ipytree",
      "model_module_version": "0.2.1",
      "model_name": "NodeModel",
      "state": {
       "_id": "80813f83-6847-4ea6-961a-14580c9dd66d",
       "_model_module_version": "0.2.1",
       "_view_module_version": "0.2.1",
       "icon": "file",
       "name": "data.cpython-36.pyc"
      }
     },
     "3a692fab79434bd3a2714da7295debb0": {
      "model_module": "ipytree",
      "model_module_version": "0.2.1",
      "model_name": "NodeModel",
      "state": {
       "_id": "76d9af46-1f49-439b-a471-652835163696",
       "_model_module_version": "0.2.1",
       "_view_module_version": "0.2.1",
       "icon": "file",
       "name": "Strategy state saving restoring tests.ipynb"
      }
     },
     "3ac09d215ba34e6692686bcca881b94e": {
      "model_module": "ipytree",
      "model_module_version": "0.2.1",
      "model_name": "NodeModel",
      "state": {
       "_id": "07c8dee3-f7be-499b-abc0-6e3d973240f4",
       "_model_module_version": "0.2.1",
       "_view_module_version": "0.2.1",
       "icon": "file",
       "name": "Order Flow On Forex.ipynb"
      }
     },
     "3b0614bb4973467490added708b1a01a": {
      "model_module": "ipytree",
      "model_module_version": "0.2.1",
      "model_name": "NodeModel",
      "state": {
       "_id": "ae6f3cf2-64cc-4830-9def-fe827e55e0ff",
       "_model_module_version": "0.2.1",
       "_view_module_version": "0.2.1",
       "name": "essentials",
       "nodes": [
        "IPY_MODEL_4228da8065f540ed95f7f3d2cb7d441c",
        "IPY_MODEL_32f190a73fca494a8f79b207133bc48e",
        "IPY_MODEL_d6d18369a0154e07ab6dd1092ac166fe",
        "IPY_MODEL_4117466a9b0447d3977d0b0e02a90b0f",
        "IPY_MODEL_0cdd54a4a57440a39b13b6864ff2e23e",
        "IPY_MODEL_f028d574bcdc4cadb0fed830bd9d4b22",
        "IPY_MODEL_e34f1810d091438ca2ced3bd3519f8f4",
        "IPY_MODEL_8567882941b247349b4fdf43eefe0d1a",
        "IPY_MODEL_c72e9abd9af64ffd9370e877d365c474"
       ],
       "opened": false
      }
     },
     "3b2f180fddc74410a86d88373447019d": {
      "model_module": "ipytree",
      "model_module_version": "0.2.1",
      "model_name": "NodeModel",
      "state": {
       "_id": "6c2584d2-1a7d-4f84-b33e-fc6b6846ec66",
       "_model_module_version": "0.2.1",
       "_view_module_version": "0.2.1",
       "icon": "file",
       "name": "978544611154_Машинное_обучение__а.pdf"
      }
     },
     "3b57c4c73a164c589a42b9a3bdaf69c1": {
      "model_module": "ipytree",
      "model_module_version": "0.2.1",
      "model_name": "NodeModel",
      "state": {
       "_id": "18dec2a1-9c14-4d62-88df-e03e169a3232",
       "_model_module_version": "0.2.1",
       "_view_module_version": "0.2.1",
       "icon": "file",
       "name": "orders_imbalance_models.py"
      }
     },
     "3b8591c95f32438cb60ca039f43b84d6": {
      "model_module": "ipytree",
      "model_module_version": "0.2.1",
      "model_name": "NodeModel",
      "state": {
       "_id": "d27e1e31-4aaf-437c-b250-d9279caf2389",
       "_model_module_version": "0.2.1",
       "_view_module_version": "0.2.1",
       "icon": "file",
       "name": "cross_validation.py"
      }
     },
     "3bbbe2eb820c45fbbf41a8c6b8cef949": {
      "model_module": "ipytree",
      "model_module_version": "0.2.1",
      "model_name": "NodeModel",
      "state": {
       "_id": "f7d1ad7a-8889-4f23-8d6e-e65ff37e7c91",
       "_model_module_version": "0.2.1",
       "_view_module_version": "0.2.1",
       "name": "yahoo",
       "nodes": [
        "IPY_MODEL_d256ef52d91846bca6218aeb7126e04d"
       ],
       "opened": false
      }
     },
     "3bcee7ddf7c3481182261c212a34215f": {
      "model_module": "ipytree",
      "model_module_version": "0.2.1",
      "model_name": "NodeModel",
      "state": {
       "_id": "c0c488ef-01d5-4bd1-bd71-76a1d0b8e0dd",
       "_model_module_version": "0.2.1",
       "_view_module_version": "0.2.1",
       "icon": "file",
       "name": "utils.py"
      }
     },
     "3c4e6ead56a24619a9873fb3970b2c01": {
      "model_module": "ipytree",
      "model_module_version": "0.2.1",
      "model_name": "NodeModel",
      "state": {
       "_id": "0ca4f49c-5f56-46a0-ab4f-ea354e75ac53",
       "_model_module_version": "0.2.1",
       "_view_module_version": "0.2.1",
       "icon": "file",
       "name": "ClientsStreamData.ipynb"
      }
     },
     "3c670dcb13f24bdc868d10c6f80b63fb": {
      "model_module": "ipytree",
      "model_module_version": "0.2.1",
      "model_name": "NodeModel",
      "state": {
       "_id": "d36291d2-b542-4260-be0a-7a25d2ec9076",
       "_model_module_version": "0.2.1",
       "_view_module_version": "0.2.1",
       "icon": "file",
       "name": "5. Model3 Fixed Premium Trader.ipynb"
      }
     },
     "3cb9001c93ea4278a6edf39edd6ed34c": {
      "model_module": "ipytree",
      "model_module_version": "0.2.1",
      "model_name": "NodeModel",
      "state": {
       "_id": "c11f8c5b-3f16-4956-a98f-c6700f260abd",
       "_model_module_version": "0.2.1",
       "_view_module_version": "0.2.1",
       "icon": "file",
       "name": "bitmex_personal_live.json"
      }
     },
     "3d572ba4a3074826a9f39def07bfb13a": {
      "model_module": "ipytree",
      "model_module_version": "0.2.1",
      "model_name": "NodeModel",
      "state": {
       "_id": "c196f507-e0e0-44b3-9270-c2e0a9c78c35",
       "_model_module_version": "0.2.1",
       "_view_module_version": "0.2.1",
       "icon": "cut",
       "icon_style": "danger",
       "name": "Documents"
      }
     },
     "3d72cee9f4ac4e36aca904dd0b7d1f64": {
      "model_module": "ipytree",
      "model_module_version": "0.2.1",
      "model_name": "NodeModel",
      "state": {
       "_id": "394e6487-cd91-48cc-9640-39058b95683f",
       "_model_module_version": "0.2.1",
       "_view_module_version": "0.2.1",
       "icon": "file",
       "name": "orderbook_utils.py"
      }
     },
     "3d744c206e3c4b2ca021c8b14169543d": {
      "model_module": "ipytree",
      "model_module_version": "0.2.1",
      "model_name": "NodeModel",
      "state": {
       "_id": "f3747981-ab64-4782-9176-08bdb569fcb8",
       "_model_module_version": "0.2.1",
       "_view_module_version": "0.2.1",
       "icon": "file",
       "name": "sentdex_sentiment_backtest.py"
      }
     },
     "3d89898608eb417da90598a48c73d905": {
      "model_module": "ipytree",
      "model_module_version": "0.2.1",
      "model_name": "NodeModel",
      "state": {
       "_id": "347151f2-31cf-4400-b221-437ea7d2ae60",
       "_model_module_version": "0.2.1",
       "_view_module_version": "0.2.1",
       "icon": "file",
       "name": "Reversal Analysis.ipynb"
      }
     },
     "3da1fb0ce183455ab8e84b3f0421e203": {
      "model_module": "ipytree",
      "model_module_version": "0.2.1",
      "model_name": "NodeModel",
      "state": {
       "_id": "6138238c-1a12-4624-bdf5-229267c4662d",
       "_model_module_version": "0.2.1",
       "_view_module_version": "0.2.1",
       "name": "ETHUSDT15Min",
       "nodes": [
        "IPY_MODEL_781b9c702402495d82c7a17138275c41",
        "IPY_MODEL_47aa4e7fc6324ff89babd4bb393779b7"
       ],
       "opened": false
      }
     },
     "3dcf3e1390d74f609e6201d9a93ad43c": {
      "model_module": "ipytree",
      "model_module_version": "0.2.1",
      "model_name": "NodeModel",
      "state": {
       "_id": "591ad7e8-ad02-4178-9fb2-3cc64cf19af4",
       "_model_module_version": "0.2.1",
       "_view_module_version": "0.2.1",
       "icon": "file",
       "name": "mpl_finance.cpython-36.pyc"
      }
     },
     "3dd633c9889445d7879188f524091955": {
      "model_module": "@jupyter-widgets/base",
      "model_module_version": "1.2.0",
      "model_name": "LayoutModel",
      "state": {
       "min_width": "475px"
      }
     },
     "3e831ec8fc314f9385e0303020090b65": {
      "model_module": "ipytree",
      "model_module_version": "0.2.1",
      "model_name": "NodeModel",
      "state": {
       "_id": "c2d8cda3-033c-422f-9b59-39045ffe13f5",
       "_model_module_version": "0.2.1",
       "_view_module_version": "0.2.1",
       "icon": "file",
       "name": "DataUtils.ipynb"
      }
     },
     "3f452c599f014a6492bb82bc866df013": {
      "model_module": "ipytree",
      "model_module_version": "0.2.1",
      "model_name": "NodeModel",
      "state": {
       "_id": "a326544f-6790-4636-8d26-2cf25193e34c",
       "_model_module_version": "0.2.1",
       "_view_module_version": "0.2.1",
       "icon": "file",
       "name": "BitmexMarginAndLiquidationPrice.ipynb"
      }
     },
     "3f838f0013e54eb497fcfd9afce2e9bd": {
      "model_module": "ipytree",
      "model_module_version": "0.2.1",
      "model_name": "NodeModel",
      "state": {
       "_id": "855eb014-67bc-415c-9536-5ba081d719b2",
       "_model_module_version": "0.2.1",
       "_view_module_version": "0.2.1",
       "icon": "file",
       "name": "[Dieter_Sondermann]_Introduction_to_Stochastic_Cal(BookFi.org).pdf"
      }
     },
     "3fa7fa0cf466402dab63eee5fd842e52": {
      "model_module": "ipytree",
      "model_module_version": "0.2.1",
      "model_name": "NodeModel",
      "state": {
       "_id": "13aa22ec-5023-4512-839e-d29f6d117841",
       "_model_module_version": "0.2.1",
       "_view_module_version": "0.2.1",
       "icon": "file",
       "name": "beta_plot.py"
      }
     },
     "3fc58746e8f5454bb693f37b5f4ca82f": {
      "model_module": "ipytree",
      "model_module_version": "0.2.1",
      "model_name": "NodeModel",
      "state": {
       "_id": "32f1bb8d-1458-45e0-b2dc-7d4adcfb0909",
       "_model_module_version": "0.2.1",
       "_view_module_version": "0.2.1",
       "icon": "file",
       "name": "SDS_SPY_spread.ipynb"
      }
     },
     "40120d98605c4d9e8a9f0d0322b69b1c": {
      "model_module": "ipytree",
      "model_module_version": "0.2.1",
      "model_name": "NodeModel",
      "state": {
       "_id": "e70ccf8f-65e3-4cca-8204-9c9fc64d7238",
       "_model_module_version": "0.2.1",
       "_view_module_version": "0.2.1",
       "name": "chapter-machine-learning-decision-trees",
       "nodes": [
        "IPY_MODEL_03282e659c9c42279e9958dc3d1b43e6"
       ],
       "opened": false
      }
     },
     "405250d0207c4b559b76d56bdf0b385c": {
      "model_module": "ipytree",
      "model_module_version": "0.2.1",
      "model_name": "NodeModel",
      "state": {
       "_id": "9c276d75-c46c-4857-9396-54fddc166d7a",
       "_model_module_version": "0.2.1",
       "_view_module_version": "0.2.1",
       "icon": "file",
       "name": "SPY - SPY.csv"
      }
     },
     "405dc5b1da424f6e830c06def0aa3c74": {
      "model_module": "ipytree",
      "model_module_version": "0.2.1",
      "model_name": "NodeModel",
      "state": {
       "_id": "07c36d2f-e9fc-4f6e-922d-cd872d6e3dd6",
       "_model_module_version": "0.2.1",
       "_view_module_version": "0.2.1",
       "icon": "file",
       "name": "3.2 Exchanges Analysis.ipynb"
      }
     },
     "40a0b41faff349b8bb76759b9409e6cb": {
      "model_module": "ipytree",
      "model_module_version": "0.2.1",
      "model_name": "NodeModel",
      "state": {
       "_id": "cd812f24-84fa-4f4d-b41a-c2cbf0676464",
       "_model_module_version": "0.2.1",
       "_view_module_version": "0.2.1",
       "icon": "plus",
       "icon_style": "success",
       "name": "File2"
      }
     },
     "40a2c27c192a41578ea5dd16818bf810": {
      "model_module": "ipytree",
      "model_module_version": "0.2.1",
      "model_name": "NodeModel",
      "state": {
       "_id": "94192d09-8ada-4e0e-a0a6-335630b1431b",
       "_model_module_version": "0.2.1",
       "_view_module_version": "0.2.1",
       "icon": "file",
       "name": "requirements.txt"
      }
     },
     "40b1b63a9fdb40a6945c641706297b51": {
      "model_module": "ipytree",
      "model_module_version": "0.2.1",
      "model_name": "NodeModel",
      "state": {
       "_id": "4d4a5ddf-d695-4888-8fbd-780d930ac69e",
       "_model_module_version": "0.2.1",
       "_view_module_version": "0.2.1",
       "icon": "file",
       "name": "utils.py"
      }
     },
     "4117466a9b0447d3977d0b0e02a90b0f": {
      "model_module": "ipytree",
      "model_module_version": "0.2.1",
      "model_name": "NodeModel",
      "state": {
       "_id": "76cc28f2-ced3-4717-9d8a-d9521f0c36ff",
       "_model_module_version": "0.2.1",
       "_view_module_version": "0.2.1",
       "name": "Capital",
       "nodes": [
        "IPY_MODEL_74dad4f4138a40babbdc06f8e61187bb"
       ],
       "opened": false
      }
     },
     "4137c6e186024b2688ffbb947e9dcd94": {
      "model_module": "ipytree",
      "model_module_version": "0.2.1",
      "model_name": "NodeModel",
      "state": {
       "_id": "c117573a-b019-420a-97bd-1fedffdc03c8",
       "_model_module_version": "0.2.1",
       "_view_module_version": "0.2.1",
       "icon": "file",
       "name": "lin_reg_distribution_plot.py"
      }
     },
     "41410eeb3c344488a0f81a28f06143f9": {
      "model_module": "ipytree",
      "model_module_version": "0.2.1",
      "model_name": "NodeModel",
      "state": {
       "_id": "f6b8b808-1acd-491e-8fd3-5a5bc8d62154",
       "_model_module_version": "0.2.1",
       "_view_module_version": "0.2.1",
       "icon": "file",
       "name": "tick_loaders.py"
      }
     },
     "41473a0bb0944fa38d20572f7af26cb4": {
      "model_module": "ipytree",
      "model_module_version": "0.2.1",
      "model_name": "NodeModel",
      "state": {
       "_id": "be7c4d4b-8295-4361-bdbb-fb340fa5cf09",
       "_model_module_version": "0.2.1",
       "_view_module_version": "0.2.1",
       "name": "utils",
       "nodes": [
        "IPY_MODEL_77974f8a85144f1b96df6806cabda09e",
        "IPY_MODEL_053eb3b2f1514bbabe76d92293c38cf0",
        "IPY_MODEL_f886b2301aa64f2e94e834ac22b0481b",
        "IPY_MODEL_accafacc967945578601ef5fe42dc8fa",
        "IPY_MODEL_83e54e4a5af14e56b2d701d01a8ec1e1",
        "IPY_MODEL_8f6afbb08ac3467b8a8c7b08ad6a2b73",
        "IPY_MODEL_6a5f4e998ba240ab88bb1fb4427829a6",
        "IPY_MODEL_7137677f1b8d4f9f88ef6382638a6c3e",
        "IPY_MODEL_a5487cc3a1f94e5983e3b7edd296fa8a",
        "IPY_MODEL_73cf8fe42717409db5cd02ea829fb883",
        "IPY_MODEL_f2ae363c08dd4f52ab9007fe422fcd03",
        "IPY_MODEL_fbdf943d77ff48e6886a4e30a559368e",
        "IPY_MODEL_b0faf7120ebb49408386cf6d7e42ef56",
        "IPY_MODEL_cc23e2f2189e40b3a143b25c00ca8a6e"
       ],
       "opened": false
      }
     },
     "416d50c796c94e89a5a915070c09822e": {
      "model_module": "ipytree",
      "model_module_version": "0.2.1",
      "model_name": "NodeModel",
      "state": {
       "_id": "33b1ce99-72bb-432b-bcbb-ad3c9abec1d9",
       "_model_module_version": "0.2.1",
       "_view_module_version": "0.2.1",
       "icon": "file",
       "name": "3. Elastic Volume Weighted ATR.ipynb"
      }
     },
     "41c556c362ac4a90804016e36922e938": {
      "model_module": "ipytree",
      "model_module_version": "0.2.1",
      "model_name": "NodeModel",
      "state": {
       "_id": "9bf2aade-ec7d-4459-9648-bee146df3e6c",
       "_model_module_version": "0.2.1",
       "_view_module_version": "0.2.1",
       "name": "chapter-trading-strategies-intraday-ml",
       "nodes": [
        "IPY_MODEL_6034d144b9bc449f8aed24daeb9a6a02",
        "IPY_MODEL_06111b2423a64ad2806b9fa479528971",
        "IPY_MODEL_6ecd73ec524b4f77ae5c790af3e5fad4"
       ],
       "opened": false
      }
     },
     "41f5d076767e401db9852a0b120e8579": {
      "model_module": "ipytree",
      "model_module_version": "0.2.1",
      "model_name": "NodeModel",
      "state": {
       "_id": "ba010f9a-debd-4884-a2ac-f1f2b706754b",
       "_model_module_version": "0.2.1",
       "_view_module_version": "0.2.1",
       "icon": "file",
       "name": "garch_models.R"
      }
     },
     "41f6da3432894d03ada286813a5a9326": {
      "model_module": "ipytree",
      "model_module_version": "0.2.1",
      "model_name": "NodeModel",
      "state": {
       "_id": "2feecde5-4908-44fa-a7e6-ac8921213306",
       "_model_module_version": "0.2.1",
       "_view_module_version": "0.2.1",
       "icon": "file",
       "name": "Algoseek Tick Data Parser.ipynb"
      }
     },
     "41f99c625ac64f7a83c988d4f994d2b6": {
      "model_module": "ipytree",
      "model_module_version": "0.2.1",
      "model_name": "NodeModel",
      "state": {
       "_id": "7b4dd2ac-5bc3-4101-9e8b-c0f113470fd9",
       "_model_module_version": "0.2.1",
       "_view_module_version": "0.2.1",
       "icon": "file",
       "name": "3.1 FWA and pullbacks detector.ipynb"
      }
     },
     "4221837879664211abcda6bc77a27e8a": {
      "model_module": "ipytree",
      "model_module_version": "0.2.1",
      "model_name": "NodeModel",
      "state": {
       "_id": "255cc9d1-36a3-4b79-98d3-eae942a5f561",
       "_model_module_version": "0.2.1",
       "_view_module_version": "0.2.1",
       "icon": "file",
       "name": "ma_models.R"
      }
     },
     "4228da8065f540ed95f7f3d2cb7d441c": {
      "model_module": "ipytree",
      "model_module_version": "0.2.1",
      "model_name": "NodeModel",
      "state": {
       "_id": "bac1a652-ca0b-45e1-8f2e-65a00dce8732",
       "_model_module_version": "0.2.1",
       "_view_module_version": "0.2.1",
       "name": "ARMA",
       "nodes": [
        "IPY_MODEL_a1cb59041e3d47a8b7d05dc06ba6a31e"
       ],
       "opened": false
      }
     },
     "427cfc9d2e194af59377406c060a0da2": {
      "model_module": "@jupyter-widgets/base",
      "model_module_version": "1.2.0",
      "model_name": "LayoutModel",
      "state": {}
     },
     "433ecc24a922428aaabdd5fadc25512d": {
      "model_module": "ipytree",
      "model_module_version": "0.2.1",
      "model_name": "NodeModel",
      "state": {
       "_id": "ee2a4c74-19c1-4ae5-8a13-60c237824818",
       "_model_module_version": "0.2.1",
       "_view_module_version": "0.2.1",
       "icon": "file",
       "name": "3. New Data Explore.ipynb"
      }
     },
     "4369e4994ccb4af8a7a997d836df0eeb": {
      "model_module": "ipytree",
      "model_module_version": "0.2.1",
      "model_name": "NodeModel",
      "state": {
       "_id": "1aadd73a-d3bc-49fb-93f3-b316bdb43d46",
       "_model_module_version": "0.2.1",
       "_view_module_version": "0.2.1",
       "icon": "file",
       "name": "2. Big trades impact.ipynb"
      }
     },
     "43e10994e646455cb3bbc0bbdc01114c": {
      "model_module": "ipytree",
      "model_module_version": "0.2.1",
      "model_name": "NodeModel",
      "state": {
       "_id": "f3a447c1-6128-4d3d-920e-168534c3da53",
       "_model_module_version": "0.2.1",
       "_view_module_version": "0.2.1",
       "icon": "file",
       "name": "Price Percentiles Momentum.ipynb"
      }
     },
     "43f0beb51f5f47bcaa81a8ae4bc31724": {
      "model_module": "ipytree",
      "model_module_version": "0.2.1",
      "model_name": "NodeModel",
      "state": {
       "_id": "ec952170-8bfe-48d2-8140-3ff390350c48",
       "_model_module_version": "0.2.1",
       "_view_module_version": "0.2.1",
       "icon": "file",
       "name": "levels_detector.py"
      }
     },
     "440b63e241624bcb970a4b37b1ec4597": {
      "model_module": "ipytree",
      "model_module_version": "0.2.1",
      "model_name": "NodeModel",
      "state": {
       "_id": "fedae55e-9be9-460a-b7f7-8e2e482dae7c",
       "_model_module_version": "0.2.1",
       "_view_module_version": "0.2.1",
       "icon": "file",
       "name": "arima_models.R"
      }
     },
     "4426cd01fd00487b91c8ca59d7838818": {
      "model_module": "ipytree",
      "model_module_version": "0.2.1",
      "model_name": "NodeModel",
      "state": {
       "_id": "f4b370b4-664f-46c8-852e-e1b23285b142",
       "_model_module_version": "0.2.1",
       "_view_module_version": "0.2.1",
       "icon": "file",
       "name": "Bitmex Contract Sizes.ipynb"
      }
     },
     "4439f0a008084c5994d26935865d57fa": {
      "model_module": "ipytree",
      "model_module_version": "0.2.1",
      "model_name": "NodeModel",
      "state": {
       "_id": "2a082ad7-bc3a-4de1-a0b8-9788a75f5e48",
       "_model_module_version": "0.2.1",
       "_view_module_version": "0.2.1",
       "icon": "file",
       "name": "14. Helpers Functions.ipynb"
      }
     },
     "44623a06d35542a5b364fee32d601465": {
      "model_module": "ipytree",
      "model_module_version": "0.2.1",
      "model_name": "NodeModel",
      "state": {
       "_id": "b7815ff8-ca38-451c-868d-d53c64c68123",
       "_model_module_version": "0.2.1",
       "_view_module_version": "0.2.1",
       "icon": "file",
       "name": "LevelsIndicatorGenerator.ipynb"
      }
     },
     "448e210dd8464d2f9ed4b7b749067335": {
      "model_module": "ipytree",
      "model_module_version": "0.2.1",
      "model_name": "NodeModel",
      "state": {
       "_id": "65c21899-4757-405c-a61f-29970b3b23d8",
       "_model_module_version": "0.2.1",
       "_view_module_version": "0.2.1",
       "icon": "file",
       "name": "Progressive_original.py"
      }
     },
     "44ecdb80a53141fea9b2df57aab53aab": {
      "model_module": "ipytree",
      "model_module_version": "0.2.1",
      "model_name": "NodeModel",
      "state": {
       "_id": "656b107e-e0d6-4bc6-b541-e7a366323c34",
       "_model_module_version": "0.2.1",
       "_view_module_version": "0.2.1",
       "icon": "file",
       "name": "setup.py"
      }
     },
     "4520bf9dd53341ecab8749d013d52724": {
      "model_module": "ipytree",
      "model_module_version": "0.2.1",
      "model_name": "NodeModel",
      "state": {
       "_id": "bfd75e14-9c33-4d2f-b5a4-59ce5b3690d3",
       "_model_module_version": "0.2.1",
       "_view_module_version": "0.2.1",
       "icon": "file",
       "name": "smart_trade_broker.zip"
      }
     },
     "4547080819fb42568323e1bc9a461c70": {
      "model_module": "ipytree",
      "model_module_version": "0.2.1",
      "model_name": "NodeModel",
      "state": {
       "_id": "936dc40b-71a4-4b30-b377-49c4c46fb187",
       "_model_module_version": "0.2.1",
       "_view_module_version": "0.2.1",
       "icon": "file",
       "name": "FIX44.smart.trade.xml"
      }
     },
     "456a85d8d10447d594db771ac1482430": {
      "model_module": "ipytree",
      "model_module_version": "0.2.1",
      "model_name": "NodeModel",
      "state": {
       "_id": "738b7b38-7a6d-489a-8a1d-159c30bb9323",
       "_model_module_version": "0.2.1",
       "_view_module_version": "0.2.1",
       "icon": "file",
       "name": "smart_trade_broker_live_market_data.zip"
      }
     },
     "45a20d206ccb4710938d94fb2315970c": {
      "model_module": "ipytree",
      "model_module_version": "0.2.1",
      "model_name": "NodeModel",
      "state": {
       "_id": "7da80421-bf3e-4344-be6f-0ebf8badb363",
       "_model_module_version": "0.2.1",
       "_view_module_version": "0.2.1",
       "icon": "file",
       "name": "README.md"
      }
     },
     "45bcc723e0364a60a94eb444596dd1bf": {
      "model_module": "ipytree",
      "model_module_version": "0.2.1",
      "model_name": "NodeModel",
      "state": {
       "_id": "c18e09b6-3e88-4237-8e23-99d87c0c7fef",
       "_model_module_version": "0.2.1",
       "_view_module_version": "0.2.1",
       "icon": "plus",
       "icon_style": "success",
       "name": "File2"
      }
     },
     "45d919e7c38d40f9b25d690aa97986ad": {
      "model_module": "ipytree",
      "model_module_version": "0.2.1",
      "model_name": "NodeModel",
      "state": {
       "_id": "43dd169d-46b0-4d05-9d83-e6cc55bae4a4",
       "_model_module_version": "0.2.1",
       "_view_module_version": "0.2.1",
       "icon": "file",
       "name": "Simulation Results Processing.pdf"
      }
     },
     "462966532f1445b9a4426bf739791109": {
      "model_module": "ipytree",
      "model_module_version": "0.2.1",
      "model_name": "NodeModel",
      "state": {
       "_id": "1663f364-11a7-40df-92da-d3a559c8fa76",
       "_model_module_version": "0.2.1",
       "_view_module_version": "0.2.1",
       "icon": "file",
       "name": "core.py"
      }
     },
     "465b55c07a6e4ddd9565be879a0283d3": {
      "model_module": "@jupyter-widgets/controls",
      "model_module_version": "1.5.0",
      "model_name": "HBoxModel",
      "state": {
       "children": [
        "IPY_MODEL_6d9d54de49af4a378481dc5cb73e985b"
       ],
       "layout": "IPY_MODEL_bcd8e1d9b9454378860cf8a643e80374"
      }
     },
     "466c9d406335428591703b059e564a80": {
      "model_module": "ipytree",
      "model_module_version": "0.2.1",
      "model_name": "NodeModel",
      "state": {
       "_id": "12b86894-8787-48d2-be32-812f6d9e7138",
       "_model_module_version": "0.2.1",
       "_view_module_version": "0.2.1",
       "icon": "file",
       "name": "1. Simulations Analysis.ipynb"
      }
     },
     "468f990e35cd491d87c7f026b5f66150": {
      "model_module": "ipytree",
      "model_module_version": "0.2.1",
      "model_name": "NodeModel",
      "state": {
       "_id": "2e45488e-f724-4c81-8288-3cbdfe846ac3",
       "_model_module_version": "0.2.1",
       "_view_module_version": "0.2.1",
       "icon": "file",
       "name": "1. Initial Model.ipynb"
      }
     },
     "46996f9ee33948b2aaf8085a52d9336f": {
      "model_module": "ipytree",
      "model_module_version": "0.2.1",
      "model_name": "NodeModel",
      "state": {
       "_id": "09e3c0b4-5544-4473-a510-de91bd226eeb",
       "_model_module_version": "0.2.1",
       "_view_module_version": "0.2.1",
       "icon": "file",
       "name": "1. Triplets.ipynb"
      }
     },
     "46b58315d6a948a2807157b811dc6255": {
      "model_module": "ipytree",
      "model_module_version": "0.2.1",
      "model_name": "NodeModel",
      "state": {
       "_id": "c93b9534-fc20-49d5-91a1-fd11d98f6342",
       "_model_module_version": "0.2.1",
       "_view_module_version": "0.2.1",
       "icon": "file",
       "name": "HL_OLS_model.ipynb"
      }
     },
     "4722128adbd44e9fa0688ec4f357cd41": {
      "model_module": "ipytree",
      "model_module_version": "0.2.1",
      "model_name": "NodeModel",
      "state": {
       "_id": "cbffe82d-0e79-41b4-bea2-1af39ee8e64f",
       "_model_module_version": "0.2.1",
       "_view_module_version": "0.2.1",
       "icon": "file",
       "name": "History.csv"
      }
     },
     "47aa4e7fc6324ff89babd4bb393779b7": {
      "model_module": "ipytree",
      "model_module_version": "0.2.1",
      "model_name": "NodeModel",
      "state": {
       "_id": "f94cdee8-582a-4b60-82cb-9173db6a7027",
       "_model_module_version": "0.2.1",
       "_view_module_version": "0.2.1",
       "icon": "file",
       "name": "1.2 Touch model optimizations.ipynb"
      }
     },
     "4842fe9f8a9a42c2a303678a1521b218": {
      "model_module": "ipytree",
      "model_module_version": "0.2.1",
      "model_name": "NodeModel",
      "state": {
       "_id": "087b155d-da4a-4a4a-96e5-66bdde0860bb",
       "_model_module_version": "0.2.1",
       "_view_module_version": "0.2.1",
       "icon": "file",
       "name": "README.md"
      }
     },
     "484422906ce64c5f81d968c3bd455767": {
      "model_module": "ipytree",
      "model_module_version": "0.2.1",
      "model_name": "NodeModel",
      "state": {
       "_id": "b861f378-78f8-4ef6-be9e-ce82540aa39f",
       "_model_module_version": "0.2.1",
       "_view_module_version": "0.2.1",
       "name": "HMM",
       "nodes": [
        "IPY_MODEL_acbae6a511f7490a8fa77906c7f3764a",
        "IPY_MODEL_c1df584b9e30498b8de91e559f52d346"
       ],
       "opened": false
      }
     },
     "48592421c9524475b5700a5796214488": {
      "model_module": "ipytree",
      "model_module_version": "0.2.1",
      "model_name": "NodeModel",
      "state": {
       "_id": "d11da55a-b504-418b-97a3-ba4405cbc446",
       "_model_module_version": "0.2.1",
       "_view_module_version": "0.2.1",
       "icon": "file",
       "name": "base.py"
      }
     },
     "489a7e95c3294131bb690c296891591a": {
      "model_module": "ipytree",
      "model_module_version": "0.2.1",
      "model_name": "NodeModel",
      "state": {
       "_id": "800e064e-35cb-42a9-81f7-30790ac3fe83",
       "_model_module_version": "0.2.1",
       "_view_module_version": "0.2.1",
       "icon": "file",
       "name": "publication.tpl"
      }
     },
     "48b325558aff4f88a9ee50c653be0a56": {
      "model_module": "ipytree",
      "model_module_version": "0.2.1",
      "model_name": "NodeModel",
      "state": {
       "_id": "e8bb4b94-61bf-46f8-96e8-f2ddb99c4671",
       "_model_module_version": "0.2.1",
       "_view_module_version": "0.2.1",
       "icon": "plus",
       "icon_style": "success",
       "name": "File2"
      }
     },
     "48ede1a5317442a1a4ad667ee35ada3d": {
      "model_module": "ipytree",
      "model_module_version": "0.2.1",
      "model_name": "NodeModel",
      "state": {
       "_id": "a1a97b7c-348e-4960-8e22-59a2b81bd347",
       "_model_module_version": "0.2.1",
       "_view_module_version": "0.2.1",
       "icon": "file",
       "name": "__main__.py"
      }
     },
     "48fa332394ad41c68cf8411f8a502f32": {
      "model_module": "ipytree",
      "model_module_version": "0.2.1",
      "model_name": "NodeModel",
      "state": {
       "_id": "88a811d1-768c-4e34-b5c5-b734227d0baf",
       "_model_module_version": "0.2.1",
       "_view_module_version": "0.2.1",
       "icon": "file",
       "name": "utils.cpython-36.pyc"
      }
     },
     "4931830b83c7461fbcc91d7f7f139336": {
      "model_module": "@jupyter-widgets/base",
      "model_module_version": "1.2.0",
      "model_name": "LayoutModel",
      "state": {}
     },
     "49360c6ba02845e3b1a92272e09bd035": {
      "model_module": "ipytree",
      "model_module_version": "0.2.1",
      "model_name": "NodeModel",
      "state": {
       "_id": "ecd5bc3c-1991-4a91-a37e-7835f7171682",
       "_model_module_version": "0.2.1",
       "_view_module_version": "0.2.1",
       "icon": "file",
       "name": "2. Pivot Points Breakout.ipynb"
      }
     },
     "496cb85af83c41bdbb0969c181355ccd": {
      "model_module": "ipytree",
      "model_module_version": "0.2.1",
      "model_name": "NodeModel",
      "state": {
       "_id": "d9ff2d1e-02ff-4158-80e5-1cf83eaa1b51",
       "_model_module_version": "0.2.1",
       "_view_module_version": "0.2.1",
       "icon": "file",
       "name": "MinimalQuantIntroductionPython.ipynb"
      }
     },
     "499a12b0dfcc49d4a69595d7caaa01fe": {
      "model_module": "ipytree",
      "model_module_version": "0.2.1",
      "model_name": "NodeModel",
      "state": {
       "_id": "6d3fdfcb-7f3a-415e-812a-184d746e132e",
       "_model_module_version": "0.2.1",
       "_view_module_version": "0.2.1",
       "icon": "file",
       "name": "4. Reversion Points Breakouts.ipynb"
      }
     },
     "49ba3e0f445d4ee5b85580ece754efaa": {
      "model_module": "ipytree",
      "model_module_version": "0.2.1",
      "model_name": "NodeModel",
      "state": {
       "_id": "19cecac1-938f-45a6-bd50-3a9542f01d41",
       "_model_module_version": "0.2.1",
       "_view_module_version": "0.2.1",
       "name": "booster",
       "nodes": [
        "IPY_MODEL_4842fe9f8a9a42c2a303678a1521b218",
        "IPY_MODEL_50bba923c83748ae95fcb37f2e5dbedc",
        "IPY_MODEL_7b34402e861a4c3994144b4c6ac2ce58",
        "IPY_MODEL_8bac691b848740159508a6dc2c966b45"
       ],
       "opened": false
      }
     },
     "49ecc1f33f684684a98a0cd298bc365c": {
      "model_module": "ipytree",
      "model_module_version": "0.2.1",
      "model_name": "NodeModel",
      "state": {
       "_id": "7b087034-0858-4682-9c01-1722132d18e1",
       "_model_module_version": "0.2.1",
       "_view_module_version": "0.2.1",
       "icon": "file",
       "name": "helpers.cpython-36.pyc"
      }
     },
     "4a14b1cfb8254efdacd48289801b6aec": {
      "model_module": "ipytree",
      "model_module_version": "0.2.1",
      "model_name": "NodeModel",
      "state": {
       "_id": "5ddf1b72-0659-406f-88fa-923c41b91918",
       "_model_module_version": "0.2.1",
       "_view_module_version": "0.2.1",
       "icon": "file",
       "name": "ALTS15.ipynb"
      }
     },
     "4a5b5320de424bc7a48b35c729ae5c01": {
      "model_module": "ipytree",
      "model_module_version": "0.2.1",
      "model_name": "NodeModel",
      "state": {
       "_id": "ce6dc460-aa77-4b5d-8a34-9b5e392466ab",
       "_model_module_version": "0.2.1",
       "_view_module_version": "0.2.1",
       "icon": "file",
       "name": "__init__.cpython-36.pyc"
      }
     },
     "4a9851a59607468da66907c68b7a83c9": {
      "model_module": "ipytree",
      "model_module_version": "0.2.1",
      "model_name": "TreeModel",
      "state": {
       "_model_module_version": "0.2.1",
       "_view_module_version": "0.2.1",
       "layout": "IPY_MODEL_27d3845a257f430b9b9e8de87b10c07c",
       "nodes": [
        "IPY_MODEL_78614cabc11345a8945ae4503f716e88",
        "IPY_MODEL_bb95792e0e4b46f3a94a1c91793512ef",
        "IPY_MODEL_28e46fea06204bed8007981b8d99c810",
        "IPY_MODEL_62088be13b6f4b4f92dbdd58fb91dbf8"
       ],
       "selected_nodes": [
        "IPY_MODEL_67efe08a2bf24a61915a1bc18db77471"
       ]
      }
     },
     "4aa960788d084c428b0fcd9f4d779016": {
      "model_module": "ipytree",
      "model_module_version": "0.2.1",
      "model_name": "NodeModel",
      "state": {
       "_id": "c25a39ef-8b01-4f05-8a17-ee2d8fd5027d",
       "_model_module_version": "0.2.1",
       "_view_module_version": "0.2.1",
       "icon": "archive",
       "icon_style": "warning",
       "name": "root"
      }
     },
     "4ac9ff66353644ce87e717f65631535f": {
      "model_module": "ipytree",
      "model_module_version": "0.2.1",
      "model_name": "NodeModel",
      "state": {
       "_id": "cf0d612b-645a-4c45-bde8-495dc3f97add",
       "_model_module_version": "0.2.1",
       "_view_module_version": "0.2.1",
       "icon": "file",
       "name": "12. New Wave Model Exit Optimizations.ipynb"
      }
     },
     "4afe2b3a1ce545c693ad8f10470f7d49": {
      "model_module": "@jupyter-widgets/base",
      "model_module_version": "1.2.0",
      "model_name": "LayoutModel",
      "state": {
       "width": "310px"
      }
     },
     "4b58d6f852ae478bbc86a50f350e5d2c": {
      "model_module": "ipytree",
      "model_module_version": "0.2.1",
      "model_name": "NodeModel",
      "state": {
       "_id": "a06b2dba-029d-44ce-8578-84f454d5df49",
       "_model_module_version": "0.2.1",
       "_view_module_version": "0.2.1",
       "icon": "file",
       "name": "dukas_test_duplicates.ipynb"
      }
     },
     "4b927da87b5645a38565742b82756101": {
      "model_module": "ipytree",
      "model_module_version": "0.2.1",
      "model_name": "NodeModel",
      "state": {
       "_id": "6e19ddc8-6469-4145-9a2f-9fdf2d2a3387",
       "_model_module_version": "0.2.1",
       "_view_module_version": "0.2.1",
       "icon": "file",
       "name": "2. Bars Classification.ipynb"
      }
     },
     "4bb9b38950f645b7bba62d0fbfc0f39a": {
      "model_module": "ipytree",
      "model_module_version": "0.2.1",
      "model_name": "NodeModel",
      "state": {
       "_id": "b9a7731f-561c-4eed-a5ab-681ed1da251f",
       "_model_module_version": "0.2.1",
       "_view_module_version": "0.2.1",
       "name": "bitmex",
       "nodes": [
        "IPY_MODEL_37e8630a7ecf4584a4bb4e9103832969",
        "IPY_MODEL_2f9c4c8650df4dadafd46642675f1d42",
        "IPY_MODEL_34f2fb212aca41f99902ada1ad3fb3bd"
       ],
       "opened": false
      }
     },
     "4bdd134351d4408382b24eb312678494": {
      "model_module": "ipytree",
      "model_module_version": "0.2.1",
      "model_name": "NodeModel",
      "state": {
       "_id": "dc12d876-bee0-4ae5-96ca-c74ca5616e29",
       "_model_module_version": "0.2.1",
       "_view_module_version": "0.2.1",
       "icon": "file",
       "name": "UVMIE_signals_online.ipynb"
      }
     },
     "4be662a509344ffba1cc010eac6c3396": {
      "model_module": "ipytree",
      "model_module_version": "0.2.1",
      "model_name": "NodeModel",
      "state": {
       "_id": "d003550b-e251-4db7-acd1-08ca61fdc131",
       "_model_module_version": "0.2.1",
       "_view_module_version": "0.2.1",
       "icon": "file",
       "name": "management.cpython-36.pyc"
      }
     },
     "4c09819112104ab4b28c20135f292048": {
      "model_module": "ipytree",
      "model_module_version": "0.2.1",
      "model_name": "NodeModel",
      "state": {
       "_id": "66ba7f50-66d9-4d0f-986e-7227016fc756",
       "_model_module_version": "0.2.1",
       "_view_module_version": "0.2.1",
       "name": "range_breakout",
       "nodes": [
        "IPY_MODEL_06467122363d4ebcac7635145d842d09"
       ],
       "opened": false
      }
     },
     "4c7f6fc011e34b6f8fe0da2ab278d422": {
      "model_module": "ipytree",
      "model_module_version": "0.2.1",
      "model_name": "NodeModel",
      "state": {
       "_id": "e5d0dde4-ab25-493f-8b7e-68da4381238d",
       "_model_module_version": "0.2.1",
       "_view_module_version": "0.2.1",
       "icon": "file",
       "name": "bitmex_api.py"
      }
     },
     "4c839cd448c4471d9fb9ee2aba6bd8b0": {
      "model_module": "ipytree",
      "model_module_version": "0.2.1",
      "model_name": "NodeModel",
      "state": {
       "_id": "8af848a1-abb1-4039-95ab-1dc9a55885f1",
       "_model_module_version": "0.2.1",
       "_view_module_version": "0.2.1",
       "icon": "file",
       "name": "Funding_XBTUSDT.csv"
      }
     },
     "4d315ff3c0d140629197f771848b9857": {
      "model_module": "ipytree",
      "model_module_version": "0.2.1",
      "model_name": "NodeModel",
      "state": {
       "_id": "e0902e72-8a0b-4922-bd98-2ae46b485d85",
       "_model_module_version": "0.2.1",
       "_view_module_version": "0.2.1",
       "icon": "file",
       "name": "bayes-binomial-mcmc.py"
      }
     },
     "4d5640053000452ebcfdb2a2656566aa": {
      "model_module": "ipytree",
      "model_module_version": "0.2.1",
      "model_name": "NodeModel",
      "state": {
       "_id": "7f729f55-cff4-442e-bfdb-57a866cc99c3",
       "_model_module_version": "0.2.1",
       "_view_module_version": "0.2.1",
       "icon": "file",
       "name": "1. Data Storages.ipynb"
      }
     },
     "4d6df4d5e7e74ed3881475bf8662d5e2": {
      "model_module": "ipytree",
      "model_module_version": "0.2.1",
      "model_name": "NodeModel",
      "state": {
       "_id": "bedd71ef-54e9-4ad2-95e2-f98a0a043218",
       "_model_module_version": "0.2.1",
       "_view_module_version": "0.2.1",
       "name": "Demo_files",
       "nodes": [
        "IPY_MODEL_744289c62f1543efa1bf16ad8be72164",
        "IPY_MODEL_19636fba48ff4158b82bfedc6fe95109",
        "IPY_MODEL_2b4b573cf7a0420db88a0e1dd84571ee",
        "IPY_MODEL_f408cabeee394d02a9bc913f63f08640",
        "IPY_MODEL_3a2bd1c9883442dfabca70020a709100"
       ],
       "opened": false
      }
     },
     "4d7bdb2c943f43cd8d840ff5613a1ad2": {
      "model_module": "ipytree",
      "model_module_version": "0.2.1",
      "model_name": "NodeModel",
      "state": {
       "_id": "f3ce49f3-7c77-44df-8448-1f681f07b02a",
       "_model_module_version": "0.2.1",
       "_view_module_version": "0.2.1",
       "icon": "file",
       "name": "RollingWindowStreamIndicator Problem.ipynb"
      }
     },
     "4dbcbd5a08e74d6c952f1712af4e719b": {
      "model_module": "ipytree",
      "model_module_version": "0.2.1",
      "model_name": "NodeModel",
      "state": {
       "_id": "2d051e2c-45e7-4422-8d09-f3908f1fd8b0",
       "_model_module_version": "0.2.1",
       "_view_module_version": "0.2.1",
       "icon": "file",
       "name": "hmm.R"
      }
     },
     "4dc377c351a04f2582da9181f7ca6c2d": {
      "model_module": "ipytree",
      "model_module_version": "0.2.1",
      "model_name": "NodeModel",
      "state": {
       "_id": "41cb4b44-aa13-4eba-b8ff-461810ff8f32",
       "_model_module_version": "0.2.1",
       "_view_module_version": "0.2.1",
       "icon": "file",
       "name": "SimulatorImplNotes.ipynb"
      }
     },
     "4dfdc02339094b3684950da7870b090e": {
      "model_module": "ipytree",
      "model_module_version": "0.2.1",
      "model_name": "NodeModel",
      "state": {
       "_id": "a12855a3-a2ef-45c1-b045-6ae12d78c21d",
       "_model_module_version": "0.2.1",
       "_view_module_version": "0.2.1",
       "icon": "file",
       "name": "TimeWarp.pdf"
      }
     },
     "4dfdd052718e48fba494405ecbf93e46": {
      "model_module": "@jupyter-widgets/controls",
      "model_module_version": "1.5.0",
      "model_name": "ButtonStyleModel",
      "state": {}
     },
     "4e4d7196a6d04a3ea7863f2e19ac9bf8": {
      "model_module": "ipytree",
      "model_module_version": "0.2.1",
      "model_name": "NodeModel",
      "state": {
       "_id": "7a751788-ffc2-4609-bae9-c654667196be",
       "_model_module_version": "0.2.1",
       "_view_module_version": "0.2.1",
       "icon": "file",
       "name": "Adaptive_EMA.ipynb"
      }
     },
     "4e7615befe6740e4ab8de80d3b7ef8aa": {
      "model_module": "ipytree",
      "model_module_version": "0.2.1",
      "model_name": "NodeModel",
      "state": {
       "_id": "134476ac-6e67-4f02-83bf-71873095fb38",
       "_model_module_version": "0.2.1",
       "_view_module_version": "0.2.1",
       "icon": "file",
       "name": "1.2 Smart PC selection test.ipynb"
      }
     },
     "4e797f4b0d2e4b19b6bdf440d76ddeea": {
      "model_module": "ipytree",
      "model_module_version": "0.2.1",
      "model_name": "NodeModel",
      "state": {
       "_id": "7b253f45-ae88-4933-872e-8fb7a8c13941",
       "_model_module_version": "0.2.1",
       "_view_module_version": "0.2.1",
       "icon": "file",
       "name": "FR_IR_1954_2017.csv"
      }
     },
     "4e7f4335c4964c108b88f70cf6a46d83": {
      "model_module": "ipytree",
      "model_module_version": "0.2.1",
      "model_name": "NodeModel",
      "state": {
       "_id": "21621925-0792-4588-a241-6cb6314e7a8e",
       "_model_module_version": "0.2.1",
       "_view_module_version": "0.2.1",
       "name": "nucleon",
       "nodes": [
        "IPY_MODEL_e97d69df808c4762b5fad931bb1c2c80",
        "IPY_MODEL_ee832a0ec68d42e79eb56cc5eac61b22",
        "IPY_MODEL_4439f0a008084c5994d26935865d57fa",
        "IPY_MODEL_8674d71e2b4b44f8b34f845ea147fee2",
        "IPY_MODEL_8b4b9804a22243709f0a2d9147b0eac3",
        "IPY_MODEL_afee576e22aa454c862e8b1371d3fe7f",
        "IPY_MODEL_17d184825b0f4fd1a71a748225dff856",
        "IPY_MODEL_2fdcbc40f27c4b14b6b4901c5415dd19",
        "IPY_MODEL_736c64895b654c798c3f52d7bd911872",
        "IPY_MODEL_ae6cfd2e18ba4cc184be2b30f3a69b27",
        "IPY_MODEL_9a91128d29254027bc727754ba794bd0",
        "IPY_MODEL_35772695d1fc4050bd0286072724d998",
        "IPY_MODEL_fab1e6ed11f74adeaed7cc717da575e1",
        "IPY_MODEL_2ea14cab71e3499c8d8dd76362725b79",
        "IPY_MODEL_99e29acb85434ead8c8c106a8beaa590"
       ],
       "opened": false
      }
     },
     "4e8c0fa526df4b63acd1311deb766688": {
      "model_module": "ipytree",
      "model_module_version": "0.2.1",
      "model_name": "NodeModel",
      "state": {
       "_id": "c8235208-c6c8-42e8-aab8-ebef0aa90ff0",
       "_model_module_version": "0.2.1",
       "_view_module_version": "0.2.1",
       "name": "chapter-trading-strategies-regime-detection-hmm-qstrader",
       "nodes": [
        "IPY_MODEL_30bc59234d574ac2b437a0d343286d08",
        "IPY_MODEL_50627e0f48f14c179a4830ab2868e38a",
        "IPY_MODEL_e55cc3e2fc464d74879543f6b12585b5",
        "IPY_MODEL_6dea26fce8c84c7295c1970d94de2557"
       ],
       "opened": false
      }
     },
     "4e9c6558a98f41be8681974f299b324a": {
      "model_module": "ipytree",
      "model_module_version": "0.2.1",
      "model_name": "NodeModel",
      "state": {
       "_id": "ba5bd383-fdbb-4d20-b845-194f50303fcc",
       "_model_module_version": "0.2.1",
       "_view_module_version": "0.2.1",
       "icon": "file",
       "name": "Demo.ipynb"
      }
     },
     "4ee67af1b6f146fca16459a2aef21e61": {
      "model_module": "ipytree",
      "model_module_version": "0.2.1",
      "model_name": "NodeModel",
      "state": {
       "_id": "3875b008-f190-46f1-8b4b-db1854173400",
       "_model_module_version": "0.2.1",
       "_view_module_version": "0.2.1",
       "icon": "file",
       "name": "Hull, J. - Options, Futures, and Other Derivatives - 2012 - 8th Ed.pdf"
      }
     },
     "4f3c7136686d4a10bbf66200fdc47d34": {
      "model_module": "ipytree",
      "model_module_version": "0.2.1",
      "model_name": "NodeModel",
      "state": {
       "_id": "52ecce51-efce-4b00-ae19-b8102a11326f",
       "_model_module_version": "0.2.1",
       "_view_module_version": "0.2.1",
       "icon": "file",
       "name": "QuantCongressUSA2011AlgoTradingLAST.pdf"
      }
     },
     "4f643049116b434db3ad6301b91d3a01": {
      "model_module": "ipytree",
      "model_module_version": "0.2.1",
      "model_name": "NodeModel",
      "state": {
       "_id": "1f167e30-8d5d-4b3d-9e4a-018f4552d9bf",
       "_model_module_version": "0.2.1",
       "_view_module_version": "0.2.1",
       "icon": "file",
       "name": "2. Russel Index Tracking.ipynb"
      }
     },
     "4f7d51d552f246d581854a4f83ddd789": {
      "model_module": "ipytree",
      "model_module_version": "0.2.1",
      "model_name": "NodeModel",
      "state": {
       "_id": "2f7c47ea-2673-494a-bf3a-f3ffecfab761",
       "_model_module_version": "0.2.1",
       "_view_module_version": "0.2.1",
       "icon": "file",
       "name": "7. HypothesisTest.ipynb"
      }
     },
     "4fd2ee5d61bf4087b91edee6b06fed06": {
      "model_module": "ipytree",
      "model_module_version": "0.2.1",
      "model_name": "NodeModel",
      "state": {
       "_id": "f84eb536-cd00-4d4a-aa1c-d5bdde88de8e",
       "_model_module_version": "0.2.1",
       "_view_module_version": "0.2.1",
       "icon": "file",
       "name": "23-07-2020.csv"
      }
     },
     "4ffc9a8bc5404f1b963e5f0e351a55a9": {
      "model_module": "ipytree",
      "model_module_version": "0.2.1",
      "model_name": "NodeModel",
      "state": {
       "_id": "d87901b5-83d4-4e04-8ad4-106b0a657bbe",
       "_model_module_version": "0.2.1",
       "_view_module_version": "0.2.1",
       "icon": "file",
       "name": "levels.py"
      }
     },
     "5008f098488246ff9cd0c38a3c11f95f": {
      "model_module": "ipytree",
      "model_module_version": "0.2.1",
      "model_name": "NodeModel",
      "state": {
       "_id": "cdba98d5-0600-4451-92e6-c1b1e64c1224",
       "_model_module_version": "0.2.1",
       "_view_module_version": "0.2.1",
       "icon": "file",
       "name": "utils.cpython-36.pyc"
      }
     },
     "505c4227f26c4dbaa83a7138e5415169": {
      "model_module": "ipytree",
      "model_module_version": "0.2.1",
      "model_name": "NodeModel",
      "state": {
       "_id": "f1147023-7504-4725-b63c-d6e9dd17143e",
       "_model_module_version": "0.2.1",
       "_view_module_version": "0.2.1",
       "name": "stats",
       "nodes": [
        "IPY_MODEL_50fc6676154d41ad8393c6172e27388f",
        "IPY_MODEL_63d4ca11810a4c3e8b8fbe8626ef52e4",
        "IPY_MODEL_defb1929f404413a973dd197725b91bd"
       ],
       "opened": false
      }
     },
     "50627e0f48f14c179a4830ab2868e38a": {
      "model_module": "ipytree",
      "model_module_version": "0.2.1",
      "model_name": "NodeModel",
      "state": {
       "_id": "3f473df6-48d1-4d83-8e6b-f68249d79ab0",
       "_model_module_version": "0.2.1",
       "_view_module_version": "0.2.1",
       "icon": "file",
       "name": "regime_hmm_risk_manager.py"
      }
     },
     "50bba923c83748ae95fcb37f2e5dbedc": {
      "model_module": "ipytree",
      "model_module_version": "0.2.1",
      "model_name": "NodeModel",
      "state": {
       "_id": "d7f0667f-2d5e-49fa-a49a-86a24b4f4eab",
       "_model_module_version": "0.2.1",
       "_view_module_version": "0.2.1",
       "name": "bin",
       "nodes": [
        "IPY_MODEL_d061c875308a45c3a6a6d6746356e72b"
       ],
       "opened": false
      }
     },
     "50fc6676154d41ad8393c6172e27388f": {
      "model_module": "ipytree",
      "model_module_version": "0.2.1",
      "model_name": "NodeModel",
      "state": {
       "_id": "73ab2b55-d5dc-4447-8790-fe7843478497",
       "_model_module_version": "0.2.1",
       "_view_module_version": "0.2.1",
       "icon": "file",
       "name": "1. Touch parameters estimating.ipynb"
      }
     },
     "5129fb70133a4cdd9f7ae44d35d86455": {
      "model_module": "ipytree",
      "model_module_version": "0.2.1",
      "model_name": "NodeModel",
      "state": {
       "_id": "c04b17fe-a939-49e7-8690-cf8d627a3ba2",
       "_model_module_version": "0.2.1",
       "_view_module_version": "0.2.1",
       "icon": "file",
       "name": "bitmex_blended.yml"
      }
     },
     "519c36b1ffc14d5d8df805f42b88b35f": {
      "model_module": "ipytree",
      "model_module_version": "0.2.1",
      "model_name": "NodeModel",
      "state": {
       "_id": "622acaf7-767c-40c5-b557-cac3daad35c2",
       "_model_module_version": "0.2.1",
       "_view_module_version": "0.2.1",
       "icon": "file",
       "name": "3. Signals Analysis.ipynb"
      }
     },
     "51a88ff264f14d4e93249d0ecaa0baa0": {
      "model_module": "ipytree",
      "model_module_version": "0.2.1",
      "model_name": "NodeModel",
      "state": {
       "_id": "9ce38dcc-5cfb-4797-937a-df27a60160ae",
       "_model_module_version": "0.2.1",
       "_view_module_version": "0.2.1",
       "name": "chapter-trading-strategies-arima-garch",
       "nodes": [
        "IPY_MODEL_d4c8bcfb28ad43d780b65b050ee9f2de",
        "IPY_MODEL_ffcb19aff86e47db95c294d3dcc0411a",
        "IPY_MODEL_2de9e380013a47f8813724a524933afa"
       ],
       "opened": false
      }
     },
     "51b7e22a0cdf4ea29731ed89d7a70eda": {
      "model_module": "ipytree",
      "model_module_version": "0.2.1",
      "model_name": "NodeModel",
      "state": {
       "_id": "1469766f-4c1c-4c20-919d-344596394ab5",
       "_model_module_version": "0.2.1",
       "_view_module_version": "0.2.1",
       "icon": "file",
       "name": "Algorithms_ru.pdf"
      }
     },
     "51be60f35a8f4b3ea8921b1cb54b92bc": {
      "model_module": "ipytree",
      "model_module_version": "0.2.1",
      "model_name": "NodeModel",
      "state": {
       "_id": "7843671b-321c-45b4-9990-96fe3d5eb659",
       "_model_module_version": "0.2.1",
       "_view_module_version": "0.2.1",
       "name": "QuantTradingResearch",
       "nodes": [
        "IPY_MODEL_955d73d2571849c4aff1acee299f77ad",
        "IPY_MODEL_c87623b8cdfe429cb8ccbfa0f39b25c2",
        "IPY_MODEL_3359178649314aeb86a1ed958b00534f",
        "IPY_MODEL_258925a4cace44e19386dcbff9f992eb",
        "IPY_MODEL_c448def6c4664bad8f53a67ca8abd39d"
       ],
       "opened": false
      }
     },
     "51c8fba5c00d4b189646cbf4cee0bab5": {
      "model_module": "ipytree",
      "model_module_version": "0.2.1",
      "model_name": "NodeModel",
      "state": {
       "_id": "b37395a2-8541-4d0a-b507-3a9c159cfcd9",
       "_model_module_version": "0.2.1",
       "_view_module_version": "0.2.1",
       "icon": "save",
       "icon_style": "info",
       "name": "Desktop",
       "nodes": [
        "IPY_MODEL_f54fc97f113a4eb4b394d3880142fc0b",
        "IPY_MODEL_16b74789b890452486d39fb76303e8e0"
       ]
      }
     },
     "51e6fd84a02a451eb18b560d7b92594b": {
      "model_module": "ipytree",
      "model_module_version": "0.2.1",
      "model_name": "NodeModel",
      "state": {
       "_id": "29fa19a7-0318-4137-83a4-78b80e5b8931",
       "_model_module_version": "0.2.1",
       "_view_module_version": "0.2.1",
       "icon": "file",
       "name": "CryptoCorr.ipynb"
      }
     },
     "5246958c5ebc43e5804e55ff51d05e05": {
      "model_module": "ipytree",
      "model_module_version": "0.2.1",
      "model_name": "NodeModel",
      "state": {
       "_id": "5136ff4d-22ba-4471-bee1-e8a066262286",
       "_model_module_version": "0.2.1",
       "_view_module_version": "0.2.1",
       "icon": "file",
       "name": "0. SuperTrend.ipynb"
      }
     },
     "52526c276e354cb38d83bcb65a1af881": {
      "model_module": "ipytree",
      "model_module_version": "0.2.1",
      "model_name": "NodeModel",
      "state": {
       "_id": "a919ecae-ece9-44a9-ac21-f1a31a13d1e9",
       "_model_module_version": "0.2.1",
       "_view_module_version": "0.2.1",
       "icon": "file",
       "name": "lin_reg_sklearn.py"
      }
     },
     "52d618e313a44128a92a3edc24caebed": {
      "model_module": "ipytree",
      "model_module_version": "0.2.1",
      "model_name": "NodeModel",
      "state": {
       "_id": "135abfdf-598f-4334-bafb-9544b8f8017f",
       "_model_module_version": "0.2.1",
       "_view_module_version": "0.2.1",
       "name": "highlow",
       "nodes": [
        "IPY_MODEL_46b58315d6a948a2807157b811dc6255",
        "IPY_MODEL_60e0b21c0ef2443386d44305c51a161e",
        "IPY_MODEL_b3b3e0f1b6894550ba5d7d22f0bff88e"
       ],
       "opened": false
      }
     },
     "52db2db6d6ba46cca9c5fb447d59f877": {
      "model_module": "ipytree",
      "model_module_version": "0.2.1",
      "model_name": "NodeModel",
      "state": {
       "_id": "fd3268ce-7470-444c-903d-a20afd1c3f8d",
       "_model_module_version": "0.2.1",
       "_view_module_version": "0.2.1",
       "icon": "file",
       "name": "README.md"
      }
     },
     "52ec5d88c3db43d4b42c1fbe986a7e40": {
      "model_module": "ipytree",
      "model_module_version": "0.2.1",
      "model_name": "NodeModel",
      "state": {
       "_id": "7f64b88d-8a5f-42bf-bf5d-532a49626b1b",
       "_model_module_version": "0.2.1",
       "_view_module_version": "0.2.1",
       "icon": "file",
       "name": "0. Initro.ipynb"
      }
     },
     "53b11a60907748fab1b5029a82bd2654": {
      "model_module": "ipytree",
      "model_module_version": "0.2.1",
      "model_name": "NodeModel",
      "state": {
       "_id": "beed7876-c9b3-4fca-91b5-cd2ee01dd933",
       "_model_module_version": "0.2.1",
       "_view_module_version": "0.2.1",
       "icon": "file",
       "name": "1.1 Triple Arbitrage Strategy.ipynb"
      }
     },
     "53b6372624d24e10998c3de2c842a971": {
      "model_module": "ipytree",
      "model_module_version": "0.2.1",
      "model_name": "NodeModel",
      "state": {
       "_id": "8a6c061e-5fd5-4012-a356-85b706698d8a",
       "_model_module_version": "0.2.1",
       "_view_module_version": "0.2.1",
       "icon": "file",
       "name": "FHM_first_test.ipynb"
      }
     },
     "542c90ffba1240ac9210ecfcecfd76c1": {
      "model_module": "ipytree",
      "model_module_version": "0.2.1",
      "model_name": "NodeModel",
      "state": {
       "_id": "34f4cbc6-dbfe-46e4-9508-a9f1db717bb3",
       "_model_module_version": "0.2.1",
       "_view_module_version": "0.2.1",
       "name": "scripts",
       "nodes": [
        "IPY_MODEL_8c3ccae82fd348859ab99464b76a135c",
        "IPY_MODEL_aa5b91be3a744d2e882d6d565e859ce1"
       ],
       "opened": false
      }
     },
     "547ee45f8c9c488389cea8c5d05d71d1": {
      "model_module": "ipytree",
      "model_module_version": "0.2.1",
      "model_name": "NodeModel",
      "state": {
       "_id": "92d96811-4b34-4451-8206-016ad9d9481e",
       "_model_module_version": "0.2.1",
       "_view_module_version": "0.2.1",
       "icon": "file",
       "name": "RM1.csv"
      }
     },
     "54dfd0c474ee4389a3ec0ed53c2ec172": {
      "model_module": "ipytree",
      "model_module_version": "0.2.1",
      "model_name": "NodeModel",
      "state": {
       "_id": "e12add4d-f6ba-40b0-87bf-2119911af16c",
       "_model_module_version": "0.2.1",
       "_view_module_version": "0.2.1",
       "icon": "file",
       "name": "data_utils.py"
      }
     },
     "5547b9872490426ba68d01101a7ead71": {
      "model_module": "ipytree",
      "model_module_version": "0.2.1",
      "model_name": "NodeModel",
      "state": {
       "_id": "c9bf4809-d9d4-49cd-a694-3a8cbb4bf60c",
       "_model_module_version": "0.2.1",
       "_view_module_version": "0.2.1",
       "icon": "file",
       "name": "1.1 FBreak model 1H.ipynb"
      }
     },
     "559ceb3503984319b9258ef63374b422": {
      "model_module": "ipytree",
      "model_module_version": "0.2.1",
      "model_name": "NodeModel",
      "state": {
       "_id": "ad32878f-3cef-480f-82e4-932683d745af",
       "_model_module_version": "0.2.1",
       "_view_module_version": "0.2.1",
       "icon": "save",
       "icon_style": "info",
       "name": "Desktop",
       "nodes": [
        "IPY_MODEL_8c2de248be4745a8980a655250bc20ee",
        "IPY_MODEL_45bcc723e0364a60a94eb444596dd1bf"
       ]
      }
     },
     "55e0c2eef5b04b68b487faf6c8d58fed": {
      "model_module": "ipytree",
      "model_module_version": "0.2.1",
      "model_name": "NodeModel",
      "state": {
       "_id": "86b5d8a0-8d76-45dc-8e7e-67d67f9d0815",
       "_model_module_version": "0.2.1",
       "_view_module_version": "0.2.1",
       "icon": "file",
       "name": "student_t_plot.py"
      }
     },
     "5625b03144194ef3a159b55d7a405146": {
      "model_module": "ipytree",
      "model_module_version": "0.2.1",
      "model_name": "NodeModel",
      "state": {
       "_id": "8daf1fa9-ae64-4837-969f-3ea1ab23e11f",
       "_model_module_version": "0.2.1",
       "_view_module_version": "0.2.1",
       "icon": "file",
       "name": "patterns.py"
      }
     },
     "5632f93539244776a61aee5cc8726599": {
      "model_module": "ipytree",
      "model_module_version": "0.2.1",
      "model_name": "NodeModel",
      "state": {
       "_id": "817ba8f6-6990-4b7a-ac9f-b913f400adc2",
       "_model_module_version": "0.2.1",
       "_view_module_version": "0.2.1",
       "icon": "file",
       "name": "3. Hourly Products.ipynb"
      }
     },
     "56ce75746a69436d8ecfdec54a38946d": {
      "model_module": "ipytree",
      "model_module_version": "0.2.1",
      "model_name": "NodeModel",
      "state": {
       "_id": "23aed12d-e417-4d33-96fe-4d74530a697c",
       "_model_module_version": "0.2.1",
       "_view_module_version": "0.2.1",
       "icon": "file",
       "name": "Waveform recognition with decision trees.pdf"
      }
     },
     "57022f9bc9284e3abbca282bdea6e762": {
      "model_module": "ipytree",
      "model_module_version": "0.2.1",
      "model_name": "NodeModel",
      "state": {
       "_id": "ed6218bf-10dd-40b5-a379-32f9816209df",
       "_model_module_version": "0.2.1",
       "_view_module_version": "0.2.1",
       "icon": "file",
       "name": "0. Initial Look at Data.ipynb"
      }
     },
     "57b404f7e8a94248aec9f3f2a9bddd45": {
      "model_module": "ipytree",
      "model_module_version": "0.2.1",
      "model_name": "NodeModel",
      "state": {
       "_id": "d8d9a82d-2732-46d2-944e-a78380c91d44",
       "_model_module_version": "0.2.1",
       "_view_module_version": "0.2.1",
       "icon": "file",
       "name": "1. Running HiLo Breaks.ipynb"
      }
     },
     "57f8ff44a62746f7bc39d1e997b90444": {
      "model_module": "ipytree",
      "model_module_version": "0.2.1",
      "model_name": "NodeModel",
      "state": {
       "_id": "d2e96225-af6c-4223-a0d5-487febec9fe9",
       "_model_module_version": "0.2.1",
       "_view_module_version": "0.2.1",
       "name": "correlations",
       "nodes": [
        "IPY_MODEL_5ce8f546efe44d2c86a7eeae181a62ff",
        "IPY_MODEL_773b38e3171b4247b7e9d0729a076888",
        "IPY_MODEL_51e6fd84a02a451eb18b560d7b92594b",
        "IPY_MODEL_a601d2b7edf5414cbbd4752e8bfaf621",
        "IPY_MODEL_f7c7dd62eac64f39b7b051e13e8dfec8"
       ],
       "opened": false
      }
     },
     "580f134c48d645148518253c03509cdc": {
      "model_module": "ipytree",
      "model_module_version": "0.2.1",
      "model_name": "NodeModel",
      "state": {
       "_id": "a83a015a-64bd-4705-9df3-b0bf13b6a6bb",
       "_model_module_version": "0.2.1",
       "_view_module_version": "0.2.1",
       "name": "chapter-time-series-analysis-cointegration",
       "nodes": [
        "IPY_MODEL_8b8cb96af51c4037afd43d733caa13d5",
        "IPY_MODEL_aef064577fef4caf9ba08abccc61eede",
        "IPY_MODEL_118f071e48984d7bbe49fa79a31d08e2"
       ],
       "opened": false
      }
     },
     "581b856039ba4cd6985c5ca09a93f0fc": {
      "model_module": "ipytree",
      "model_module_version": "0.2.1",
      "model_name": "TreeModel",
      "state": {
       "_model_module_version": "0.2.1",
       "_view_module_version": "0.2.1",
       "layout": "IPY_MODEL_427cfc9d2e194af59377406c060a0da2",
       "multiple_selection": false,
       "nodes": [
        "IPY_MODEL_20c39e566f4c44c2bfd415e69897dd41"
       ]
      }
     },
     "582ba11dcf334510bba973d04eec3431": {
      "model_module": "ipytree",
      "model_module_version": "0.2.1",
      "model_name": "NodeModel",
      "state": {
       "_id": "cc6d9a21-e7af-49e1-aeb1-71bc18985552",
       "_model_module_version": "0.2.1",
       "_view_module_version": "0.2.1",
       "icon": "file",
       "name": "[Steven_E._Shreve]_Stochastic_Calculus_for_Finance(BookFi.org) II.pdf"
      }
     },
     "58758e3030bf44f1beddd7b367affda6": {
      "model_module": "ipytree",
      "model_module_version": "0.2.1",
      "model_name": "NodeModel",
      "state": {
       "_id": "f4a9f221-f780-49ae-85b9-4c2aaccfed36",
       "_model_module_version": "0.2.1",
       "_view_module_version": "0.2.1",
       "icon": "home",
       "icon_style": "success",
       "name": "home",
       "nodes": [
        "IPY_MODEL_e3ac082eeb4349cbaa90c69ae9f05174",
        "IPY_MODEL_3d572ba4a3074826a9f39def07bfb13a"
       ]
      }
     },
     "58880fe542c249a7ae0e88781765f27b": {
      "model_module": "ipytree",
      "model_module_version": "0.2.1",
      "model_name": "NodeModel",
      "state": {
       "_id": "5399dc88-ca60-48ae-b181-197439fa107e",
       "_model_module_version": "0.2.1",
       "_view_module_version": "0.2.1",
       "name": "alpha",
       "nodes": [
        "IPY_MODEL_52db2db6d6ba46cca9c5fb447d59f877",
        "IPY_MODEL_40a2c27c192a41578ea5dd16818bf810",
        "IPY_MODEL_ae0fa954c7824fe18301aa9686ab46d3",
        "IPY_MODEL_9700f6c233594ee88cf5f4ac69b0bbcb",
        "IPY_MODEL_e50af391c74143d5b1b763ba6dcaf173",
        "IPY_MODEL_9eb4ba9f2cd943b497b6fd153f5d33f1",
        "IPY_MODEL_41473a0bb0944fa38d20572f7af26cb4"
       ],
       "opened": false
      }
     },
     "58c9e4c3baa34d6792380d96e761f2a6": {
      "model_module": "ipytree",
      "model_module_version": "0.2.1",
      "model_name": "NodeModel",
      "state": {
       "_id": "29ce2067-16df-4c54-9973-5dd2548c5da4",
       "_model_module_version": "0.2.1",
       "_view_module_version": "0.2.1",
       "icon": "file",
       "name": "sentdex_sentiment_strategy.py"
      }
     },
     "593dc4f897504c669b944737d4f9f059": {
      "model_module": "ipytree",
      "model_module_version": "0.2.1",
      "model_name": "NodeModel",
      "state": {
       "_id": "0d604bdb-3948-47e4-b09a-9682539798f0",
       "_model_module_version": "0.2.1",
       "_view_module_version": "0.2.1",
       "icon": "plus",
       "icon_style": "success",
       "name": "File2"
      }
     },
     "59554e2ea06a46f695365eec0012b7f0": {
      "model_module": "ipytree",
      "model_module_version": "0.2.1",
      "model_name": "NodeModel",
      "state": {
       "_id": "7c96313d-1537-4eae-bc89-9be553b9fdb9",
       "_model_module_version": "0.2.1",
       "_view_module_version": "0.2.1",
       "icon": "file",
       "name": "serial_cor.R"
      }
     },
     "5973b47f54a642ccb044143656031810": {
      "model_module": "ipytree",
      "model_module_version": "0.2.1",
      "model_name": "NodeModel",
      "state": {
       "_id": "e0887523-c303-4b8a-baa9-e528da991ddf",
       "_model_module_version": "0.2.1",
       "_view_module_version": "0.2.1",
       "name": "__pycache__",
       "nodes": [
        "IPY_MODEL_b20792b4614143f9a00ccabbc1e70a51",
        "IPY_MODEL_0f9f184eea2c43999211ef97fffdf124",
        "IPY_MODEL_48fa332394ad41c68cf8411f8a502f32"
       ],
       "opened": false
      }
     },
     "59b0bb0fc8924313beb2642660127a7a": {
      "model_module": "ipytree",
      "model_module_version": "0.2.1",
      "model_name": "NodeModel",
      "state": {
       "_id": "a8b8f646-2cc2-42ed-bc68-021a53675769",
       "_model_module_version": "0.2.1",
       "_view_module_version": "0.2.1",
       "icon": "file",
       "name": "LR_model.ipynb"
      }
     },
     "59b29359f3974174b9fd09ed09b22ba8": {
      "model_module": "ipytree",
      "model_module_version": "0.2.1",
      "model_name": "NodeModel",
      "state": {
       "_id": "cabf22ba-7ed2-449e-b012-0b75ddd83710",
       "_model_module_version": "0.2.1",
       "_view_module_version": "0.2.1",
       "name": "plutus",
       "nodes": [
        "IPY_MODEL_ab48844e8a73405f9841141b3a341278",
        "IPY_MODEL_46996f9ee33948b2aaf8085a52d9336f",
        "IPY_MODEL_7a6a87446d1a4900adc707e59cd0bccf",
        "IPY_MODEL_519c36b1ffc14d5d8df805f42b88b35f",
        "IPY_MODEL_355c415e30444295aab773acb04433ad",
        "IPY_MODEL_405dc5b1da424f6e830c06def0aa3c74",
        "IPY_MODEL_9f3ae2da75c04bcea348911b151368ce",
        "IPY_MODEL_b834dccd818041f0b8863bbd7e4ca031",
        "IPY_MODEL_0e27076218aa40dcbe086bb1074d1a73",
        "IPY_MODEL_b90c76c8f2a74e6d9cd4a339ed6c84ab",
        "IPY_MODEL_c5d90b94fa94410b88c219c17ae53201",
        "IPY_MODEL_f258ede86d3e4fe69124a0c0d5b6b85b",
        "IPY_MODEL_b46525fee1064ad5b99f568dcd4b6821",
        "IPY_MODEL_6ae7f226e29347349195f32fe9471b4f"
       ],
       "opened": false
      }
     },
     "59b706c01b37413c80c13632b623eb79": {
      "model_module": "ipytree",
      "model_module_version": "0.2.1",
      "model_name": "NodeModel",
      "state": {
       "_id": "9b7f04ff-98c7-47f4-8b86-bfc6ecf189c4",
       "_model_module_version": "0.2.1",
       "_view_module_version": "0.2.1",
       "icon": "file",
       "name": "1.2 TA leverages estimation.ipynb"
      }
     },
     "59e3cb619b4f45d0b95d175ea45273fc": {
      "model_module": "@jupyter-widgets/controls",
      "model_module_version": "1.5.0",
      "model_name": "ButtonModel",
      "state": {
       "button_style": "primary",
       "description": "Save",
       "layout": "IPY_MODEL_936e7ec19d7045b5bfa55165e2d5cfa2",
       "style": "IPY_MODEL_4dfdd052718e48fba494405ecbf93e46",
       "tooltip": "Save edits to file."
      }
     },
     "5a021b7a30ad4d2e810923a7fa705322": {
      "model_module": "ipytree",
      "model_module_version": "0.2.1",
      "model_name": "NodeModel",
      "state": {
       "_id": "57ddeb55-5be6-4042-bdf7-973536ae3d52",
       "_model_module_version": "0.2.1",
       "_view_module_version": "0.2.1",
       "icon": "file",
       "name": "utils.py"
      }
     },
     "5a0e958c2962487f94d804eacc471796": {
      "model_module": "ipytree",
      "model_module_version": "0.2.1",
      "model_name": "NodeModel",
      "state": {
       "_id": "88e85700-bf7f-41be-a3f3-2053912d5507",
       "_model_module_version": "0.2.1",
       "_view_module_version": "0.2.1",
       "icon": "file",
       "name": "fast_ols.py"
      }
     },
     "5a865271295845fc9f4c1ee1e93dd795": {
      "model_module": "ipytree",
      "model_module_version": "0.2.1",
      "model_name": "NodeModel",
      "state": {
       "_id": "79a5fa9f-ca2e-473d-b069-0f0aa24d0604",
       "_model_module_version": "0.2.1",
       "_view_module_version": "0.2.1",
       "name": "XBT60Min"
      }
     },
     "5a87ec38a0c04951b18db850be086475": {
      "model_module": "ipytree",
      "model_module_version": "0.2.1",
      "model_name": "NodeModel",
      "state": {
       "_id": "12a7cd3f-4ecc-4140-93a8-6b363714b252",
       "_model_module_version": "0.2.1",
       "_view_module_version": "0.2.1",
       "name": "examples",
       "nodes": [
        "IPY_MODEL_d024ccd9e01b4062b80dbb8a45ec44fb"
       ]
      }
     },
     "5a9c4d2a960544e38f4da9023ad3de24": {
      "model_module": "ipytree",
      "model_module_version": "0.2.1",
      "model_name": "NodeModel",
      "state": {
       "_id": "fecb3438-f43a-49ce-bb31-21f8175bfc62",
       "_model_module_version": "0.2.1",
       "_view_module_version": "0.2.1",
       "icon": "file",
       "name": "1. Volatility Adjusted RSI.ipynb"
      }
     },
     "5ac139d4ebff426ea3256bc302186895": {
      "model_module": "ipytree",
      "model_module_version": "0.2.1",
      "model_name": "NodeModel",
      "state": {
       "_id": "deac817d-8853-4b06-8d88-24ad8e606ae9",
       "_model_module_version": "0.2.1",
       "_view_module_version": "0.2.1",
       "icon": "file",
       "name": "dsroutes.json"
      }
     },
     "5b4736c6cfd24ed189ba1c36a0a88f9c": {
      "model_module": "@jupyter-widgets/output",
      "model_module_version": "1.0.0",
      "model_name": "OutputModel",
      "state": {
       "layout": "IPY_MODEL_07cb12e2b0a94af69d7819d3ef7165b9",
       "outputs": [
        {
         "data": {
          "application/vnd.jupyter.widget-view+json": {
           "model_id": "",
           "version_major": 2,
           "version_minor": 0
          },
          "text/plain": "Tree(multiple_selection=False, nodes=(Node(name='alpha', nodes=(Node(icon='file', name='README.md'), Node(icon…"
         },
         "metadata": {},
         "output_type": "display_data"
        }
       ]
      }
     },
     "5bbae0f6a2664c4b847418e0897ff16e": {
      "model_module": "ipytree",
      "model_module_version": "0.2.1",
      "model_name": "NodeModel",
      "state": {
       "_id": "4a28f770-7bba-4528-bda3-b939458ec3fc",
       "_model_module_version": "0.2.1",
       "_view_module_version": "0.2.1",
       "name": "filters",
       "nodes": [
        "IPY_MODEL_8aea31a79d154832a377a6c5303b5703"
       ],
       "opened": false
      }
     },
     "5bdebe38e2e74c5bbbf5c59e0d2c2b7e": {
      "model_module": "ipytree",
      "model_module_version": "0.2.1",
      "model_name": "NodeModel",
      "state": {
       "_id": "12f7c4eb-8e6c-4fc0-ad47-14b2c383b177",
       "_model_module_version": "0.2.1",
       "_view_module_version": "0.2.1",
       "icon": "file",
       "name": "default.tpl"
      }
     },
     "5be5531b16bb4e56a06156e1f7ba411a": {
      "model_module": "ipytree",
      "model_module_version": "0.2.1",
      "model_name": "NodeModel",
      "state": {
       "_id": "f8fecc40-ffc0-4e0e-b69a-55ed72b34fd8",
       "_model_module_version": "0.2.1",
       "_view_module_version": "0.2.1",
       "name": "futures",
       "nodes": [
        "IPY_MODEL_0d45460e3cd54e08994aec190fde0c6e",
        "IPY_MODEL_e4ecf38be7694a51860289244cf5049f"
       ],
       "opened": false
      }
     },
     "5c3241b67384445e9a833d380d84220c": {
      "model_module": "ipytree",
      "model_module_version": "0.2.1",
      "model_name": "NodeModel",
      "state": {
       "_id": "7daa4c40-bb21-4039-bb1e-c590348cb4f1",
       "_model_module_version": "0.2.1",
       "_view_module_version": "0.2.1",
       "icon": "file",
       "name": "NoisyMom.ipynb"
      }
     },
     "5c6d9d7041994a8386ffc869335a118f": {
      "model_module": "ipytree",
      "model_module_version": "0.2.1",
      "model_name": "NodeModel",
      "state": {
       "_id": "0f73a6b3-205d-4fa9-a4e5-b4a6c1bb761b",
       "_model_module_version": "0.2.1",
       "_view_module_version": "0.2.1",
       "icon": "file",
       "name": "0. Equilibrium.ipynb"
      }
     },
     "5c9e1704f86e41148e1344bac433ccdc": {
      "model_module": "ipytree",
      "model_module_version": "0.2.1",
      "model_name": "NodeModel",
      "state": {
       "_id": "294e06f6-88f8-4e3d-a34f-d52e9e0882f9",
       "_model_module_version": "0.2.1",
       "_view_module_version": "0.2.1",
       "icon": "file",
       "name": "testing_utils.ipynb"
      }
     },
     "5cd7dba70b104aac90edc89f7f6bcd66": {
      "model_module": "ipytree",
      "model_module_version": "0.2.1",
      "model_name": "NodeModel",
      "state": {
       "_id": "13d0a2bb-8dcd-4a9a-8d57-4da0b2b8741e",
       "_model_module_version": "0.2.1",
       "_view_module_version": "0.2.1",
       "icon": "file",
       "name": "SPY.csv"
      }
     },
     "5ce8f546efe44d2c86a7eeae181a62ff": {
      "model_module": "ipytree",
      "model_module_version": "0.2.1",
      "model_name": "NodeModel",
      "state": {
       "_id": "8a639c45-eeff-48e2-a4fb-8eaa262a19b5",
       "_model_module_version": "0.2.1",
       "_view_module_version": "0.2.1",
       "icon": "file",
       "name": "CryptCorrReport1.ipynb"
      }
     },
     "5d1539703d814858ac513f932ef205d5": {
      "model_module": "ipytree",
      "model_module_version": "0.2.1",
      "model_name": "NodeModel",
      "state": {
       "_id": "c4490457-be04-4064-95a9-277fcb847383",
       "_model_module_version": "0.2.1",
       "_view_module_version": "0.2.1",
       "icon": "file",
       "name": "1.2 Touch model optimizations.ipynb"
      }
     },
     "5dafa7cfaa154ddf9a2b5e0885017954": {
      "model_module": "ipytree",
      "model_module_version": "0.2.1",
      "model_name": "NodeModel",
      "state": {
       "_id": "899af39f-275c-4f2a-b99d-1d4ecd3d8391",
       "_model_module_version": "0.2.1",
       "_view_module_version": "0.2.1",
       "icon": "file",
       "name": "246751268-Trading-Baskets-Implementation.pdf"
      }
     },
     "5dd74a67667e41babb32ae2d59e873de": {
      "model_module": "ipytree",
      "model_module_version": "0.2.1",
      "model_name": "NodeModel",
      "state": {
       "_id": "b0e5fd8b-f16a-4328-9d3d-80dd38476440",
       "_model_module_version": "0.2.1",
       "_view_module_version": "0.2.1",
       "name": "candlestick_patterns",
       "nodes": [
        "IPY_MODEL_52ec5d88c3db43d4b42c1fbe986a7e40",
        "IPY_MODEL_673bd9690c964453803f300f6b889517",
        "IPY_MODEL_4b927da87b5645a38565742b82756101"
       ],
       "opened": false
      }
     },
     "5ddaf0c63d404697847afcd6458026e6": {
      "model_module": "ipytree",
      "model_module_version": "0.2.1",
      "model_name": "NodeModel",
      "state": {
       "_id": "e0f759ef-17f0-4581-a8d4-5dc3b75d76b8",
       "_model_module_version": "0.2.1",
       "_view_module_version": "0.2.1",
       "name": "ibs",
       "nodes": [
        "IPY_MODEL_6b858876c0554d7382a55c683f9f6756",
        "IPY_MODEL_733a59aa56d64e29888d29e156a9e431",
        "IPY_MODEL_919120ea7cf445e89f40f265cd26d8a3",
        "IPY_MODEL_6e0fa18b0aa04e55a238fb88235a77ca",
        "IPY_MODEL_f4796ebdbd9f47f9b7e5566ced57b8ab",
        "IPY_MODEL_a3a271b1e5f442e3b63bec29b701f539",
        "IPY_MODEL_9de59e503fa244148ed7d0655c62b3ea",
        "IPY_MODEL_a52a6a8e9b1849849c57fbf1e4d311c3"
       ],
       "opened": false
      }
     },
     "5e5da48f936f4f14915b7e307d2c906e": {
      "model_module": "ipytree",
      "model_module_version": "0.2.1",
      "model_name": "NodeModel",
      "state": {
       "_id": "7391d7ee-ff6e-4912-a0cf-723fb2961017",
       "_model_module_version": "0.2.1",
       "_view_module_version": "0.2.1",
       "icon": "file",
       "name": "test_multiproc.py"
      }
     },
     "5e6dfe3bfed544ec9d11dfbbacab2d35": {
      "model_module": "ipytree",
      "model_module_version": "0.2.1",
      "model_name": "NodeModel",
      "state": {
       "_id": "da4d49b7-c834-40b4-b032-03be72bf8d83",
       "_model_module_version": "0.2.1",
       "_view_module_version": "0.2.1",
       "icon": "file",
       "name": "Dissertacao SAX-GA.pdf"
      }
     },
     "5e78e29c8c4b4cbdba1dc1bee01ad350": {
      "model_module": "ipytree",
      "model_module_version": "0.2.1",
      "model_name": "NodeModel",
      "state": {
       "_id": "482b1892-1392-44b8-bb76-d6b85b189a7c",
       "_model_module_version": "0.2.1",
       "_view_module_version": "0.2.1",
       "name": "chapter-machine-learning-linear-regression",
       "nodes": [
        "IPY_MODEL_4137c6e186024b2688ffbb947e9dcd94",
        "IPY_MODEL_52526c276e354cb38d83bcb65a1af881"
       ],
       "opened": false
      }
     },
     "5e9262cdebec4c10a80b29e155929ed6": {
      "model_module": "ipytree",
      "model_module_version": "0.2.1",
      "model_name": "NodeModel",
      "state": {
       "_id": "badb7811-709c-4865-b97a-b2679c710ce3",
       "_model_module_version": "0.2.1",
       "_view_module_version": "0.2.1",
       "name": "cexdex",
       "nodes": [
        "IPY_MODEL_8dda8eff327445048b66aafa1ded37f1"
       ],
       "opened": false
      }
     },
     "5e9a79e9aa3b41dbbc67cc1b2c3cdd84": {
      "model_module": "ipytree",
      "model_module_version": "0.2.1",
      "model_name": "NodeModel",
      "state": {
       "_id": "deca6153-e4a6-4190-b271-9a5e3352d16b",
       "_model_module_version": "0.2.1",
       "_view_module_version": "0.2.1",
       "name": "ETH15Min"
      }
     },
     "5eb9a0c7b4454a14aa1c500a3c52d0fe": {
      "model_module": "ipytree",
      "model_module_version": "0.2.1",
      "model_name": "NodeModel",
      "state": {
       "_id": "13d33eef-ddc2-44a1-9517-f700cb9deefb",
       "_model_module_version": "0.2.1",
       "_view_module_version": "0.2.1",
       "name": "breakouts",
       "nodes": [
        "IPY_MODEL_f4eec3f738784d0f97dee6180bf0db99"
       ],
       "opened": false
      }
     },
     "5ec153dd8c464780939ae87b70250f6e": {
      "model_module": "ipytree",
      "model_module_version": "0.2.1",
      "model_name": "TreeModel",
      "state": {
       "_model_module_version": "0.2.1",
       "_view_module_version": "0.2.1",
       "layout": "IPY_MODEL_6fd287fb75384eaea60fa8b854f9ebeb",
       "nodes": [
        "IPY_MODEL_4aa960788d084c428b0fcd9f4d779016",
        "IPY_MODEL_fc049e246a394716a7da641a0778d694",
        "IPY_MODEL_ca67aac5fa2c432aad8e1ef8e45d6bdb",
        "IPY_MODEL_294263428ebb4a85a46369e5aea33478"
       ],
       "selected_nodes": [
        "IPY_MODEL_f54fc97f113a4eb4b394d3880142fc0b"
       ]
      }
     },
     "5ec2484c5060482bbd3ec1af9d7d5b6a": {
      "model_module": "@jupyter-widgets/controls",
      "model_module_version": "1.5.0",
      "model_name": "HBoxModel",
      "state": {
       "children": [
        "IPY_MODEL_023d796dc4ce4326a8ac76c19a7257ff",
        "IPY_MODEL_ef7f32438d924f08bf8f7e7cd2d1f143"
       ],
       "layout": "IPY_MODEL_4931830b83c7461fbcc91d7f7f139336"
      }
     },
     "5ec812a7b5ff443889b5e89589c020a7": {
      "model_module": "ipytree",
      "model_module_version": "0.2.1",
      "model_name": "NodeModel",
      "state": {
       "_id": "ae1cd65f-baa5-4852-b84d-9d766f979dc9",
       "_model_module_version": "0.2.1",
       "_view_module_version": "0.2.1",
       "icon": "file",
       "name": "IntradayMomentumTests.ipynb"
      }
     },
     "5ed64112be99412f9b849af706ece448": {
      "model_module": "ipytree",
      "model_module_version": "0.2.1",
      "model_name": "NodeModel",
      "state": {
       "_id": "17145cbb-b44f-4eef-a67d-ff4a8bef6a93",
       "_model_module_version": "0.2.1",
       "_view_module_version": "0.2.1",
       "icon": "file",
       "name": "_Volatility Predictive Model.ipynb"
      }
     },
     "5f197822099f4415a19eb658c4c28307": {
      "model_module": "ipytree",
      "model_module_version": "0.2.1",
      "model_name": "NodeModel",
      "state": {
       "_id": "e6d552ba-0f66-41cb-b946-74e9c23afb85",
       "_model_module_version": "0.2.1",
       "_view_module_version": "0.2.1",
       "name": "XBT5Min",
       "nodes": [
        "IPY_MODEL_7fc5ba366fe343b7a50d46011311205f"
       ],
       "opened": false
      }
     },
     "5f62a4af83404785a0d9da7f6417ce0f": {
      "model_module": "ipytree",
      "model_module_version": "0.2.1",
      "model_name": "NodeModel",
      "state": {
       "_id": "737b8a15-4cb7-484f-b6d2-f732c7702b7f",
       "_model_module_version": "0.2.1",
       "_view_module_version": "0.2.1",
       "icon": "file",
       "name": "3. Simulations Analysis.ipynb"
      }
     },
     "6034d144b9bc449f8aed24daeb9a6a02": {
      "model_module": "ipytree",
      "model_module_version": "0.2.1",
      "model_name": "NodeModel",
      "state": {
       "_id": "089bdc4a-b076-49c7-b692-da5b136227aa",
       "_model_module_version": "0.2.1",
       "_view_module_version": "0.2.1",
       "icon": "file",
       "name": "intraday_ml_backtest.py"
      }
     },
     "603da59a458e4815b5b1e83b376785d9": {
      "model_module": "ipytree",
      "model_module_version": "0.2.1",
      "model_name": "NodeModel",
      "state": {
       "_id": "e83bdce7-a208-4da2-be7f-84a7ab01c8f3",
       "_model_module_version": "0.2.1",
       "_view_module_version": "0.2.1",
       "icon": "file",
       "name": "nu_gs_100k_1to8.html"
      }
     },
     "6062c01efaf64c6bad02249841e02c9d": {
      "model_module": "ipytree",
      "model_module_version": "0.2.1",
      "model_name": "NodeModel",
      "state": {
       "_id": "447d88ed-41d8-46bd-87fb-d7ebeeb8b6cf",
       "_model_module_version": "0.2.1",
       "_view_module_version": "0.2.1",
       "name": "common",
       "nodes": [
        "IPY_MODEL_af387b13b0024e0890505063157358dd",
        "IPY_MODEL_3ac09d215ba34e6692686bcca881b94e"
       ],
       "opened": false
      }
     },
     "6070099f4b0e440f8e82ff20ffd9c172": {
      "model_module": "ipytree",
      "model_module_version": "0.2.1",
      "model_name": "NodeModel",
      "state": {
       "_id": "5a15f455-2f29-43e8-b3e8-370af56b75a8",
       "_model_module_version": "0.2.1",
       "_view_module_version": "0.2.1",
       "name": "key_levels",
       "nodes": [
        "IPY_MODEL_d9702f5ae1b6405c9e7945e0797f439d"
       ],
       "opened": false
      }
     },
     "60a76bdb79e3431e9c7483cc8ca77def": {
      "model_module": "ipytree",
      "model_module_version": "0.2.1",
      "model_name": "NodeModel",
      "state": {
       "_id": "b9f5412a-0ba8-4a0a-8009-737c22f036d2",
       "_model_module_version": "0.2.1",
       "_view_module_version": "0.2.1",
       "icon": "save",
       "icon_style": "info",
       "name": "Desktop",
       "nodes": [
        "IPY_MODEL_041ee022baf94642aaae55d2d4bdf37c",
        "IPY_MODEL_ccd0a0f43f2e4253a2f8dc352703346f"
       ]
      }
     },
     "60dbc131e0c24087b993b82b3610cd5f": {
      "model_module": "ipytree",
      "model_module_version": "0.2.1",
      "model_name": "NodeModel",
      "state": {
       "_id": "d7bf7224-2fa0-41eb-a6f0-dca92701ac5f",
       "_model_module_version": "0.2.1",
       "_view_module_version": "0.2.1",
       "icon": "warning",
       "icon_style": "success",
       "name": "local"
      }
     },
     "60e0b21c0ef2443386d44305c51a161e": {
      "model_module": "ipytree",
      "model_module_version": "0.2.1",
      "model_name": "NodeModel",
      "state": {
       "_id": "e55b6276-2529-46a7-8b9c-fbdcf34cab1a",
       "_model_module_version": "0.2.1",
       "_view_module_version": "0.2.1",
       "icon": "file",
       "name": "HL_prediction_and_TA.pdf"
      }
     },
     "60f256f1543b4584ac25c953995dea4c": {
      "model_module": "ipytree",
      "model_module_version": "0.2.1",
      "model_name": "NodeModel",
      "state": {
       "_id": "7eb524a0-0577-42b1-b1ad-3c4636efe339",
       "_model_module_version": "0.2.1",
       "_view_module_version": "0.2.1",
       "icon": "file",
       "name": "6-Jul-2021.md"
      }
     },
     "611ce2b6c1ee45b68d4e09f45e1e5795": {
      "model_module": "ipytree",
      "model_module_version": "0.2.1",
      "model_name": "NodeModel",
      "state": {
       "_id": "de805e3c-8319-473f-bb9b-12be8c1dcb89",
       "_model_module_version": "0.2.1",
       "_view_module_version": "0.2.1",
       "icon": "file",
       "name": "4.1 Model1 amp futures tests.ipynb"
      }
     },
     "6190289f988144c0b4d42dcbb638f3e0": {
      "model_module": "ipytree",
      "model_module_version": "0.2.1",
      "model_name": "NodeModel",
      "state": {
       "_id": "0cdfa90d-e01b-48da-bd6e-dd4a561cfd24",
       "_model_module_version": "0.2.1",
       "_view_module_version": "0.2.1",
       "icon": "file",
       "name": "8. PositionsFlows.ipynb"
      }
     },
     "6194f24d38da4a50a7f9e7ec621ca29c": {
      "model_module": "ipytree",
      "model_module_version": "0.2.1",
      "model_name": "NodeModel",
      "state": {
       "_id": "08f4b91f-9ab5-4126-b95f-ded56e1401b5",
       "_model_module_version": "0.2.1",
       "_view_module_version": "0.2.1",
       "icon": "file",
       "name": "DT 3 min ES 03-19.csv"
      }
     },
     "6195a00742f8424299a8f8711399aeb2": {
      "model_module": "ipytree",
      "model_module_version": "0.2.1",
      "model_name": "NodeModel",
      "state": {
       "_id": "cd2e3fe7-8355-417a-9c4b-1a38c7fc7824",
       "_model_module_version": "0.2.1",
       "_view_module_version": "0.2.1",
       "icon": "archive",
       "icon_style": "warning",
       "name": "root"
      }
     },
     "61baea4724e84f91bffad68f5b6939a9": {
      "model_module": "@jupyter-widgets/base",
      "model_module_version": "1.2.0",
      "model_name": "LayoutModel",
      "state": {
       "height": "600px",
       "width": "630px"
      }
     },
     "62088be13b6f4b4f92dbdd58fb91dbf8": {
      "model_module": "ipytree",
      "model_module_version": "0.2.1",
      "model_name": "NodeModel",
      "state": {
       "_id": "d00f1aa4-bbae-4213-ace5-146e69a759e2",
       "_model_module_version": "0.2.1",
       "_view_module_version": "0.2.1",
       "icon": "home",
       "icon_style": "success",
       "name": "home",
       "nodes": [
        "IPY_MODEL_e91447d28455434a8b511df27f2c3d5e",
        "IPY_MODEL_0ba2b05cdc504048a122e91ad35d11d6"
       ]
      }
     },
     "621c02abf6874ec6a6b0a056b8e0bf98": {
      "model_module": "ipytree",
      "model_module_version": "0.2.1",
      "model_name": "NodeModel",
      "state": {
       "_id": "d2fc4401-5af3-4019-b7cd-20b1c54394d0",
       "_model_module_version": "0.2.1",
       "_view_module_version": "0.2.1",
       "name": "daily",
       "nodes": [
        "IPY_MODEL_5cd7dba70b104aac90edc89f7f6bcd66"
       ],
       "opened": false
      }
     },
     "62233653610b42f092a0969b9f138830": {
      "model_module": "ipytree",
      "model_module_version": "0.2.1",
      "model_name": "NodeModel",
      "state": {
       "_id": "baa1a422-ced6-4b14-a67f-2b061e8d447d",
       "_model_module_version": "0.2.1",
       "_view_module_version": "0.2.1",
       "icon": "file",
       "name": "4.1 Model2 Regression trader .ipynb"
      }
     },
     "62245b437a7641799ec0e4deef180cbf": {
      "model_module": "ipytree",
      "model_module_version": "0.2.1",
      "model_name": "NodeModel",
      "state": {
       "_id": "5b939a88-8f22-4835-aedf-298f3b51d4fc",
       "_model_module_version": "0.2.1",
       "_view_module_version": "0.2.1",
       "name": "XBT15Min"
      }
     },
     "622f57b9b0694ed6a3be9647d96d7194": {
      "model_module": "ipytree",
      "model_module_version": "0.2.1",
      "model_name": "NodeModel",
      "state": {
       "_id": "a44abb49-ff3a-4863-ade2-976bf8347f62",
       "_model_module_version": "0.2.1",
       "_view_module_version": "0.2.1",
       "name": "docs",
       "nodes": [
        "IPY_MODEL_60f256f1543b4584ac25c953995dea4c"
       ],
       "opened": false
      }
     },
     "624fbba445ae41dc8775e889b6553d6c": {
      "model_module": "ipytree",
      "model_module_version": "0.2.1",
      "model_name": "NodeModel",
      "state": {
       "_id": "8e15a971-e7b8-462e-a7bc-98b1a3ada4db",
       "_model_module_version": "0.2.1",
       "_view_module_version": "0.2.1",
       "icon": "file",
       "name": "Local Trends Detecting.ipynb"
      }
     },
     "62b51c83e9e54477bb05137adb74cad3": {
      "model_module": "ipytree",
      "model_module_version": "0.2.1",
      "model_name": "NodeModel",
      "state": {
       "_id": "a65ca98e-4f55-4b2e-a27a-b0f626e5b528",
       "_model_module_version": "0.2.1",
       "_view_module_version": "0.2.1",
       "name": "meanreversion",
       "nodes": [
        "IPY_MODEL_5c6d9d7041994a8386ffc869335a118f",
        "IPY_MODEL_dc85f5578658448e9fdd25852ca73848",
        "IPY_MODEL_e098a1aeb15b4fbf98872547103e7ef0",
        "IPY_MODEL_26ae7123be86482598c511ee1ba41526",
        "IPY_MODEL_009b26eaeafb483ea2447541a08aab51",
        "IPY_MODEL_dc9ba02020784a77a45ccdd30914d1fb"
       ],
       "opened": false
      }
     },
     "62e492e5dd5b4a51ad84257c4cdecfbb": {
      "model_module": "ipytree",
      "model_module_version": "0.2.1",
      "model_name": "NodeModel",
      "state": {
       "_id": "a7b09859-3ca1-4dc5-ba3d-a01439bc2b26",
       "_model_module_version": "0.2.1",
       "_view_module_version": "0.2.1",
       "icon": "file",
       "name": "timeseries.py"
      }
     },
     "6305b67dcf7c4754a3d0758ae1a7641e": {
      "model_module": "ipytree",
      "model_module_version": "0.2.1",
      "model_name": "NodeModel",
      "state": {
       "_id": "fb60b042-f3eb-42d7-b149-f31c9230834d",
       "_model_module_version": "0.2.1",
       "_view_module_version": "0.2.1",
       "name": "returns_prediction",
       "nodes": [
        "IPY_MODEL_80c67f936b414dee9ee512aebf4ffec4",
        "IPY_MODEL_f3b401a802ce454c9a69f83a8928e0c1",
        "IPY_MODEL_aa1fafcb8e2a4ba8a2975279382f957a"
       ],
       "opened": false
      }
     },
     "6356d22599d9403ab6339dffd49df2ac": {
      "model_module": "ipytree",
      "model_module_version": "0.2.1",
      "model_name": "NodeModel",
      "state": {
       "_id": "28b31654-9a19-4760-babd-f16eea7df9fc",
       "_model_module_version": "0.2.1",
       "_view_module_version": "0.2.1",
       "name": "binance",
       "nodes": [
        "IPY_MODEL_b840eb46effb4cc79bd53fca1e675ba4",
        "IPY_MODEL_e3539cfd0c194fccb6613eb89f3333f5"
       ],
       "opened": false
      }
     },
     "635f424e090446448fb7b5d96434c93b": {
      "model_module": "ipytree",
      "model_module_version": "0.2.1",
      "model_name": "NodeModel",
      "state": {
       "_id": "703c5b3a-f2e5-48f2-9d0e-da24740a2d2d",
       "_model_module_version": "0.2.1",
       "_view_module_version": "0.2.1",
       "icon": "file",
       "name": "3. Report on full and cleaned dataset.ipynb"
      }
     },
     "63754737a4f84b7494253a6edb379e20": {
      "model_module": "@jupyter-widgets/base",
      "model_module_version": "1.2.0",
      "model_name": "LayoutModel",
      "state": {
       "max_width": "310px"
      }
     },
     "638d2ff97f9d4c629cb7231a53e2a733": {
      "model_module": "ipytree",
      "model_module_version": "0.2.1",
      "model_name": "NodeModel",
      "state": {
       "_id": "70a54526-7ac2-4539-a98e-3c1878fa1a11",
       "_model_module_version": "0.2.1",
       "_view_module_version": "0.2.1",
       "icon": "file",
       "name": "COTDataSource.py"
      }
     },
     "63955d43344e4fb8a6a4d48619229389": {
      "model_module": "ipytree",
      "model_module_version": "0.2.1",
      "model_name": "NodeModel",
      "state": {
       "_id": "b5e9a1e9-ee92-414b-90c5-d5d69cf54f79",
       "_model_module_version": "0.2.1",
       "_view_module_version": "0.2.1",
       "icon": "file",
       "name": "decoder.py"
      }
     },
     "63c891b3205441499f0ee560c896f69c": {
      "model_module": "ipytree",
      "model_module_version": "0.2.1",
      "model_name": "NodeModel",
      "state": {
       "_id": "9168c179-65d9-4d44-98cb-d35b4c485fae",
       "_model_module_version": "0.2.1",
       "_view_module_version": "0.2.1",
       "icon": "file",
       "name": "find_high_low_points.py"
      }
     },
     "63cb2e9da5ca453b83c0dc3f0c935d68": {
      "model_module": "ipytree",
      "model_module_version": "0.2.1",
      "model_name": "NodeModel",
      "state": {
       "_id": "0f4230b4-00c4-4791-a87b-93912a80cfc4",
       "_model_module_version": "0.2.1",
       "_view_module_version": "0.2.1",
       "icon": "file",
       "name": "volatility_utils.py"
      }
     },
     "63d4ca11810a4c3e8b8fbe8626ef52e4": {
      "model_module": "ipytree",
      "model_module_version": "0.2.1",
      "model_name": "NodeModel",
      "state": {
       "_id": "b15c9190-6716-4c5f-a539-2bdfe91153fe",
       "_model_module_version": "0.2.1",
       "_view_module_version": "0.2.1",
       "icon": "file",
       "name": "2. Entries Statistics.ipynb"
      }
     },
     "642740582a074f98b3dea4515a8e2a9d": {
      "model_module": "ipytree",
      "model_module_version": "0.2.1",
      "model_name": "NodeModel",
      "state": {
       "_id": "1ed9584f-78c7-436d-ba9e-8d0e95098a1e",
       "_model_module_version": "0.2.1",
       "_view_module_version": "0.2.1",
       "name": "common",
       "nodes": [
        "IPY_MODEL_9e02d39f30c546b9ad42a3fd194464c6",
        "IPY_MODEL_79d1371be94141a589add7542b10f0d7",
        "IPY_MODEL_22fa88266add42f29b3bef7c3970da6e"
       ],
       "opened": false
      }
     },
     "64440c93fda34480835b988660ec51b6": {
      "model_module": "ipytree",
      "model_module_version": "0.2.1",
      "model_name": "NodeModel",
      "state": {
       "_id": "f7ab2a83-5815-4afb-9bab-8f0fc8400e21",
       "_model_module_version": "0.2.1",
       "_view_module_version": "0.2.1",
       "icon": "file",
       "name": "0. Tests.ipynb"
      }
     },
     "650c8e53e5c04fcea4d45919a67d56c4": {
      "model_module": "ipytree",
      "model_module_version": "0.2.1",
      "model_name": "NodeModel",
      "state": {
       "_id": "963495fe-874e-41b9-bf68-29f161162609",
       "_model_module_version": "0.2.1",
       "_view_module_version": "0.2.1",
       "icon": "file",
       "name": "3. Follow Whales Approach.ipynb"
      }
     },
     "6563a3aa79e9426f92ec67cd44640f40": {
      "model_module": "ipytree",
      "model_module_version": "0.2.1",
      "model_name": "NodeModel",
      "state": {
       "_id": "30e915e0-1446-4a6d-8f08-284665180c60",
       "_model_module_version": "0.2.1",
       "_view_module_version": "0.2.1",
       "icon": "file",
       "name": "2. IBS and predicted volatility.ipynb"
      }
     },
     "6586de30b2a74dbe9b2c93f18762dcdb": {
      "model_module": "ipytree",
      "model_module_version": "0.2.1",
      "model_name": "NodeModel",
      "state": {
       "_id": "083f2e3f-6082-4ab1-a25f-091f7abb6d52",
       "_model_module_version": "0.2.1",
       "_view_module_version": "0.2.1",
       "icon": "file",
       "name": "google_trends.py"
      }
     },
     "65ed84b7508149a5a518167e3ad6900f": {
      "model_module": "ipytree",
      "model_module_version": "0.2.1",
      "model_name": "NodeModel",
      "state": {
       "_id": "54e22e9f-a0d8-4ad9-a558-2285731bce36",
       "_model_module_version": "0.2.1",
       "_view_module_version": "0.2.1",
       "icon": "file",
       "name": "utils.py"
      }
     },
     "6607451b68e04252b0dda4e660950e41": {
      "model_module": "ipytree",
      "model_module_version": "0.2.1",
      "model_name": "NodeModel",
      "state": {
       "_id": "b0a16e92-c1e5-4464-bb9e-59c91b447c51",
       "_model_module_version": "0.2.1",
       "_view_module_version": "0.2.1",
       "name": "momentum_detecting",
       "nodes": [
        "IPY_MODEL_19331a132c744f8abb0357064a740e24",
        "IPY_MODEL_43e10994e646455cb3bbc0bbdc01114c",
        "IPY_MODEL_de2f1fa59b804efe970098e2dcfe5bb3",
        "IPY_MODEL_f41a1801058a43e0af6c4b15384f38bd",
        "IPY_MODEL_6305b67dcf7c4754a3d0758ae1a7641e",
        "IPY_MODEL_1cb97ec547964ffca53db0fc34f203ee"
       ],
       "opened": false
      }
     },
     "6689c02f4c6c4e5faa3441d9ed52c155": {
      "model_module": "ipytree",
      "model_module_version": "0.2.1",
      "model_name": "NodeModel",
      "state": {
       "_id": "76803d54-897b-4645-ae0f-b68e4c38b0f2",
       "_model_module_version": "0.2.1",
       "_view_module_version": "0.2.1",
       "name": "XBT60Min",
       "nodes": [
        "IPY_MODEL_5547b9872490426ba68d01101a7ead71"
       ],
       "opened": false
      }
     },
     "66b05c747b9742e7ab0d9c314eae598f": {
      "model_module": "@jupyter-widgets/controls",
      "model_module_version": "1.5.0",
      "model_name": "TextareaModel",
      "state": {
       "layout": "IPY_MODEL_61baea4724e84f91bffad68f5b6939a9",
       "style": "IPY_MODEL_82b0772be6f74882aa000ed84bcb9375",
       "value": "{\n \"cells\": [\n  {\n   \"cell_type\": \"code\",\n   \"execution_count\": 1,\n   \"metadata\": {},\n   \"outputs\": [\n    {\n     \"data\": {\n      \"text/html\": [\n       \"<pre style=\\\"white-space:pre;overflow-x:auto;line-height:normal;font-family:Menlo,'DejaVu Sans Mono',consolas,'Courier New',monospace\\\"><span style=\\\"font-weight: bold\\\">(</span>c<span style=\\\"font-weight: bold\\\">)</span> <span style=\\\"color: #008000; font-weight: bold\\\">2017</span>, AppliedAlpha Infrastructure for Quantitative Research and Analysis, ver. master: \\n\",\n       \"<span style=\\\"color: #008000; font-weight: bold\\\">0.1513</span>\\n\",\n       \"</pre>\\n\"\n      ],\n      \"text/plain\": [\n       \"<rich.jupyter.JupyterRenderable at 0x7f5699264160>\"\n      ]\n     },\n     \"metadata\": {},\n     \"output_type\": \"display_data\"\n    }\n   ],\n   \"source\": [\n    \"import ira\\n\",\n    \"%alphalab dark\"\n   ]\n  },\n  {\n   \"cell_type\": \"code\",\n   \"execution_count\": 2,\n   \"metadata\": {},\n   \"outputs\": [],\n   \"source\": [\n    \"%load_ext autoreload\\n\",\n    \"%autoreload 2\\n\",\n    \"\\n\",\n    \"from skb.nodes import *\"\n   ]\n  },\n  {\n   \"cell_type\": \"markdown\",\n   \"metadata\": {},\n   \"source\": [\n    \"Initial design on structures etc - very rough and preliminary ...\"\n   ]\n  },\n  {\n   \"cell_type\": \"markdown\",\n   \"metadata\": {\n    \"tags\": []\n   },\n   \"source\": [\n    \"# Supplement Code\"\n   ]\n  },\n  {\n   \"cell_type\": \"code\",\n   \"execution_count\": 3,\n   \"metadata\": {},\n   \"outputs\": [],\n   \"source\": [\n    \"# check collisions\\n\",\n    \"assert len(set(generate_id('sdasd') for i in range(1_000_000))) == 1_000_000, \\\"There are collissions !!!\\\"\"\n   ]\n  },\n  {\n   \"cell_type\": \"markdown\",\n   \"metadata\": {},\n   \"source\": [\n    \"# Designs\"\n   ]\n  },\n  {\n   \"cell_type\": \"markdown\",\n   \"metadata\": {},\n   \"source\": [\n    \"<hr/>\"\n   ]\n  },\n  {\n   \"cell_type\": \"code\",\n   \"execution_count\": null,\n   \"metadata\": {},\n   \"outputs\": [],\n   \"source\": [\n    \"z_ls('knodes', dbname='skb')\"\n   ]\n  },\n  {\n   \"cell_type\": \"code\",\n   \"execution_count\": null,\n   \"metadata\": {},\n   \"outputs\": [],\n   \"source\": [\n    \"z_ld('knodes/67CBB7B86886', dbname='skb')['data']['broker_options'].values\"\n   ]\n  },\n  {\n   \"cell_type\": \"code\",\n   \"execution_count\": 4,\n   \"metadata\": {},\n   \"outputs\": [],\n   \"source\": [\n    \"# for n in z_ls('knodes', dbname='skb'):\\n\",\n    \"#     z_del(n, dbname='skb')\"\n   ]\n  },\n  {\n   \"cell_type\": \"code\",\n   \"execution_count\": 24,\n   \"metadata\": {},\n   \"outputs\": [],\n   \"source\": [\n    \"a = 123\\n\",\n    \"foo = lambda x : x + 1\"\n   ]\n  },\n  {\n   \"cell_type\": \"code\",\n   \"execution_count\": 26,\n   \"metadata\": {},\n   \"outputs\": [\n    {\n     \"name\": \"stdout\",\n     \"output_type\": \"stream\",\n     \"text\": [\n      \"{'id': '7674BB208804', 'path': 'projects/personal/prl', 'type': 'todo', 'name': 'Review old Java PRL code', 'description': ' Think about moving it apart\\\\n Reimplementation in Python/Rust\\\\n', 'data': 124, 'data_type': None, 'tags': ['patterns', 'personal', 'prl'], 'reference': ['https://github.com/dmarienko/PRL', 'https://github.com/dmarienko/PRL'], 'created': '2022-02-04T13:34:07.314357', 'timespan': '1w', 'author': 'quant1', 'meta': {'cwd': '/home/quant1/projects', 'python': '3.6.9', 'node': 'Ubuntu-1804-bionic-64-nextcloud', 'version': '#146-Ubuntu SMP Tue Apr 13 01:11:19 UTC 2021', 'os': 'Linux'}}\\n\"\n     ]\n    }\n   ],\n   \"source\": [\n    \"%%k_ todo projects/personal/prl\\n\",\n    \"\\n\",\n    \"Review old Java PRL code\\n\",\n    \"    - Think about moving it apart\\n\",\n    \"    - Reimplementation in Python/Rust\\n\",\n    \"    \\n\",\n    \"::: `foo(a) \\n\",\n    \"r: https://github.com/dmarienko/PRL\\n\",\n    \"r: https://github.com/dmarienko/PRL\\n\",\n    \"t: prl personal\\n\",\n    \"t: patterns\\n\",\n    \"s: 1w\"\n   ]\n  },\n  {\n   \"cell_type\": \"code\",\n   \"execution_count\": 3,\n   \"metadata\": {},\n   \"outputs\": [],\n   \"source\": [\n    \"from ipytree import Tree, Node\\n\",\n    \"from ipywidgets import Text, jslink, link, HBox, VBox\\n\",\n    \"\\n\",\n    \"in_dir = os.path.join(os.path.expanduser('~'), 'Documents')\"\n   ]\n  },\n  {\n   \"cell_type\": \"code\",\n   \"execution_count\": 13,\n   \"metadata\": {},\n   \"outputs\": [\n    {\n     \"data\": {\n      \"application/vnd.jupyter.widget-view+json\": {\n       \"model_id\": \"b7631eab26544bafb39c00429e837097\",\n       \"version_major\": 2,\n       \"version_minor\": 0\n      },\n      \"text/plain\": [\n       \"Tree(nodes=(Node(icon='archive', icon_style='warning', name='root'), Node(icon='info', icon_style='info', name…\"\n      ]\n     },\n     \"metadata\": {},\n     \"output_type\": \"display_data\"\n    }\n   ],\n   \"source\": [\n    \"tree5 = Tree()\\n\",\n    \"n1 =  Node(\\\"File1\\\", icon=\\\"copy\\\", icon_style=\\\"warning\\\")\\n\",\n    \"tree5.add_node(Node(\\\"root\\\", icon=\\\"archive\\\", icon_style=\\\"warning\\\"))\\n\",\n    \"tree5.add_node(Node(\\\"media\\\", icon=\\\"info\\\", icon_style=\\\"info\\\"))\\n\",\n    \"tree5.add_node(Node(\\\"local\\\", icon=\\\"warning\\\", icon_style=\\\"success\\\"))\\n\",\n    \"tree5.add_node(Node(\\\"home\\\", [Node(\\\"Desktop\\\", \\n\",\n    \"                                  [n1, \\n\",\n    \"                                   Node(\\\"File2\\\", icon=\\\"plus\\\", icon_style=\\\"success\\\")\\n\",\n    \"                                  ], icon=\\\"save\\\", icon_style=\\\"info\\\"), \\n\",\n    \"                             Node(\\\"Documents\\\", icon=\\\"cut\\\", icon_style=\\\"danger\\\")], icon=\\\"home\\\", icon_style=\\\"success\\\"))\\n\",\n    \"def handle_click(event):\\n\",\n    \"    event['owner'].icon = \\\"warning\\\"  if event['new'] else 'warning'\\n\",\n    \"\\n\",\n    \"n1.observe(handle_click, 'selected')\\n\",\n    \"\\n\",\n    \"tree5\"\n   ]\n  },\n  {\n   \"cell_type\": \"code\",\n   \"execution_count\": null,\n   \"metadata\": {},\n   \"outputs\": [],\n   \"source\": [\n    \"LookingGlass([]).look()\"\n   ]\n  },\n  {\n   \"cell_type\": \"code\",\n   \"execution_count\": 11,\n   \"metadata\": {},\n   \"outputs\": [\n    {\n     \"data\": {\n      \"text/html\": [\n       \"<pre style=\\\"white-space:pre;overflow-x:auto;line-height:normal;font-family:Menlo,'DejaVu Sans Mono',consolas,'Courier New',monospace\\\"><span style=\\\"font-weight: bold\\\">(</span><span style=\\\"color: #008000; font-weight: bold\\\">0</span>, <span style=\\\"color: #008000; font-weight: bold\\\">2</span>, <span style=\\\"color: #008000; font-weight: bold\\\">1</span><span style=\\\"font-weight: bold\\\">)</span>\\n\",\n       \"</pre>\\n\"\n      ],\n      \"text/plain\": [\n       \"<rich.jupyter.JupyterRenderable at 0x7f28f37db2b0>\"\n      ]\n     },\n     \"metadata\": {},\n     \"output_type\": \"display_data\"\n    }\n   ],\n   \"source\": [\n    \"import ipytree; print(ipytree._version.version_info)\"\n   ]\n  },\n  {\n   \"cell_type\": \"code\",\n   \"execution_count\": null,\n   \"metadata\": {},\n   \"outputs\": [],\n   \"source\": []\n  },\n  {\n   \"cell_type\": \"code\",\n   \"execution_count\": null,\n   \"metadata\": {},\n   \"outputs\": [],\n   \"source\": []\n  }\n ],\n \"metadata\": {\n  \"kernelspec\": {\n   \"display_name\": \"Python 3\",\n   \"language\": \"python\",\n   \"name\": \"python3\"\n  },\n  \"language_info\": {\n   \"codemirror_mode\": {\n    \"name\": \"ipython\",\n    \"version\": 3\n   },\n   \"file_extension\": \".py\",\n   \"mimetype\": \"text/x-python\",\n   \"name\": \"python\",\n   \"nbconvert_exporter\": \"python\",\n   \"pygments_lexer\": \"ipython3\",\n   \"version\": \"3.6.9\"\n  },\n  \"widgets\": {\n   \"application/vnd.jupyter.widget-state+json\": {\n    \"state\": {\n     \"00a76b52aea048efb51b6cc616372d7a\": {\n      \"model_module\": \"ipytree\",\n      \"model_module_version\": \"0.2.1\",\n      \"model_name\": \"TreeModel\",\n      \"state\": {\n       \"_model_module_version\": \"0.2.1\",\n       \"_view_module_version\": \"0.2.1\",\n       \"layout\": \"IPY_MODEL_a59e5c8a685d4e55978c199125734660\",\n       \"nodes\": [\n        \"IPY_MODEL_6195a00742f8424299a8f8711399aeb2\",\n        \"IPY_MODEL_2d79a1438cb842f8bbe7233ea02727b5\",\n        \"IPY_MODEL_60dbc131e0c24087b993b82b3610cd5f\",\n        \"IPY_MODEL_9aea1d52fa534b5ba8cbf755d5a31d27\"\n       ],\n       \"selected_nodes\": [\n        \"IPY_MODEL_b28ad133dfc049b4a462cc5c07dbd208\"\n       ]\n      }\n     },\n     \"0135f22dd79c4a32afc6c52fa661574b\": {\n      \"model_module\": \"ipytree\",\n      \"model_module_version\": \"0.2.1\",\n      \"model_name\": \"NodeModel\",\n      \"state\": {\n       \"_id\": \"2f9a4ab9-aa22-4d0d-8c62-0f1b14b5fe78\",\n       \"_model_module_version\": \"0.2.1\",\n       \"_view_module_version\": \"0.2.1\",\n       \"icon\": \"info\",\n       \"icon_style\": \"info\",\n       \"name\": \"media\"\n      }\n     },\n     \"0240f83840734776870c84fe5f26c5d3\": {\n      \"model_module\": \"ipytree\",\n      \"model_module_version\": \"0.2.1\",\n      \"model_name\": \"NodeModel\",\n      \"state\": {\n       \"_id\": \"d004ceb2-6538-4087-a19e-37e74301f94a\",\n       \"_model_module_version\": \"0.2.1\",\n       \"_view_module_version\": \"0.2.1\",\n       \"icon\": \"cut\",\n       \"icon_style\": \"danger\",\n       \"name\": \"Documents\"\n      }\n     },\n     \"041ee022baf94642aaae55d2d4bdf37c\": {\n      \"model_module\": \"ipytree\",\n      \"model_module_version\": \"0.2.1\",\n      \"model_name\": \"NodeModel\",\n      \"state\": {\n       \"_id\": \"4b3fa56d-01d4-4ddf-bb27-a8eb682c09e0\",\n       \"_model_module_version\": \"0.2.1\",\n       \"_view_module_version\": \"0.2.1\",\n       \"icon\": \"info\",\n       \"icon_style\": \"warning\",\n       \"name\": \"File1\",\n       \"opened\": false,\n       \"selected\": true\n      }\n     },\n     \"063d7eb0435b4937b3dad2f1bd194386\": {\n      \"model_module\": \"ipytree\",\n      \"model_module_version\": \"0.2.1\",\n      \"model_name\": \"NodeModel\",\n      \"state\": {\n       \"_id\": \"5cfd0989-604b-46a0-bb60-34bffa384868\",\n       \"_model_module_version\": \"0.2.1\",\n       \"_view_module_version\": \"0.2.1\",\n       \"icon\": \"info\",\n       \"icon_style\": \"info\",\n       \"name\": \"media\",\n       \"opened\": false\n      }\n     },\n     \"06a1719d45b740eca9f32ebb326d96cb\": {\n      \"model_module\": \"ipytree\",\n      \"model_module_version\": \"0.2.1\",\n      \"model_name\": \"NodeModel\",\n      \"state\": {\n       \"_id\": \"d3cf91a4-a1f9-4db8-ae20-1338d6752962\",\n       \"_model_module_version\": \"0.2.1\",\n       \"_view_module_version\": \"0.2.1\",\n       \"icon\": \"warning\",\n       \"icon_style\": \"success\",\n       \"name\": \"local\"\n      }\n     },\n     \"0ba2b05cdc504048a122e91ad35d11d6\": {\n      \"model_module\": \"ipytree\",\n      \"model_module_version\": \"0.2.1\",\n      \"model_name\": \"NodeModel\",\n      \"state\": {\n       \"_id\": \"ee1eb6a2-33ab-4f18-b1f4-8983d1c7cca0\",\n       \"_model_module_version\": \"0.2.1\",\n       \"_view_module_version\": \"0.2.1\",\n       \"icon\": \"cut\",\n       \"icon_style\": \"danger\",\n       \"name\": \"Documents\"\n      }\n     },\n     \"0cdf42b970a24045b9c3ec15ac6a71cd\": {\n      \"model_module\": \"ipytree\",\n      \"model_module_version\": \"0.2.1\",\n      \"model_name\": \"NodeModel\",\n      \"state\": {\n       \"_id\": \"7887e69b-483c-4eb5-b581-96f0ed1cd7ea\",\n       \"_model_module_version\": \"0.2.1\",\n       \"_view_module_version\": \"0.2.1\",\n       \"icon\": \"archive\",\n       \"icon_style\": \"warning\",\n       \"name\": \"root\"\n      }\n     },\n     \"0f3a2ed983ce41979c26764b53989b69\": {\n      \"model_module\": \"@jupyter-widgets/base\",\n      \"model_module_version\": \"1.2.0\",\n      \"model_name\": \"LayoutModel\",\n      \"state\": {}\n     },\n     \"0f6fb94510d745419f3ab07bb5f8115e\": {\n      \"model_module\": \"ipytree\",\n      \"model_module_version\": \"0.2.1\",\n      \"model_name\": \"NodeModel\",\n      \"state\": {\n       \"_id\": \"1b6f5291-9b47-49e1-b369-0d192f466423\",\n       \"_model_module_version\": \"0.2.1\",\n       \"_view_module_version\": \"0.2.1\",\n       \"icon\": \"save\",\n       \"icon_style\": \"info\",\n       \"name\": \"Desktop\",\n       \"nodes\": [\n        \"IPY_MODEL_a5ab502b71ee48dc8757a8bf4fac4656\",\n        \"IPY_MODEL_593dc4f897504c669b944737d4f9f059\"\n       ]\n      }\n     },\n     \"16b74789b890452486d39fb76303e8e0\": {\n      \"model_module\": \"ipytree\",\n      \"model_module_version\": \"0.2.1\",\n      \"model_name\": \"NodeModel\",\n      \"state\": {\n       \"_id\": \"c1a2d3c2-bd60-4f0d-9bc3-17d863f70b57\",\n       \"_model_module_version\": \"0.2.1\",\n       \"_view_module_version\": \"0.2.1\",\n       \"icon\": \"plus\",\n       \"icon_style\": \"success\",\n       \"name\": \"File2\",\n       \"opened\": false\n      }\n     },\n     \"23f79e66eadb42779db13f2e43175e86\": {\n      \"model_module\": \"ipytree\",\n      \"model_module_version\": \"0.2.1\",\n      \"model_name\": \"NodeModel\",\n      \"state\": {\n       \"_id\": \"36ebe81c-7ec0-4c5f-9ff3-ea4204db9582\",\n       \"_model_module_version\": \"0.2.1\",\n       \"_view_module_version\": \"0.2.1\",\n       \"icon\": \"archive\",\n       \"icon_style\": \"warning\",\n       \"name\": \"root\"\n      }\n     },\n     \"27d3845a257f430b9b9e8de87b10c07c\": {\n      \"model_module\": \"@jupyter-widgets/base\",\n      \"model_module_version\": \"1.2.0\",\n      \"model_name\": \"LayoutModel\",\n      \"state\": {}\n     },\n     \"28e46fea06204bed8007981b8d99c810\": {\n      \"model_module\": \"ipytree\",\n      \"model_module_version\": \"0.2.1\",\n      \"model_name\": \"NodeModel\",\n      \"state\": {\n       \"_id\": \"cdd64469-4a28-410a-bc17-a5738215acc7\",\n       \"_model_module_version\": \"0.2.1\",\n       \"_view_module_version\": \"0.2.1\",\n       \"icon\": \"warning\",\n       \"icon_style\": \"success\",\n       \"name\": \"local\"\n      }\n     },\n     \"294263428ebb4a85a46369e5aea33478\": {\n      \"model_module\": \"ipytree\",\n      \"model_module_version\": \"0.2.1\",\n      \"model_name\": \"NodeModel\",\n      \"state\": {\n       \"_id\": \"c9a59867-b366-4639-840b-9dc6e0fa95f4\",\n       \"_model_module_version\": \"0.2.1\",\n       \"_view_module_version\": \"0.2.1\",\n       \"icon\": \"home\",\n       \"icon_style\": \"success\",\n       \"name\": \"home\",\n       \"nodes\": [\n        \"IPY_MODEL_51c8fba5c00d4b189646cbf4cee0bab5\",\n        \"IPY_MODEL_36cca5a62b3844eda3280f249bd6d980\"\n       ]\n      }\n     },\n     \"2d79a1438cb842f8bbe7233ea02727b5\": {\n      \"model_module\": \"ipytree\",\n      \"model_module_version\": \"0.2.1\",\n      \"model_name\": \"NodeModel\",\n      \"state\": {\n       \"_id\": \"9baa8225-8a76-4458-bfd4-fdfc150f4912\",\n       \"_model_module_version\": \"0.2.1\",\n       \"_view_module_version\": \"0.2.1\",\n       \"icon\": \"info\",\n       \"icon_style\": \"info\",\n       \"name\": \"media\"\n      }\n     },\n     \"2f8f2a1474284f9bb285b07a1471f15f\": {\n      \"model_module\": \"ipytree\",\n      \"model_module_version\": \"0.2.1\",\n      \"model_name\": \"NodeModel\",\n      \"state\": {\n       \"_id\": \"c02796da-a497-4fbc-a203-eb74ce2bb08f\",\n       \"_model_module_version\": \"0.2.1\",\n       \"_view_module_version\": \"0.2.1\",\n       \"icon\": \"cut\",\n       \"icon_style\": \"danger\",\n       \"name\": \"Documents\"\n      }\n     },\n     \"30b91d10f14d42638339264f5a587ffc\": {\n      \"model_module\": \"ipytree\",\n      \"model_module_version\": \"0.2.1\",\n      \"model_name\": \"NodeModel\",\n      \"state\": {\n       \"_id\": \"8f9497cd-54d3-4976-9743-b2ca75ad8541\",\n       \"_model_module_version\": \"0.2.1\",\n       \"_view_module_version\": \"0.2.1\",\n       \"icon\": \"warning\",\n       \"icon_style\": \"success\",\n       \"name\": \"local\"\n      }\n     },\n     \"342df03a42a143cd98c95a462b3887e0\": {\n      \"model_module\": \"ipytree\",\n      \"model_module_version\": \"0.2.1\",\n      \"model_name\": \"NodeModel\",\n      \"state\": {\n       \"_id\": \"3eb30920-2eb3-4e80-b47a-af9b0ac194a5\",\n       \"_model_module_version\": \"0.2.1\",\n       \"_view_module_version\": \"0.2.1\",\n       \"icon\": \"plus\",\n       \"icon_style\": \"success\",\n       \"name\": \"File2\"\n      }\n     },\n     \"36cca5a62b3844eda3280f249bd6d980\": {\n      \"model_module\": \"ipytree\",\n      \"model_module_version\": \"0.2.1\",\n      \"model_name\": \"NodeModel\",\n      \"state\": {\n       \"_id\": \"7d19f227-ae19-4b19-ba27-5066dff42cdf\",\n       \"_model_module_version\": \"0.2.1\",\n       \"_view_module_version\": \"0.2.1\",\n       \"icon\": \"cut\",\n       \"icon_style\": \"danger\",\n       \"name\": \"Documents\"\n      }\n     },\n     \"3d572ba4a3074826a9f39def07bfb13a\": {\n      \"model_module\": \"ipytree\",\n      \"model_module_version\": \"0.2.1\",\n      \"model_name\": \"NodeModel\",\n      \"state\": {\n       \"_id\": \"c196f507-e0e0-44b3-9270-c2e0a9c78c35\",\n       \"_model_module_version\": \"0.2.1\",\n       \"_view_module_version\": \"0.2.1\",\n       \"icon\": \"cut\",\n       \"icon_style\": \"danger\",\n       \"name\": \"Documents\"\n      }\n     },\n     \"40a0b41faff349b8bb76759b9409e6cb\": {\n      \"model_module\": \"ipytree\",\n      \"model_module_version\": \"0.2.1\",\n      \"model_name\": \"NodeModel\",\n      \"state\": {\n       \"_id\": \"cd812f24-84fa-4f4d-b41a-c2cbf0676464\",\n       \"_model_module_version\": \"0.2.1\",\n       \"_view_module_version\": \"0.2.1\",\n       \"icon\": \"plus\",\n       \"icon_style\": \"success\",\n       \"name\": \"File2\"\n      }\n     },\n     \"45bcc723e0364a60a94eb444596dd1bf\": {\n      \"model_module\": \"ipytree\",\n      \"model_module_version\": \"0.2.1\",\n      \"model_name\": \"NodeModel\",\n      \"state\": {\n       \"_id\": \"c18e09b6-3e88-4237-8e23-99d87c0c7fef\",\n       \"_model_module_version\": \"0.2.1\",\n       \"_view_module_version\": \"0.2.1\",\n       \"icon\": \"plus\",\n       \"icon_style\": \"success\",\n       \"name\": \"File2\"\n      }\n     },\n     \"48b325558aff4f88a9ee50c653be0a56\": {\n      \"model_module\": \"ipytree\",\n      \"model_module_version\": \"0.2.1\",\n      \"model_name\": \"NodeModel\",\n      \"state\": {\n       \"_id\": \"e8bb4b94-61bf-46f8-96e8-f2ddb99c4671\",\n       \"_model_module_version\": \"0.2.1\",\n       \"_view_module_version\": \"0.2.1\",\n       \"icon\": \"plus\",\n       \"icon_style\": \"success\",\n       \"name\": \"File2\"\n      }\n     },\n     \"4a9851a59607468da66907c68b7a83c9\": {\n      \"model_module\": \"ipytree\",\n      \"model_module_version\": \"0.2.1\",\n      \"model_name\": \"TreeModel\",\n      \"state\": {\n       \"_model_module_version\": \"0.2.1\",\n       \"_view_module_version\": \"0.2.1\",\n       \"layout\": \"IPY_MODEL_27d3845a257f430b9b9e8de87b10c07c\",\n       \"nodes\": [\n        \"IPY_MODEL_78614cabc11345a8945ae4503f716e88\",\n        \"IPY_MODEL_bb95792e0e4b46f3a94a1c91793512ef\",\n        \"IPY_MODEL_28e46fea06204bed8007981b8d99c810\",\n        \"IPY_MODEL_62088be13b6f4b4f92dbdd58fb91dbf8\"\n       ],\n       \"selected_nodes\": [\n        \"IPY_MODEL_67efe08a2bf24a61915a1bc18db77471\"\n       ]\n      }\n     },\n     \"4aa960788d084c428b0fcd9f4d779016\": {\n      \"model_module\": \"ipytree\",\n      \"model_module_version\": \"0.2.1\",\n      \"model_name\": \"NodeModel\",\n      \"state\": {\n       \"_id\": \"c25a39ef-8b01-4f05-8a17-ee2d8fd5027d\",\n       \"_model_module_version\": \"0.2.1\",\n       \"_view_module_version\": \"0.2.1\",\n       \"icon\": \"archive\",\n       \"icon_style\": \"warning\",\n       \"name\": \"root\"\n      }\n     },\n     \"51c8fba5c00d4b189646cbf4cee0bab5\": {\n      \"model_module\": \"ipytree\",\n      \"model_module_version\": \"0.2.1\",\n      \"model_name\": \"NodeModel\",\n      \"state\": {\n       \"_id\": \"b37395a2-8541-4d0a-b507-3a9c159cfcd9\",\n       \"_model_module_version\": \"0.2.1\",\n       \"_view_module_version\": \"0.2.1\",\n       \"icon\": \"save\",\n       \"icon_style\": \"info\",\n       \"name\": \"Desktop\",\n       \"nodes\": [\n        \"IPY_MODEL_f54fc97f113a4eb4b394d3880142fc0b\",\n        \"IPY_MODEL_16b74789b890452486d39fb76303e8e0\"\n       ]\n      }\n     },\n     \"559ceb3503984319b9258ef63374b422\": {\n      \"model_module\": \"ipytree\",\n      \"model_module_version\": \"0.2.1\",\n      \"model_name\": \"NodeModel\",\n      \"state\": {\n       \"_id\": \"ad32878f-3cef-480f-82e4-932683d745af\",\n       \"_model_module_version\": \"0.2.1\",\n       \"_view_module_version\": \"0.2.1\",\n       \"icon\": \"save\",\n       \"icon_style\": \"info\",\n       \"name\": \"Desktop\",\n       \"nodes\": [\n        \"IPY_MODEL_8c2de248be4745a8980a655250bc20ee\",\n        \"IPY_MODEL_45bcc723e0364a60a94eb444596dd1bf\"\n       ]\n      }\n     },\n     \"58758e3030bf44f1beddd7b367affda6\": {\n      \"model_module\": \"ipytree\",\n      \"model_module_version\": \"0.2.1\",\n      \"model_name\": \"NodeModel\",\n      \"state\": {\n       \"_id\": \"f4a9f221-f780-49ae-85b9-4c2aaccfed36\",\n       \"_model_module_version\": \"0.2.1\",\n       \"_view_module_version\": \"0.2.1\",\n       \"icon\": \"home\",\n       \"icon_style\": \"success\",\n       \"name\": \"home\",\n       \"nodes\": [\n        \"IPY_MODEL_e3ac082eeb4349cbaa90c69ae9f05174\",\n        \"IPY_MODEL_3d572ba4a3074826a9f39def07bfb13a\"\n       ]\n      }\n     },\n     \"593dc4f897504c669b944737d4f9f059\": {\n      \"model_module\": \"ipytree\",\n      \"model_module_version\": \"0.2.1\",\n      \"model_name\": \"NodeModel\",\n      \"state\": {\n       \"_id\": \"0d604bdb-3948-47e4-b09a-9682539798f0\",\n       \"_model_module_version\": \"0.2.1\",\n       \"_view_module_version\": \"0.2.1\",\n       \"icon\": \"plus\",\n       \"icon_style\": \"success\",\n       \"name\": \"File2\"\n      }\n     },\n     \"5ec153dd8c464780939ae87b70250f6e\": {\n      \"model_module\": \"ipytree\",\n      \"model_module_version\": \"0.2.1\",\n      \"model_name\": \"TreeModel\",\n      \"state\": {\n       \"_model_module_version\": \"0.2.1\",\n       \"_view_module_version\": \"0.2.1\",\n       \"layout\": \"IPY_MODEL_6fd287fb75384eaea60fa8b854f9ebeb\",\n       \"nodes\": [\n        \"IPY_MODEL_4aa960788d084c428b0fcd9f4d779016\",\n        \"IPY_MODEL_fc049e246a394716a7da641a0778d694\",\n        \"IPY_MODEL_ca67aac5fa2c432aad8e1ef8e45d6bdb\",\n        \"IPY_MODEL_294263428ebb4a85a46369e5aea33478\"\n       ],\n       \"selected_nodes\": [\n        \"IPY_MODEL_f54fc97f113a4eb4b394d3880142fc0b\"\n       ]\n      }\n     },\n     \"60a76bdb79e3431e9c7483cc8ca77def\": {\n      \"model_module\": \"ipytree\",\n      \"model_module_version\": \"0.2.1\",\n      \"model_name\": \"NodeModel\",\n      \"state\": {\n       \"_id\": \"b9f5412a-0ba8-4a0a-8009-737c22f036d2\",\n       \"_model_module_version\": \"0.2.1\",\n       \"_view_module_version\": \"0.2.1\",\n       \"icon\": \"save\",\n       \"icon_style\": \"info\",\n       \"name\": \"Desktop\",\n       \"nodes\": [\n        \"IPY_MODEL_041ee022baf94642aaae55d2d4bdf37c\",\n        \"IPY_MODEL_ccd0a0f43f2e4253a2f8dc352703346f\"\n       ]\n      }\n     },\n     \"60dbc131e0c24087b993b82b3610cd5f\": {\n      \"model_module\": \"ipytree\",\n      \"model_module_version\": \"0.2.1\",\n      \"model_name\": \"NodeModel\",\n      \"state\": {\n       \"_id\": \"d7bf7224-2fa0-41eb-a6f0-dca92701ac5f\",\n       \"_model_module_version\": \"0.2.1\",\n       \"_view_module_version\": \"0.2.1\",\n       \"icon\": \"warning\",\n       \"icon_style\": \"success\",\n       \"name\": \"local\"\n      }\n     },\n     \"6195a00742f8424299a8f8711399aeb2\": {\n      \"model_module\": \"ipytree\",\n      \"model_module_version\": \"0.2.1\",\n      \"model_name\": \"NodeModel\",\n      \"state\": {\n       \"_id\": \"cd2e3fe7-8355-417a-9c4b-1a38c7fc7824\",\n       \"_model_module_version\": \"0.2.1\",\n       \"_view_module_version\": \"0.2.1\",\n       \"icon\": \"archive\",\n       \"icon_style\": \"warning\",\n       \"name\": \"root\"\n      }\n     },\n     \"62088be13b6f4b4f92dbdd58fb91dbf8\": {\n      \"model_module\": \"ipytree\",\n      \"model_module_version\": \"0.2.1\",\n      \"model_name\": \"NodeModel\",\n      \"state\": {\n       \"_id\": \"d00f1aa4-bbae-4213-ace5-146e69a759e2\",\n       \"_model_module_version\": \"0.2.1\",\n       \"_view_module_version\": \"0.2.1\",\n       \"icon\": \"home\",\n       \"icon_style\": \"success\",\n       \"name\": \"home\",\n       \"nodes\": [\n        \"IPY_MODEL_e91447d28455434a8b511df27f2c3d5e\",\n        \"IPY_MODEL_0ba2b05cdc504048a122e91ad35d11d6\"\n       ]\n      }\n     },\n     \"66daa1149f944d9aa5c97b516f113ca7\": {\n      \"model_module\": \"ipytree\",\n      \"model_module_version\": \"0.2.1\",\n      \"model_name\": \"NodeModel\",\n      \"state\": {\n       \"_id\": \"d8f5aa96-445b-40f1-bdbd-f3e8dee2c70f\",\n       \"_model_module_version\": \"0.2.1\",\n       \"_view_module_version\": \"0.2.1\",\n       \"icon\": \"archive\",\n       \"icon_style\": \"warning\",\n       \"name\": \"root\"\n      }\n     },\n     \"67efe08a2bf24a61915a1bc18db77471\": {\n      \"model_module\": \"ipytree\",\n      \"model_module_version\": \"0.2.1\",\n      \"model_name\": \"NodeModel\",\n      \"state\": {\n       \"_id\": \"cafe2e22-7992-4c47-b506-f47e5ac3fd15\",\n       \"_model_module_version\": \"0.2.1\",\n       \"_view_module_version\": \"0.2.1\",\n       \"icon\": \"info\",\n       \"icon_style\": \"warning\",\n       \"name\": \"File1\",\n       \"selected\": true\n      }\n     },\n     \"6a7647b1aa254524a4fec037e359aedf\": {\n      \"model_module\": \"ipytree\",\n      \"model_module_version\": \"0.2.1\",\n      \"model_name\": \"TreeModel\",\n      \"state\": {\n       \"_model_module_version\": \"0.2.1\",\n       \"_view_module_version\": \"0.2.1\",\n       \"layout\": \"IPY_MODEL_711aef56c50f498fad5a7317ee37e8a5\",\n       \"nodes\": [\n        \"IPY_MODEL_c446d9bf00c0400c8c1f18c68c15358c\",\n        \"IPY_MODEL_96837a13ddb343a2a65fad3f0026f483\",\n        \"IPY_MODEL_dea246b47c574a9584ae4be8a275daca\",\n        \"IPY_MODEL_fe83b6b8a7564cc08d975e8f4562a915\"\n       ]\n      }\n     },\n     \"6d03b5f610174c5597e47c4e9e1f5803\": {\n      \"model_module\": \"ipytree\",\n      \"model_module_version\": \"0.2.1\",\n      \"model_name\": \"NodeModel\",\n      \"state\": {\n       \"_id\": \"d4605b80-f4f3-456a-bdc4-ca3ccfb0192b\",\n       \"_model_module_version\": \"0.2.1\",\n       \"_view_module_version\": \"0.2.1\",\n       \"icon\": \"info\",\n       \"icon_style\": \"info\",\n       \"name\": \"media\"\n      }\n     },\n     \"6fd287fb75384eaea60fa8b854f9ebeb\": {\n      \"model_module\": \"@jupyter-widgets/base\",\n      \"model_module_version\": \"1.2.0\",\n      \"model_name\": \"LayoutModel\",\n      \"state\": {}\n     },\n     \"707153ade3694addb69a5f1c4944d43b\": {\n      \"model_module\": \"@jupyter-widgets/base\",\n      \"model_module_version\": \"1.2.0\",\n      \"model_name\": \"LayoutModel\",\n      \"state\": {}\n     },\n     \"711aef56c50f498fad5a7317ee37e8a5\": {\n      \"model_module\": \"@jupyter-widgets/base\",\n      \"model_module_version\": \"1.2.0\",\n      \"model_name\": \"LayoutModel\",\n      \"state\": {}\n     },\n     \"78614cabc11345a8945ae4503f716e88\": {\n      \"model_module\": \"ipytree\",\n      \"model_module_version\": \"0.2.1\",\n      \"model_name\": \"NodeModel\",\n      \"state\": {\n       \"_id\": \"26c129e0-057f-4c95-9234-37899d14a0ba\",\n       \"_model_module_version\": \"0.2.1\",\n       \"_view_module_version\": \"0.2.1\",\n       \"icon\": \"archive\",\n       \"icon_style\": \"warning\",\n       \"name\": \"root\"\n      }\n     },\n     \"78cd1756c162477497c8641624f61945\": {\n      \"model_module\": \"@jupyter-widgets/base\",\n      \"model_module_version\": \"1.2.0\",\n      \"model_name\": \"LayoutModel\",\n      \"state\": {}\n     },\n     \"7f48d6c4c9d7411ca5bbc276de05f17a\": {\n      \"model_module\": \"ipytree\",\n      \"model_module_version\": \"0.2.1\",\n      \"model_name\": \"NodeModel\",\n      \"state\": {\n       \"_id\": \"8db05450-fe36-47e3-9b35-be08b6d8d216\",\n       \"_model_module_version\": \"0.2.1\",\n       \"_view_module_version\": \"0.2.1\",\n       \"icon\": \"home\",\n       \"icon_style\": \"success\",\n       \"name\": \"home\",\n       \"nodes\": [\n        \"IPY_MODEL_fcedc03913ce431f95147696f1ca2cc7\",\n        \"IPY_MODEL_e0905c778f624732b86e0748ff227a91\"\n       ]\n      }\n     },\n     \"8250a564b71c42adb33a93d0495494eb\": {\n      \"model_module\": \"plotlywidget\",\n      \"model_module_version\": \"^4.8.0\",\n      \"model_name\": \"FigureModel\",\n      \"state\": {\n       \"_config\": {\n        \"plotlyServerURL\": \"https://plot.ly\"\n       },\n       \"_js2py_pointsCallback\": {},\n       \"_js2py_relayout\": {},\n       \"_js2py_restyle\": {},\n       \"_js2py_update\": {},\n       \"_layout\": {\n        \"height\": 400,\n        \"margin\": {\n         \"b\": 5,\n         \"l\": 5,\n         \"r\": 5,\n         \"t\": 35\n        },\n        \"template\": {\n         \"data\": {\n          \"bar\": [\n           {\n            \"error_x\": {\n             \"color\": \"#f2f5fa\"\n            },\n            \"error_y\": {\n             \"color\": \"#f2f5fa\"\n            },\n            \"marker\": {\n             \"line\": {\n              \"color\": \"rgb(17,17,17)\",\n              \"width\": 0.5\n             }\n            },\n            \"type\": \"bar\"\n           }\n          ],\n          \"barpolar\": [\n           {\n            \"marker\": {\n             \"line\": {\n              \"color\": \"rgb(17,17,17)\",\n              \"width\": 0.5\n             }\n            },\n            \"type\": \"barpolar\"\n           }\n          ],\n          \"carpet\": [\n           {\n            \"aaxis\": {\n             \"endlinecolor\": \"#A2B1C6\",\n             \"gridcolor\": \"#506784\",\n             \"linecolor\": \"#506784\",\n             \"minorgridcolor\": \"#506784\",\n             \"startlinecolor\": \"#A2B1C6\"\n            },\n            \"baxis\": {\n             \"endlinecolor\": \"#A2B1C6\",\n             \"gridcolor\": \"#506784\",\n             \"linecolor\": \"#506784\",\n             \"minorgridcolor\": \"#506784\",\n             \"startlinecolor\": \"#A2B1C6\"\n            },\n            \"type\": \"carpet\"\n           }\n          ],\n          \"choropleth\": [\n           {\n            \"colorbar\": {\n             \"outlinewidth\": 0,\n             \"ticks\": \"\"\n            },\n            \"type\": \"choropleth\"\n           }\n          ],\n          \"contour\": [\n           {\n            \"colorbar\": {\n             \"outlinewidth\": 0,\n             \"ticks\": \"\"\n            },\n            \"colorscale\": [\n             [\n              0,\n              \"#0d0887\"\n             ],\n             [\n              0.1111111111111111,\n              \"#46039f\"\n             ],\n             [\n              0.2222222222222222,\n              \"#7201a8\"\n             ],\n             [\n              0.3333333333333333,\n              \"#9c179e\"\n             ],\n             [\n              0.4444444444444444,\n              \"#bd3786\"\n             ],\n             [\n              0.5555555555555556,\n              \"#d8576b\"\n             ],\n             [\n              0.6666666666666666,\n              \"#ed7953\"\n             ],\n             [\n              0.7777777777777778,\n              \"#fb9f3a\"\n             ],\n             [\n              0.8888888888888888,\n              \"#fdca26\"\n             ],\n             [\n              1,\n              \"#f0f921\"\n             ]\n            ],\n            \"type\": \"contour\"\n           }\n          ],\n          \"contourcarpet\": [\n           {\n            \"colorbar\": {\n             \"outlinewidth\": 0,\n             \"ticks\": \"\"\n            },\n            \"type\": \"contourcarpet\"\n           }\n          ],\n          \"heatmap\": [\n           {\n            \"colorbar\": {\n             \"outlinewidth\": 0,\n             \"ticks\": \"\"\n            },\n            \"colorscale\": [\n             [\n              0,\n              \"#0d0887\"\n             ],\n             [\n              0.1111111111111111,\n              \"#46039f\"\n             ],\n             [\n              0.2222222222222222,\n              \"#7201a8\"\n             ],\n             [\n              0.3333333333333333,\n              \"#9c179e\"\n             ],\n             [\n              0.4444444444444444,\n              \"#bd3786\"\n             ],\n             [\n              0.5555555555555556,\n              \"#d8576b\"\n             ],\n             [\n              0.6666666666666666,\n              \"#ed7953\"\n             ],\n             [\n              0.7777777777777778,\n              \"#fb9f3a\"\n             ],\n             [\n              0.8888888888888888,\n              \"#fdca26\"\n             ],\n             [\n              1,\n              \"#f0f921\"\n             ]\n            ],\n            \"type\": \"heatmap\"\n           }\n          ],\n          \"heatmapgl\": [\n           {\n            \"colorbar\": {\n             \"outlinewidth\": 0,\n             \"ticks\": \"\"\n            },\n            \"colorscale\": [\n             [\n              0,\n              \"#0d0887\"\n             ],\n             [\n              0.1111111111111111,\n              \"#46039f\"\n             ],\n             [\n              0.2222222222222222,\n              \"#7201a8\"\n             ],\n             [\n              0.3333333333333333,\n              \"#9c179e\"\n             ],\n             [\n              0.4444444444444444,\n              \"#bd3786\"\n             ],\n             [\n              0.5555555555555556,\n              \"#d8576b\"\n             ],\n             [\n              0.6666666666666666,\n              \"#ed7953\"\n             ],\n             [\n              0.7777777777777778,\n              \"#fb9f3a\"\n             ],\n             [\n              0.8888888888888888,\n              \"#fdca26\"\n             ],\n             [\n              1,\n              \"#f0f921\"\n             ]\n            ],\n            \"type\": \"heatmapgl\"\n           }\n          ],\n          \"histogram\": [\n           {\n            \"marker\": {\n             \"colorbar\": {\n              \"outlinewidth\": 0,\n              \"ticks\": \"\"\n             }\n            },\n            \"type\": \"histogram\"\n           }\n          ],\n          \"histogram2d\": [\n           {\n            \"colorbar\": {\n             \"outlinewidth\": 0,\n             \"ticks\": \"\"\n            },\n            \"colorscale\": [\n             [\n              0,\n              \"#0d0887\"\n             ],\n             [\n              0.1111111111111111,\n              \"#46039f\"\n             ],\n             [\n              0.2222222222222222,\n              \"#7201a8\"\n             ],\n             [\n              0.3333333333333333,\n              \"#9c179e\"\n             ],\n             [\n              0.4444444444444444,\n              \"#bd3786\"\n             ],\n             [\n              0.5555555555555556,\n              \"#d8576b\"\n             ],\n             [\n              0.6666666666666666,\n              \"#ed7953\"\n             ],\n             [\n              0.7777777777777778,\n              \"#fb9f3a\"\n             ],\n             [\n              0.8888888888888888,\n              \"#fdca26\"\n             ],\n             [\n              1,\n              \"#f0f921\"\n             ]\n            ],\n            \"type\": \"histogram2d\"\n           }\n          ],\n          \"histogram2dcontour\": [\n           {\n            \"colorbar\": {\n             \"outlinewidth\": 0,\n             \"ticks\": \"\"\n            },\n            \"colorscale\": [\n             [\n              0,\n              \"#0d0887\"\n             ],\n             [\n              0.1111111111111111,\n              \"#46039f\"\n             ],\n             [\n              0.2222222222222222,\n              \"#7201a8\"\n             ],\n             [\n              0.3333333333333333,\n              \"#9c179e\"\n             ],\n             [\n              0.4444444444444444,\n              \"#bd3786\"\n             ],\n             [\n              0.5555555555555556,\n              \"#d8576b\"\n             ],\n             [\n              0.6666666666666666,\n              \"#ed7953\"\n             ],\n             [\n              0.7777777777777778,\n              \"#fb9f3a\"\n             ],\n             [\n              0.8888888888888888,\n              \"#fdca26\"\n             ],\n             [\n              1,\n              \"#f0f921\"\n             ]\n            ],\n            \"type\": \"histogram2dcontour\"\n           }\n          ],\n          \"mesh3d\": [\n           {\n            \"colorbar\": {\n             \"outlinewidth\": 0,\n             \"ticks\": \"\"\n            },\n            \"type\": \"mesh3d\"\n           }\n          ],\n          \"parcoords\": [\n           {\n            \"line\": {\n             \"colorbar\": {\n              \"outlinewidth\": 0,\n              \"ticks\": \"\"\n             }\n            },\n            \"type\": \"parcoords\"\n           }\n          ],\n          \"pie\": [\n           {\n            \"automargin\": true,\n            \"type\": \"pie\"\n           }\n          ],\n          \"scatter\": [\n           {\n            \"marker\": {\n             \"line\": {\n              \"color\": \"#283442\"\n             }\n            },\n            \"type\": \"scatter\"\n           }\n          ],\n          \"scatter3d\": [\n           {\n            \"line\": {\n             \"colorbar\": {\n              \"outlinewidth\": 0,\n              \"ticks\": \"\"\n             }\n            },\n            \"marker\": {\n             \"colorbar\": {\n              \"outlinewidth\": 0,\n              \"ticks\": \"\"\n             }\n            },\n            \"type\": \"scatter3d\"\n           }\n          ],\n          \"scattercarpet\": [\n           {\n            \"marker\": {\n             \"colorbar\": {\n              \"outlinewidth\": 0,\n              \"ticks\": \"\"\n             }\n            },\n            \"type\": \"scattercarpet\"\n           }\n          ],\n          \"scattergeo\": [\n           {\n            \"marker\": {\n             \"colorbar\": {\n              \"outlinewidth\": 0,\n              \"ticks\": \"\"\n             }\n            },\n            \"type\": \"scattergeo\"\n           }\n          ],\n          \"scattergl\": [\n           {\n            \"marker\": {\n             \"line\": {\n              \"color\": \"#283442\"\n             }\n            },\n            \"type\": \"scattergl\"\n           }\n          ],\n          \"scattermapbox\": [\n           {\n            \"marker\": {\n             \"colorbar\": {\n              \"outlinewidth\": 0,\n              \"ticks\": \"\"\n             }\n            },\n            \"type\": \"scattermapbox\"\n           }\n          ],\n          \"scatterpolar\": [\n           {\n            \"marker\": {\n             \"colorbar\": {\n              \"outlinewidth\": 0,\n              \"ticks\": \"\"\n             }\n            },\n            \"type\": \"scatterpolar\"\n           }\n          ],\n          \"scatterpolargl\": [\n           {\n            \"marker\": {\n             \"colorbar\": {\n              \"outlinewidth\": 0,\n              \"ticks\": \"\"\n             }\n            },\n            \"type\": \"scatterpolargl\"\n           }\n          ],\n          \"scatterternary\": [\n           {\n            \"marker\": {\n             \"colorbar\": {\n              \"outlinewidth\": 0,\n              \"ticks\": \"\"\n             }\n            },\n            \"type\": \"scatterternary\"\n           }\n          ],\n          \"surface\": [\n           {\n            \"colorbar\": {\n             \"outlinewidth\": 0,\n             \"ticks\": \"\"\n            },\n            \"colorscale\": [\n             [\n              0,\n              \"#0d0887\"\n             ],\n             [\n              0.1111111111111111,\n              \"#46039f\"\n             ],\n             [\n              0.2222222222222222,\n              \"#7201a8\"\n             ],\n             [\n              0.3333333333333333,\n              \"#9c179e\"\n             ],\n             [\n              0.4444444444444444,\n              \"#bd3786\"\n             ],\n             [\n              0.5555555555555556,\n              \"#d8576b\"\n             ],\n             [\n              0.6666666666666666,\n              \"#ed7953\"\n             ],\n             [\n              0.7777777777777778,\n              \"#fb9f3a\"\n             ],\n             [\n              0.8888888888888888,\n              \"#fdca26\"\n             ],\n             [\n              1,\n              \"#f0f921\"\n             ]\n            ],\n            \"type\": \"surface\"\n           }\n          ],\n          \"table\": [\n           {\n            \"cells\": {\n             \"fill\": {\n              \"color\": \"#506784\"\n             },\n             \"line\": {\n              \"color\": \"rgb(17,17,17)\"\n             }\n            },\n            \"header\": {\n             \"fill\": {\n              \"color\": \"#2a3f5f\"\n             },\n             \"line\": {\n              \"color\": \"rgb(17,17,17)\"\n             }\n            },\n            \"type\": \"table\"\n           }\n          ]\n         },\n         \"layout\": {\n          \"annotationdefaults\": {\n           \"arrowcolor\": \"#f2f5fa\",\n           \"arrowhead\": 0,\n           \"arrowwidth\": 1\n          },\n          \"coloraxis\": {\n           \"colorbar\": {\n            \"outlinewidth\": 0,\n            \"ticks\": \"\"\n           }\n          },\n          \"colorscale\": {\n           \"diverging\": [\n            [\n             0,\n             \"#8e0152\"\n            ],\n            [\n             0.1,\n             \"#c51b7d\"\n            ],\n            [\n             0.2,\n             \"#de77ae\"\n            ],\n            [\n             0.3,\n             \"#f1b6da\"\n            ],\n            [\n             0.4,\n             \"#fde0ef\"\n            ],\n            [\n             0.5,\n             \"#f7f7f7\"\n            ],\n            [\n             0.6,\n             \"#e6f5d0\"\n            ],\n            [\n             0.7,\n             \"#b8e186\"\n            ],\n            [\n             0.8,\n             \"#7fbc41\"\n            ],\n            [\n             0.9,\n             \"#4d9221\"\n            ],\n            [\n             1,\n             \"#276419\"\n            ]\n           ],\n           \"sequential\": [\n            [\n             0,\n             \"#0d0887\"\n            ],\n            [\n             0.1111111111111111,\n             \"#46039f\"\n            ],\n            [\n             0.2222222222222222,\n             \"#7201a8\"\n            ],\n            [\n             0.3333333333333333,\n             \"#9c179e\"\n            ],\n            [\n             0.4444444444444444,\n             \"#bd3786\"\n            ],\n            [\n             0.5555555555555556,\n             \"#d8576b\"\n            ],\n            [\n             0.6666666666666666,\n             \"#ed7953\"\n            ],\n            [\n             0.7777777777777778,\n             \"#fb9f3a\"\n            ],\n            [\n             0.8888888888888888,\n             \"#fdca26\"\n            ],\n            [\n             1,\n             \"#f0f921\"\n            ]\n           ],\n           \"sequentialminus\": [\n            [\n             0,\n             \"#0d0887\"\n            ],\n            [\n             0.1111111111111111,\n             \"#46039f\"\n            ],\n            [\n             0.2222222222222222,\n             \"#7201a8\"\n            ],\n            [\n             0.3333333333333333,\n             \"#9c179e\"\n            ],\n            [\n             0.4444444444444444,\n             \"#bd3786\"\n            ],\n            [\n             0.5555555555555556,\n             \"#d8576b\"\n            ],\n            [\n             0.6666666666666666,\n             \"#ed7953\"\n            ],\n            [\n             0.7777777777777778,\n             \"#fb9f3a\"\n            ],\n            [\n             0.8888888888888888,\n             \"#fdca26\"\n            ],\n            [\n             1,\n             \"#f0f921\"\n            ]\n           ]\n          },\n          \"colorway\": [\n           \"#636efa\",\n           \"#EF553B\",\n           \"#00cc96\",\n           \"#ab63fa\",\n           \"#FFA15A\",\n           \"#19d3f3\",\n           \"#FF6692\",\n           \"#B6E880\",\n           \"#FF97FF\",\n           \"#FECB52\"\n          ],\n          \"font\": {\n           \"color\": \"#f2f5fa\"\n          },\n          \"geo\": {\n           \"bgcolor\": \"rgb(17,17,17)\",\n           \"lakecolor\": \"rgb(17,17,17)\",\n           \"landcolor\": \"rgb(17,17,17)\",\n           \"showlakes\": true,\n           \"showland\": true,\n           \"subunitcolor\": \"#506784\"\n          },\n          \"hoverlabel\": {\n           \"align\": \"left\"\n          },\n          \"hovermode\": \"closest\",\n          \"mapbox\": {\n           \"style\": \"dark\"\n          },\n          \"paper_bgcolor\": \"rgb(17,17,17)\",\n          \"plot_bgcolor\": \"rgb(17,17,17)\",\n          \"polar\": {\n           \"angularaxis\": {\n            \"gridcolor\": \"#506784\",\n            \"linecolor\": \"#506784\",\n            \"ticks\": \"\"\n           },\n           \"bgcolor\": \"rgb(17,17,17)\",\n           \"radialaxis\": {\n            \"gridcolor\": \"#506784\",\n            \"linecolor\": \"#506784\",\n            \"ticks\": \"\"\n           }\n          },\n          \"scene\": {\n           \"xaxis\": {\n            \"backgroundcolor\": \"rgb(17,17,17)\",\n            \"gridcolor\": \"#506784\",\n            \"gridwidth\": 2,\n            \"linecolor\": \"#506784\",\n            \"showbackground\": true,\n            \"ticks\": \"\",\n            \"zerolinecolor\": \"#C8D4E3\"\n           },\n           \"yaxis\": {\n            \"backgroundcolor\": \"rgb(17,17,17)\",\n            \"gridcolor\": \"#506784\",\n            \"gridwidth\": 2,\n            \"linecolor\": \"#506784\",\n            \"showbackground\": true,\n            \"ticks\": \"\",\n            \"zerolinecolor\": \"#C8D4E3\"\n           },\n           \"zaxis\": {\n            \"backgroundcolor\": \"rgb(17,17,17)\",\n            \"gridcolor\": \"#506784\",\n            \"gridwidth\": 2,\n            \"linecolor\": \"#506784\",\n            \"showbackground\": true,\n            \"ticks\": \"\",\n            \"zerolinecolor\": \"#C8D4E3\"\n           }\n          },\n          \"shapedefaults\": {\n           \"line\": {\n            \"color\": \"#f2f5fa\"\n           }\n          },\n          \"sliderdefaults\": {\n           \"bgcolor\": \"#C8D4E3\",\n           \"bordercolor\": \"rgb(17,17,17)\",\n           \"borderwidth\": 1,\n           \"tickwidth\": 0\n          },\n          \"ternary\": {\n           \"aaxis\": {\n            \"gridcolor\": \"#506784\",\n            \"linecolor\": \"#506784\",\n            \"ticks\": \"\"\n           },\n           \"baxis\": {\n            \"gridcolor\": \"#506784\",\n            \"linecolor\": \"#506784\",\n            \"ticks\": \"\"\n           },\n           \"bgcolor\": \"rgb(17,17,17)\",\n           \"caxis\": {\n            \"gridcolor\": \"#506784\",\n            \"linecolor\": \"#506784\",\n            \"ticks\": \"\"\n           }\n          },\n          \"title\": {\n           \"x\": 0.05\n          },\n          \"updatemenudefaults\": {\n           \"bgcolor\": \"#506784\",\n           \"borderwidth\": 0\n          },\n          \"xaxis\": {\n           \"automargin\": true,\n           \"gridcolor\": \"#283442\",\n           \"linecolor\": \"#506784\",\n           \"ticks\": \"\",\n           \"title\": {\n            \"standoff\": 15\n           },\n           \"zerolinecolor\": \"#283442\",\n           \"zerolinewidth\": 2\n          },\n          \"yaxis\": {\n           \"automargin\": true,\n           \"gridcolor\": \"#283442\",\n           \"linecolor\": \"#506784\",\n           \"ticks\": \"\",\n           \"title\": {\n            \"standoff\": 15\n           },\n           \"zerolinecolor\": \"#283442\",\n           \"zerolinewidth\": 2\n          }\n         }\n        },\n        \"title\": {\n         \"text\": \" None\",\n         \"x\": 0.5,\n         \"xanchor\": \"center\",\n         \"y\": 0.9,\n         \"yanchor\": \"top\"\n        },\n        \"xaxis\": {\n         \"anchor\": \"y\",\n         \"domain\": [\n          0,\n          1\n         ],\n         \"rangeslider\": {\n          \"visible\": false\n         }\n        },\n        \"yaxis\": {\n         \"anchor\": \"x\",\n         \"domain\": [\n          0,\n          1\n         ]\n        }\n       },\n       \"_model_module_version\": \"^4.8.0\",\n       \"_py2js_addTraces\": {},\n       \"_py2js_animate\": {},\n       \"_py2js_deleteTraces\": {},\n       \"_py2js_moveTraces\": {},\n       \"_py2js_relayout\": {},\n       \"_py2js_removeLayoutProps\": {},\n       \"_py2js_removeTraceProps\": {},\n       \"_py2js_restyle\": {},\n       \"_py2js_update\": {},\n       \"_view_count\": 0,\n       \"_view_module_version\": \"^4.8.0\"\n      }\n     },\n     \"83fd29d5832c46988c333e43b16778cd\": {\n      \"model_module\": \"ipytree\",\n      \"model_module_version\": \"0.2.1\",\n      \"model_name\": \"NodeModel\",\n      \"state\": {\n       \"_id\": \"57a8bef0-2431-4a25-8583-d225390ab4f9\",\n       \"_model_module_version\": \"0.2.1\",\n       \"_view_module_version\": \"0.2.1\",\n       \"icon\": \"plus\",\n       \"icon_style\": \"success\",\n       \"name\": \"File2\"\n      }\n     },\n     \"8a9d06664645437a98d440318d1c434e\": {\n      \"model_module\": \"ipytree\",\n      \"model_module_version\": \"0.2.1\",\n      \"model_name\": \"TreeModel\",\n      \"state\": {\n       \"_model_module_version\": \"0.2.1\",\n       \"_view_module_version\": \"0.2.1\",\n       \"layout\": \"IPY_MODEL_78cd1756c162477497c8641624f61945\",\n       \"nodes\": [\n        \"IPY_MODEL_0cdf42b970a24045b9c3ec15ac6a71cd\",\n        \"IPY_MODEL_6d03b5f610174c5597e47c4e9e1f5803\",\n        \"IPY_MODEL_30b91d10f14d42638339264f5a587ffc\",\n        \"IPY_MODEL_7f48d6c4c9d7411ca5bbc276de05f17a\"\n       ],\n       \"selected_nodes\": [\n        \"IPY_MODEL_f9488b67a13b4fca9ec790b1b3d5218f\"\n       ]\n      }\n     },\n     \"8b76589fcbf440c28aa5500b18cc788d\": {\n      \"model_module\": \"ipytree\",\n      \"model_module_version\": \"0.2.1\",\n      \"model_name\": \"NodeModel\",\n      \"state\": {\n       \"_id\": \"f5c487c5-7de0-4845-96c6-ab65f0f1ddc0\",\n       \"_model_module_version\": \"0.2.1\",\n       \"_view_module_version\": \"0.2.1\",\n       \"icon\": \"save\",\n       \"icon_style\": \"info\",\n       \"name\": \"Desktop\",\n       \"nodes\": [\n        \"IPY_MODEL_b28ad133dfc049b4a462cc5c07dbd208\",\n        \"IPY_MODEL_48b325558aff4f88a9ee50c653be0a56\"\n       ]\n      }\n     },\n     \"8c2de248be4745a8980a655250bc20ee\": {\n      \"model_module\": \"ipytree\",\n      \"model_module_version\": \"0.2.1\",\n      \"model_name\": \"NodeModel\",\n      \"state\": {\n       \"_id\": \"f1c2b74f-84ac-43bd-9672-3bbd106a9f11\",\n       \"_model_module_version\": \"0.2.1\",\n       \"_view_module_version\": \"0.2.1\",\n       \"icon\": \"copy\",\n       \"icon_style\": \"warning\",\n       \"name\": \"File1\"\n      }\n     },\n     \"95e46072a5a84cfcae5c55251fd89a95\": {\n      \"model_module\": \"ipytree\",\n      \"model_module_version\": \"0.2.1\",\n      \"model_name\": \"NodeModel\",\n      \"state\": {\n       \"_id\": \"99f9aefa-4600-4115-ac46-65bcafae62e8\",\n       \"_model_module_version\": \"0.2.1\",\n       \"_view_module_version\": \"0.2.1\",\n       \"icon\": \"cut\",\n       \"icon_style\": \"danger\",\n       \"name\": \"Documents\"\n      }\n     },\n     \"96837a13ddb343a2a65fad3f0026f483\": {\n      \"model_module\": \"ipytree\",\n      \"model_module_version\": \"0.2.1\",\n      \"model_name\": \"NodeModel\",\n      \"state\": {\n       \"_id\": \"7604679a-50e0-48c7-a991-8686dec49c07\",\n       \"_model_module_version\": \"0.2.1\",\n       \"_view_module_version\": \"0.2.1\",\n       \"icon\": \"info\",\n       \"icon_style\": \"info\",\n       \"name\": \"media\"\n      }\n     },\n     \"9aea1d52fa534b5ba8cbf755d5a31d27\": {\n      \"model_module\": \"ipytree\",\n      \"model_module_version\": \"0.2.1\",\n      \"model_name\": \"NodeModel\",\n      \"state\": {\n       \"_id\": \"34744129-b1c8-41e6-838b-6c6cf79b6694\",\n       \"_model_module_version\": \"0.2.1\",\n       \"_view_module_version\": \"0.2.1\",\n       \"icon\": \"home\",\n       \"icon_style\": \"success\",\n       \"name\": \"home\",\n       \"nodes\": [\n        \"IPY_MODEL_8b76589fcbf440c28aa5500b18cc788d\",\n        \"IPY_MODEL_95e46072a5a84cfcae5c55251fd89a95\"\n       ]\n      }\n     },\n     \"9ffe998e4c364cf89c3ad75a041a4939\": {\n      \"model_module\": \"ipytree\",\n      \"model_module_version\": \"0.2.1\",\n      \"model_name\": \"NodeModel\",\n      \"state\": {\n       \"_id\": \"7fb65e8e-51bc-459c-83fc-34e007ead4e8\",\n       \"_model_module_version\": \"0.2.1\",\n       \"_view_module_version\": \"0.2.1\",\n       \"icon\": \"copy\",\n       \"icon_style\": \"warning\",\n       \"name\": \"File1\"\n      }\n     },\n     \"a59e5c8a685d4e55978c199125734660\": {\n      \"model_module\": \"@jupyter-widgets/base\",\n      \"model_module_version\": \"1.2.0\",\n      \"model_name\": \"LayoutModel\",\n      \"state\": {}\n     },\n     \"a5ab502b71ee48dc8757a8bf4fac4656\": {\n      \"model_module\": \"ipytree\",\n      \"model_module_version\": \"0.2.1\",\n      \"model_name\": \"NodeModel\",\n      \"state\": {\n       \"_id\": \"f30e3680-e0be-485b-bc50-fbd7ecaa1985\",\n       \"_model_module_version\": \"0.2.1\",\n       \"_view_module_version\": \"0.2.1\",\n       \"icon\": \"warning\",\n       \"icon_style\": \"warning\",\n       \"name\": \"File1\",\n       \"selected\": true\n      }\n     },\n     \"a83cd44a70da40828abacf9d234d5c08\": {\n      \"model_module\": \"ipytree\",\n      \"model_module_version\": \"0.2.1\",\n      \"model_name\": \"NodeModel\",\n      \"state\": {\n       \"_id\": \"4cfc1a84-c4d7-4e4e-abdc-37a544c41950\",\n       \"_model_module_version\": \"0.2.1\",\n       \"_view_module_version\": \"0.2.1\",\n       \"icon\": \"info\",\n       \"icon_style\": \"info\",\n       \"name\": \"media\"\n      }\n     },\n     \"aa746dd538894c67aaae4c679df8c5dc\": {\n      \"model_module\": \"ipytree\",\n      \"model_module_version\": \"0.2.1\",\n      \"model_name\": \"NodeModel\",\n      \"state\": {\n       \"_id\": \"6ee66e68-d331-47a2-b781-64c67315bf8e\",\n       \"_model_module_version\": \"0.2.1\",\n       \"_view_module_version\": \"0.2.1\",\n       \"icon\": \"plus\",\n       \"icon_style\": \"success\",\n       \"name\": \"File2\"\n      }\n     },\n     \"ab1e4025ffb74dd3b9546cf05f4ebe87\": {\n      \"model_module\": \"ipytree\",\n      \"model_module_version\": \"0.2.1\",\n      \"model_name\": \"NodeModel\",\n      \"state\": {\n       \"_id\": \"418d884f-dd9b-418a-9caa-f5e9779a0163\",\n       \"_model_module_version\": \"0.2.1\",\n       \"_view_module_version\": \"0.2.1\",\n       \"icon\": \"info\",\n       \"icon_style\": \"info\",\n       \"name\": \"media\"\n      }\n     },\n     \"af1b93fbe33742e7b806033c6dc2cc9c\": {\n      \"model_module\": \"ipytree\",\n      \"model_module_version\": \"0.2.1\",\n      \"model_name\": \"NodeModel\",\n      \"state\": {\n       \"_id\": \"268b4085-131a-4c0e-8844-cb16ff2fb4dd\",\n       \"_model_module_version\": \"0.2.1\",\n       \"_view_module_version\": \"0.2.1\",\n       \"icon\": \"archive\",\n       \"icon_style\": \"warning\",\n       \"name\": \"root\"\n      }\n     },\n     \"b13021b18a7642d195b5959f1e67b0cf\": {\n      \"model_module\": \"ipytree\",\n      \"model_module_version\": \"0.2.1\",\n      \"model_name\": \"NodeModel\",\n      \"state\": {\n       \"_id\": \"b7cc0eef-adec-445b-96f4-29bac2473bd2\",\n       \"_model_module_version\": \"0.2.1\",\n       \"_view_module_version\": \"0.2.1\",\n       \"icon\": \"info\",\n       \"icon_style\": \"warning\",\n       \"name\": \"File1\",\n       \"selected\": true\n      }\n     },\n     \"b28ad133dfc049b4a462cc5c07dbd208\": {\n      \"model_module\": \"ipytree\",\n      \"model_module_version\": \"0.2.1\",\n      \"model_name\": \"NodeModel\",\n      \"state\": {\n       \"_id\": \"c1c50daf-fe51-4de0-b095-f2e9c3118bc5\",\n       \"_model_module_version\": \"0.2.1\",\n       \"_view_module_version\": \"0.2.1\",\n       \"icon\": \"warn\",\n       \"icon_style\": \"warning\",\n       \"name\": \"File1\",\n       \"selected\": true\n      }\n     },\n     \"b7631eab26544bafb39c00429e837097\": {\n      \"model_module\": \"ipytree\",\n      \"model_module_version\": \"0.2.1\",\n      \"model_name\": \"TreeModel\",\n      \"state\": {\n       \"_model_module_version\": \"0.2.1\",\n       \"_view_module_version\": \"0.2.1\",\n       \"layout\": \"IPY_MODEL_707153ade3694addb69a5f1c4944d43b\",\n       \"nodes\": [\n        \"IPY_MODEL_66daa1149f944d9aa5c97b516f113ca7\",\n        \"IPY_MODEL_ab1e4025ffb74dd3b9546cf05f4ebe87\",\n        \"IPY_MODEL_e1283077e7464a24864d6bd3336039ff\",\n        \"IPY_MODEL_ede3db4a1ea7470d8dfea2ab075c800e\"\n       ],\n       \"selected_nodes\": [\n        \"IPY_MODEL_a5ab502b71ee48dc8757a8bf4fac4656\"\n       ]\n      }\n     },\n     \"bb95792e0e4b46f3a94a1c91793512ef\": {\n      \"model_module\": \"ipytree\",\n      \"model_module_version\": \"0.2.1\",\n      \"model_name\": \"NodeModel\",\n      \"state\": {\n       \"_id\": \"33ee4568-401b-4e4d-b03f-a202c24b1a98\",\n       \"_model_module_version\": \"0.2.1\",\n       \"_view_module_version\": \"0.2.1\",\n       \"icon\": \"info\",\n       \"icon_style\": \"info\",\n       \"name\": \"media\"\n      }\n     },\n     \"bff75124e6214941ac457cb88228d7b0\": {\n      \"model_module\": \"@jupyter-widgets/base\",\n      \"model_module_version\": \"1.2.0\",\n      \"model_name\": \"LayoutModel\",\n      \"state\": {}\n     },\n     \"c112ca63ef5544d5901883930f9e148c\": {\n      \"model_module\": \"@jupyter-widgets/base\",\n      \"model_module_version\": \"1.2.0\",\n      \"model_name\": \"LayoutModel\",\n      \"state\": {}\n     },\n     \"c242af8a81594d6e8b53d7441f348355\": {\n      \"model_module\": \"ipytree\",\n      \"model_module_version\": \"0.2.1\",\n      \"model_name\": \"NodeModel\",\n      \"state\": {\n       \"_id\": \"bf94c7f1-500f-4074-91c0-3d16cbd58390\",\n       \"_model_module_version\": \"0.2.1\",\n       \"_view_module_version\": \"0.2.1\",\n       \"icon\": \"cut\",\n       \"icon_style\": \"danger\",\n       \"name\": \"Documents\"\n      }\n     },\n     \"c2b69db595f04926b17c8975318c44ea\": {\n      \"model_module\": \"ipytree\",\n      \"model_module_version\": \"0.2.1\",\n      \"model_name\": \"NodeModel\",\n      \"state\": {\n       \"_id\": \"07857c6e-ccec-4ec9-8086-37aaa3b9b938\",\n       \"_model_module_version\": \"0.2.1\",\n       \"_view_module_version\": \"0.2.1\",\n       \"icon\": \"cut\",\n       \"icon_style\": \"danger\",\n       \"name\": \"Documents\"\n      }\n     },\n     \"c446d9bf00c0400c8c1f18c68c15358c\": {\n      \"model_module\": \"ipytree\",\n      \"model_module_version\": \"0.2.1\",\n      \"model_name\": \"NodeModel\",\n      \"state\": {\n       \"_id\": \"49a2a480-af92-418f-9dca-d5cfaaf17d0e\",\n       \"_model_module_version\": \"0.2.1\",\n       \"_view_module_version\": \"0.2.1\",\n       \"icon\": \"archive\",\n       \"icon_style\": \"warning\",\n       \"name\": \"root\"\n      }\n     },\n     \"ca67aac5fa2c432aad8e1ef8e45d6bdb\": {\n      \"model_module\": \"ipytree\",\n      \"model_module_version\": \"0.2.1\",\n      \"model_name\": \"NodeModel\",\n      \"state\": {\n       \"_id\": \"ad78346a-4a62-4486-b20b-a5190b87de35\",\n       \"_model_module_version\": \"0.2.1\",\n       \"_view_module_version\": \"0.2.1\",\n       \"icon\": \"warning\",\n       \"icon_style\": \"success\",\n       \"name\": \"local\"\n      }\n     },\n     \"cad1c6c2f5b04f6ab80f0742a6fb2f46\": {\n      \"model_module\": \"ipytree\",\n      \"model_module_version\": \"0.2.1\",\n      \"model_name\": \"NodeModel\",\n      \"state\": {\n       \"_id\": \"2a367d11-0622-48ca-9176-c70443c76e2e\",\n       \"_model_module_version\": \"0.2.1\",\n       \"_view_module_version\": \"0.2.1\",\n       \"icon\": \"home\",\n       \"icon_style\": \"success\",\n       \"name\": \"home\",\n       \"nodes\": [\n        \"IPY_MODEL_60a76bdb79e3431e9c7483cc8ca77def\",\n        \"IPY_MODEL_c242af8a81594d6e8b53d7441f348355\"\n       ]\n      }\n     },\n     \"ccd0a0f43f2e4253a2f8dc352703346f\": {\n      \"model_module\": \"ipytree\",\n      \"model_module_version\": \"0.2.1\",\n      \"model_name\": \"NodeModel\",\n      \"state\": {\n       \"_id\": \"ef8e51b1-7ee8-44a9-85a2-a4bb7d191f81\",\n       \"_model_module_version\": \"0.2.1\",\n       \"_view_module_version\": \"0.2.1\",\n       \"icon\": \"plus\",\n       \"icon_style\": \"success\",\n       \"name\": \"File2\",\n       \"opened\": false\n      }\n     },\n     \"cddd20dda8b2443ca861759b4b2569c5\": {\n      \"model_module\": \"ipytree\",\n      \"model_module_version\": \"0.2.1\",\n      \"model_name\": \"NodeModel\",\n      \"state\": {\n       \"_id\": \"7885e371-7090-4331-8665-bd8e76344e85\",\n       \"_model_module_version\": \"0.2.1\",\n       \"_view_module_version\": \"0.2.1\",\n       \"icon\": \"warning\",\n       \"icon_style\": \"success\",\n       \"name\": \"local\"\n      }\n     },\n     \"d075d37e76434926b903d120b1a6ad76\": {\n      \"model_module\": \"ipytree\",\n      \"model_module_version\": \"0.2.1\",\n      \"model_name\": \"NodeModel\",\n      \"state\": {\n       \"_id\": \"78c7e933-a246-4cf9-b3bc-dbf950953b88\",\n       \"_model_module_version\": \"0.2.1\",\n       \"_view_module_version\": \"0.2.1\",\n       \"icon\": \"save\",\n       \"icon_style\": \"info\",\n       \"name\": \"Desktop\",\n       \"nodes\": [\n        \"IPY_MODEL_9ffe998e4c364cf89c3ad75a041a4939\",\n        \"IPY_MODEL_342df03a42a143cd98c95a462b3887e0\"\n       ]\n      }\n     },\n     \"dbd336ccf0ff48bf81f559213fd9e852\": {\n      \"model_module\": \"ipytree\",\n      \"model_module_version\": \"0.2.1\",\n      \"model_name\": \"TreeModel\",\n      \"state\": {\n       \"_model_module_version\": \"0.2.1\",\n       \"_view_module_version\": \"0.2.1\",\n       \"layout\": \"IPY_MODEL_0f3a2ed983ce41979c26764b53989b69\",\n       \"nodes\": [\n        \"IPY_MODEL_23f79e66eadb42779db13f2e43175e86\",\n        \"IPY_MODEL_a83cd44a70da40828abacf9d234d5c08\",\n        \"IPY_MODEL_fd44f3a2acb74c36acfb5a89c4286c6a\",\n        \"IPY_MODEL_cad1c6c2f5b04f6ab80f0742a6fb2f46\"\n       ],\n       \"selected_nodes\": [\n        \"IPY_MODEL_041ee022baf94642aaae55d2d4bdf37c\"\n       ]\n      }\n     },\n     \"dea246b47c574a9584ae4be8a275daca\": {\n      \"model_module\": \"ipytree\",\n      \"model_module_version\": \"0.2.1\",\n      \"model_name\": \"NodeModel\",\n      \"state\": {\n       \"_id\": \"d4e518ac-46c2-4f3e-b204-d5db6b5b0727\",\n       \"_model_module_version\": \"0.2.1\",\n       \"_view_module_version\": \"0.2.1\",\n       \"icon\": \"warning\",\n       \"icon_style\": \"success\",\n       \"name\": \"local\"\n      }\n     },\n     \"e0905c778f624732b86e0748ff227a91\": {\n      \"model_module\": \"ipytree\",\n      \"model_module_version\": \"0.2.1\",\n      \"model_name\": \"NodeModel\",\n      \"state\": {\n       \"_id\": \"07ecc697-61e0-4a6c-8edc-b5ed7a29a0a8\",\n       \"_model_module_version\": \"0.2.1\",\n       \"_view_module_version\": \"0.2.1\",\n       \"icon\": \"cut\",\n       \"icon_style\": \"danger\",\n       \"name\": \"Documents\"\n      }\n     },\n     \"e1283077e7464a24864d6bd3336039ff\": {\n      \"model_module\": \"ipytree\",\n      \"model_module_version\": \"0.2.1\",\n      \"model_name\": \"NodeModel\",\n      \"state\": {\n       \"_id\": \"273e2499-2a96-4d76-96a0-1724444a17c4\",\n       \"_model_module_version\": \"0.2.1\",\n       \"_view_module_version\": \"0.2.1\",\n       \"icon\": \"warning\",\n       \"icon_style\": \"success\",\n       \"name\": \"local\"\n      }\n     },\n     \"e3ac082eeb4349cbaa90c69ae9f05174\": {\n      \"model_module\": \"ipytree\",\n      \"model_module_version\": \"0.2.1\",\n      \"model_name\": \"NodeModel\",\n      \"state\": {\n       \"_id\": \"4b8bba0d-44e1-4527-98e8-5f7abd7b89df\",\n       \"_model_module_version\": \"0.2.1\",\n       \"_view_module_version\": \"0.2.1\",\n       \"icon\": \"save\",\n       \"icon_style\": \"info\",\n       \"name\": \"Desktop\",\n       \"nodes\": [\n        \"IPY_MODEL_b13021b18a7642d195b5959f1e67b0cf\",\n        \"IPY_MODEL_83fd29d5832c46988c333e43b16778cd\"\n       ]\n      }\n     },\n     \"e4bf88e7ffc648f0812be2360cd4ab17\": {\n      \"model_module\": \"ipytree\",\n      \"model_module_version\": \"0.2.1\",\n      \"model_name\": \"TreeModel\",\n      \"state\": {\n       \"_model_module_version\": \"0.2.1\",\n       \"_view_module_version\": \"0.2.1\",\n       \"layout\": \"IPY_MODEL_c112ca63ef5544d5901883930f9e148c\",\n       \"nodes\": [\n        \"IPY_MODEL_af1b93fbe33742e7b806033c6dc2cc9c\",\n        \"IPY_MODEL_0135f22dd79c4a32afc6c52fa661574b\",\n        \"IPY_MODEL_06a1719d45b740eca9f32ebb326d96cb\",\n        \"IPY_MODEL_58758e3030bf44f1beddd7b367affda6\"\n       ],\n       \"selected_nodes\": [\n        \"IPY_MODEL_b13021b18a7642d195b5959f1e67b0cf\"\n       ]\n      }\n     },\n     \"e91447d28455434a8b511df27f2c3d5e\": {\n      \"model_module\": \"ipytree\",\n      \"model_module_version\": \"0.2.1\",\n      \"model_name\": \"NodeModel\",\n      \"state\": {\n       \"_id\": \"ac22f048-6e72-44b1-80a7-68f11753efb0\",\n       \"_model_module_version\": \"0.2.1\",\n       \"_view_module_version\": \"0.2.1\",\n       \"icon\": \"save\",\n       \"icon_style\": \"info\",\n       \"name\": \"Desktop\",\n       \"nodes\": [\n        \"IPY_MODEL_67efe08a2bf24a61915a1bc18db77471\",\n        \"IPY_MODEL_aa746dd538894c67aaae4c679df8c5dc\"\n       ]\n      }\n     },\n     \"eac4369c4ef844158c491761f0f51e06\": {\n      \"model_module\": \"ipytree\",\n      \"model_module_version\": \"0.2.1\",\n      \"model_name\": \"NodeModel\",\n      \"state\": {\n       \"_id\": \"e4e9ff87-72e2-4f6f-b9e1-7638635ccbd7\",\n       \"_model_module_version\": \"0.2.1\",\n       \"_view_module_version\": \"0.2.1\",\n       \"icon\": \"home\",\n       \"icon_style\": \"success\",\n       \"name\": \"home\",\n       \"nodes\": [\n        \"IPY_MODEL_d075d37e76434926b903d120b1a6ad76\",\n        \"IPY_MODEL_0240f83840734776870c84fe5f26c5d3\"\n       ]\n      }\n     },\n     \"ede3db4a1ea7470d8dfea2ab075c800e\": {\n      \"model_module\": \"ipytree\",\n      \"model_module_version\": \"0.2.1\",\n      \"model_name\": \"NodeModel\",\n      \"state\": {\n       \"_id\": \"bade251d-0e7d-4a94-8ed2-7c376bc6fcc0\",\n       \"_model_module_version\": \"0.2.1\",\n       \"_view_module_version\": \"0.2.1\",\n       \"icon\": \"home\",\n       \"icon_style\": \"success\",\n       \"name\": \"home\",\n       \"nodes\": [\n        \"IPY_MODEL_0f6fb94510d745419f3ab07bb5f8115e\",\n        \"IPY_MODEL_2f8f2a1474284f9bb285b07a1471f15f\"\n       ]\n      }\n     },\n     \"f0a0c04944b14fcd829cbb149e863d2d\": {\n      \"model_module\": \"ipytree\",\n      \"model_module_version\": \"0.2.1\",\n      \"model_name\": \"NodeModel\",\n      \"state\": {\n       \"_id\": \"3832bc38-3aca-4723-83f8-09d55d0f5046\",\n       \"_model_module_version\": \"0.2.1\",\n       \"_view_module_version\": \"0.2.1\",\n       \"icon\": \"archive\",\n       \"icon_style\": \"warning\",\n       \"name\": \"root\",\n       \"opened\": false,\n       \"selected\": true\n      }\n     },\n     \"f54fc97f113a4eb4b394d3880142fc0b\": {\n      \"model_module\": \"ipytree\",\n      \"model_module_version\": \"0.2.1\",\n      \"model_name\": \"NodeModel\",\n      \"state\": {\n       \"_id\": \"3ac05817-ccd1-4034-83d8-569311d37bfb\",\n       \"_model_module_version\": \"0.2.1\",\n       \"_view_module_version\": \"0.2.1\",\n       \"icon\": \"copy\",\n       \"icon_style\": \"warning\",\n       \"name\": \"File1\",\n       \"opened\": false,\n       \"selected\": true\n      }\n     },\n     \"f779da37fe94463696924dcc8106c78d\": {\n      \"model_module\": \"ipytree\",\n      \"model_module_version\": \"0.2.1\",\n      \"model_name\": \"TreeModel\",\n      \"state\": {\n       \"_model_module_version\": \"0.2.1\",\n       \"_view_module_version\": \"0.2.1\",\n       \"layout\": \"IPY_MODEL_bff75124e6214941ac457cb88228d7b0\",\n       \"nodes\": [\n        \"IPY_MODEL_f0a0c04944b14fcd829cbb149e863d2d\",\n        \"IPY_MODEL_063d7eb0435b4937b3dad2f1bd194386\",\n        \"IPY_MODEL_cddd20dda8b2443ca861759b4b2569c5\",\n        \"IPY_MODEL_eac4369c4ef844158c491761f0f51e06\"\n       ],\n       \"selected_nodes\": [\n        \"IPY_MODEL_f0a0c04944b14fcd829cbb149e863d2d\"\n       ]\n      }\n     },\n     \"f9488b67a13b4fca9ec790b1b3d5218f\": {\n      \"model_module\": \"ipytree\",\n      \"model_module_version\": \"0.2.1\",\n      \"model_name\": \"NodeModel\",\n      \"state\": {\n       \"_id\": \"b273c0ad-75db-42f7-82ea-1e1d93ee0077\",\n       \"_model_module_version\": \"0.2.1\",\n       \"_view_module_version\": \"0.2.1\",\n       \"icon\": \"copy\",\n       \"icon_style\": \"warning\",\n       \"name\": \"File1\",\n       \"opened\": false,\n       \"selected\": true\n      }\n     },\n     \"fc049e246a394716a7da641a0778d694\": {\n      \"model_module\": \"ipytree\",\n      \"model_module_version\": \"0.2.1\",\n      \"model_name\": \"NodeModel\",\n      \"state\": {\n       \"_id\": \"b9878b59-e149-4526-b177-a07cd42c347e\",\n       \"_model_module_version\": \"0.2.1\",\n       \"_view_module_version\": \"0.2.1\",\n       \"icon\": \"info\",\n       \"icon_style\": \"info\",\n       \"name\": \"media\"\n      }\n     },\n     \"fcedc03913ce431f95147696f1ca2cc7\": {\n      \"model_module\": \"ipytree\",\n      \"model_module_version\": \"0.2.1\",\n      \"model_name\": \"NodeModel\",\n      \"state\": {\n       \"_id\": \"654c450e-8a16-428a-bae3-43575d1a6e0f\",\n       \"_model_module_version\": \"0.2.1\",\n       \"_view_module_version\": \"0.2.1\",\n       \"icon\": \"save\",\n       \"icon_style\": \"info\",\n       \"name\": \"Desktop\",\n       \"nodes\": [\n        \"IPY_MODEL_f9488b67a13b4fca9ec790b1b3d5218f\",\n        \"IPY_MODEL_40a0b41faff349b8bb76759b9409e6cb\"\n       ]\n      }\n     },\n     \"fd44f3a2acb74c36acfb5a89c4286c6a\": {\n      \"model_module\": \"ipytree\",\n      \"model_module_version\": \"0.2.1\",\n      \"model_name\": \"NodeModel\",\n      \"state\": {\n       \"_id\": \"b346666d-ad90-4793-8dde-6b17a0ef2968\",\n       \"_model_module_version\": \"0.2.1\",\n       \"_view_module_version\": \"0.2.1\",\n       \"icon\": \"warning\",\n       \"icon_style\": \"success\",\n       \"name\": \"local\"\n      }\n     },\n     \"fe83b6b8a7564cc08d975e8f4562a915\": {\n      \"model_module\": \"ipytree\",\n      \"model_module_version\": \"0.2.1\",\n      \"model_name\": \"NodeModel\",\n      \"state\": {\n       \"_id\": \"c792a236-f450-4332-9352-1d0fb52ebd7f\",\n       \"_model_module_version\": \"0.2.1\",\n       \"_view_module_version\": \"0.2.1\",\n       \"icon\": \"home\",\n       \"icon_style\": \"success\",\n       \"name\": \"home\",\n       \"nodes\": [\n        \"IPY_MODEL_559ceb3503984319b9258ef63374b422\",\n        \"IPY_MODEL_c2b69db595f04926b17c8975318c44ea\"\n       ]\n      }\n     }\n    },\n    \"version_major\": 2,\n    \"version_minor\": 0\n   }\n  }\n },\n \"nbformat\": 4,\n \"nbformat_minor\": 4\n}\n"
      }
     },
     "66daa1149f944d9aa5c97b516f113ca7": {
      "model_module": "ipytree",
      "model_module_version": "0.2.1",
      "model_name": "NodeModel",
      "state": {
       "_id": "d8f5aa96-445b-40f1-bdbd-f3e8dee2c70f",
       "_model_module_version": "0.2.1",
       "_view_module_version": "0.2.1",
       "icon": "archive",
       "icon_style": "warning",
       "name": "root"
      }
     },
     "66e0eb991ffd466ab1175f7985e86334": {
      "model_module": "ipytree",
      "model_module_version": "0.2.1",
      "model_name": "NodeModel",
      "state": {
       "_id": "f5875ab2-07c2-49ff-984b-faf9d19509cc",
       "_model_module_version": "0.2.1",
       "_view_module_version": "0.2.1",
       "name": "initial_research",
       "nodes": [
        "IPY_MODEL_57b404f7e8a94248aec9f3f2a9bddd45",
        "IPY_MODEL_49360c6ba02845e3b1a92272e09bd035",
        "IPY_MODEL_fcc0626eb7714a8287d609e3549fa454",
        "IPY_MODEL_d28e681069ae416cbffcb1468d3fced7",
        "IPY_MODEL_499a12b0dfcc49d4a69595d7caaa01fe",
        "IPY_MODEL_d67d7f8705e74327a4975801483eaa85",
        "IPY_MODEL_8eda5e112b0c4745b3881690de7f3c40",
        "IPY_MODEL_6a6a14261f494ebb89ee72ad13872502"
       ],
       "opened": false
      }
     },
     "66f0be154d374fd38ca19a3620bcba1a": {
      "model_module": "@jupyter-widgets/controls",
      "model_module_version": "1.5.0",
      "model_name": "HBoxModel",
      "state": {
       "children": [
        "IPY_MODEL_00613963fe274b5281b26bbd895727ba",
        "IPY_MODEL_e61f584656104d979ecef7322f6e9db6"
       ],
       "layout": "IPY_MODEL_cb160219952c4e5f9f3355794a9a4eb2"
      }
     },
     "673bd9690c964453803f300f6b889517": {
      "model_module": "ipytree",
      "model_module_version": "0.2.1",
      "model_name": "NodeModel",
      "state": {
       "_id": "1184ce1f-bd59-45e4-b0ec-cf87184389dc",
       "_model_module_version": "0.2.1",
       "_view_module_version": "0.2.1",
       "icon": "file",
       "name": "1. Calcs tests.ipynb"
      }
     },
     "6767b22c9eb943ff9b1a5a7f8c960da2": {
      "model_module": "ipytree",
      "model_module_version": "0.2.1",
      "model_name": "NodeModel",
      "state": {
       "_id": "259a5e2a-7a3b-4e24-832d-34cca945e881",
       "_model_module_version": "0.2.1",
       "_view_module_version": "0.2.1",
       "icon": "file",
       "name": "1.1 Covariance Matrix Studies.ipynb"
      }
     },
     "679a4eb3974040efbc88175fc19cf644": {
      "model_module": "ipytree",
      "model_module_version": "0.2.1",
      "model_name": "NodeModel",
      "state": {
       "_id": "ab67d824-96d4-452a-b621-6ead4f7298b1",
       "_model_module_version": "0.2.1",
       "_view_module_version": "0.2.1",
       "icon": "file",
       "name": "blockchain_data.py"
      }
     },
     "67af6a402c13423ba1e029862031a930": {
      "model_module": "ipytree",
      "model_module_version": "0.2.1",
      "model_name": "NodeModel",
      "state": {
       "_id": "49e89e60-9eb7-4e8d-b08a-f7d1e804c9d0",
       "_model_module_version": "0.2.1",
       "_view_module_version": "0.2.1",
       "name": "chapter-bayesian-statistics-binomial-proportion",
       "nodes": [
        "IPY_MODEL_3fa7fa0cf466402dab63eee5fd842e52"
       ],
       "opened": false
      }
     },
     "67d3c4c9a33c41c09446e3a1a444ab18": {
      "model_module": "ipytree",
      "model_module_version": "0.2.1",
      "model_name": "NodeModel",
      "state": {
       "_id": "b74f38dd-0274-46a6-92d9-70965e734507",
       "_model_module_version": "0.2.1",
       "_view_module_version": "0.2.1",
       "icon": "file",
       "name": "PMM_Model_DataPreparation.ipynb"
      }
     },
     "67ee0e163b124bb5b5bee213ea15fdfb": {
      "model_module": "ipytree",
      "model_module_version": "0.2.1",
      "model_name": "NodeModel",
      "state": {
       "_id": "388b6b8b-43d0-4e24-b63c-3001d16aa708",
       "_model_module_version": "0.2.1",
       "_view_module_version": "0.2.1",
       "icon": "file",
       "name": "MoralesSeguraSomolinosNunezSiraMSSP.pdf"
      }
     },
     "67efe08a2bf24a61915a1bc18db77471": {
      "model_module": "ipytree",
      "model_module_version": "0.2.1",
      "model_name": "NodeModel",
      "state": {
       "_id": "cafe2e22-7992-4c47-b506-f47e5ac3fd15",
       "_model_module_version": "0.2.1",
       "_view_module_version": "0.2.1",
       "icon": "info",
       "icon_style": "warning",
       "name": "File1",
       "selected": true
      }
     },
     "6806f03b7f46473cb8aece570f345917": {
      "model_module": "ipytree",
      "model_module_version": "0.2.1",
      "model_name": "NodeModel",
      "state": {
       "_id": "4dfc9734-a810-47cb-b9af-53d564cf3d40",
       "_model_module_version": "0.2.1",
       "_view_module_version": "0.2.1",
       "icon": "file",
       "name": "EODDATA_eod_postprocessing.ipynb"
      }
     },
     "68248f2b01c84d9b88d79d5dfc686039": {
      "model_module": "ipytree",
      "model_module_version": "0.2.1",
      "model_name": "NodeModel",
      "state": {
       "_id": "9b74c217-f075-4de8-8ed3-80a7d7ae10c5",
       "_model_module_version": "0.2.1",
       "_view_module_version": "0.2.1",
       "icon": "file",
       "name": "scoring_test.py"
      }
     },
     "68c0bc7830f44e80acf2be909c2141fa": {
      "model_module": "ipytree",
      "model_module_version": "0.2.1",
      "model_name": "NodeModel",
      "state": {
       "_id": "f0717029-8b46-45fa-bd85-c974284e7dde",
       "_model_module_version": "0.2.1",
       "_view_module_version": "0.2.1",
       "icon": "file",
       "name": "trading_servers.cpython-36.pyc"
      }
     },
     "68d2f3be3e934a409f5e6b9317f12f9e": {
      "model_module": "ipytree",
      "model_module_version": "0.2.1",
      "model_name": "NodeModel",
      "state": {
       "_id": "bad50276-c4c8-4d43-a268-5abe368c49fa",
       "_model_module_version": "0.2.1",
       "_view_module_version": "0.2.1",
       "icon": "file",
       "name": "metadata.opf"
      }
     },
     "68f70e8813b5451f92c0d7ba46633af1": {
      "model_module": "ipytree",
      "model_module_version": "0.2.1",
      "model_name": "NodeModel",
      "state": {
       "_id": "a0ae78fc-ad96-4efd-b6a3-fb2ad489194d",
       "_model_module_version": "0.2.1",
       "_view_module_version": "0.2.1",
       "icon": "file",
       "name": "transformers.py"
      }
     },
     "6954c4dd70f0425e8cf46b924ee9d253": {
      "model_module": "ipytree",
      "model_module_version": "0.2.1",
      "model_name": "NodeModel",
      "state": {
       "_id": "45e085fd-1c80-4d77-aed7-4607b88a5003",
       "_model_module_version": "0.2.1",
       "_view_module_version": "0.2.1",
       "icon": "file",
       "name": "exponential_plot.py"
      }
     },
     "6986b96028034e689e6873a41b8c78e8": {
      "model_module": "ipytree",
      "model_module_version": "0.2.1",
      "model_name": "NodeModel",
      "state": {
       "_id": "90634122-3245-465b-b608-993985800901",
       "_model_module_version": "0.2.1",
       "_view_module_version": "0.2.1",
       "icon": "file",
       "name": "Funding_BTCUSDT.csv"
      }
     },
     "698abae4bed3480cb9047de626a67150": {
      "model_module": "ipytree",
      "model_module_version": "0.2.1",
      "model_name": "NodeModel",
      "state": {
       "_id": "d33272b3-4905-4554-aee8-2e1f9d450895",
       "_model_module_version": "0.2.1",
       "_view_module_version": "0.2.1",
       "name": "filters",
       "nodes": [
        "IPY_MODEL_4e4d7196a6d04a3ea7863f2e19ac9bf8",
        "IPY_MODEL_78fe4043967a452a9738b3aa51439832",
        "IPY_MODEL_939ceabf3bde4bb7bc72a2e4e9221f18",
        "IPY_MODEL_073774c2345d4bdcbe6f82c80636300d"
       ],
       "opened": false
      }
     },
     "699c1e1b4d81419db7ff6e79cac6d1f6": {
      "model_module": "@jupyter-widgets/base",
      "model_module_version": "1.2.0",
      "model_name": "LayoutModel",
      "state": {}
     },
     "69d27912ff104b50a38c7313c4394fc4": {
      "model_module": "ipytree",
      "model_module_version": "0.2.1",
      "model_name": "NodeModel",
      "state": {
       "_id": "47f16af9-6bec-45a9-ae47-9c91d0b8d9a6",
       "_model_module_version": "0.2.1",
       "_view_module_version": "0.2.1",
       "icon": "file",
       "name": "SentimentsAtLevels.ipynb"
      }
     },
     "69e5539b014d467d998c8d8def1f5b43": {
      "model_module": "ipytree",
      "model_module_version": "0.2.1",
      "model_name": "NodeModel",
      "state": {
       "_id": "46de384a-2494-4865-9ad1-aa6d2b3e99e8",
       "_model_module_version": "0.2.1",
       "_view_module_version": "0.2.1",
       "icon": "file",
       "name": "999. Test Cumulative Volumes Indicator.ipynb"
      }
     },
     "6a5f4e998ba240ab88bb1fb4427829a6": {
      "model_module": "ipytree",
      "model_module_version": "0.2.1",
      "model_name": "NodeModel",
      "state": {
       "_id": "2c6208ab-6b6b-4801-9d4b-fdfeea5d25e1",
       "_model_module_version": "0.2.1",
       "_view_module_version": "0.2.1",
       "icon": "file",
       "name": "handy_utils.py"
      }
     },
     "6a67ff12f69c48a5a8e14ecc8a04e8fd": {
      "model_module": "ipytree",
      "model_module_version": "0.2.1",
      "model_name": "NodeModel",
      "state": {
       "_id": "3ea79050-bfc3-4761-adc5-f748946200f2",
       "_model_module_version": "0.2.1",
       "_view_module_version": "0.2.1",
       "icon": "file",
       "name": "AA_Logo.png"
      }
     },
     "6a6a14261f494ebb89ee72ad13872502": {
      "model_module": "ipytree",
      "model_module_version": "0.2.1",
      "model_name": "NodeModel",
      "state": {
       "_id": "4f7efa35-23f5-4894-8aa8-70dc6add91e1",
       "_model_module_version": "0.2.1",
       "_view_module_version": "0.2.1",
       "icon": "file",
       "name": "turtless_model.py"
      }
     },
     "6a6dce1c4d0c4ff78b7d9a185ca75123": {
      "model_module": "ipytree",
      "model_module_version": "0.2.1",
      "model_name": "NodeModel",
      "state": {
       "_id": "4672d833-1ba0-4c5c-9a1c-5fbc091fd190",
       "_model_module_version": "0.2.1",
       "_view_module_version": "0.2.1",
       "icon": "file",
       "name": "helpers.py"
      }
     },
     "6a7647b1aa254524a4fec037e359aedf": {
      "model_module": "ipytree",
      "model_module_version": "0.2.1",
      "model_name": "TreeModel",
      "state": {
       "_model_module_version": "0.2.1",
       "_view_module_version": "0.2.1",
       "layout": "IPY_MODEL_711aef56c50f498fad5a7317ee37e8a5",
       "nodes": [
        "IPY_MODEL_c446d9bf00c0400c8c1f18c68c15358c",
        "IPY_MODEL_96837a13ddb343a2a65fad3f0026f483",
        "IPY_MODEL_dea246b47c574a9584ae4be8a275daca",
        "IPY_MODEL_fe83b6b8a7564cc08d975e8f4562a915"
       ]
      }
     },
     "6a82fc1e01df451a85800facca1d9962": {
      "model_module": "ipytree",
      "model_module_version": "0.2.1",
      "model_name": "NodeModel",
      "state": {
       "_id": "3bb441e8-21c1-470b-b8df-0d23343e0ebc",
       "_model_module_version": "0.2.1",
       "_view_module_version": "0.2.1",
       "icon": "file",
       "name": "__init__.py"
      }
     },
     "6a884b179776494798e17cb11b47b0a0": {
      "model_module": "ipytree",
      "model_module_version": "0.2.1",
      "model_name": "NodeModel",
      "state": {
       "_id": "26e5a20e-5d6a-4a4e-bab7-2e3651c2e46b",
       "_model_module_version": "0.2.1",
       "_view_module_version": "0.2.1",
       "icon": "file",
       "name": "yahoo_finance.py"
      }
     },
     "6a8fe2a212174fc98a851a4e33634899": {
      "model_module": "ipytree",
      "model_module_version": "0.2.1",
      "model_name": "NodeModel",
      "state": {
       "_id": "b3f7bc18-8ae3-4dea-be57-023e1d9b4382",
       "_model_module_version": "0.2.1",
       "_view_module_version": "0.2.1",
       "icon": "file",
       "name": "0. Trading Flow Imbalance Explorations.ipynb"
      }
     },
     "6ab7e3bb8a1940fb8e05e9637080254e": {
      "model_module": "ipytree",
      "model_module_version": "0.2.1",
      "model_name": "NodeModel",
      "state": {
       "_id": "976d301a-5c5f-4f91-a4b2-9a577dcd6b0e",
       "_model_module_version": "0.2.1",
       "_view_module_version": "0.2.1",
       "icon": "file",
       "name": "LICENSE"
      }
     },
     "6ae7f226e29347349195f32fe9471b4f": {
      "model_module": "ipytree",
      "model_module_version": "0.2.1",
      "model_name": "NodeModel",
      "state": {
       "_id": "f08490de-3177-4af5-80d2-2bb64fc051db",
       "_model_module_version": "0.2.1",
       "_view_module_version": "0.2.1",
       "name": "ethereum-input-decoder",
       "nodes": [
        "IPY_MODEL_6ab7e3bb8a1940fb8e05e9637080254e",
        "IPY_MODEL_d4af2ad852b34059ac540675bc7ebc5e",
        "IPY_MODEL_44ecdb80a53141fea9b2df57aab53aab",
        "IPY_MODEL_044c5f4e661148ddb515db21a105c818",
        "IPY_MODEL_e86007b763a34f98b023953698e5c91e"
       ],
       "opened": false
      }
     },
     "6b6c58e6fdd44d53a17111933897f2ab": {
      "model_module": "ipytree",
      "model_module_version": "0.2.1",
      "model_name": "NodeModel",
      "state": {
       "_id": "355d9a91-4f38-43fb-89b3-0d41e8157642",
       "_model_module_version": "0.2.1",
       "_view_module_version": "0.2.1",
       "icon": "file",
       "name": "998. Ideas of Separated Trading Flow Indicator.ipynb"
      }
     },
     "6b858876c0554d7382a55c683f9f6756": {
      "model_module": "ipytree",
      "model_module_version": "0.2.1",
      "model_name": "NodeModel",
      "state": {
       "_id": "48c99142-2d68-4736-a68f-44c99b9ebb2e",
       "_model_module_version": "0.2.1",
       "_view_module_version": "0.2.1",
       "icon": "file",
       "name": "0. IBS basic first tests.ipynb"
      }
     },
     "6b9e1ae128294bcdbf4adff860d2ed1c": {
      "model_module": "ipytree",
      "model_module_version": "0.2.1",
      "model_name": "NodeModel",
      "state": {
       "_id": "76b0c859-c750-4d13-9848-bd57d98ae7d9",
       "_model_module_version": "0.2.1",
       "_view_module_version": "0.2.1",
       "icon": "file",
       "name": "__init__.cpython-36.pyc"
      }
     },
     "6be23c47661d4641857584c420dc23c5": {
      "model_module": "ipytree",
      "model_module_version": "0.2.1",
      "model_name": "NodeModel",
      "state": {
       "_id": "fad62712-a2e1-4b75-b32f-91b17ee863a4",
       "_model_module_version": "0.2.1",
       "_view_module_version": "0.2.1",
       "icon": "file",
       "name": "nodes.py"
      }
     },
     "6c0b84d8211349fd9f6cf31d94338b18": {
      "model_module": "ipytree",
      "model_module_version": "0.2.1",
      "model_name": "NodeModel",
      "state": {
       "_id": "670dc4e3-ed31-4044-b7cc-c4b107dc007a",
       "_model_module_version": "0.2.1",
       "_view_module_version": "0.2.1",
       "icon": "file",
       "name": "levels.py"
      }
     },
     "6cc34ea84fe84e7dbbccf65b207cf8ea": {
      "model_module": "ipytree",
      "model_module_version": "0.2.1",
      "model_name": "NodeModel",
      "state": {
       "_id": "e3a93878-b002-48e1-b762-692966c49d8d",
       "_model_module_version": "0.2.1",
       "_view_module_version": "0.2.1",
       "name": "gptr",
       "nodes": [
        "IPY_MODEL_45a20d206ccb4710938d94fb2315970c",
        "IPY_MODEL_e954ba481fe949498ee625c12d054e84",
        "IPY_MODEL_9c3be1ced35649cb9615683458ace0ad",
        "IPY_MODEL_622f57b9b0694ed6a3be9647d96d7194",
        "IPY_MODEL_deadf1ae31c34f2d835017edfdf0a375",
        "IPY_MODEL_988287441a7a47fd851f41ec3f6cf5f8",
        "IPY_MODEL_542c90ffba1240ac9210ecfcecfd76c1",
        "IPY_MODEL_345e4807b4d64c0a9aabdc1e3b242151"
       ],
       "opened": false
      }
     },
     "6cec3d294fe94a5ba7036d008ca435fd": {
      "model_module": "ipytree",
      "model_module_version": "0.2.1",
      "model_name": "NodeModel",
      "state": {
       "_id": "3e16f9a1-d1e1-43f0-8037-459174838419",
       "_model_module_version": "0.2.1",
       "_view_module_version": "0.2.1",
       "name": "finam",
       "nodes": [
        "IPY_MODEL_8ab267bef5db4fd2bdb556f7c091c1e6"
       ],
       "opened": false
      }
     },
     "6cf96cb8d4cb4397a67bb3b9702591b0": {
      "model_module": "ipytree",
      "model_module_version": "0.2.1",
      "model_name": "NodeModel",
      "state": {
       "_id": "2a6758e8-49aa-483f-b011-01c2f0283a51",
       "_model_module_version": "0.2.1",
       "_view_module_version": "0.2.1",
       "name": "arbitrage",
       "nodes": [
        "IPY_MODEL_2500dd81f9ee4aff8b1f1d0c674b1fd9",
        "IPY_MODEL_b79faf3d567c4b54826854031e8bdf2b",
        "IPY_MODEL_3fc58746e8f5454bb693f37b5f4ca82f",
        "IPY_MODEL_fad4b5d3425e4231931c8bdae568489c",
        "IPY_MODEL_5e9262cdebec4c10a80b29e155929ed6",
        "IPY_MODEL_6fbd6ffb729b4b34a39a5d2a047e16c9",
        "IPY_MODEL_e164bde1f1d34f1997c0740dcdffd931"
       ],
       "opened": false
      }
     },
     "6d03b5f610174c5597e47c4e9e1f5803": {
      "model_module": "ipytree",
      "model_module_version": "0.2.1",
      "model_name": "NodeModel",
      "state": {
       "_id": "d4605b80-f4f3-456a-bdc4-ca3ccfb0192b",
       "_model_module_version": "0.2.1",
       "_view_module_version": "0.2.1",
       "icon": "info",
       "icon_style": "info",
       "name": "media"
      }
     },
     "6d21e41e1c354ec09790925d3eb1528c": {
      "model_module": "ipytree",
      "model_module_version": "0.2.1",
      "model_name": "NodeModel",
      "state": {
       "_id": "c22e4ea8-cfa1-4b82-8976-bfe8900a6ed6",
       "_model_module_version": "0.2.1",
       "_view_module_version": "0.2.1",
       "icon": "file",
       "name": "progression_results_201801.json"
      }
     },
     "6d9d54de49af4a378481dc5cb73e985b": {
      "model_module": "@jupyter-widgets/controls",
      "model_module_version": "1.5.0",
      "model_name": "VBoxModel",
      "state": {
       "children": [
        "IPY_MODEL_10a0915c762d47f2866f2cb302ee15ba",
        "IPY_MODEL_a80f2e8102784c598a1645355476c447"
       ],
       "layout": "IPY_MODEL_7358900ad8b14fb4ad631e39fab10d92"
      }
     },
     "6dea26fce8c84c7295c1970d94de2557": {
      "model_module": "ipytree",
      "model_module_version": "0.2.1",
      "model_name": "NodeModel",
      "state": {
       "_id": "67a054f8-39df-4f54-a3c2-624f359997e2",
       "_model_module_version": "0.2.1",
       "_view_module_version": "0.2.1",
       "icon": "file",
       "name": "regime_hmm_train.py"
      }
     },
     "6e0fa18b0aa04e55a238fb88235a77ca": {
      "model_module": "ipytree",
      "model_module_version": "0.2.1",
      "model_name": "NodeModel",
      "state": {
       "_id": "e02d6a9b-96c1-4893-8e9e-1dc04a145080",
       "_model_module_version": "0.2.1",
       "_view_module_version": "0.2.1",
       "icon": "file",
       "name": "2. IBS and predicted volatility.ipynb"
      }
     },
     "6e347c41e2e14a71a30ebe38140a74fc": {
      "model_module": "ipytree",
      "model_module_version": "0.2.1",
      "model_name": "NodeModel",
      "state": {
       "_id": "5b93b61e-d938-4c49-964d-141ff835437f",
       "_model_module_version": "0.2.1",
       "_view_module_version": "0.2.1",
       "name": "multiassets",
       "nodes": [
        "IPY_MODEL_215464f88f954bbda9e90c11f9061667",
        "IPY_MODEL_2f7f12cf4d6446c188921c1b48b93fb4",
        "IPY_MODEL_d55354df4f99487baca3c09f24c488a8"
       ]
      }
     },
     "6e50570fd7a24f35b4e6018c45a7dded": {
      "model_module": "ipytree",
      "model_module_version": "0.2.1",
      "model_name": "NodeModel",
      "state": {
       "_id": "adb38544-9845-45f8-a913-f2e6dd4463a1",
       "_model_module_version": "0.2.1",
       "_view_module_version": "0.2.1",
       "icon": "file",
       "name": "NimbleII filter.ipynb"
      }
     },
     "6e5224440e7c45719b17d7622dd82f0f": {
      "model_module": "ipytree",
      "model_module_version": "0.2.1",
      "model_name": "NodeModel",
      "state": {
       "_id": "cb1b0987-f8d9-48cb-a5d0-e58877b907fc",
       "_model_module_version": "0.2.1",
       "_view_module_version": "0.2.1",
       "icon": "file",
       "name": "SPX500.ipynb"
      }
     },
     "6ecd73ec524b4f77ae5c790af3e5fad4": {
      "model_module": "ipytree",
      "model_module_version": "0.2.1",
      "model_name": "NodeModel",
      "state": {
       "_id": "30729344-55bd-4e04-8cb0-6ce0e9d28151",
       "_model_module_version": "0.2.1",
       "_view_module_version": "0.2.1",
       "icon": "file",
       "name": "intraday_ml_strategy.py"
      }
     },
     "6efcea3061a34f2ca9266e6369870cf2": {
      "model_module": "ipytree",
      "model_module_version": "0.2.1",
      "model_name": "NodeModel",
      "state": {
       "_id": "eefcbc91-714c-46a2-966f-7aec1bd0f508",
       "_model_module_version": "0.2.1",
       "_view_module_version": "0.2.1",
       "icon": "file",
       "name": "GapsTrading.ipynb"
      }
     },
     "6f6781e14338480a955abb2b2ceda3ef": {
      "model_module": "ipytree",
      "model_module_version": "0.2.1",
      "model_name": "NodeModel",
      "state": {
       "_id": "9fdb55a9-8679-4468-97c5-63bca2efa878",
       "_model_module_version": "0.2.1",
       "_view_module_version": "0.2.1",
       "icon": "file",
       "name": "First Look At Data.ipynb"
      }
     },
     "6fa45cb76ad644e492b244a16413a8d2": {
      "model_module": "ipytree",
      "model_module_version": "0.2.1",
      "model_name": "NodeModel",
      "state": {
       "_id": "778408ce-9ad3-40b0-a0c9-85cc0111e8f7",
       "_model_module_version": "0.2.1",
       "_view_module_version": "0.2.1",
       "name": "pseudo_market_making",
       "nodes": [
        "IPY_MODEL_b561bcacd68c4c45ac09b59b47f281e8",
        "IPY_MODEL_aeae23d53f964c6a9405fc1e86f446db",
        "IPY_MODEL_67d3c4c9a33c41c09446e3a1a444ab18",
        "IPY_MODEL_adeb57df33f441c189757558468894be",
        "IPY_MODEL_4d7bdb2c943f43cd8d840ff5613a1ad2",
        "IPY_MODEL_90208973fd644055ba53a96d6893cd2a"
       ],
       "opened": false
      }
     },
     "6fa587cbf5054fe783c8d5ab82756438": {
      "model_module": "ipytree",
      "model_module_version": "0.2.1",
      "model_name": "NodeModel",
      "state": {
       "_id": "ab0ed368-5f0f-41d5-9f9e-e17d106ad694",
       "_model_module_version": "0.2.1",
       "_view_module_version": "0.2.1",
       "icon": "file",
       "name": "README.md"
      }
     },
     "6fbd6ffb729b4b34a39a5d2a047e16c9": {
      "model_module": "ipytree",
      "model_module_version": "0.2.1",
      "model_name": "NodeModel",
      "state": {
       "_id": "cec1a1fe-f786-4cb4-87a8-282bc591bfe1",
       "_model_module_version": "0.2.1",
       "_view_module_version": "0.2.1",
       "name": "futures_spot",
       "nodes": [
        "IPY_MODEL_57022f9bc9284e3abbca282bdea6e762",
        "IPY_MODEL_37477645f2424855b6c3d3a8f52b2383",
        "IPY_MODEL_2c01f3e8580e43db97f4d6dd60be8fd7",
        "IPY_MODEL_38c5ea3ab1af41c69e88616d38ee2de5",
        "IPY_MODEL_433ecc24a922428aaabdd5fadc25512d",
        "IPY_MODEL_0288ac5a0b0d49759a268d9fc865135f",
        "IPY_MODEL_9b9712c7f4de4b939d32bd2793ab2cd4",
        "IPY_MODEL_bf7e8ddd5d89490ba46f5628cfba1144",
        "IPY_MODEL_8c9156c7526c4b95b1b5749018cfbee4",
        "IPY_MODEL_2478ea1945454dcc9fa78a29a865c791"
       ],
       "opened": false
      }
     },
     "6fc9e32aee664320bd5bd3188dddbb73": {
      "model_module": "ipytree",
      "model_module_version": "0.2.1",
      "model_name": "NodeModel",
      "state": {
       "_id": "d51f71c5-004e-40eb-a0a8-016a78aff6e1",
       "_model_module_version": "0.2.1",
       "_view_module_version": "0.2.1",
       "icon": "file",
       "name": "InfantinoHFT.pdf"
      }
     },
     "6fd287fb75384eaea60fa8b854f9ebeb": {
      "model_module": "@jupyter-widgets/base",
      "model_module_version": "1.2.0",
      "model_name": "LayoutModel",
      "state": {}
     },
     "6fecaf7f8cb147d4b102bfff262e6d79": {
      "model_module": "@jupyter-widgets/controls",
      "model_module_version": "1.5.0",
      "model_name": "TextModel",
      "state": {
       "layout": "IPY_MODEL_4afe2b3a1ce545c693ad8f10470f7d49",
       "placeholder": "Search files/folders...",
       "style": "IPY_MODEL_083368dd8adc4e9791aa7d7b68dcf1dc"
      }
     },
     "6ffb84807cdf49c0a2dc48cc5b1cb3f1": {
      "model_module": "ipytree",
      "model_module_version": "0.2.1",
      "model_name": "NodeModel",
      "state": {
       "_id": "f1bfbf40-b87b-43b1-aa37-c88698ed5c09",
       "_model_module_version": "0.2.1",
       "_view_module_version": "0.2.1",
       "name": "meanreverting",
       "nodes": [
        "IPY_MODEL_5ddaf0c63d404697847afcd6458026e6",
        "IPY_MODEL_7ad9eb42615c46218051cb9c9452eb8d"
       ]
      }
     },
     "707153ade3694addb69a5f1c4944d43b": {
      "model_module": "@jupyter-widgets/base",
      "model_module_version": "1.2.0",
      "model_name": "LayoutModel",
      "state": {}
     },
     "70771e06f43b4ea3ba542ac7ede12109": {
      "model_module": "@jupyter-widgets/base",
      "model_module_version": "1.2.0",
      "model_name": "LayoutModel",
      "state": {}
     },
     "70e3fca0edd84620bda1c3be0136f2fd": {
      "model_module": "ipytree",
      "model_module_version": "0.2.1",
      "model_name": "NodeModel",
      "state": {
       "_id": "40eb383a-6405-497a-a332-bd2530d2a15a",
       "_model_module_version": "0.2.1",
       "_view_module_version": "0.2.1",
       "icon": "file",
       "name": "COT_datasource_tests.ipynb"
      }
     },
     "70fc311d440246dda96691f88292d66a": {
      "model_module": "ipytree",
      "model_module_version": "0.2.1",
      "model_name": "NodeModel",
      "state": {
       "_id": "8429b035-f4d1-4d09-b611-a24c8e3d0aa1",
       "_model_module_version": "0.2.1",
       "_view_module_version": "0.2.1",
       "name": "ads",
       "nodes": [
        "IPY_MODEL_a0b461f129c64d22bc33e72a79f0afdb",
        "IPY_MODEL_188dc9d034c54350ac8e2521f3fad037"
       ],
       "opened": false
      }
     },
     "711aef56c50f498fad5a7317ee37e8a5": {
      "model_module": "@jupyter-widgets/base",
      "model_module_version": "1.2.0",
      "model_name": "LayoutModel",
      "state": {}
     },
     "7137677f1b8d4f9f88ef6382638a6c3e": {
      "model_module": "ipytree",
      "model_module_version": "0.2.1",
      "model_name": "NodeModel",
      "state": {
       "_id": "f715ff3c-99ab-4f21-b08a-949eea2c83a0",
       "_model_module_version": "0.2.1",
       "_view_module_version": "0.2.1",
       "icon": "file",
       "name": "orderbook_utils.py"
      }
     },
     "71774589169d41ea8873e8244e2867ef": {
      "model_module": "ipytree",
      "model_module_version": "0.2.1",
      "model_name": "TreeModel",
      "state": {
       "_model_module_version": "0.2.1",
       "_view_module_version": "0.2.1",
       "layout": "IPY_MODEL_e85ffd33b5814aeab3334071200c456c",
       "multiple_selection": false,
       "nodes": [
        "IPY_MODEL_5a87ec38a0c04951b18db850be086475"
       ],
       "selected_nodes": [
        "IPY_MODEL_d024ccd9e01b4062b80dbb8a45ec44fb"
       ]
      }
     },
     "7190fed315d9439ebb1983f43b1d331b": {
      "model_module": "ipytree",
      "model_module_version": "0.2.1",
      "model_name": "NodeModel",
      "state": {
       "_id": "67ed6aff-f384-44d8-b7a8-9d28e6068b7f",
       "_model_module_version": "0.2.1",
       "_view_module_version": "0.2.1",
       "name": "demo",
       "nodes": [
        "IPY_MODEL_9e88f86d81c447c1881594e67992fcff",
        "IPY_MODEL_d133a6fc8a5f41ee8f5ac4565e00275e",
        "IPY_MODEL_4d6df4d5e7e74ed3881475bf8662d5e2"
       ],
       "opened": false
      }
     },
     "71bc6f1e11454ef79dbbb9aac3768cf2": {
      "model_module": "ipytree",
      "model_module_version": "0.2.1",
      "model_name": "NodeModel",
      "state": {
       "_id": "51b3bbf9-01e2-44db-aa8a-3e3b0a27e64f",
       "_model_module_version": "0.2.1",
       "_view_module_version": "0.2.1",
       "icon": "file",
       "name": "__init__.py",
       "opened": false
      }
     },
     "71e2adfcb6524598a1d33cd8c9e3734a": {
      "model_module": "ipytree",
      "model_module_version": "0.2.1",
      "model_name": "NodeModel",
      "state": {
       "_id": "442990b9-53a9-4ba9-9fb6-537b518bd4ba",
       "_model_module_version": "0.2.1",
       "_view_module_version": "0.2.1",
       "icon": "file",
       "name": "multiproc.py"
      }
     },
     "720a1c97cda646cfaab40f81cbcba018": {
      "model_module": "ipytree",
      "model_module_version": "0.2.1",
      "model_name": "NodeModel",
      "state": {
       "_id": "5984ff0a-f760-4307-b7f1-f079d8b530d2",
       "_model_module_version": "0.2.1",
       "_view_module_version": "0.2.1",
       "icon": "file",
       "name": "2. Level detector tests.ipynb"
      }
     },
     "7214d8db0ae94521a55de9c51a273f7c": {
      "model_module": "ipytree",
      "model_module_version": "0.2.1",
      "model_name": "NodeModel",
      "state": {
       "_id": "050673b8-7ed2-4f88-af39-54c90eb668ca",
       "_model_module_version": "0.2.1",
       "_view_module_version": "0.2.1",
       "icon": "file",
       "name": "0. Key Levels Initial.ipynb"
      }
     },
     "72247d69f81b4474b5274d15c05f42bd": {
      "model_module": "ipytree",
      "model_module_version": "0.2.1",
      "model_name": "NodeModel",
      "state": {
       "_id": "babee28c-553f-4878-ae89-8c06b7649f47",
       "_model_module_version": "0.2.1",
       "_view_module_version": "0.2.1",
       "icon": "file",
       "name": "smart_trade_broker2.zip"
      }
     },
     "72365f2bd24343c4a07cc84be0541944": {
      "model_module": "ipytree",
      "model_module_version": "0.2.1",
      "model_name": "NodeModel",
      "state": {
       "_id": "9a0ca473-92d0-4d30-b4e2-74a9c58567c4",
       "_model_module_version": "0.2.1",
       "_view_module_version": "0.2.1",
       "name": "analysis",
       "nodes": [
        "IPY_MODEL_957ad401f6724d83b6c1ca3fb695a2d9",
        "IPY_MODEL_d3b9a47ffc134980b45dc4daea6f0dd9",
        "IPY_MODEL_505c4227f26c4dbaa83a7138e5415169"
       ]
      }
     },
     "7243fa0d9173407e9557b9e4aed8467e": {
      "model_module": "ipytree",
      "model_module_version": "0.2.1",
      "model_name": "NodeModel",
      "state": {
       "_id": "47040598-9e08-4966-a017-52f299295a70",
       "_model_module_version": "0.2.1",
       "_view_module_version": "0.2.1",
       "name": "docs",
       "nodes": [
        "IPY_MODEL_010fcdb2a8c74ab78e4d697d7abf7d0d",
        "IPY_MODEL_b65a9e6c2a9e426ba3f9cb9db4bb5234",
        "IPY_MODEL_45d919e7c38d40f9b25d690aa97986ad",
        "IPY_MODEL_325e9445beeb4bd4860305f26edb7ee0",
        "IPY_MODEL_603da59a458e4815b5b1e83b376785d9"
       ],
       "opened": false
      }
     },
     "7304bc2d5ac84ce98ae27fb6c51a1d6c": {
      "model_module": "ipytree",
      "model_module_version": "0.2.1",
      "model_name": "NodeModel",
      "state": {
       "_id": "72160072-eea9-4006-904c-8aba337d77c1",
       "_model_module_version": "0.2.1",
       "_view_module_version": "0.2.1",
       "icon": "file",
       "name": "4.4 Model1 Spread Trading Model Validation.ipynb"
      }
     },
     "7319877489b24783b99852bfd699860d": {
      "model_module": "ipytree",
      "model_module_version": "0.2.1",
      "model_name": "NodeModel",
      "state": {
       "_id": "a1b5dc28-dbfa-48f8-b199-8da8ff907a9f",
       "_model_module_version": "0.2.1",
       "_view_module_version": "0.2.1",
       "icon": "file",
       "name": "structs.py"
      }
     },
     "733a59aa56d64e29888d29e156a9e431": {
      "model_module": "ipytree",
      "model_module_version": "0.2.1",
      "model_name": "NodeModel",
      "state": {
       "_id": "2f77306e-1c9f-4b6f-860c-ffae276e013d",
       "_model_module_version": "0.2.1",
       "_view_module_version": "0.2.1",
       "icon": "file",
       "name": "1. IBS basic backtest.ipynb"
      }
     },
     "7358900ad8b14fb4ad631e39fab10d92": {
      "model_module": "@jupyter-widgets/base",
      "model_module_version": "1.2.0",
      "model_name": "LayoutModel",
      "state": {}
     },
     "7362b339298047c28d3de1e401db400a": {
      "model_module": "ipytree",
      "model_module_version": "0.2.1",
      "model_name": "NodeModel",
      "state": {
       "_id": "264c7076-c110-47a0-be5b-d71d5681ad4a",
       "_model_module_version": "0.2.1",
       "_view_module_version": "0.2.1",
       "icon": "file",
       "name": "kalman_filter_adjust.py"
      }
     },
     "736b17fb20c04840a7f482e98f058fd0": {
      "model_module": "ipytree",
      "model_module_version": "0.2.1",
      "model_name": "NodeModel",
      "state": {
       "_id": "f32938b4-7f02-481c-8064-ab76a207a7ed",
       "_model_module_version": "0.2.1",
       "_view_module_version": "0.2.1",
       "name": "strategies",
       "nodes": [
        "IPY_MODEL_235e31d767284951b9dc9fbb500ecfb2",
        "IPY_MODEL_90d03996208143dab4519f071585ee86",
        "IPY_MODEL_650c8e53e5c04fcea4d45919a67d56c4",
        "IPY_MODEL_41f99c625ac64f7a83c988d4f994d2b6",
        "IPY_MODEL_881fef76b77146008ca139903b171ff3",
        "IPY_MODEL_1794462bc7e84939876b4f81e99f4422",
        "IPY_MODEL_fbb9e96685fc48e2983c1772ec944158",
        "IPY_MODEL_e194b2012f7241bb94b9227a619f3df4"
       ],
       "opened": false
      }
     },
     "736c64895b654c798c3f52d7bd911872": {
      "model_module": "ipytree",
      "model_module_version": "0.2.1",
      "model_name": "NodeModel",
      "state": {
       "_id": "a88449a8-dfe0-41c7-a5ad-076587c3d724",
       "_model_module_version": "0.2.1",
       "_view_module_version": "0.2.1",
       "icon": "file",
       "name": "PredictiveModel.ipynb"
      }
     },
     "737a3d2aa21346108671363445e93a77": {
      "model_module": "ipytree",
      "model_module_version": "0.2.1",
      "model_name": "NodeModel",
      "state": {
       "_id": "9348807d-b231-46de-bce2-ef8c11c6d3c5",
       "_model_module_version": "0.2.1",
       "_view_module_version": "0.2.1",
       "icon": "file",
       "name": "Volatility Prediction Crypto.ipynb"
      }
     },
     "737beba3e23b4f63a570c9725a49f5af": {
      "model_module": "ipytree",
      "model_module_version": "0.2.1",
      "model_name": "NodeModel",
      "state": {
       "_id": "95a1c662-456c-4e7b-a60c-91d272df9e97",
       "_model_module_version": "0.2.1",
       "_view_module_version": "0.2.1",
       "icon": "file",
       "name": "plot_helpers.py"
      }
     },
     "739a3bc388784418aa5374e577b9698b": {
      "model_module": "ipytree",
      "model_module_version": "0.2.1",
      "model_name": "NodeModel",
      "state": {
       "_id": "25610dee-d63d-496e-a79b-1934d57e1962",
       "_model_module_version": "0.2.1",
       "_view_module_version": "0.2.1",
       "name": "__pycache__",
       "nodes": [
        "IPY_MODEL_c33879559ce640b79bc5c9af2d8d73c2"
       ],
       "opened": false
      }
     },
     "73cc4e3de39e441f914cfae769066fc7": {
      "model_module": "ipytree",
      "model_module_version": "0.2.1",
      "model_name": "NodeModel",
      "state": {
       "_id": "5ff7c5aa-98a3-4886-aad1-c3728ae70faf",
       "_model_module_version": "0.2.1",
       "_view_module_version": "0.2.1",
       "name": "docs",
       "nodes": [
        "IPY_MODEL_6a67ff12f69c48a5a8e14ecc8a04e8fd",
        "IPY_MODEL_1cd30bb901b346728e08c7494c801f64",
        "IPY_MODEL_046b2513c8bc45aa96d3b7e0c574b488",
        "IPY_MODEL_496cb85af83c41bdbb0969c181355ccd",
        "IPY_MODEL_17552aaf2add49149de2ce3368825376",
        "IPY_MODEL_1359218e1c9e45e0baaa7c004b21a19f",
        "IPY_MODEL_77e70fa7f63e4dfcb9804016ebb5c3de"
       ],
       "opened": false
      }
     },
     "73cf8fe42717409db5cd02ea829fb883": {
      "model_module": "ipytree",
      "model_module_version": "0.2.1",
      "model_name": "NodeModel",
      "state": {
       "_id": "e58f6d9b-b3fd-4d43-96fb-6d499ebb56a3",
       "_model_module_version": "0.2.1",
       "_view_module_version": "0.2.1",
       "icon": "file",
       "name": "publicator.py"
      }
     },
     "73ff844b1a0647a7b86044f3dfd511a2": {
      "model_module": "@jupyter-widgets/controls",
      "model_module_version": "1.5.0",
      "model_name": "DescriptionStyleModel",
      "state": {
       "description_width": ""
      }
     },
     "744289c62f1543efa1bf16ad8be72164": {
      "model_module": "ipytree",
      "model_module_version": "0.2.1",
      "model_name": "NodeModel",
      "state": {
       "_id": "20b4c0e2-d041-4e3c-8a8c-151d363f24eb",
       "_model_module_version": "0.2.1",
       "_view_module_version": "0.2.1",
       "icon": "file",
       "name": "Demo_13_0.png"
      }
     },
     "74825bd2e3fb48b58007308f35a9d8ad": {
      "model_module": "ipytree",
      "model_module_version": "0.2.1",
      "model_name": "NodeModel",
      "state": {
       "_id": "efd077c1-7c85-4df8-8805-0ab3d7bf9ace",
       "_model_module_version": "0.2.1",
       "_view_module_version": "0.2.1",
       "icon": "file",
       "name": "The_impact_of_visible_and_dark_orders.pdf"
      }
     },
     "74b4d940461f4341928eb769084d5e8a": {
      "model_module": "ipytree",
      "model_module_version": "0.2.1",
      "model_name": "NodeModel",
      "state": {
       "_id": "eee934f1-5e5f-4699-af95-3921c957f79e",
       "_model_module_version": "0.2.1",
       "_view_module_version": "0.2.1",
       "icon": "file",
       "name": "progress.html"
      }
     },
     "74cca7b9b62f4e2d80b479da933a4cc1": {
      "model_module": "ipytree",
      "model_module_version": "0.2.1",
      "model_name": "NodeModel",
      "state": {
       "_id": "a0dea454-200d-4cfd-8440-5f7c81b59a0a",
       "_model_module_version": "0.2.1",
       "_view_module_version": "0.2.1",
       "icon": "file",
       "name": "progression_results_all.json"
      }
     },
     "74dad4f4138a40babbdc06f8e61187bb": {
      "model_module": "ipytree",
      "model_module_version": "0.2.1",
      "model_name": "NodeModel",
      "state": {
       "_id": "cfb23576-4fa5-4254-8d04-38e0f7c739a7",
       "_model_module_version": "0.2.1",
       "_view_module_version": "0.2.1",
       "icon": "file",
       "name": "search_funds_primer.pdf"
      }
     },
     "74ff76333ede4a168cec2794b183bf6a": {
      "model_module": "ipytree",
      "model_module_version": "0.2.1",
      "model_name": "NodeModel",
      "state": {
       "_id": "67c1b18c-479f-422e-98ad-ad0750d268bb",
       "_model_module_version": "0.2.1",
       "_view_module_version": "0.2.1",
       "icon": "file",
       "name": "tools.cpython-36.pyc"
      }
     },
     "7507feca465a45b5b65bbda92085bb73": {
      "model_module": "ipytree",
      "model_module_version": "0.2.1",
      "model_name": "NodeModel",
      "state": {
       "_id": "61550e32-2dd0-4758-b402-9ed29d2de2d2",
       "_model_module_version": "0.2.1",
       "_view_module_version": "0.2.1",
       "icon": "file",
       "name": "Introduction_To_SKLEARN.ipynb"
      }
     },
     "754886e948f84862a889e7b3acff8256": {
      "model_module": "ipytree",
      "model_module_version": "0.2.1",
      "model_name": "NodeModel",
      "state": {
       "_id": "8d26b666-735d-4a0f-bd1e-ff7b7b543544",
       "_model_module_version": "0.2.1",
       "_view_module_version": "0.2.1",
       "icon": "file",
       "name": "0. Squeeze Indicator.ipynb"
      }
     },
     "75628122b41e46d5854b82d68a416e9a": {
      "model_module": "ipytree",
      "model_module_version": "0.2.1",
      "model_name": "NodeModel",
      "state": {
       "_id": "e85df089-338a-4c1f-984f-d4a8c18a52aa",
       "_model_module_version": "0.2.1",
       "_view_module_version": "0.2.1",
       "icon": "file",
       "name": "Volatility Prediction Last.ipynb"
      }
     },
     "75657b48706f4c2f9a99570715cdb599": {
      "model_module": "ipytree",
      "model_module_version": "0.2.1",
      "model_name": "NodeModel",
      "state": {
       "_id": "0ea9fb7f-4257-4235-b8f4-1a7c01861832",
       "_model_module_version": "0.2.1",
       "_view_module_version": "0.2.1",
       "icon": "file",
       "name": "ohlc_clustering.py"
      }
     },
     "756acfd16dc14be09edfba2fcf1020d9": {
      "model_module": "ipytree",
      "model_module_version": "0.2.1",
      "model_name": "NodeModel",
      "state": {
       "_id": "9d9eb84f-4ba0-4619-bc4b-6db26ed50731",
       "_model_module_version": "0.2.1",
       "_view_module_version": "0.2.1",
       "name": "QuantStartBook",
       "nodes": [
        "IPY_MODEL_e254c122291d497fa610fcbcd6289222",
        "IPY_MODEL_084864e65f8b414ca1c140f9b436a4a0",
        "IPY_MODEL_67af6a402c13423ba1e029862031a930",
        "IPY_MODEL_0d407284b22946aea8b562043d30a980",
        "IPY_MODEL_dab53ad5f0174c0c9a48ad16ba18bcec",
        "IPY_MODEL_facc7b89ef1a477fa38842cf8e65d4e6",
        "IPY_MODEL_f7cb85db52834d8da748cd90ea51de9b",
        "IPY_MODEL_f286dc8fc97741f3b3de22f56e2f5129",
        "IPY_MODEL_c501e09d86734c94a604e391985b21f1",
        "IPY_MODEL_40120d98605c4d9e8a9f0d0322b69b1c",
        "IPY_MODEL_5e78e29c8c4b4cbdba1dc1bee01ad350",
        "IPY_MODEL_9a1b8e93eb784ee6891c7bcaaf9e5be4",
        "IPY_MODEL_a095397e322e4eacb9f58c3bec8e7d43",
        "IPY_MODEL_eb29f7a1883747ee9953feba3c4d2ec9",
        "IPY_MODEL_580f134c48d645148518253c03509cdc",
        "IPY_MODEL_b3d7d981059a41578e643e8f70c4724a",
        "IPY_MODEL_b288579703fc4065b311a8762d9f859c",
        "IPY_MODEL_baaee93b4c5842849ef03cfb5401f258",
        "IPY_MODEL_aa6c35dbd09847698538aebe0efd4e5c",
        "IPY_MODEL_51a88ff264f14d4e93249d0ecaa0baa0",
        "IPY_MODEL_ca488b88993c4dac88eb233fb0e36f8a",
        "IPY_MODEL_41c556c362ac4a90804016e36922e938",
        "IPY_MODEL_bee2b727ec8548848658bcd12ebee11d",
        "IPY_MODEL_9d587a15c5a34bb49acd8f067f481996",
        "IPY_MODEL_4e8c0fa526df4b63acd1311deb766688",
        "IPY_MODEL_c6555c9d91e542f58a4a3281f37144fb"
       ],
       "opened": false
      }
     },
     "75c6003a16bd4c81b08e7c134536e605": {
      "model_module": "ipytree",
      "model_module_version": "0.2.1",
      "model_name": "NodeModel",
      "state": {
       "_id": "b3567813-3e49-48e3-ae5b-436b8eff50e1",
       "_model_module_version": "0.2.1",
       "_view_module_version": "0.2.1",
       "name": "exchanges",
       "nodes": [
        "IPY_MODEL_d7cc0c9f4c20480da7553168b860fb5c",
        "IPY_MODEL_8ee188623c864dbf9bf38099df927715",
        "IPY_MODEL_2f0721d8aa88432d9b0c8b0664456603",
        "IPY_MODEL_8098461f3b5c4d77b9ebeb529bba29aa",
        "IPY_MODEL_0ef1d24327b7402eb05be9f687548a3a",
        "IPY_MODEL_cdd3ae520eae4daeb2b8c64ce49c7c82"
       ]
      }
     },
     "764c44688056473db2f6cb51954d54a7": {
      "model_module": "ipytree",
      "model_module_version": "0.2.1",
      "model_name": "NodeModel",
      "state": {
       "_id": "081601f6-73e1-4b9f-b4f0-3a7f821ff10a",
       "_model_module_version": "0.2.1",
       "_view_module_version": "0.2.1",
       "icon": "file",
       "name": "binance.json"
      }
     },
     "769f5f5985724808bead6312009bd17e": {
      "model_module": "ipytree",
      "model_module_version": "0.2.1",
      "model_name": "NodeModel",
      "state": {
       "_id": "10e8cf70-f843-4fcd-8ab8-71c42379cc09",
       "_model_module_version": "0.2.1",
       "_view_module_version": "0.2.1",
       "icon": "file",
       "name": "simctrl.py"
      }
     },
     "76ab28b3da584d829f6593780ddece73": {
      "model_module": "ipytree",
      "model_module_version": "0.2.1",
      "model_name": "NodeModel",
      "state": {
       "_id": "67ad88f1-baf1-4689-bffc-be33dc20877e",
       "_model_module_version": "0.2.1",
       "_view_module_version": "0.2.1",
       "icon": "file",
       "name": "2.0 Optimization Statistics.ipynb"
      }
     },
     "772df9a213a0464d9b8222731af92534": {
      "model_module": "ipytree",
      "model_module_version": "0.2.1",
      "model_name": "NodeModel",
      "state": {
       "_id": "38fb04df-4712-423c-bcbc-4d5e6c6a4fe6",
       "_model_module_version": "0.2.1",
       "_view_module_version": "0.2.1",
       "icon": "file",
       "name": "__init__.py"
      }
     },
     "773b38e3171b4247b7e9d0729a076888": {
      "model_module": "ipytree",
      "model_module_version": "0.2.1",
      "model_name": "NodeModel",
      "state": {
       "_id": "eb64bb8f-caec-469d-8dda-e489fc775eba",
       "_model_module_version": "0.2.1",
       "_view_module_version": "0.2.1",
       "icon": "file",
       "name": "CryptCorrReport2.ipynb"
      }
     },
     "77974f8a85144f1b96df6806cabda09e": {
      "model_module": "ipytree",
      "model_module_version": "0.2.1",
      "model_name": "NodeModel",
      "state": {
       "_id": "42cba481-1f62-445c-b23e-1dfb0164d850",
       "_model_module_version": "0.2.1",
       "_view_module_version": "0.2.1",
       "icon": "file",
       "name": "__init__.py"
      }
     },
     "77ab5819860a421097c579ac726f23c4": {
      "model_module": "ipytree",
      "model_module_version": "0.2.1",
      "model_name": "NodeModel",
      "state": {
       "_id": "ceb4c7a5-759c-4c09-b449-86b825b0063f",
       "_model_module_version": "0.2.1",
       "_view_module_version": "0.2.1",
       "icon": "file",
       "name": "models.py"
      }
     },
     "77bd25f126d048cbb1aea1e27ee86dc9": {
      "model_module": "ipytree",
      "model_module_version": "0.2.1",
      "model_name": "NodeModel",
      "state": {
       "_id": "ce3139f2-2559-4d8a-8274-bd58de6a942e",
       "_model_module_version": "0.2.1",
       "_view_module_version": "0.2.1",
       "name": "models",
       "nodes": [
        "IPY_MODEL_14d8c38d034245a783e0e2c7165294d2",
        "IPY_MODEL_a480fc4a592f4548b55a1978dc69576f",
        "IPY_MODEL_84e25e000c9848308492ece5c2a6ee05",
        "IPY_MODEL_7853af53248c440fbdeda5e0fd2484c7"
       ],
       "opened": false
      }
     },
     "77e70fa7f63e4dfcb9804016ebb5c3de": {
      "model_module": "ipytree",
      "model_module_version": "0.2.1",
      "model_name": "NodeModel",
      "state": {
       "_id": "86379c17-4c71-46f0-b6a5-fae688f390c5",
       "_model_module_version": "0.2.1",
       "_view_module_version": "0.2.1",
       "name": "guides",
       "nodes": [
        "IPY_MODEL_be2e26ae04484ee69958924c32f415c4"
       ],
       "opened": false
      }
     },
     "781b9c702402495d82c7a17138275c41": {
      "model_module": "ipytree",
      "model_module_version": "0.2.1",
      "model_name": "NodeModel",
      "state": {
       "_id": "696e3e24-5cd2-41d4-b97b-e951c0fc1b3b",
       "_model_module_version": "0.2.1",
       "_view_module_version": "0.2.1",
       "icon": "file",
       "name": "1.1 FBreak model optimizations.ipynb"
      }
     },
     "7853af53248c440fbdeda5e0fd2484c7": {
      "model_module": "ipytree",
      "model_module_version": "0.2.1",
      "model_name": "NodeModel",
      "state": {
       "_id": "35677172-3f89-402d-9994-b6b1da8aa419",
       "_model_module_version": "0.2.1",
       "_view_module_version": "0.2.1",
       "icon": "file",
       "name": "volatility_utils.py"
      }
     },
     "78614cabc11345a8945ae4503f716e88": {
      "model_module": "ipytree",
      "model_module_version": "0.2.1",
      "model_name": "NodeModel",
      "state": {
       "_id": "26c129e0-057f-4c95-9234-37899d14a0ba",
       "_model_module_version": "0.2.1",
       "_view_module_version": "0.2.1",
       "icon": "archive",
       "icon_style": "warning",
       "name": "root"
      }
     },
     "789a0d5981fc4369bd2995a932680e0f": {
      "model_module": "ipytree",
      "model_module_version": "0.2.1",
      "model_name": "NodeModel",
      "state": {
       "_id": "5b9f7f87-c6f3-46ac-a69d-7f76786d908c",
       "_model_module_version": "0.2.1",
       "_view_module_version": "0.2.1",
       "icon": "file",
       "name": "DeltaTick.ipynb"
      }
     },
     "78cd1756c162477497c8641624f61945": {
      "model_module": "@jupyter-widgets/base",
      "model_module_version": "1.2.0",
      "model_name": "LayoutModel",
      "state": {}
     },
     "78d6cca81c9e4e8881bcadff6dfe696c": {
      "model_module": "ipytree",
      "model_module_version": "0.2.1",
      "model_name": "NodeModel",
      "state": {
       "_id": "08d1e3c4-ac48-418b-a28b-fd6e4f999fcc",
       "_model_module_version": "0.2.1",
       "_view_module_version": "0.2.1",
       "icon": "file",
       "name": "yahoo_finance.py"
      }
     },
     "78fe4043967a452a9738b3aa51439832": {
      "model_module": "ipytree",
      "model_module_version": "0.2.1",
      "model_name": "NodeModel",
      "state": {
       "_id": "b751df67-6792-4ffc-871b-0c76fcda9b2a",
       "_model_module_version": "0.2.1",
       "_view_module_version": "0.2.1",
       "icon": "file",
       "name": "DigitalFiltersExperiments.ipynb"
      }
     },
     "79d1371be94141a589add7542b10f0d7": {
      "model_module": "ipytree",
      "model_module_version": "0.2.1",
      "model_name": "NodeModel",
      "state": {
       "_id": "0ed283c9-f2cb-484a-8c09-54ed9867a60e",
       "_model_module_version": "0.2.1",
       "_view_module_version": "0.2.1",
       "icon": "file",
       "name": "Roadmap.ipynb"
      }
     },
     "7a0c2563d8234bcf879dc41cbbda67d2": {
      "model_module": "ipytree",
      "model_module_version": "0.2.1",
      "model_name": "NodeModel",
      "state": {
       "_id": "475ee4ee-90ed-4cd6-a037-dc44198415fb",
       "_model_module_version": "0.2.1",
       "_view_module_version": "0.2.1",
       "icon": "file",
       "name": "fix44parser.py"
      }
     },
     "7a6a87446d1a4900adc707e59cd0bccf": {
      "model_module": "ipytree",
      "model_module_version": "0.2.1",
      "model_name": "NodeModel",
      "state": {
       "_id": "cb3df34c-b688-4e80-85da-79de40fb2007",
       "_model_module_version": "0.2.1",
       "_view_module_version": "0.2.1",
       "icon": "file",
       "name": "2. Correct PnL and Positions calculations.ipynb"
      }
     },
     "7a709402e0594b30961d26eb83f10e19": {
      "model_module": "ipytree",
      "model_module_version": "0.2.1",
      "model_name": "NodeModel",
      "state": {
       "_id": "c51086a4-45c3-4b6e-825a-057d6036e2f8",
       "_model_module_version": "0.2.1",
       "_view_module_version": "0.2.1",
       "icon": "file",
       "name": "multisim.py"
      }
     },
     "7aa6d8779536437aa8588b1c6a8b6d31": {
      "model_module": "ipytree",
      "model_module_version": "0.2.1",
      "model_name": "NodeModel",
      "state": {
       "_id": "9d8f9e8d-1a13-4aec-8c7f-7cd3839c87e2",
       "_model_module_version": "0.2.1",
       "_view_module_version": "0.2.1",
       "icon": "file",
       "name": "utils.cpython-36.pyc"
      }
     },
     "7ad9eb42615c46218051cb9c9452eb8d": {
      "model_module": "ipytree",
      "model_module_version": "0.2.1",
      "model_name": "NodeModel",
      "state": {
       "_id": "96f19b1f-3073-4405-b75e-b501e3da4851",
       "_model_module_version": "0.2.1",
       "_view_module_version": "0.2.1",
       "name": "nimble",
       "nodes": [
        "IPY_MODEL_2ced653d8e324a31b917c1d445a26c64",
        "IPY_MODEL_6e50570fd7a24f35b4e6018c45a7dded",
        "IPY_MODEL_f02e61fe117145508b6b29d55e76be74",
        "IPY_MODEL_f029180ae7034a8383fbaca3d85737dd",
        "IPY_MODEL_8db7b2bd4c9b47b78e2b9fec547f4c6a"
       ],
       "opened": false
      }
     },
     "7b34402e861a4c3994144b4c6ac2ce58": {
      "model_module": "ipytree",
      "model_module_version": "0.2.1",
      "model_name": "NodeModel",
      "state": {
       "_id": "80446656-0586-4d2c-9ff7-d37bf7ac03a3",
       "_model_module_version": "0.2.1",
       "_view_module_version": "0.2.1",
       "name": "examples",
       "nodes": [
        "IPY_MODEL_def9a4c05e9a4e14aa59ed59980ad1a2",
        "IPY_MODEL_be54152de20947bfacc838dd7656c220",
        "IPY_MODEL_17b5a67f21ae4319a3384077ee170b5f",
        "IPY_MODEL_2bce61cb2e7940d89dc633b32cec0509"
       ],
       "opened": false
      }
     },
     "7b3b96fa9a4f45248451090576d7a5f9": {
      "model_module": "ipytree",
      "model_module_version": "0.2.1",
      "model_name": "NodeModel",
      "state": {
       "_id": "4687b3b2-eec0-44f0-ae46-5f1da823e404",
       "_model_module_version": "0.2.1",
       "_view_module_version": "0.2.1",
       "icon": "file",
       "name": "__init__.py"
      }
     },
     "7b3e9a8ae4e44d1f8c1f0e4c6c163660": {
      "model_module": "ipytree",
      "model_module_version": "0.2.1",
      "model_name": "NodeModel",
      "state": {
       "_id": "c2cf1c28-c530-4434-876b-4892e14bffdd",
       "_model_module_version": "0.2.1",
       "_view_module_version": "0.2.1",
       "icon": "file",
       "name": "mlhelpers.cpython-36.pyc"
      }
     },
     "7bd26bfcd3184b5481a6c90d5579c9a8": {
      "model_module": "ipytree",
      "model_module_version": "0.2.1",
      "model_name": "NodeModel",
      "state": {
       "_id": "0ad0635f-c74d-4000-89b9-6f7b97e2f6e1",
       "_model_module_version": "0.2.1",
       "_view_module_version": "0.2.1",
       "icon": "file",
       "name": "binance.cpython-36.pyc"
      }
     },
     "7c03e97950a347a49f288468d9204bc5": {
      "model_module": "ipytree",
      "model_module_version": "0.2.1",
      "model_name": "NodeModel",
      "state": {
       "_id": "068a174d-b4b6-48de-aab4-e394b9b01fa1",
       "_model_module_version": "0.2.1",
       "_view_module_version": "0.2.1",
       "icon": "file",
       "name": "HFT_and_order_executions_thoughts.ipynb"
      }
     },
     "7c55b63f7edf4b6ea2330cfa47d3b5e5": {
      "model_module": "ipytree",
      "model_module_version": "0.2.1",
      "model_name": "NodeModel",
      "state": {
       "_id": "10b8a56a-36e7-42ae-9968-c3cf5cc3a77b",
       "_model_module_version": "0.2.1",
       "_view_module_version": "0.2.1",
       "name": "fbreak",
       "nodes": [
        "IPY_MODEL_afa4405753864f9faffd9283b4f3eb66",
        "IPY_MODEL_30a9ced6146a45df99256036eb55b3a2",
        "IPY_MODEL_ff66a68b45c24d3eb4c0bc6ede9b68f9",
        "IPY_MODEL_b2a197dde8de49e593781b4baa82c139",
        "IPY_MODEL_c033db66338a4506af22965436322425",
        "IPY_MODEL_2b286337412b4b4cb410a50e98aee5b0"
       ],
       "opened": false
      }
     },
     "7cc32def184443c09fd4d4ac143abb7d": {
      "model_module": "ipytree",
      "model_module_version": "0.2.1",
      "model_name": "NodeModel",
      "state": {
       "_id": "ef2f1073-a512-4981-afae-53134143d9fb",
       "_model_module_version": "0.2.1",
       "_view_module_version": "0.2.1",
       "name": "Filters",
       "nodes": [
        "IPY_MODEL_838d58f35db344d1a1f747137f7f807d",
        "IPY_MODEL_67ee0e163b124bb5b5bee213ea15fdfb",
        "IPY_MODEL_a73a17de37db487fbf93d8a60a5b180a"
       ],
       "opened": false
      }
     },
     "7d0a90cf654444739763bf65a1358e13": {
      "model_module": "ipytree",
      "model_module_version": "0.2.1",
      "model_name": "NodeModel",
      "state": {
       "_id": "0d5a6a51-e49f-4408-ae3c-e960a6198862",
       "_model_module_version": "0.2.1",
       "_view_module_version": "0.2.1",
       "name": "turtles",
       "nodes": [
        "IPY_MODEL_66e0eb991ffd466ab1175f7985e86334",
        "IPY_MODEL_0e510371d5ee4e7480e065cb634264a6"
       ]
      }
     },
     "7dbae691c5a142cfba499682ee1de94f": {
      "model_module": "ipytree",
      "model_module_version": "0.2.1",
      "model_name": "NodeModel",
      "state": {
       "_id": "c413da9b-387a-4b38-a6a0-66d9c846012b",
       "_model_module_version": "0.2.1",
       "_view_module_version": "0.2.1",
       "name": "fbreak",
       "nodes": [
        "IPY_MODEL_92667f56e98747378cb0f7289903bf78",
        "IPY_MODEL_c492614912624df4a22bf659e0b77b3e",
        "IPY_MODEL_873a52acb78242d581d0a6025074fd95"
       ],
       "opened": false
      }
     },
     "7df099e8c63f421aa412ac11be1d0f01": {
      "model_module": "@jupyter-widgets/controls",
      "model_module_version": "1.5.0",
      "model_name": "DescriptionStyleModel",
      "state": {
       "description_width": ""
      }
     },
     "7e5aa028d12f4159a5ecb280a71c3c5c": {
      "model_module": "ipytree",
      "model_module_version": "0.2.1",
      "model_name": "NodeModel",
      "state": {
       "_id": "f4511743-3d60-4e42-bb03-5ceecca50a9d",
       "_model_module_version": "0.2.1",
       "_view_module_version": "0.2.1",
       "icon": "file",
       "name": "1.1 Daily Gaps trading on stock market.ipynb"
      }
     },
     "7e7b7d7635074d489a4b33f17d13a29b": {
      "model_module": "ipytree",
      "model_module_version": "0.2.1",
      "model_name": "NodeModel",
      "state": {
       "_id": "3a122439-d9a5-479e-b741-2812e08f1820",
       "_model_module_version": "0.2.1",
       "_view_module_version": "0.2.1",
       "icon": "file",
       "name": "30-06-2020.csv"
      }
     },
     "7f1681cb045945afb400684000fb7879": {
      "model_module": "ipytree",
      "model_module_version": "0.2.1",
      "model_name": "NodeModel",
      "state": {
       "_id": "28281ea9-357b-4d89-af59-792a650a29df",
       "_model_module_version": "0.2.1",
       "_view_module_version": "0.2.1",
       "icon": "file",
       "name": "0. Very First Look.ipynb"
      }
     },
     "7f48d6c4c9d7411ca5bbc276de05f17a": {
      "model_module": "ipytree",
      "model_module_version": "0.2.1",
      "model_name": "NodeModel",
      "state": {
       "_id": "8db05450-fe36-47e3-9b35-be08b6d8d216",
       "_model_module_version": "0.2.1",
       "_view_module_version": "0.2.1",
       "icon": "home",
       "icon_style": "success",
       "name": "home",
       "nodes": [
        "IPY_MODEL_fcedc03913ce431f95147696f1ca2cc7",
        "IPY_MODEL_e0905c778f624732b86e0748ff227a91"
       ]
      }
     },
     "7fb49fcc509d4f499f8d2ea4c3b7077c": {
      "model_module": "ipytree",
      "model_module_version": "0.2.1",
      "model_name": "NodeModel",
      "state": {
       "_id": "5824b0db-bac5-4ed3-b86a-b57782c61784",
       "_model_module_version": "0.2.1",
       "_view_module_version": "0.2.1",
       "icon": "file",
       "name": "generators.py"
      }
     },
     "7fc3190d59ec401da2060de12454e8fa": {
      "model_module": "ipytree",
      "model_module_version": "0.2.1",
      "model_name": "NodeModel",
      "state": {
       "_id": "a84c0936-6076-4f08-9a7c-cac51bb1c3f2",
       "_model_module_version": "0.2.1",
       "_view_module_version": "0.2.1",
       "icon": "file",
       "name": "data_helpers.py"
      }
     },
     "7fc5ba366fe343b7a50d46011311205f": {
      "model_module": "ipytree",
      "model_module_version": "0.2.1",
      "model_name": "NodeModel",
      "state": {
       "_id": "6429a129-9608-4250-97bf-0a6d95843d9f",
       "_model_module_version": "0.2.1",
       "_view_module_version": "0.2.1",
       "icon": "file",
       "name": "1.1 FBreak model 5Min.ipynb"
      }
     },
     "7fdaf5c3c87c4df9b215ee806d0b62bd": {
      "model_module": "ipytree",
      "model_module_version": "0.2.1",
      "model_name": "NodeModel",
      "state": {
       "_id": "219e1a18-80ad-4091-b778-6f7e62d0700b",
       "_model_module_version": "0.2.1",
       "_view_module_version": "0.2.1",
       "icon": "file",
       "name": "NYSE.txt"
      }
     },
     "8098461f3b5c4d77b9ebeb529bba29aa": {
      "model_module": "ipytree",
      "model_module_version": "0.2.1",
      "model_name": "NodeModel",
      "state": {
       "_id": "b3bbb2a1-8a7e-4691-83b5-46af14960d51",
       "_model_module_version": "0.2.1",
       "_view_module_version": "0.2.1",
       "name": "fxcm",
       "nodes": [
        "IPY_MODEL_1756489d8d174c1494a8fa000b59e5b9"
       ],
       "opened": false
      }
     },
     "80c67f936b414dee9ee512aebf4ffec4": {
      "model_module": "ipytree",
      "model_module_version": "0.2.1",
      "model_name": "NodeModel",
      "state": {
       "_id": "c06b8c44-c6b8-421b-a241-27f57f67bd18",
       "_model_module_version": "0.2.1",
       "_view_module_version": "0.2.1",
       "icon": "file",
       "name": "MeanRevert_and_Momentum.ipynb"
      }
     },
     "80fc5d1aecd54efd9112b763bb959419": {
      "model_module": "@jupyter-widgets/controls",
      "model_module_version": "1.5.0",
      "model_name": "DescriptionStyleModel",
      "state": {
       "description_width": ""
      }
     },
     "8224dfea47b14cf18b4b99ea0ac3cfa5": {
      "model_module": "ipytree",
      "model_module_version": "0.2.1",
      "model_name": "NodeModel",
      "state": {
       "_id": "b894a5fd-85b9-4715-b2ae-19314ce3e06c",
       "_model_module_version": "0.2.1",
       "_view_module_version": "0.2.1",
       "icon": "file",
       "name": "TT_orders_latencies.ipynb"
      }
     },
     "8250a564b71c42adb33a93d0495494eb": {
      "model_module": "plotlywidget",
      "model_module_version": "^4.8.0",
      "model_name": "FigureModel",
      "state": {
       "_config": {
        "plotlyServerURL": "https://plot.ly"
       },
       "_js2py_pointsCallback": {},
       "_js2py_relayout": {},
       "_js2py_restyle": {},
       "_js2py_update": {},
       "_layout": {
        "height": 400,
        "margin": {
         "b": 5,
         "l": 5,
         "r": 5,
         "t": 35
        },
        "template": {
         "data": {
          "bar": [
           {
            "error_x": {
             "color": "#f2f5fa"
            },
            "error_y": {
             "color": "#f2f5fa"
            },
            "marker": {
             "line": {
              "color": "rgb(17,17,17)",
              "width": 0.5
             }
            },
            "type": "bar"
           }
          ],
          "barpolar": [
           {
            "marker": {
             "line": {
              "color": "rgb(17,17,17)",
              "width": 0.5
             }
            },
            "type": "barpolar"
           }
          ],
          "carpet": [
           {
            "aaxis": {
             "endlinecolor": "#A2B1C6",
             "gridcolor": "#506784",
             "linecolor": "#506784",
             "minorgridcolor": "#506784",
             "startlinecolor": "#A2B1C6"
            },
            "baxis": {
             "endlinecolor": "#A2B1C6",
             "gridcolor": "#506784",
             "linecolor": "#506784",
             "minorgridcolor": "#506784",
             "startlinecolor": "#A2B1C6"
            },
            "type": "carpet"
           }
          ],
          "choropleth": [
           {
            "colorbar": {
             "outlinewidth": 0,
             "ticks": ""
            },
            "type": "choropleth"
           }
          ],
          "contour": [
           {
            "colorbar": {
             "outlinewidth": 0,
             "ticks": ""
            },
            "colorscale": [
             [
              0,
              "#0d0887"
             ],
             [
              0.1111111111111111,
              "#46039f"
             ],
             [
              0.2222222222222222,
              "#7201a8"
             ],
             [
              0.3333333333333333,
              "#9c179e"
             ],
             [
              0.4444444444444444,
              "#bd3786"
             ],
             [
              0.5555555555555556,
              "#d8576b"
             ],
             [
              0.6666666666666666,
              "#ed7953"
             ],
             [
              0.7777777777777778,
              "#fb9f3a"
             ],
             [
              0.8888888888888888,
              "#fdca26"
             ],
             [
              1,
              "#f0f921"
             ]
            ],
            "type": "contour"
           }
          ],
          "contourcarpet": [
           {
            "colorbar": {
             "outlinewidth": 0,
             "ticks": ""
            },
            "type": "contourcarpet"
           }
          ],
          "heatmap": [
           {
            "colorbar": {
             "outlinewidth": 0,
             "ticks": ""
            },
            "colorscale": [
             [
              0,
              "#0d0887"
             ],
             [
              0.1111111111111111,
              "#46039f"
             ],
             [
              0.2222222222222222,
              "#7201a8"
             ],
             [
              0.3333333333333333,
              "#9c179e"
             ],
             [
              0.4444444444444444,
              "#bd3786"
             ],
             [
              0.5555555555555556,
              "#d8576b"
             ],
             [
              0.6666666666666666,
              "#ed7953"
             ],
             [
              0.7777777777777778,
              "#fb9f3a"
             ],
             [
              0.8888888888888888,
              "#fdca26"
             ],
             [
              1,
              "#f0f921"
             ]
            ],
            "type": "heatmap"
           }
          ],
          "heatmapgl": [
           {
            "colorbar": {
             "outlinewidth": 0,
             "ticks": ""
            },
            "colorscale": [
             [
              0,
              "#0d0887"
             ],
             [
              0.1111111111111111,
              "#46039f"
             ],
             [
              0.2222222222222222,
              "#7201a8"
             ],
             [
              0.3333333333333333,
              "#9c179e"
             ],
             [
              0.4444444444444444,
              "#bd3786"
             ],
             [
              0.5555555555555556,
              "#d8576b"
             ],
             [
              0.6666666666666666,
              "#ed7953"
             ],
             [
              0.7777777777777778,
              "#fb9f3a"
             ],
             [
              0.8888888888888888,
              "#fdca26"
             ],
             [
              1,
              "#f0f921"
             ]
            ],
            "type": "heatmapgl"
           }
          ],
          "histogram": [
           {
            "marker": {
             "colorbar": {
              "outlinewidth": 0,
              "ticks": ""
             }
            },
            "type": "histogram"
           }
          ],
          "histogram2d": [
           {
            "colorbar": {
             "outlinewidth": 0,
             "ticks": ""
            },
            "colorscale": [
             [
              0,
              "#0d0887"
             ],
             [
              0.1111111111111111,
              "#46039f"
             ],
             [
              0.2222222222222222,
              "#7201a8"
             ],
             [
              0.3333333333333333,
              "#9c179e"
             ],
             [
              0.4444444444444444,
              "#bd3786"
             ],
             [
              0.5555555555555556,
              "#d8576b"
             ],
             [
              0.6666666666666666,
              "#ed7953"
             ],
             [
              0.7777777777777778,
              "#fb9f3a"
             ],
             [
              0.8888888888888888,
              "#fdca26"
             ],
             [
              1,
              "#f0f921"
             ]
            ],
            "type": "histogram2d"
           }
          ],
          "histogram2dcontour": [
           {
            "colorbar": {
             "outlinewidth": 0,
             "ticks": ""
            },
            "colorscale": [
             [
              0,
              "#0d0887"
             ],
             [
              0.1111111111111111,
              "#46039f"
             ],
             [
              0.2222222222222222,
              "#7201a8"
             ],
             [
              0.3333333333333333,
              "#9c179e"
             ],
             [
              0.4444444444444444,
              "#bd3786"
             ],
             [
              0.5555555555555556,
              "#d8576b"
             ],
             [
              0.6666666666666666,
              "#ed7953"
             ],
             [
              0.7777777777777778,
              "#fb9f3a"
             ],
             [
              0.8888888888888888,
              "#fdca26"
             ],
             [
              1,
              "#f0f921"
             ]
            ],
            "type": "histogram2dcontour"
           }
          ],
          "mesh3d": [
           {
            "colorbar": {
             "outlinewidth": 0,
             "ticks": ""
            },
            "type": "mesh3d"
           }
          ],
          "parcoords": [
           {
            "line": {
             "colorbar": {
              "outlinewidth": 0,
              "ticks": ""
             }
            },
            "type": "parcoords"
           }
          ],
          "pie": [
           {
            "automargin": true,
            "type": "pie"
           }
          ],
          "scatter": [
           {
            "marker": {
             "line": {
              "color": "#283442"
             }
            },
            "type": "scatter"
           }
          ],
          "scatter3d": [
           {
            "line": {
             "colorbar": {
              "outlinewidth": 0,
              "ticks": ""
             }
            },
            "marker": {
             "colorbar": {
              "outlinewidth": 0,
              "ticks": ""
             }
            },
            "type": "scatter3d"
           }
          ],
          "scattercarpet": [
           {
            "marker": {
             "colorbar": {
              "outlinewidth": 0,
              "ticks": ""
             }
            },
            "type": "scattercarpet"
           }
          ],
          "scattergeo": [
           {
            "marker": {
             "colorbar": {
              "outlinewidth": 0,
              "ticks": ""
             }
            },
            "type": "scattergeo"
           }
          ],
          "scattergl": [
           {
            "marker": {
             "line": {
              "color": "#283442"
             }
            },
            "type": "scattergl"
           }
          ],
          "scattermapbox": [
           {
            "marker": {
             "colorbar": {
              "outlinewidth": 0,
              "ticks": ""
             }
            },
            "type": "scattermapbox"
           }
          ],
          "scatterpolar": [
           {
            "marker": {
             "colorbar": {
              "outlinewidth": 0,
              "ticks": ""
             }
            },
            "type": "scatterpolar"
           }
          ],
          "scatterpolargl": [
           {
            "marker": {
             "colorbar": {
              "outlinewidth": 0,
              "ticks": ""
             }
            },
            "type": "scatterpolargl"
           }
          ],
          "scatterternary": [
           {
            "marker": {
             "colorbar": {
              "outlinewidth": 0,
              "ticks": ""
             }
            },
            "type": "scatterternary"
           }
          ],
          "surface": [
           {
            "colorbar": {
             "outlinewidth": 0,
             "ticks": ""
            },
            "colorscale": [
             [
              0,
              "#0d0887"
             ],
             [
              0.1111111111111111,
              "#46039f"
             ],
             [
              0.2222222222222222,
              "#7201a8"
             ],
             [
              0.3333333333333333,
              "#9c179e"
             ],
             [
              0.4444444444444444,
              "#bd3786"
             ],
             [
              0.5555555555555556,
              "#d8576b"
             ],
             [
              0.6666666666666666,
              "#ed7953"
             ],
             [
              0.7777777777777778,
              "#fb9f3a"
             ],
             [
              0.8888888888888888,
              "#fdca26"
             ],
             [
              1,
              "#f0f921"
             ]
            ],
            "type": "surface"
           }
          ],
          "table": [
           {
            "cells": {
             "fill": {
              "color": "#506784"
             },
             "line": {
              "color": "rgb(17,17,17)"
             }
            },
            "header": {
             "fill": {
              "color": "#2a3f5f"
             },
             "line": {
              "color": "rgb(17,17,17)"
             }
            },
            "type": "table"
           }
          ]
         },
         "layout": {
          "annotationdefaults": {
           "arrowcolor": "#f2f5fa",
           "arrowhead": 0,
           "arrowwidth": 1
          },
          "coloraxis": {
           "colorbar": {
            "outlinewidth": 0,
            "ticks": ""
           }
          },
          "colorscale": {
           "diverging": [
            [
             0,
             "#8e0152"
            ],
            [
             0.1,
             "#c51b7d"
            ],
            [
             0.2,
             "#de77ae"
            ],
            [
             0.3,
             "#f1b6da"
            ],
            [
             0.4,
             "#fde0ef"
            ],
            [
             0.5,
             "#f7f7f7"
            ],
            [
             0.6,
             "#e6f5d0"
            ],
            [
             0.7,
             "#b8e186"
            ],
            [
             0.8,
             "#7fbc41"
            ],
            [
             0.9,
             "#4d9221"
            ],
            [
             1,
             "#276419"
            ]
           ],
           "sequential": [
            [
             0,
             "#0d0887"
            ],
            [
             0.1111111111111111,
             "#46039f"
            ],
            [
             0.2222222222222222,
             "#7201a8"
            ],
            [
             0.3333333333333333,
             "#9c179e"
            ],
            [
             0.4444444444444444,
             "#bd3786"
            ],
            [
             0.5555555555555556,
             "#d8576b"
            ],
            [
             0.6666666666666666,
             "#ed7953"
            ],
            [
             0.7777777777777778,
             "#fb9f3a"
            ],
            [
             0.8888888888888888,
             "#fdca26"
            ],
            [
             1,
             "#f0f921"
            ]
           ],
           "sequentialminus": [
            [
             0,
             "#0d0887"
            ],
            [
             0.1111111111111111,
             "#46039f"
            ],
            [
             0.2222222222222222,
             "#7201a8"
            ],
            [
             0.3333333333333333,
             "#9c179e"
            ],
            [
             0.4444444444444444,
             "#bd3786"
            ],
            [
             0.5555555555555556,
             "#d8576b"
            ],
            [
             0.6666666666666666,
             "#ed7953"
            ],
            [
             0.7777777777777778,
             "#fb9f3a"
            ],
            [
             0.8888888888888888,
             "#fdca26"
            ],
            [
             1,
             "#f0f921"
            ]
           ]
          },
          "colorway": [
           "#636efa",
           "#EF553B",
           "#00cc96",
           "#ab63fa",
           "#FFA15A",
           "#19d3f3",
           "#FF6692",
           "#B6E880",
           "#FF97FF",
           "#FECB52"
          ],
          "font": {
           "color": "#f2f5fa"
          },
          "geo": {
           "bgcolor": "rgb(17,17,17)",
           "lakecolor": "rgb(17,17,17)",
           "landcolor": "rgb(17,17,17)",
           "showlakes": true,
           "showland": true,
           "subunitcolor": "#506784"
          },
          "hoverlabel": {
           "align": "left"
          },
          "hovermode": "closest",
          "mapbox": {
           "style": "dark"
          },
          "paper_bgcolor": "rgb(17,17,17)",
          "plot_bgcolor": "rgb(17,17,17)",
          "polar": {
           "angularaxis": {
            "gridcolor": "#506784",
            "linecolor": "#506784",
            "ticks": ""
           },
           "bgcolor": "rgb(17,17,17)",
           "radialaxis": {
            "gridcolor": "#506784",
            "linecolor": "#506784",
            "ticks": ""
           }
          },
          "scene": {
           "xaxis": {
            "backgroundcolor": "rgb(17,17,17)",
            "gridcolor": "#506784",
            "gridwidth": 2,
            "linecolor": "#506784",
            "showbackground": true,
            "ticks": "",
            "zerolinecolor": "#C8D4E3"
           },
           "yaxis": {
            "backgroundcolor": "rgb(17,17,17)",
            "gridcolor": "#506784",
            "gridwidth": 2,
            "linecolor": "#506784",
            "showbackground": true,
            "ticks": "",
            "zerolinecolor": "#C8D4E3"
           },
           "zaxis": {
            "backgroundcolor": "rgb(17,17,17)",
            "gridcolor": "#506784",
            "gridwidth": 2,
            "linecolor": "#506784",
            "showbackground": true,
            "ticks": "",
            "zerolinecolor": "#C8D4E3"
           }
          },
          "shapedefaults": {
           "line": {
            "color": "#f2f5fa"
           }
          },
          "sliderdefaults": {
           "bgcolor": "#C8D4E3",
           "bordercolor": "rgb(17,17,17)",
           "borderwidth": 1,
           "tickwidth": 0
          },
          "ternary": {
           "aaxis": {
            "gridcolor": "#506784",
            "linecolor": "#506784",
            "ticks": ""
           },
           "baxis": {
            "gridcolor": "#506784",
            "linecolor": "#506784",
            "ticks": ""
           },
           "bgcolor": "rgb(17,17,17)",
           "caxis": {
            "gridcolor": "#506784",
            "linecolor": "#506784",
            "ticks": ""
           }
          },
          "title": {
           "x": 0.05
          },
          "updatemenudefaults": {
           "bgcolor": "#506784",
           "borderwidth": 0
          },
          "xaxis": {
           "automargin": true,
           "gridcolor": "#283442",
           "linecolor": "#506784",
           "ticks": "",
           "title": {
            "standoff": 15
           },
           "zerolinecolor": "#283442",
           "zerolinewidth": 2
          },
          "yaxis": {
           "automargin": true,
           "gridcolor": "#283442",
           "linecolor": "#506784",
           "ticks": "",
           "title": {
            "standoff": 15
           },
           "zerolinecolor": "#283442",
           "zerolinewidth": 2
          }
         }
        },
        "title": {
         "text": " None",
         "x": 0.5,
         "xanchor": "center",
         "y": 0.9,
         "yanchor": "top"
        },
        "xaxis": {
         "anchor": "y",
         "domain": [
          0,
          1
         ],
         "rangeslider": {
          "visible": false
         }
        },
        "yaxis": {
         "anchor": "x",
         "domain": [
          0,
          1
         ]
        }
       },
       "_model_module_version": "^4.8.0",
       "_py2js_addTraces": {},
       "_py2js_animate": {},
       "_py2js_deleteTraces": {},
       "_py2js_moveTraces": {},
       "_py2js_relayout": {},
       "_py2js_removeLayoutProps": {},
       "_py2js_removeTraceProps": {},
       "_py2js_restyle": {},
       "_py2js_update": {},
       "_view_count": 0,
       "_view_module_version": "^4.8.0"
      }
     },
     "8283ae2cfee6453a9d79a423e779079b": {
      "model_module": "ipytree",
      "model_module_version": "0.2.1",
      "model_name": "NodeModel",
      "state": {
       "_id": "92f42375-99be-496e-bb06-5ab4d2b0b1d5",
       "_model_module_version": "0.2.1",
       "_view_module_version": "0.2.1",
       "name": "data",
       "nodes": [
        "IPY_MODEL_e75fe51c9cfa46638b7779d940486ac6",
        "IPY_MODEL_e4e180dbe6414b98b149d9e1532648ec",
        "IPY_MODEL_547ee45f8c9c488389cea8c5d05d71d1",
        "IPY_MODEL_0fbb1c1752f44f1fbca391bca1b6439a"
       ],
       "opened": false
      }
     },
     "82b0772be6f74882aa000ed84bcb9375": {
      "model_module": "@jupyter-widgets/controls",
      "model_module_version": "1.5.0",
      "model_name": "DescriptionStyleModel",
      "state": {
       "description_width": ""
      }
     },
     "8355c2388bb94059a5cea3b3c43eb866": {
      "model_module": "ipytree",
      "model_module_version": "0.2.1",
      "model_name": "NodeModel",
      "state": {
       "_id": "7a3f877d-0b0f-4be2-8d43-af8f3c7cbe95",
       "_model_module_version": "0.2.1",
       "_view_module_version": "0.2.1",
       "icon": "file",
       "name": "data.md"
      }
     },
     "838d58f35db344d1a1f747137f7f807d": {
      "model_module": "ipytree",
      "model_module_version": "0.2.1",
      "model_name": "NodeModel",
      "state": {
       "_id": "4eec5658-11ad-4376-ae42-4575bbdef11e",
       "_model_module_version": "0.2.1",
       "_view_module_version": "0.2.1",
       "icon": "file",
       "name": "FRAMA.pdf"
      }
     },
     "83b48d1e54474f338cb10943411da18e": {
      "model_module": "ipytree",
      "model_module_version": "0.2.1",
      "model_name": "NodeModel",
      "state": {
       "_id": "3abca4b7-3ba9-4ae5-82c5-5f32374c50ef",
       "_model_module_version": "0.2.1",
       "_view_module_version": "0.2.1",
       "name": "research",
       "nodes": [
        "IPY_MODEL_6062c01efaf64c6bad02249841e02c9d",
        "IPY_MODEL_171f919806df42c3afa44727d2e09db7",
        "IPY_MODEL_38dc87ed8fda427f9f33cf8343f77e04"
       ]
      }
     },
     "83d6b0c9884b45e994d181b01a99d3cd": {
      "model_module": "ipytree",
      "model_module_version": "0.2.1",
      "model_name": "NodeModel",
      "state": {
       "_id": "494f8d5a-7657-4cde-9e13-9d88af602da3",
       "_model_module_version": "0.2.1",
       "_view_module_version": "0.2.1",
       "name": "__pycache__",
       "nodes": [
        "IPY_MODEL_9d399804ef03430aae3eb547fa4a237f"
       ],
       "opened": false
      }
     },
     "83e54e4a5af14e56b2d701d01a8ec1e1": {
      "model_module": "ipytree",
      "model_module_version": "0.2.1",
      "model_name": "NodeModel",
      "state": {
       "_id": "347f9174-382f-40ec-a7d1-7a19ed245660",
       "_model_module_version": "0.2.1",
       "_view_module_version": "0.2.1",
       "icon": "file",
       "name": "feature_selector.py"
      }
     },
     "83fd29d5832c46988c333e43b16778cd": {
      "model_module": "ipytree",
      "model_module_version": "0.2.1",
      "model_name": "NodeModel",
      "state": {
       "_id": "57a8bef0-2431-4a25-8583-d225390ab4f9",
       "_model_module_version": "0.2.1",
       "_view_module_version": "0.2.1",
       "icon": "plus",
       "icon_style": "success",
       "name": "File2"
      }
     },
     "8448b2c344094fd686dc8c45a46ab1fb": {
      "model_module": "ipytree",
      "model_module_version": "0.2.1",
      "model_name": "NodeModel",
      "state": {
       "_id": "ffebc6e0-2213-40b9-a39d-75b9342fe976",
       "_model_module_version": "0.2.1",
       "_view_module_version": "0.2.1",
       "icon": "file",
       "name": "yahoo_finance.py"
      }
     },
     "846f97c0e4974a71b37bd1e0c065d12a": {
      "model_module": "ipytree",
      "model_module_version": "0.2.1",
      "model_name": "NodeModel",
      "state": {
       "_id": "4ef95527-867a-48fb-8f31-bc8ed48577a6",
       "_model_module_version": "0.2.1",
       "_view_module_version": "0.2.1",
       "icon": "file",
       "name": "data.py"
      }
     },
     "848471e23bda4c58b2fe137529bac8dd": {
      "model_module": "ipytree",
      "model_module_version": "0.2.1",
      "model_name": "NodeModel",
      "state": {
       "_id": "9522ba01-b4c1-4141-b43c-74d935566692",
       "_model_module_version": "0.2.1",
       "_view_module_version": "0.2.1",
       "icon": "file",
       "name": "FXCM_USDJPY_ticks_links.txt"
      }
     },
     "84e25e000c9848308492ece5c2a6ee05": {
      "model_module": "ipytree",
      "model_module_version": "0.2.1",
      "model_name": "NodeModel",
      "state": {
       "_id": "bbed1d3d-6bb3-4002-a08f-266950e511e7",
       "_model_module_version": "0.2.1",
       "_view_module_version": "0.2.1",
       "icon": "file",
       "name": "supertrend_models.py"
      }
     },
     "85089c260dfa40f795163765f7b96852": {
      "model_module": "ipytree",
      "model_module_version": "0.2.1",
      "model_name": "NodeModel",
      "state": {
       "_id": "29efc870-c5bc-4344-b52f-cbc9dd225642",
       "_model_module_version": "0.2.1",
       "_view_module_version": "0.2.1",
       "icon": "file",
       "name": "0. Funding rates EDA.ipynb"
      }
     },
     "851cc2d557be499880128df60c81f167": {
      "model_module": "ipytree",
      "model_module_version": "0.2.1",
      "model_name": "NodeModel",
      "state": {
       "_id": "f5885ca5-1fb3-4c64-bc7f-fb5a58650152",
       "_model_module_version": "0.2.1",
       "_view_module_version": "0.2.1",
       "name": "__pycache__",
       "nodes": [
        "IPY_MODEL_d6cb5790ecfb4787912d01594d73e634",
        "IPY_MODEL_3a63945045754a8091412f256c967ad2",
        "IPY_MODEL_29b1528bdf0d48fa89f21967c153c763",
        "IPY_MODEL_0065b3b0f82e425b9749395f132b47f1",
        "IPY_MODEL_d52049ec3d6d47239bed21e1b12b1c9c",
        "IPY_MODEL_74ff76333ede4a168cec2794b183bf6a"
       ],
       "opened": false
      }
     },
     "853cbfe2b7e84ed1b1853635df35e5a0": {
      "model_module": "ipytree",
      "model_module_version": "0.2.1",
      "model_name": "NodeModel",
      "state": {
       "_id": "6678a0d4-409a-4c99-8453-3b0ab4f48bd1",
       "_model_module_version": "0.2.1",
       "_view_module_version": "0.2.1",
       "icon": "file",
       "name": "SimulatorTests.ipynb"
      }
     },
     "85537a0aa27240539c3ff5cecb0d6b19": {
      "model_module": "ipytree",
      "model_module_version": "0.2.1",
      "model_name": "NodeModel",
      "state": {
       "_id": "ba0be489-0ed9-483b-86fa-ff7a2aa87bd2",
       "_model_module_version": "0.2.1",
       "_view_module_version": "0.2.1",
       "name": "single",
       "nodes": [
        "IPY_MODEL_e8c1e4d3bd5448838e2159e049837b4f",
        "IPY_MODEL_76ab28b3da584d829f6593780ddece73"
       ],
       "opened": false
      }
     },
     "8567882941b247349b4fdf43eefe0d1a": {
      "model_module": "ipytree",
      "model_module_version": "0.2.1",
      "model_name": "NodeModel",
      "state": {
       "_id": "6a73a9b8-2057-4b6f-87d6-59014121f718",
       "_model_module_version": "0.2.1",
       "_view_module_version": "0.2.1",
       "name": "Scripts",
       "nodes": [
        "IPY_MODEL_d11aa241920940b0bf015782c009221c",
        "IPY_MODEL_0e5d33668d4544d3902fcff90e9df22b",
        "IPY_MODEL_39994115e8a045638f018bd56f1d0198",
        "IPY_MODEL_5a021b7a30ad4d2e810923a7fa705322"
       ],
       "opened": false
      }
     },
     "856e0c9247ce405b8cb629628fff5a69": {
      "model_module": "ipytree",
      "model_module_version": "0.2.1",
      "model_name": "NodeModel",
      "state": {
       "_id": "917af3ae-4cf2-4d91-84c6-004a1b8350f5",
       "_model_module_version": "0.2.1",
       "_view_module_version": "0.2.1",
       "icon": "file",
       "name": "trading_server.cpython-36.pyc"
      }
     },
     "85f3d316cdc44982a1fa031b35b76dc9": {
      "model_module": "ipytree",
      "model_module_version": "0.2.1",
      "model_name": "NodeModel",
      "state": {
       "_id": "a355b37d-ed8d-4696-be50-78659861edee",
       "_model_module_version": "0.2.1",
       "_view_module_version": "0.2.1",
       "icon": "file",
       "name": "BTCUSDT15.ipynb"
      }
     },
     "8674d71e2b4b44f8b34f845ea147fee2": {
      "model_module": "ipytree",
      "model_module_version": "0.2.1",
      "model_name": "NodeModel",
      "state": {
       "_id": "18094ef5-c691-4be3-8add-774dac515970",
       "_model_module_version": "0.2.1",
       "_view_module_version": "0.2.1",
       "icon": "file",
       "name": "14. Sentiments and Volatility filter.ipynb"
      }
     },
     "873a52acb78242d581d0a6025074fd95": {
      "model_module": "ipytree",
      "model_module_version": "0.2.1",
      "model_name": "NodeModel",
      "state": {
       "_id": "bb10a560-5b5c-4d2b-88cb-9f242792c53c",
       "_model_module_version": "0.2.1",
       "_view_module_version": "0.2.1",
       "name": "optimizations",
       "nodes": [
        "IPY_MODEL_ccd5539f458547b58412c0651d34242b",
        "IPY_MODEL_5129fb70133a4cdd9f7ae44d35d86455",
        "IPY_MODEL_f42e9b8a2487416795458b10fe31ef70"
       ],
       "opened": false
      }
     },
     "875dd861a8224a4393a80f3c90446388": {
      "model_module": "ipytree",
      "model_module_version": "0.2.1",
      "model_name": "NodeModel",
      "state": {
       "_id": "b27c931c-bf4e-4da5-815c-2e6841cda112",
       "_model_module_version": "0.2.1",
       "_view_module_version": "0.2.1",
       "icon": "file",
       "name": "Matrices Distance Metrics.ipynb"
      }
     },
     "877913e7fa4c44c0bfed20249b62c4ce": {
      "model_module": "ipytree",
      "model_module_version": "0.2.1",
      "model_name": "NodeModel",
      "state": {
       "_id": "2c244b90-34cc-4898-b553-4acb6a204c0b",
       "_model_module_version": "0.2.1",
       "_view_module_version": "0.2.1",
       "icon": "file",
       "name": "Blotter.ipynb"
      }
     },
     "877c2990a05646b99c93b3dea6e862f6": {
      "model_module": "ipytree",
      "model_module_version": "0.2.1",
      "model_name": "NodeModel",
      "state": {
       "_id": "34c1c786-1ec5-4cf6-91dd-6e0b85e80dc5",
       "_model_module_version": "0.2.1",
       "_view_module_version": "0.2.1",
       "icon": "file",
       "name": "plot_helpers.cpython-36.pyc"
      }
     },
     "87a3811099e7469db260242f84023501": {
      "model_module": "ipytree",
      "model_module_version": "0.2.1",
      "model_name": "NodeModel",
      "state": {
       "_id": "d0d641bb-dc50-46ef-bea9-a0390703ec5d",
       "_model_module_version": "0.2.1",
       "_view_module_version": "0.2.1",
       "icon": "file",
       "name": "assets_portfolio_utils.py"
      }
     },
     "87e788cb97404b16b93eccd19d598435": {
      "model_module": "ipytree",
      "model_module_version": "0.2.1",
      "model_name": "NodeModel",
      "state": {
       "_id": "ad6816c0-9b1a-488f-827b-81acd4fcd249",
       "_model_module_version": "0.2.1",
       "_view_module_version": "0.2.1",
       "name": "examples",
       "nodes": [
        "IPY_MODEL_fb27447ff7b04ebcb51ab6f7e29084e1",
        "IPY_MODEL_877913e7fa4c44c0bfed20249b62c4ce",
        "IPY_MODEL_4e9c6558a98f41be8681974f299b324a",
        "IPY_MODEL_1a7973c1a7e84a79bdb8295ce6bf0549",
        "IPY_MODEL_f475d1fa16764a03ac740bdfd35aae83",
        "IPY_MODEL_1e53e3fdadf74b8f89c5c753cb7a2e5a"
       ],
       "opened": false
      }
     },
     "87f2268d18294e289b3bbc3bd41643be": {
      "model_module": "ipytree",
      "model_module_version": "0.2.1",
      "model_name": "NodeModel",
      "state": {
       "_id": "8535a927-ebec-42de-9bd7-8b767760cf00",
       "_model_module_version": "0.2.1",
       "_view_module_version": "0.2.1",
       "icon": "file",
       "name": "data_utils.cpython-36.pyc"
      }
     },
     "881fef76b77146008ca139903b171ff3": {
      "model_module": "ipytree",
      "model_module_version": "0.2.1",
      "model_name": "NodeModel",
      "state": {
       "_id": "c5981aaa-2307-4474-9de6-3bb4e22ee05f",
       "_model_module_version": "0.2.1",
       "_view_module_version": "0.2.1",
       "icon": "file",
       "name": "500. Simulations Results.ipynb"
      }
     },
     "885688d1d905404db65fe91aa778fcb9": {
      "model_module": "@jupyter-widgets/base",
      "model_module_version": "1.2.0",
      "model_name": "LayoutModel",
      "state": {}
     },
     "88ad8c1242f9421388c09cd448456240": {
      "model_module": "ipytree",
      "model_module_version": "0.2.1",
      "model_name": "NodeModel",
      "state": {
       "_id": "fc8916ee-7d81-4d02-afe2-034c4a524dd7",
       "_model_module_version": "0.2.1",
       "_view_module_version": "0.2.1",
       "icon": "file",
       "name": "pewma.py"
      }
     },
     "88ea968c0a30454a91bd902526e8d7e3": {
      "model_module": "ipytree",
      "model_module_version": "0.2.1",
      "model_name": "NodeModel",
      "state": {
       "_id": "3da87675-f2c7-4224-b0eb-dc6f04777af7",
       "_model_module_version": "0.2.1",
       "_view_module_version": "0.2.1",
       "icon": "file",
       "name": "DepsUtils.ipynb"
      }
     },
     "88f2de7208da4c9f9c02c46f39659d23": {
      "model_module": "ipytree",
      "model_module_version": "0.2.1",
      "model_name": "NodeModel",
      "state": {
       "_id": "714920fb-9af1-41fc-a360-b37321028b72",
       "_model_module_version": "0.2.1",
       "_view_module_version": "0.2.1",
       "icon": "file",
       "name": "978544611058_Вероятностное_програ.pdf"
      }
     },
     "890730200b9e49c5a16099be6e851623": {
      "model_module": "ipytree",
      "model_module_version": "0.2.1",
      "model_name": "NodeModel",
      "state": {
       "_id": "325cea0d-9f78-4fc9-91ab-d6b0e95a3f1f",
       "_model_module_version": "0.2.1",
       "_view_module_version": "0.2.1",
       "icon": "file",
       "name": "algoseek_loaders.py"
      }
     },
     "899757c5590e4466b2114b00835f7680": {
      "model_module": "ipytree",
      "model_module_version": "0.2.1",
      "model_name": "NodeModel",
      "state": {
       "_id": "9522682b-81fb-4997-8657-5ec8dfd250b6",
       "_model_module_version": "0.2.1",
       "_view_module_version": "0.2.1",
       "name": "Hull, J. Options, Futures, and Other Derivatives (8th and 9th Edition)",
       "nodes": [
        "IPY_MODEL_4ee67af1b6f146fca16459a2aef21e61",
        "IPY_MODEL_e6b7f0a42ac541c0a3a321fe197336ef",
        "IPY_MODEL_b5b8c2917e0843a297ecb436d074c250"
       ],
       "opened": false
      }
     },
     "89f2f69d2c434b7a84e83f980f2ee8b6": {
      "model_module": "ipytree",
      "model_module_version": "0.2.1",
      "model_name": "NodeModel",
      "state": {
       "_id": "1688784c-e0cc-495c-9f1e-386a97547c51",
       "_model_module_version": "0.2.1",
       "_view_module_version": "0.2.1",
       "icon": "file",
       "name": "structs.cpython-36.pyc"
      }
     },
     "8a4ba1a36c4147ff803f1ebd173c308b": {
      "model_module": "ipytree",
      "model_module_version": "0.2.1",
      "model_name": "NodeModel",
      "state": {
       "_id": "f73c4646-0777-4bf2-9167-f6ef8388b3ee",
       "_model_module_version": "0.2.1",
       "_view_module_version": "0.2.1",
       "icon": "file",
       "name": "yahoo_finance.cpython-36.pyc"
      }
     },
     "8a804b1a883d4f91a27dcaf3fb7c80ad": {
      "model_module": "ipytree",
      "model_module_version": "0.2.1",
      "model_name": "NodeModel",
      "state": {
       "_id": "e8642577-f395-44c0-aa05-da99ad2060f8",
       "_model_module_version": "0.2.1",
       "_view_module_version": "0.2.1",
       "icon": "file",
       "name": "5.1. Market Regime ADX.ipynb"
      }
     },
     "8a9d06664645437a98d440318d1c434e": {
      "model_module": "ipytree",
      "model_module_version": "0.2.1",
      "model_name": "TreeModel",
      "state": {
       "_model_module_version": "0.2.1",
       "_view_module_version": "0.2.1",
       "layout": "IPY_MODEL_78cd1756c162477497c8641624f61945",
       "nodes": [
        "IPY_MODEL_0cdf42b970a24045b9c3ec15ac6a71cd",
        "IPY_MODEL_6d03b5f610174c5597e47c4e9e1f5803",
        "IPY_MODEL_30b91d10f14d42638339264f5a587ffc",
        "IPY_MODEL_7f48d6c4c9d7411ca5bbc276de05f17a"
       ],
       "selected_nodes": [
        "IPY_MODEL_f9488b67a13b4fca9ec790b1b3d5218f"
       ]
      }
     },
     "8ab267bef5db4fd2bdb556f7c091c1e6": {
      "model_module": "ipytree",
      "model_module_version": "0.2.1",
      "model_name": "NodeModel",
      "state": {
       "_id": "1aa3f403-5fb3-48a4-a117-3369caaa8b0f",
       "_model_module_version": "0.2.1",
       "_view_module_version": "0.2.1",
       "icon": "file",
       "name": "FinamReader.ipynb"
      }
     },
     "8aea31a79d154832a377a6c5303b5703": {
      "model_module": "ipytree",
      "model_module_version": "0.2.1",
      "model_name": "NodeModel",
      "state": {
       "_id": "5db4a4d7-96b7-4bd0-9829-79657b0cfb02",
       "_model_module_version": "0.2.1",
       "_view_module_version": "0.2.1",
       "icon": "file",
       "name": "JurikMA.ipynb"
      }
     },
     "8af9951985304b189e12425e528db38b": {
      "model_module": "@jupyter-widgets/output",
      "model_module_version": "1.0.0",
      "model_name": "OutputModel",
      "state": {
       "layout": "IPY_MODEL_63754737a4f84b7494253a6edb379e20",
       "outputs": [
        {
         "data": {
          "application/vnd.jupyter.widget-view+json": {
           "model_id": "",
           "version_major": 2,
           "version_minor": 0
          },
          "text/plain": "Tree(multiple_selection=False, nodes=(Node(name='examples', nodes=(Node(icon='file', name='0. Knowledge DB des…"
         },
         "metadata": {},
         "output_type": "display_data"
        }
       ]
      }
     },
     "8afa0ba544474a42af409d0e8a349dfd": {
      "model_module": "ipytree",
      "model_module_version": "0.2.1",
      "model_name": "NodeModel",
      "state": {
       "_id": "517a0754-1d48-45b1-8db2-de649beda0a5",
       "_model_module_version": "0.2.1",
       "_view_module_version": "0.2.1",
       "name": "AppliedAlphaIntro",
       "nodes": [
        "IPY_MODEL_27e2869d320f4873a3884144433f7646",
        "IPY_MODEL_4d5640053000452ebcfdb2a2656566aa",
        "IPY_MODEL_dad558ad7bb9487cbf229df1f1ab8ea7",
        "IPY_MODEL_162d1cf7f6c444aca020bf181ea6d6f3",
        "IPY_MODEL_29fc9788bb584e72a9bee6a8da9b313f",
        "IPY_MODEL_93e51f44c8ce43d1813e1fd2e1e02885"
       ],
       "opened": false
      }
     },
     "8b4b9804a22243709f0a2d9147b0eac3": {
      "model_module": "ipytree",
      "model_module_version": "0.2.1",
      "model_name": "NodeModel",
      "state": {
       "_id": "b1ff4442-afa4-4136-9992-b80cc71562ae",
       "_model_module_version": "0.2.1",
       "_view_module_version": "0.2.1",
       "icon": "file",
       "name": "15. FXCM Daily Entries.ipynb"
      }
     },
     "8b76589fcbf440c28aa5500b18cc788d": {
      "model_module": "ipytree",
      "model_module_version": "0.2.1",
      "model_name": "NodeModel",
      "state": {
       "_id": "f5c487c5-7de0-4845-96c6-ab65f0f1ddc0",
       "_model_module_version": "0.2.1",
       "_view_module_version": "0.2.1",
       "icon": "save",
       "icon_style": "info",
       "name": "Desktop",
       "nodes": [
        "IPY_MODEL_b28ad133dfc049b4a462cc5c07dbd208",
        "IPY_MODEL_48b325558aff4f88a9ee50c653be0a56"
       ]
      }
     },
     "8b8cb96af51c4037afd43d733caa13d5": {
      "model_module": "ipytree",
      "model_module_version": "0.2.1",
      "model_name": "NodeModel",
      "state": {
       "_id": "ffeb059a-e359-4b9a-8f80-52b984b6ffbb",
       "_model_module_version": "0.2.1",
       "_view_module_version": "0.2.1",
       "icon": "file",
       "name": "cadf.R"
      }
     },
     "8bac691b848740159508a6dc2c966b45": {
      "model_module": "ipytree",
      "model_module_version": "0.2.1",
      "model_name": "NodeModel",
      "state": {
       "_id": "64cdf6dd-8cf8-48e6-9a0e-6dbfa58a5b49",
       "_model_module_version": "0.2.1",
       "_view_module_version": "0.2.1",
       "name": "optimizer",
       "nodes": [
        "IPY_MODEL_462966532f1445b9a4426bf739791109",
        "IPY_MODEL_769f5f5985724808bead6312009bd17e",
        "IPY_MODEL_30e8753f86874b29aaa01b2b3a7f81e1",
        "IPY_MODEL_5973b47f54a642ccb044143656031810"
       ],
       "opened": false
      }
     },
     "8bdc341ef029439eba7e0442a780babf": {
      "model_module": "ipytree",
      "model_module_version": "0.2.1",
      "model_name": "NodeModel",
      "state": {
       "_id": "53101b9d-f230-4a43-a887-d8052b47a5aa",
       "_model_module_version": "0.2.1",
       "_view_module_version": "0.2.1",
       "icon": "file",
       "name": "Quantitative-Trading-as-a-Mathematical-Science.pdf"
      }
     },
     "8c1df9e7ae964eb88a6c6388f2f72f9f": {
      "model_module": "@jupyter-widgets/base",
      "model_module_version": "1.2.0",
      "model_name": "LayoutModel",
      "state": {}
     },
     "8c2de248be4745a8980a655250bc20ee": {
      "model_module": "ipytree",
      "model_module_version": "0.2.1",
      "model_name": "NodeModel",
      "state": {
       "_id": "f1c2b74f-84ac-43bd-9672-3bbd106a9f11",
       "_model_module_version": "0.2.1",
       "_view_module_version": "0.2.1",
       "icon": "copy",
       "icon_style": "warning",
       "name": "File1"
      }
     },
     "8c3ccae82fd348859ab99464b76a135c": {
      "model_module": "ipytree",
      "model_module_version": "0.2.1",
      "model_name": "NodeModel",
      "state": {
       "_id": "93bb5e7d-144b-4b0c-a66e-59b622f0d942",
       "_model_module_version": "0.2.1",
       "_view_module_version": "0.2.1",
       "icon": "file",
       "name": "KeyLevels.pine"
      }
     },
     "8c9156c7526c4b95b1b5749018cfbee4": {
      "model_module": "ipytree",
      "model_module_version": "0.2.1",
      "model_name": "NodeModel",
      "state": {
       "_id": "b9ca3566-4a91-4e78-9337-e5e3c5f76c5e",
       "_model_module_version": "0.2.1",
       "_view_module_version": "0.2.1",
       "icon": "file",
       "name": "utils.py"
      }
     },
     "8d71b1c70e524ff3a6572e90dc59353d": {
      "model_module": "ipytree",
      "model_module_version": "0.2.1",
      "model_name": "NodeModel",
      "state": {
       "_id": "5601e88b-78d3-43aa-a7ae-b091f2e8f794",
       "_model_module_version": "0.2.1",
       "_view_module_version": "0.2.1",
       "name": "momentums",
       "nodes": [
        "IPY_MODEL_754886e948f84862a889e7b3acff8256",
        "IPY_MODEL_5a9c4d2a960544e38f4da9023ad3de24",
        "IPY_MODEL_2c7dcb9d2f0a4f92af1dedcf75f4db97",
        "IPY_MODEL_416d50c796c94e89a5a915070c09822e",
        "IPY_MODEL_f2b16f70c1b54a2a9bdbb0909bd6d181",
        "IPY_MODEL_f4339cafacb34587ae06a49a168acd95"
       ],
       "opened": false
      }
     },
     "8db7b2bd4c9b47b78e2b9fec547f4c6a": {
      "model_module": "ipytree",
      "model_module_version": "0.2.1",
      "model_name": "NodeModel",
      "state": {
       "_id": "e4b9504f-ce73-4837-bc6e-9065fdfb3116",
       "_model_module_version": "0.2.1",
       "_view_module_version": "0.2.1",
       "icon": "file",
       "name": "NimbleModel_I_PWMA_detector.ipynb"
      }
     },
     "8dda8eff327445048b66aafa1ded37f1": {
      "model_module": "ipytree",
      "model_module_version": "0.2.1",
      "model_name": "NodeModel",
      "state": {
       "_id": "62c4a42f-e069-408e-a11c-0f9a4c87699f",
       "_model_module_version": "0.2.1",
       "_view_module_version": "0.2.1",
       "icon": "file",
       "name": "0. Initial Data Exploration.ipynb"
      }
     },
     "8e36e491a1b54c16bae4ee6f530095d0": {
      "model_module": "ipytree",
      "model_module_version": "0.2.1",
      "model_name": "NodeModel",
      "state": {
       "_id": "6d282fa9-f5f1-4c7d-a580-b29fcad3150d",
       "_model_module_version": "0.2.1",
       "_view_module_version": "0.2.1",
       "name": "fbreak",
       "nodes": [
        "IPY_MODEL_1f9ab50e66104789b85ba937aa3830b8",
        "IPY_MODEL_3861616b0f864e7a949d6c8a24aac6d5",
        "IPY_MODEL_ab728971a99a48759c8672fc3a8842b7",
        "IPY_MODEL_035cb671b45d4a939307bbe311d00b0b",
        "IPY_MODEL_071a7d6c1d9d47dbb566a706c84dfb6d"
       ],
       "opened": false
      }
     },
     "8e471edf2e924cb9a983aa94502ca4ab": {
      "model_module": "ipytree",
      "model_module_version": "0.2.1",
      "model_name": "NodeModel",
      "state": {
       "_id": "ce2457f1-998a-4fee-9007-e92b7a7659a9",
       "_model_module_version": "0.2.1",
       "_view_module_version": "0.2.1",
       "icon": "file",
       "name": "1. Triple Arbitrage Preliminary.ipynb"
      }
     },
     "8e6a2d1674c4420e84f64df86b941dba": {
      "model_module": "ipytree",
      "model_module_version": "0.2.1",
      "model_name": "NodeModel",
      "state": {
       "_id": "30779fd0-8ca3-4188-8c2a-6db71bca2101",
       "_model_module_version": "0.2.1",
       "_view_module_version": "0.2.1",
       "icon": "file",
       "name": "0. GARCH predictor.ipynb"
      }
     },
     "8ed3b91f1651408ea5e92736da99159c": {
      "model_module": "ipytree",
      "model_module_version": "0.2.1",
      "model_name": "NodeModel",
      "state": {
       "_id": "3e0bda9e-86b9-4d10-a75c-46d3b0c3d520",
       "_model_module_version": "0.2.1",
       "_view_module_version": "0.2.1",
       "icon": "file",
       "name": "trend_day_score_daily6.csv"
      }
     },
     "8ed558586cf2442896f704ee219a6e37": {
      "model_module": "ipytree",
      "model_module_version": "0.2.1",
      "model_name": "NodeModel",
      "state": {
       "_id": "c927467a-0a44-487d-a328-4fbbe16f942b",
       "_model_module_version": "0.2.1",
       "_view_module_version": "0.2.1",
       "icon": "file",
       "name": "SF36_subset.json.gz"
      }
     },
     "8eda5e112b0c4745b3881690de7f3c40": {
      "model_module": "ipytree",
      "model_module_version": "0.2.1",
      "model_name": "NodeModel",
      "state": {
       "_id": "aa8e7988-2a9e-4987-ab95-6a8a022a8a0b",
       "_model_module_version": "0.2.1",
       "_view_module_version": "0.2.1",
       "icon": "file",
       "name": "research_utils.py"
      }
     },
     "8ee188623c864dbf9bf38099df927715": {
      "model_module": "ipytree",
      "model_module_version": "0.2.1",
      "model_name": "NodeModel",
      "state": {
       "_id": "800ec7a1-4239-46bc-acde-a3aac1aebe40",
       "_model_module_version": "0.2.1",
       "_view_module_version": "0.2.1",
       "name": "bitmex",
       "nodes": [
        "IPY_MODEL_4426cd01fd00487b91c8ca59d7838818",
        "IPY_MODEL_3f452c599f014a6492bb82bc866df013"
       ],
       "opened": false
      }
     },
     "8f6afbb08ac3467b8a8c7b08ad6a2b73": {
      "model_module": "ipytree",
      "model_module_version": "0.2.1",
      "model_name": "NodeModel",
      "state": {
       "_id": "e00f538e-8455-4599-afde-e900c8391285",
       "_model_module_version": "0.2.1",
       "_view_module_version": "0.2.1",
       "icon": "file",
       "name": "fix44parser.py"
      }
     },
     "90208973fd644055ba53a96d6893cd2a": {
      "model_module": "ipytree",
      "model_module_version": "0.2.1",
      "model_name": "NodeModel",
      "state": {
       "_id": "83351ec8-de1f-4e26-99be-25706a45a659",
       "_model_module_version": "0.2.1",
       "_view_module_version": "0.2.1",
       "icon": "file",
       "name": "testing_utils.ipynb"
      }
     },
     "909be8bf512b4aa2810d519931fda06f": {
      "model_module": "ipytree",
      "model_module_version": "0.2.1",
      "model_name": "NodeModel",
      "state": {
       "_id": "de06e452-15eb-4e90-b203-d6f7b47d2737",
       "_model_module_version": "0.2.1",
       "_view_module_version": "0.2.1",
       "icon": "file",
       "name": "SSRN-id1511205.pdf"
      }
     },
     "90a899b40d7742b3b28ac8235183d06c": {
      "model_module": "ipytree",
      "model_module_version": "0.2.1",
      "model_name": "NodeModel",
      "state": {
       "_id": "9dd625fa-cf5a-4406-8fbd-5d87d098d300",
       "_model_module_version": "0.2.1",
       "_view_module_version": "0.2.1",
       "icon": "file",
       "name": "FXCM_AUDUSD_ticks_links.txt"
      }
     },
     "90d03996208143dab4519f071585ee86": {
      "model_module": "ipytree",
      "model_module_version": "0.2.1",
      "model_name": "NodeModel",
      "state": {
       "_id": "e59978c8-883d-417c-91c9-62f68edf110d",
       "_model_module_version": "0.2.1",
       "_view_module_version": "0.2.1",
       "icon": "file",
       "name": "2. Idiots Contrarian Approach.ipynb"
      }
     },
     "912692bb498a420abe0abb61f761efdf": {
      "model_module": "@jupyter-widgets/controls",
      "model_module_version": "1.5.0",
      "model_name": "TextModel",
      "state": {
       "layout": "IPY_MODEL_3dd633c9889445d7879188f524091955",
       "style": "IPY_MODEL_c340e2daae3e4fe4bbe7b6e060d3b7cc"
      }
     },
     "915d9ef485d14cfe8dba012a45a354cb": {
      "model_module": "ipytree",
      "model_module_version": "0.2.1",
      "model_name": "NodeModel",
      "state": {
       "_id": "de344fdf-e9d2-427e-b09b-23d8ed07885f",
       "_model_module_version": "0.2.1",
       "_view_module_version": "0.2.1",
       "icon": "file",
       "name": "orders.html.gz"
      }
     },
     "9183904479c94582bc314c1e7aa43c05": {
      "model_module": "ipytree",
      "model_module_version": "0.2.1",
      "model_name": "NodeModel",
      "state": {
       "_id": "e60f8e5d-db55-429c-8a12-98a89b4d8547",
       "_model_module_version": "0.2.1",
       "_view_module_version": "0.2.1",
       "name": "indicators",
       "nodes": [
        "IPY_MODEL_5a0e958c2962487f94d804eacc471796",
        "IPY_MODEL_e1daae0b7dd049b1a0e8494d8fcc6afa",
        "IPY_MODEL_6c0b84d8211349fd9f6cf31d94338b18",
        "IPY_MODEL_43f0beb51f5f47bcaa81a8ae4bc31724",
        "IPY_MODEL_88ad8c1242f9421388c09cd448456240",
        "IPY_MODEL_06c6d6dcf9b5448d9062acb3195a6e4b"
       ],
       "opened": false
      }
     },
     "9183d2d60e2649969a9c8cafeb1eac60": {
      "model_module": "ipytree",
      "model_module_version": "0.2.1",
      "model_name": "NodeModel",
      "state": {
       "_id": "5b11f3c2-7037-43a4-a10e-311f87f7f371",
       "_model_module_version": "0.2.1",
       "_view_module_version": "0.2.1",
       "icon": "file",
       "name": "MarketRegime Autocorrelation.ipynb"
      }
     },
     "919016d2bf934ffb88bbb8ab8d4f23d0": {
      "model_module": "ipytree",
      "model_module_version": "0.2.1",
      "model_name": "NodeModel",
      "state": {
       "_id": "e02ecd8e-32fe-4083-ba50-f113a56abb82",
       "_model_module_version": "0.2.1",
       "_view_module_version": "0.2.1",
       "icon": "file",
       "name": "new_refid_issue.txt"
      }
     },
     "919120ea7cf445e89f40f265cd26d8a3": {
      "model_module": "ipytree",
      "model_module_version": "0.2.1",
      "model_name": "NodeModel",
      "state": {
       "_id": "ad71901e-ca44-49b3-80fb-cfcba50c8c20",
       "_model_module_version": "0.2.1",
       "_view_module_version": "0.2.1",
       "icon": "file",
       "name": "1.1 IBS signal lifetime estimation.ipynb"
      }
     },
     "91cf05c5e5e84e878abf42728b00c55e": {
      "model_module": "ipytree",
      "model_module_version": "0.2.1",
      "model_name": "NodeModel",
      "state": {
       "_id": "12f68e65-bc29-4cb0-ac09-970564ac3815",
       "_model_module_version": "0.2.1",
       "_view_module_version": "0.2.1",
       "name": "trends",
       "nodes": [
        "IPY_MODEL_53b6372624d24e10998c3de2c842a971",
        "IPY_MODEL_624fbba445ae41dc8775e889b6553d6c",
        "IPY_MODEL_ef1b04b375714799af3027d5515b89f7",
        "IPY_MODEL_b727651d27244a199385c95d1992fcf7",
        "IPY_MODEL_02091d6349fb4889a7077835110c916e"
       ],
       "opened": false
      }
     },
     "91dd8473ff0e45ee8c2f5fa5a4f3c113": {
      "model_module": "ipytree",
      "model_module_version": "0.2.1",
      "model_name": "NodeModel",
      "state": {
       "_id": "27b5ec96-d073-4649-98b5-7ec3417188e6",
       "_model_module_version": "0.2.1",
       "_view_module_version": "0.2.1",
       "icon": "file",
       "name": "trackers.py"
      }
     },
     "91ece5d5d845487fa37778a15ef0a494": {
      "model_module": "ipytree",
      "model_module_version": "0.2.1",
      "model_name": "NodeModel",
      "state": {
       "_id": "122a098c-6416-40bf-b6ec-7d822abc3863",
       "_model_module_version": "0.2.1",
       "_view_module_version": "0.2.1",
       "icon": "file",
       "name": "__deprecated_forward_returns.py"
      }
     },
     "923b20d8ea4f4bc8a93a85a66639485d": {
      "model_module": "ipytree",
      "model_module_version": "0.2.1",
      "model_name": "NodeModel",
      "state": {
       "_id": "c92265f4-0917-4640-a8c5-d92faa4f32b3",
       "_model_module_version": "0.2.1",
       "_view_module_version": "0.2.1",
       "name": "misc",
       "nodes": [
        "IPY_MODEL_c0e68006f9294e569b2bb88f4c17aca0",
        "IPY_MODEL_875dd861a8224a4393a80f3c90446388",
        "IPY_MODEL_9643dde6c9a34bcdbcbe4fe6e5609591"
       ],
       "opened": false
      }
     },
     "92667f56e98747378cb0f7289903bf78": {
      "model_module": "ipytree",
      "model_module_version": "0.2.1",
      "model_name": "NodeModel",
      "state": {
       "_id": "b874094e-4728-49f4-a3a0-991e70aa1960",
       "_model_module_version": "0.2.1",
       "_view_module_version": "0.2.1",
       "icon": "file",
       "name": "models_parameters.json"
      }
     },
     "92a08e3d563a4046b28a517f2d365b6c": {
      "model_module": "ipytree",
      "model_module_version": "0.2.1",
      "model_name": "NodeModel",
      "state": {
       "_id": "9c7de6f2-278b-42d1-a83d-423f20c019b8",
       "_model_module_version": "0.2.1",
       "_view_module_version": "0.2.1",
       "icon": "file",
       "name": "smart_trade_broker.csv"
      }
     },
     "92ac906d57ab4f3f95944e51acd8941a": {
      "model_module": "ipytree",
      "model_module_version": "0.2.1",
      "model_name": "NodeModel",
      "state": {
       "_id": "d0a573a1-79b8-4797-bb0b-225d9681aba4",
       "_model_module_version": "0.2.1",
       "_view_module_version": "0.2.1",
       "name": "src"
      }
     },
     "9313bf0560ca4815b4a12584f4e887fe": {
      "model_module": "ipytree",
      "model_module_version": "0.2.1",
      "model_name": "NodeModel",
      "state": {
       "_id": "e60fec7d-68da-46b8-9481-1c3bccdb97ac",
       "_model_module_version": "0.2.1",
       "_view_module_version": "0.2.1",
       "icon": "file",
       "name": "levels_tracker.cpython-36.pyc"
      }
     },
     "934dfa9321324f3780cd6818b0066a39": {
      "model_module": "ipytree",
      "model_module_version": "0.2.1",
      "model_name": "NodeModel",
      "state": {
       "_id": "849300dd-a825-4f56-873e-4dc5be4e0e33",
       "_model_module_version": "0.2.1",
       "_view_module_version": "0.2.1",
       "icon": "file",
       "name": "HighFrequencyTrading.pdf"
      }
     },
     "936e7ec19d7045b5bfa55165e2d5cfa2": {
      "model_module": "@jupyter-widgets/base",
      "model_module_version": "1.2.0",
      "model_name": "LayoutModel",
      "state": {}
     },
     "9374893e901e46c386eaddb42836fc7c": {
      "model_module": "ipytree",
      "model_module_version": "0.2.1",
      "model_name": "NodeModel",
      "state": {
       "_id": "32e28868-d1fe-413f-b1c5-8ab3e87fca65",
       "_model_module_version": "0.2.1",
       "_view_module_version": "0.2.1",
       "icon": "file",
       "name": "JK_DirectionEA_M.mq4"
      }
     },
     "9379a1e949c84976a4d36d5f48349405": {
      "model_module": "ipytree",
      "model_module_version": "0.2.1",
      "model_name": "NodeModel",
      "state": {
       "_id": "eedb3846-16cf-4e11-b6d0-a2ab8909873d",
       "_model_module_version": "0.2.1",
       "_view_module_version": "0.2.1",
       "icon": "file",
       "name": "pickers.py"
      }
     },
     "939ceabf3bde4bb7bc72a2e4e9221f18": {
      "model_module": "ipytree",
      "model_module_version": "0.2.1",
      "model_name": "NodeModel",
      "state": {
       "_id": "46434fb8-b811-4e5f-8fc9-2c4fd2c6597c",
       "_model_module_version": "0.2.1",
       "_view_module_version": "0.2.1",
       "icon": "file",
       "name": "KernelRegressionTests.ipynb"
      }
     },
     "93a8e6e47940418a82d97439e357824d": {
      "model_module": "ipytree",
      "model_module_version": "0.2.1",
      "model_name": "NodeModel",
      "state": {
       "_id": "049c18c5-805f-4c57-a8e5-a12737474534",
       "_model_module_version": "0.2.1",
       "_view_module_version": "0.2.1",
       "name": "hft",
       "nodes": [
        "IPY_MODEL_934dfa9321324f3780cd6818b0066a39",
        "IPY_MODEL_6fc9e32aee664320bd5bd3188dddbb73"
       ],
       "opened": false
      }
     },
     "93dcfedbc92c414ebdf7f4008a0ec665": {
      "model_module": "ipytree",
      "model_module_version": "0.2.1",
      "model_name": "NodeModel",
      "state": {
       "_id": "0cfcd488-d021-4488-ac5a-349b6a7056f3",
       "_model_module_version": "0.2.1",
       "_view_module_version": "0.2.1",
       "name": "ETH15Min",
       "nodes": [
        "IPY_MODEL_9e833a8bee2842b9a4944f8273775b96",
        "IPY_MODEL_5d1539703d814858ac513f932ef205d5"
       ],
       "opened": false
      }
     },
     "93e51f44c8ce43d1813e1fd2e1e02885": {
      "model_module": "ipytree",
      "model_module_version": "0.2.1",
      "model_name": "NodeModel",
      "state": {
       "_id": "685b0e30-e370-4f05-80de-aa108ff6dd3a",
       "_model_module_version": "0.2.1",
       "_view_module_version": "0.2.1",
       "name": "data",
       "nodes": [
        "IPY_MODEL_bbec395d9e7441c9b43926fd338fd6d8"
       ],
       "opened": false
      }
     },
     "93e62185867348989d284dd9b5976640": {
      "model_module": "ipytree",
      "model_module_version": "0.2.1",
      "model_name": "NodeModel",
      "state": {
       "_id": "fc508cbf-a122-4bc9-ac75-ca03ed390c5a",
       "_model_module_version": "0.2.1",
       "_view_module_version": "0.2.1",
       "icon": "file",
       "name": "0. Knowledge DB design.ipynb"
      }
     },
     "941687b3c8f942fa86166d7ce8f40bd6": {
      "model_module": "ipytree",
      "model_module_version": "0.2.1",
      "model_name": "NodeModel",
      "state": {
       "_id": "de22c19a-89fd-4ef7-8607-6d6c3b510cd7",
       "_model_module_version": "0.2.1",
       "_view_module_version": "0.2.1",
       "name": "_obsolete",
       "nodes": [
        "IPY_MODEL_e0506eda31064d578288feeaed400253",
        "IPY_MODEL_05ef812e442e4b52bff39123128348fa",
        "IPY_MODEL_19f2282d043549a8b3bcfc354e9cffd4"
       ],
       "opened": false
      }
     },
     "9430feb8538c45be800ff95919bf937c": {
      "model_module": "ipytree",
      "model_module_version": "0.2.1",
      "model_name": "NodeModel",
      "state": {
       "_id": "592e5046-ff3a-4eb4-9e81-1aff6e1aeb23",
       "_model_module_version": "0.2.1",
       "_view_module_version": "0.2.1",
       "name": "liquidity",
       "nodes": [
        "IPY_MODEL_1eb23038cdb3477cbbd21a9b77976007"
       ],
       "opened": false
      }
     },
     "94d25d7055784217aa0eb3a09bc487c4": {
      "model_module": "ipytree",
      "model_module_version": "0.2.1",
      "model_name": "NodeModel",
      "state": {
       "_id": "e3fa8c6a-cd50-4a8f-aea3-898de9064297",
       "_model_module_version": "0.2.1",
       "_view_module_version": "0.2.1",
       "icon": "file",
       "name": "1. Scalping 1Min Following trend.ipynb"
      }
     },
     "94fe44ff4a4e45b2849749271e3c7302": {
      "model_module": "ipytree",
      "model_module_version": "0.2.1",
      "model_name": "NodeModel",
      "state": {
       "_id": "472d5de5-6373-4c8b-a51d-84323d8a5bd1",
       "_model_module_version": "0.2.1",
       "_view_module_version": "0.2.1",
       "name": "examples",
       "nodes": [
        "IPY_MODEL_07c61d6d065746579ef4fc0aa8b90dda"
       ],
       "opened": false
      }
     },
     "953b332345d24b7487845e326dac498c": {
      "model_module": "@jupyter-widgets/base",
      "model_module_version": "1.2.0",
      "model_name": "LayoutModel",
      "state": {
       "min_width": "475px"
      }
     },
     "955d73d2571849c4aff1acee299f77ad": {
      "model_module": "ipytree",
      "model_module_version": "0.2.1",
      "model_name": "NodeModel",
      "state": {
       "_id": "dfd22bf5-3b33-4898-9b79-6c309657d17e",
       "_model_module_version": "0.2.1",
       "_view_module_version": "0.2.1",
       "icon": "file",
       "name": "README.md"
      }
     },
     "957ad401f6724d83b6c1ca3fb695a2d9": {
      "model_module": "ipytree",
      "model_module_version": "0.2.1",
      "model_name": "NodeModel",
      "state": {
       "_id": "899d5a00-30b5-429c-9568-077ebbd77688",
       "_model_module_version": "0.2.1",
       "_view_module_version": "0.2.1",
       "name": "funds",
       "nodes": [
        "IPY_MODEL_f11f081815d74989b73f18f98e3a98b6"
       ],
       "opened": false
      }
     },
     "957b0a72a2a943219940538a55aa5efe": {
      "model_module": "ipytree",
      "model_module_version": "0.2.1",
      "model_name": "NodeModel",
      "state": {
       "_id": "9dd0b102-049b-41ed-a755-59b28ca7c5f7",
       "_model_module_version": "0.2.1",
       "_view_module_version": "0.2.1",
       "name": "XBT5Min"
      }
     },
     "958ac054e9e84d59a3fde888a5886238": {
      "model_module": "ipytree",
      "model_module_version": "0.2.1",
      "model_name": "NodeModel",
      "state": {
       "_id": "a190a35d-816c-4548-b98c-ccfd19953595",
       "_model_module_version": "0.2.1",
       "_view_module_version": "0.2.1",
       "icon": "file",
       "name": "__init__.cpython-36.pyc"
      }
     },
     "959c012b89054d1a8b4c14716139ae24": {
      "model_module": "ipytree",
      "model_module_version": "0.2.1",
      "model_name": "NodeModel",
      "state": {
       "_id": "9c9cd333-48cb-418d-b589-857a453816e2",
       "_model_module_version": "0.2.1",
       "_view_module_version": "0.2.1",
       "name": "esmini_ticks_parser",
       "nodes": [
        "IPY_MODEL_41f6da3432894d03ada286813a5a9326",
        "IPY_MODEL_cb0d426dd564406d9879d2dfdf4540f4",
        "IPY_MODEL_789a0d5981fc4369bd2995a932680e0f",
        "IPY_MODEL_e4d85e569b384c2ea5c7ee7c21a0c3c5",
        "IPY_MODEL_15c34ebc2264476a83aebe9d6f775cc4",
        "IPY_MODEL_a30ae521d5444ce195fd776e9cfbf29a"
       ],
       "opened": false
      }
     },
     "95e46072a5a84cfcae5c55251fd89a95": {
      "model_module": "ipytree",
      "model_module_version": "0.2.1",
      "model_name": "NodeModel",
      "state": {
       "_id": "99f9aefa-4600-4115-ac46-65bcafae62e8",
       "_model_module_version": "0.2.1",
       "_view_module_version": "0.2.1",
       "icon": "cut",
       "icon_style": "danger",
       "name": "Documents"
      }
     },
     "9643dde6c9a34bcdbcbe4fe6e5609591": {
      "model_module": "ipytree",
      "model_module_version": "0.2.1",
      "model_name": "NodeModel",
      "state": {
       "_id": "98647780-a19c-478b-9de1-c58b8918e862",
       "_model_module_version": "0.2.1",
       "_view_module_version": "0.2.1",
       "icon": "file",
       "name": "Tagging.ipynb"
      }
     },
     "96524e6555a64a9aa64b0683e1f6d2df": {
      "model_module": "ipytree",
      "model_module_version": "0.2.1",
      "model_name": "NodeModel",
      "state": {
       "_id": "1161a33a-eab9-4c77-992e-3212ac9515c9",
       "_model_module_version": "0.2.1",
       "_view_module_version": "0.2.1",
       "icon": "file",
       "name": "requirements.txt"
      }
     },
     "96837a13ddb343a2a65fad3f0026f483": {
      "model_module": "ipytree",
      "model_module_version": "0.2.1",
      "model_name": "NodeModel",
      "state": {
       "_id": "7604679a-50e0-48c7-a991-8686dec49c07",
       "_model_module_version": "0.2.1",
       "_view_module_version": "0.2.1",
       "icon": "info",
       "icon_style": "info",
       "name": "media"
      }
     },
     "9685e1625b0d4fa89d47447d83f0b0b2": {
      "model_module": "ipytree",
      "model_module_version": "0.2.1",
      "model_name": "NodeModel",
      "state": {
       "_id": "142e3ca5-ea04-476d-a041-0ff5a0fdbd51",
       "_model_module_version": "0.2.1",
       "_view_module_version": "0.2.1",
       "icon": "file",
       "name": "PEWMA_bands_research.ipynb"
      }
     },
     "96e4f9e5a602493b8a82654da5f7524c": {
      "model_module": "@jupyter-widgets/controls",
      "model_module_version": "1.5.0",
      "model_name": "TextareaModel",
      "state": {
       "layout": "IPY_MODEL_dcdb1ae102424b8ebd32133c519f7461",
       "style": "IPY_MODEL_c44fd495a75d4f8689e1534d6c43392a"
      }
     },
     "9700f6c233594ee88cf5f4ac69b0bbcb": {
      "model_module": "ipytree",
      "model_module_version": "0.2.1",
      "model_name": "NodeModel",
      "state": {
       "_id": "a706915a-7e00-4f55-8771-638bc5c88e4a",
       "_model_module_version": "0.2.1",
       "_view_module_version": "0.2.1",
       "name": "loaders",
       "nodes": [
        "IPY_MODEL_890730200b9e49c5a16099be6e851623",
        "IPY_MODEL_009da2c04b5746aa86e741eca0ecafe6",
        "IPY_MODEL_4c7f6fc011e34b6f8fe0da2ab278d422",
        "IPY_MODEL_d39d425024c84be18d0117027074b500",
        "IPY_MODEL_d83e5597473e456888f7cda59532e0e2",
        "IPY_MODEL_5ac139d4ebff426ea3256bc302186895",
        "IPY_MODEL_054fd7ee7cd74c06a7fa6926601ef070",
        "IPY_MODEL_8448b2c344094fd686dc8c45a46ab1fb",
        "IPY_MODEL_739a3bc388784418aa5374e577b9698b"
       ],
       "opened": false
      }
     },
     "975e333d1b304477835196b2bbf2dd99": {
      "model_module": "ipytree",
      "model_module_version": "0.2.1",
      "model_name": "NodeModel",
      "state": {
       "_id": "8d2b5882-47cb-44dc-b5b2-1168ce7e6981",
       "_model_module_version": "0.2.1",
       "_view_module_version": "0.2.1",
       "icon": "file",
       "name": "simulator.py",
       "selected": true
      }
     },
     "988287441a7a47fd851f41ec3f6cf5f8": {
      "model_module": "ipytree",
      "model_module_version": "0.2.1",
      "model_name": "NodeModel",
      "state": {
       "_id": "1e3428e9-88da-4ef3-8051-3d98e5263142",
       "_model_module_version": "0.2.1",
       "_view_module_version": "0.2.1",
       "name": "research",
       "nodes": [
        "IPY_MODEL_941687b3c8f942fa86166d7ce8f40bd6",
        "IPY_MODEL_b8d229261fdc4dcf8af986ef79234f93"
       ]
      }
     },
     "988a1f765dec448f98993ed43d31f65f": {
      "model_module": "ipytree",
      "model_module_version": "0.2.1",
      "model_name": "NodeModel",
      "state": {
       "_id": "587ad313-c597-4d90-b7c2-4b5421f78113",
       "_model_module_version": "0.2.1",
       "_view_module_version": "0.2.1",
       "name": "forex",
       "nodes": [
        "IPY_MODEL_bfa389e687bb473a8a2a062f228783ed",
        "IPY_MODEL_af05ed753ba246e7bed1fb09430853e5",
        "IPY_MODEL_ef583297956546e8be005ab34f200127"
       ],
       "opened": false
      }
     },
     "98a0b0ec2acb4c39a9aeebc425fc3cfd": {
      "model_module": "ipytree",
      "model_module_version": "0.2.1",
      "model_name": "NodeModel",
      "state": {
       "_id": "c51b52c8-71e6-4241-a696-2bbe6ff67433",
       "_model_module_version": "0.2.1",
       "_view_module_version": "0.2.1",
       "icon": "file",
       "name": "helpers.py"
      }
     },
     "98b6d8a831614b13a78aabd027599f68": {
      "model_module": "ipytree",
      "model_module_version": "0.2.1",
      "model_name": "NodeModel",
      "state": {
       "_id": "90c17ba4-dd78-415c-a635-2a4bb73063e3",
       "_model_module_version": "0.2.1",
       "_view_module_version": "0.2.1",
       "icon": "file",
       "name": "4. Filtered Triggers.ipynb"
      }
     },
     "98c195b6332848c0bdd4fe7b4e3ceccf": {
      "model_module": "ipytree",
      "model_module_version": "0.2.1",
      "model_name": "NodeModel",
      "state": {
       "_id": "4424454b-7313-42c5-a22d-205caa9a7c11",
       "_model_module_version": "0.2.1",
       "_view_module_version": "0.2.1",
       "icon": "file",
       "name": "FXCM_GBPUSD_ticks_links.txt"
      }
     },
     "9978ce7ed91d4ccc9f6ef1eb01932f1a": {
      "model_module": "ipytree",
      "model_module_version": "0.2.1",
      "model_name": "NodeModel",
      "state": {
       "_id": "9a71e12b-b088-42fb-a972-6371577145da",
       "_model_module_version": "0.2.1",
       "_view_module_version": "0.2.1",
       "name": "loaders",
       "nodes": [
        "IPY_MODEL_07d807aa84d941ad96672161fe72f5a3",
        "IPY_MODEL_01a42f533b554901a56bb586e2e24092",
        "IPY_MODEL_215174fdbe004b359617245590f2e4af",
        "IPY_MODEL_679a4eb3974040efbc88175fc19cf644",
        "IPY_MODEL_db0823ba4c0646479d0161d7d3df449c",
        "IPY_MODEL_9b5a5b25acda4bc295fbfdf6274be055",
        "IPY_MODEL_c10bfa27c93b47709190af03d503b824",
        "IPY_MODEL_78d6cca81c9e4e8881bcadff6dfe696c",
        "IPY_MODEL_cd9fdd0113f64ff39f0436fec471f1bb"
       ],
       "opened": false
      }
     },
     "998667d2a27e4faab499539179aa5142": {
      "model_module": "ipytree",
      "model_module_version": "0.2.1",
      "model_name": "NodeModel",
      "state": {
       "_id": "a8f4c3e8-1ade-4a79-8fe0-8526784577d0",
       "_model_module_version": "0.2.1",
       "_view_module_version": "0.2.1",
       "icon": "file",
       "name": "Algorithmic and High-Frequency - Alvaro Cartea.epub"
      }
     },
     "99e29acb85434ead8c8c106a8beaa590": {
      "model_module": "ipytree",
      "model_module_version": "0.2.1",
      "model_name": "NodeModel",
      "state": {
       "_id": "6eff02aa-6441-469d-80e2-4acc551c3bc7",
       "_model_module_version": "0.2.1",
       "_view_module_version": "0.2.1",
       "name": "pre_production_tests",
       "nodes": [
        "IPY_MODEL_3c4e6ead56a24619a9873fb3970b2c01",
        "IPY_MODEL_fd86a681d5564c3cb157675be7c4496c",
        "IPY_MODEL_cef565ae0b5f4d44b0ed33ce285bce3c",
        "IPY_MODEL_3a692fab79434bd3a2714da7295debb0",
        "IPY_MODEL_4bdd134351d4408382b24eb312678494",
        "IPY_MODEL_d23a1773505a40d89e72ce01afcc1aac"
       ],
       "opened": false
      }
     },
     "9a1b8e93eb784ee6891c7bcaaf9e5be4": {
      "model_module": "ipytree",
      "model_module_version": "0.2.1",
      "model_name": "NodeModel",
      "state": {
       "_id": "5fea2c03-46c4-4935-98c3-92d8d257623b",
       "_model_module_version": "0.2.1",
       "_view_module_version": "0.2.1",
       "name": "chapter-machine-learning-natural-language-processing",
       "nodes": [
        "IPY_MODEL_cdbe0695035b4d8dbe1e42a08f4e4b19"
       ],
       "opened": false
      }
     },
     "9a3d79d319e14505a3976b8b1e77a2d8": {
      "model_module": "ipytree",
      "model_module_version": "0.2.1",
      "model_name": "NodeModel",
      "state": {
       "_id": "895de630-abf3-4578-a75c-e3e546fd07e7",
       "_model_module_version": "0.2.1",
       "_view_module_version": "0.2.1",
       "icon": "file",
       "name": "XSectional.ipynb"
      }
     },
     "9a91128d29254027bc727754ba794bd0": {
      "model_module": "ipytree",
      "model_module_version": "0.2.1",
      "model_name": "NodeModel",
      "state": {
       "_id": "4d9f8bc7-f9b9-4d6c-97a3-806115409f45",
       "_model_module_version": "0.2.1",
       "_view_module_version": "0.2.1",
       "icon": "file",
       "name": "RfiLinearIndicators_tests.ipynb"
      }
     },
     "9ab37a56557342b3be4d81ac0005f121": {
      "model_module": "ipytree",
      "model_module_version": "0.2.1",
      "model_name": "NodeModel",
      "state": {
       "_id": "bec26e8d-a566-4b45-80f0-e56f52c1f155",
       "_model_module_version": "0.2.1",
       "_view_module_version": "0.2.1",
       "name": "__pycache__",
       "nodes": [
        "IPY_MODEL_3dcf3e1390d74f609e6201d9a93ad43c",
        "IPY_MODEL_877c2990a05646b99c93b3dea6e862f6"
       ],
       "opened": false
      }
     },
     "9aea1d52fa534b5ba8cbf755d5a31d27": {
      "model_module": "ipytree",
      "model_module_version": "0.2.1",
      "model_name": "NodeModel",
      "state": {
       "_id": "34744129-b1c8-41e6-838b-6c6cf79b6694",
       "_model_module_version": "0.2.1",
       "_view_module_version": "0.2.1",
       "icon": "home",
       "icon_style": "success",
       "name": "home",
       "nodes": [
        "IPY_MODEL_8b76589fcbf440c28aa5500b18cc788d",
        "IPY_MODEL_95e46072a5a84cfcae5c55251fd89a95"
       ]
      }
     },
     "9aeb8479bfc64fe0994697ca2c5c334a": {
      "model_module": "ipytree",
      "model_module_version": "0.2.1",
      "model_name": "NodeModel",
      "state": {
       "_id": "85ddef3b-d65d-4de8-8400-6084de795291",
       "_model_module_version": "0.2.1",
       "_view_module_version": "0.2.1",
       "name": "utils",
       "nodes": [
        "IPY_MODEL_ec598869dc404290a665be713a497b8d",
        "IPY_MODEL_3bcee7ddf7c3481182261c212a34215f",
        "IPY_MODEL_08babcc9f1a14b059cb63f1f93a96a4d"
       ],
       "opened": false
      }
     },
     "9b03630781a74b54ab0da7cc6f7fbb72": {
      "model_module": "ipytree",
      "model_module_version": "0.2.1",
      "model_name": "NodeModel",
      "state": {
       "_id": "aa43fa7c-8f7f-4bda-a6a9-c53cdbebedc0",
       "_model_module_version": "0.2.1",
       "_view_module_version": "0.2.1",
       "icon": "file",
       "name": "binary_options.py"
      }
     },
     "9b5a5b25acda4bc295fbfdf6274be055": {
      "model_module": "ipytree",
      "model_module_version": "0.2.1",
      "model_name": "NodeModel",
      "state": {
       "_id": "e4fbbda2-be9e-46e0-92e8-10f37c047851",
       "_model_module_version": "0.2.1",
       "_view_module_version": "0.2.1",
       "icon": "file",
       "name": "dsroutes.json"
      }
     },
     "9b9712c7f4de4b939d32bd2793ab2cd4": {
      "model_module": "ipytree",
      "model_module_version": "0.2.1",
      "model_name": "NodeModel",
      "state": {
       "_id": "1939639e-be75-4474-8e4b-ba7fd455c044",
       "_model_module_version": "0.2.1",
       "_view_module_version": "0.2.1",
       "icon": "file",
       "name": "models.py"
      }
     },
     "9baf14919f494314abb58dc4cab810e0": {
      "model_module": "@jupyter-widgets/base",
      "model_module_version": "1.2.0",
      "model_name": "LayoutModel",
      "state": {
       "width": "310px"
      }
     },
     "9bf651c7a4a6480cb6a00a4f419dc4ca": {
      "model_module": "ipytree",
      "model_module_version": "0.2.1",
      "model_name": "NodeModel",
      "state": {
       "_id": "609fe818-9df0-41e2-8e45-acb13714bd80",
       "_model_module_version": "0.2.1",
       "_view_module_version": "0.2.1",
       "icon": "file",
       "name": "structs.py"
      }
     },
     "9c3be1ced35649cb9615683458ace0ad": {
      "model_module": "ipytree",
      "model_module_version": "0.2.1",
      "model_name": "NodeModel",
      "state": {
       "_id": "49796f3c-d00a-4e69-a2c5-42e0fa5d125b",
       "_model_module_version": "0.2.1",
       "_view_module_version": "0.2.1",
       "name": "data",
       "nodes": [
        "IPY_MODEL_d3594af70e454d13948310f5e49fab93",
        "IPY_MODEL_bdf7734cea90489fb9b81e08388f4d96",
        "IPY_MODEL_7dbae691c5a142cfba499682ee1de94f"
       ],
       "opened": false
      }
     },
     "9c53c7cf25b74b20bd826d578fd83321": {
      "model_module": "ipytree",
      "model_module_version": "0.2.1",
      "model_name": "NodeModel",
      "state": {
       "_id": "b2fa11c1-d0be-4410-9e07-8232d99394a8",
       "_model_module_version": "0.2.1",
       "_view_module_version": "0.2.1",
       "name": "__pycache__",
       "nodes": [
        "IPY_MODEL_cab67806b58f4cea85eab55dc24481cc",
        "IPY_MODEL_4be662a509344ffba1cc010eac6c3396",
        "IPY_MODEL_dbdfa8f275d943caa64e7fc59e9a8849",
        "IPY_MODEL_27214eb403114ee0a2afa901b38b8cde"
       ],
       "opened": false
      }
     },
     "9c627bb3618d40c289de94bacbc4db37": {
      "model_module": "ipytree",
      "model_module_version": "0.2.1",
      "model_name": "NodeModel",
      "state": {
       "_id": "7c8d7587-de3f-4371-a675-9915f9981565",
       "_model_module_version": "0.2.1",
       "_view_module_version": "0.2.1",
       "icon": "file",
       "name": "3. Trading Flow Streams statistics.ipynb"
      }
     },
     "9c65dd6462da418783721a6d020b4cd2": {
      "model_module": "ipytree",
      "model_module_version": "0.2.1",
      "model_name": "NodeModel",
      "state": {
       "_id": "2c54c175-77c5-486a-ab0b-83d6490620ce",
       "_model_module_version": "0.2.1",
       "_view_module_version": "0.2.1",
       "icon": "file",
       "name": "contract_abi_ab7c74abc0c4d48d1bdad5dcb26153fc8780f83e.json"
      }
     },
     "9c7e5aec2f024d7aa0f2a3cd0522d515": {
      "model_module": "ipytree",
      "model_module_version": "0.2.1",
      "model_name": "NodeModel",
      "state": {
       "_id": "7bfd392f-071f-4b90-a40b-3ccdcd15a15e",
       "_model_module_version": "0.2.1",
       "_view_module_version": "0.2.1",
       "icon": "file",
       "name": "trackers.cpython-36.pyc"
      }
     },
     "9c88044850c8445e9d7ca522b55b0bdc": {
      "model_module": "ipytree",
      "model_module_version": "0.2.1",
      "model_name": "NodeModel",
      "state": {
       "_id": "8c122985-9907-4d67-851b-d9e39e8941e0",
       "_model_module_version": "0.2.1",
       "_view_module_version": "0.2.1",
       "name": "contrarian",
       "nodes": [
        "IPY_MODEL_0219abc28e4f478a8d51fc83abccaf42",
        "IPY_MODEL_db13e0805797431499a5f9bbd52ce428"
       ],
       "opened": false
      }
     },
     "9cb0620d965d42adb13668e25e0e5b89": {
      "model_module": "ipytree",
      "model_module_version": "0.2.1",
      "model_name": "NodeModel",
      "state": {
       "_id": "3c2fbe45-473a-4332-896c-8f00f6a027af",
       "_model_module_version": "0.2.1",
       "_view_module_version": "0.2.1",
       "icon": "file",
       "name": "1. Data Loading.ipynb"
      }
     },
     "9cebcf8356e0446dbf7ea4e464946897": {
      "model_module": "ipytree",
      "model_module_version": "0.2.1",
      "model_name": "NodeModel",
      "state": {
       "_id": "11840469-f086-4984-a004-d5abb76efcac",
       "_model_module_version": "0.2.1",
       "_view_module_version": "0.2.1",
       "name": "data",
       "nodes": [
        "IPY_MODEL_4520bf9dd53341ecab8749d013d52724",
        "IPY_MODEL_72247d69f81b4474b5274d15c05f42bd",
        "IPY_MODEL_c731799e4f5f4616b3711b66dbf42df9",
        "IPY_MODEL_a28e3333ffc9411ba3aaf5b07cc24246",
        "IPY_MODEL_456a85d8d10447d594db771ac1482430"
       ],
       "opened": false
      }
     },
     "9d389db2e90e4233bb4dd43f675351a0": {
      "model_module": "ipytree",
      "model_module_version": "0.2.1",
      "model_name": "NodeModel",
      "state": {
       "_id": "eabd09fe-987c-4f6e-a59e-dcd40b012b8b",
       "_model_module_version": "0.2.1",
       "_view_module_version": "0.2.1",
       "icon": "file",
       "name": "deals.html.gz"
      }
     },
     "9d399804ef03430aae3eb547fa4a237f": {
      "model_module": "ipytree",
      "model_module_version": "0.2.1",
      "model_name": "NodeModel",
      "state": {
       "_id": "89411285-bd9f-462f-8133-65d4eb084d36",
       "_model_module_version": "0.2.1",
       "_view_module_version": "0.2.1",
       "icon": "file",
       "name": "trading_server.cpython-36.pyc"
      }
     },
     "9d451e5fe8684ff1a75e4741a8f60c94": {
      "model_module": "ipytree",
      "model_module_version": "0.2.1",
      "model_name": "NodeModel",
      "state": {
       "_id": "4fe89460-51b9-4469-ab41-7901099607fe",
       "_model_module_version": "0.2.1",
       "_view_module_version": "0.2.1",
       "icon": "file",
       "name": "6. Live Trading Analysis.ipynb"
      }
     },
     "9d587a15c5a34bb49acd8f067f481996": {
      "model_module": "ipytree",
      "model_module_version": "0.2.1",
      "model_name": "NodeModel",
      "state": {
       "_id": "c711776a-a0c5-430a-a7bb-ce500160dcdb",
       "_model_module_version": "0.2.1",
       "_view_module_version": "0.2.1",
       "name": "chapter-trading-strategies-kalman-filter-pairs-trading",
       "nodes": [
        "IPY_MODEL_acb33dbdc2334925b3295c9478c4ea26",
        "IPY_MODEL_a2b6083f735643d5bc75462d301be071"
       ],
       "opened": false
      }
     },
     "9dcaa81c531144bc994e54603165578e": {
      "model_module": "ipytree",
      "model_module_version": "0.2.1",
      "model_name": "NodeModel",
      "state": {
       "_id": "25428ca2-4600-4ef2-ae34-d4ab6f85bb08",
       "_model_module_version": "0.2.1",
       "_view_module_version": "0.2.1",
       "icon": "file",
       "name": "BitcoinTradingPairs.ipynb"
      }
     },
     "9de59e503fa244148ed7d0655c62b3ea": {
      "model_module": "ipytree",
      "model_module_version": "0.2.1",
      "model_name": "NodeModel",
      "state": {
       "_id": "fdbba3d4-59ef-48be-9da7-786bfbaade1f",
       "_model_module_version": "0.2.1",
       "_view_module_version": "0.2.1",
       "icon": "file",
       "name": "plot_utils.py"
      }
     },
     "9e02d39f30c546b9ad42a3fd194464c6": {
      "model_module": "ipytree",
      "model_module_version": "0.2.1",
      "model_name": "NodeModel",
      "state": {
       "_id": "745c78ac-fe52-420d-bf12-9378f39db421",
       "_model_module_version": "0.2.1",
       "_view_module_version": "0.2.1",
       "icon": "file",
       "name": "OLS_formulas.ipynb"
      }
     },
     "9e833a8bee2842b9a4944f8273775b96": {
      "model_module": "ipytree",
      "model_module_version": "0.2.1",
      "model_name": "NodeModel",
      "state": {
       "_id": "d049b699-6a70-49ff-83af-44ebebdc4751",
       "_model_module_version": "0.2.1",
       "_view_module_version": "0.2.1",
       "icon": "file",
       "name": "1.1 FBreak model optimizations.ipynb"
      }
     },
     "9e88f86d81c447c1881594e67992fcff": {
      "model_module": "ipytree",
      "model_module_version": "0.2.1",
      "model_name": "NodeModel",
      "state": {
       "_id": "5200d93a-e4b1-44d2-bbaf-acfa3c11fb83",
       "_model_module_version": "0.2.1",
       "_view_module_version": "0.2.1",
       "icon": "file",
       "name": "Demo.ipynb"
      }
     },
     "9eb4ba9f2cd943b497b6fd153f5d33f1": {
      "model_module": "ipytree",
      "model_module_version": "0.2.1",
      "model_name": "NodeModel",
      "state": {
       "_id": "d1171804-3afe-4394-abe7-916a1008acdc",
       "_model_module_version": "0.2.1",
       "_view_module_version": "0.2.1",
       "name": "servers",
       "nodes": [
        "IPY_MODEL_2ca83ef5a324456fbba30a773d958251",
        "IPY_MODEL_359caf490d0c4cd09b70a11fcb772d80",
        "IPY_MODEL_83d6b0c9884b45e994d181b01a99d3cd"
       ],
       "opened": false
      }
     },
     "9eb568119f3e4632831bb5c123e3763c": {
      "model_module": "ipytree",
      "model_module_version": "0.2.1",
      "model_name": "NodeModel",
      "state": {
       "_id": "a9b21b47-4938-4183-a36c-b22c6f67ca9a",
       "_model_module_version": "0.2.1",
       "_view_module_version": "0.2.1",
       "icon": "file",
       "name": "utils.py"
      }
     },
     "9ee3ea27bbd24f99a178cb41d919cc31": {
      "model_module": "ipytree",
      "model_module_version": "0.2.1",
      "model_name": "NodeModel",
      "state": {
       "_id": "9e79ee27-3f50-4dd8-a977-acc7ea97a5b7",
       "_model_module_version": "0.2.1",
       "_view_module_version": "0.2.1",
       "icon": "file",
       "name": "tick_loaders.cpython-36.pyc"
      }
     },
     "9ef068ae77ea4844a5195ff02d4a8578": {
      "model_module": "ipytree",
      "model_module_version": "0.2.1",
      "model_name": "NodeModel",
      "state": {
       "_id": "abe83d2d-a56d-4167-b584-dc35fb508941",
       "_model_module_version": "0.2.1",
       "_view_module_version": "0.2.1",
       "icon": "file",
       "name": "binance_live.json"
      }
     },
     "9f3ae2da75c04bcea348911b151368ce": {
      "model_module": "ipytree",
      "model_module_version": "0.2.1",
      "model_name": "NodeModel",
      "state": {
       "_id": "547c4bc8-0e7e-454a-8728-29a94105164a",
       "_model_module_version": "0.2.1",
       "_view_module_version": "0.2.1",
       "icon": "file",
       "name": "3.3 Live Trading Analysis.ipynb"
      }
     },
     "9faf3f5442bf452499e7f3316db519f8": {
      "model_module": "ipytree",
      "model_module_version": "0.2.1",
      "model_name": "NodeModel",
      "state": {
       "_id": "aa2feae6-de78-4949-aba3-ef25ebd9f030",
       "_model_module_version": "0.2.1",
       "_view_module_version": "0.2.1",
       "icon": "file",
       "name": "Back Propagation Extremums Marking.png"
      }
     },
     "9fd40ef0a24641f0a1119baea23d7360": {
      "model_module": "ipytree",
      "model_module_version": "0.2.1",
      "model_name": "NodeModel",
      "state": {
       "_id": "dc140865-9ea7-48fd-bc39-2f94f9e019cc",
       "_model_module_version": "0.2.1",
       "_view_module_version": "0.2.1",
       "icon": "file",
       "name": "ar_models.R"
      }
     },
     "9fda1924a774409496da1728230415be": {
      "model_module": "ipytree",
      "model_module_version": "0.2.1",
      "model_name": "NodeModel",
      "state": {
       "_id": "5b025a70-0961-445d-9159-e4e54978cf0a",
       "_model_module_version": "0.2.1",
       "_view_module_version": "0.2.1",
       "name": "hft",
       "nodes": [
        "IPY_MODEL_25076c64b44e4a47a586b46ec8ee797c",
        "IPY_MODEL_edf6474afec24c538b605cd7a3d745ff",
        "IPY_MODEL_1a81418171a44af39d64b571d59b7d90",
        "IPY_MODEL_6fa45cb76ad644e492b244a16413a8d2"
       ]
      }
     },
     "9fdc9a05b9a9485e90c4a6f9b22a3e96": {
      "model_module": "@jupyter-widgets/base",
      "model_module_version": "1.2.0",
      "model_name": "LayoutModel",
      "state": {}
     },
     "9ffe998e4c364cf89c3ad75a041a4939": {
      "model_module": "ipytree",
      "model_module_version": "0.2.1",
      "model_name": "NodeModel",
      "state": {
       "_id": "7fb65e8e-51bc-459c-83fc-34e007ead4e8",
       "_model_module_version": "0.2.1",
       "_view_module_version": "0.2.1",
       "icon": "copy",
       "icon_style": "warning",
       "name": "File1"
      }
     },
     "a04a1476c9d048bda714d43e9ca62af1": {
      "model_module": "ipytree",
      "model_module_version": "0.2.1",
      "model_name": "NodeModel",
      "state": {
       "_id": "7decb21c-76a9-446c-a952-e529cfaebc94",
       "_model_module_version": "0.2.1",
       "_view_module_version": "0.2.1",
       "icon": "file",
       "name": "cover.jpg"
      }
     },
     "a095397e322e4eacb9f58c3bec8e7d43": {
      "model_module": "ipytree",
      "model_module_version": "0.2.1",
      "model_name": "NodeModel",
      "state": {
       "_id": "2383e87f-4fca-4b34-95b8-66456e971427",
       "_model_module_version": "0.2.1",
       "_view_module_version": "0.2.1",
       "name": "chapter-time-series-analysis-arima-garch-models",
       "nodes": [
        "IPY_MODEL_440b63e241624bcb970a4b37b1ec4597",
        "IPY_MODEL_41f5d076767e401db9852a0b120e8579"
       ],
       "opened": false
      }
     },
     "a0b461f129c64d22bc33e72a79f0afdb": {
      "model_module": "ipytree",
      "model_module_version": "0.2.1",
      "model_name": "NodeModel",
      "state": {
       "_id": "6817273f-3d4b-4ce0-a96c-99eea998968e",
       "_model_module_version": "0.2.1",
       "_view_module_version": "0.2.1",
       "icon": "file",
       "name": "DataUpdater.ipynb"
      }
     },
     "a0f37917846d4cc69999e95bb75ec6e8": {
      "model_module": "ipytree",
      "model_module_version": "0.2.1",
      "model_name": "NodeModel",
      "state": {
       "_id": "d4f18f88-2fa2-437c-91a2-26b8f964d4fd",
       "_model_module_version": "0.2.1",
       "_view_module_version": "0.2.1",
       "icon": "file",
       "name": "MFP_live_trades_anaysis.ipynb"
      }
     },
     "a161f9eab9164284acf7b60ebcdeb607": {
      "model_module": "ipytree",
      "model_module_version": "0.2.1",
      "model_name": "NodeModel",
      "state": {
       "_id": "0c73b49f-7a45-4849-8adc-689f2f48f112",
       "_model_module_version": "0.2.1",
       "_view_module_version": "0.2.1",
       "icon": "file",
       "name": "3.0 Tracker Tests.ipynb"
      }
     },
     "a191fe98a61d4e63a2a63ab9dc8c6f4c": {
      "model_module": "ipytree",
      "model_module_version": "0.2.1",
      "model_name": "NodeModel",
      "state": {
       "_id": "208ded53-d9c9-491b-97de-23d7b849ae78",
       "_model_module_version": "0.2.1",
       "_view_module_version": "0.2.1",
       "name": "regime",
       "nodes": [
        "IPY_MODEL_0e38a79615d14a41b4dd5b1d217775aa",
        "IPY_MODEL_37bff793fcff41c18af8dd31f9f2236b"
       ],
       "opened": false
      }
     },
     "a19d56bbf5c84b899cb989392ece00ba": {
      "model_module": "ipytree",
      "model_module_version": "0.2.1",
      "model_name": "NodeModel",
      "state": {
       "_id": "fc80c880-cafa-41b5-8671-95dab531cab9",
       "_model_module_version": "0.2.1",
       "_view_module_version": "0.2.1",
       "icon": "file",
       "name": "Volatility Model Validation.ipynb"
      }
     },
     "a1cb59041e3d47a8b7d05dc06ba6a31e": {
      "model_module": "ipytree",
      "model_module_version": "0.2.1",
      "model_name": "NodeModel",
      "state": {
       "_id": "f5fac783-0832-458a-85dd-88a2561a181b",
       "_model_module_version": "0.2.1",
       "_view_module_version": "0.2.1",
       "icon": "file",
       "name": "[Marpl.-ml._S._L.]_Cifrovoi_spektralnuei_analiz_i_(BookFi).djvu"
      }
     },
     "a1d8e8415b4740b69f6f09fae0b897ca": {
      "model_module": "ipytree",
      "model_module_version": "0.2.1",
      "model_name": "NodeModel",
      "state": {
       "_id": "9e4ce17d-c7fb-4361-87e7-973cbe472b62",
       "_model_module_version": "0.2.1",
       "_view_module_version": "0.2.1",
       "icon": "file",
       "name": "image2020-5-13_16-2-17.png"
      }
     },
     "a247168fd4714d749ace88059981bf30": {
      "model_module": "ipytree",
      "model_module_version": "0.2.1",
      "model_name": "NodeModel",
      "state": {
       "_id": "d161d211-7a4e-4af5-b7bb-e4ddbcfb6e40",
       "_model_module_version": "0.2.1",
       "_view_module_version": "0.2.1",
       "name": "pivots_based",
       "nodes": [
        "IPY_MODEL_b4dd0b5de7ba45b5a7b02a4e4385970e",
        "IPY_MODEL_44623a06d35542a5b364fee32d601465",
        "IPY_MODEL_e485930051ab412580e80e25c689f358",
        "IPY_MODEL_69d27912ff104b50a38c7313c4394fc4",
        "IPY_MODEL_65ed84b7508149a5a518167e3ad6900f"
       ],
       "opened": false
      }
     },
     "a28e3333ffc9411ba3aaf5b07cc24246": {
      "model_module": "ipytree",
      "model_module_version": "0.2.1",
      "model_name": "NodeModel",
      "state": {
       "_id": "da757178-7db0-4491-bf8b-0d9fe8527509",
       "_model_module_version": "0.2.1",
       "_view_module_version": "0.2.1",
       "icon": "file",
       "name": "smart_trade_broker_live_17aug2020.zip"
      }
     },
     "a2b6083f735643d5bc75462d301be071": {
      "model_module": "ipytree",
      "model_module_version": "0.2.1",
      "model_name": "NodeModel",
      "state": {
       "_id": "0e47a0ed-8070-42e0-95f0-89af5851c2dd",
       "_model_module_version": "0.2.1",
       "_view_module_version": "0.2.1",
       "icon": "file",
       "name": "kalman_qstrader_strategy.py"
      }
     },
     "a2b6a12225dd4fd3affec4a3189d2131": {
      "model_module": "ipytree",
      "model_module_version": "0.2.1",
      "model_name": "NodeModel",
      "state": {
       "_id": "1ceb4181-ccd8-4699-8582-278ceb52ae7c",
       "_model_module_version": "0.2.1",
       "_view_module_version": "0.2.1",
       "name": "tmp",
       "nodes": [
        "IPY_MODEL_0c308f3aef114b568adbd3b00f33430b",
        "IPY_MODEL_405250d0207c4b559b76d56bdf0b385c",
        "IPY_MODEL_226ad119391b4c4c987e79beb1a2b538",
        "IPY_MODEL_74b4d940461f4341928eb769084d5e8a",
        "IPY_MODEL_2f99e148265f49a687104c7d04b078e0"
       ],
       "opened": false
      }
     },
     "a2f8032d7a404208a414acfe519f330d": {
      "model_module": "ipytree",
      "model_module_version": "0.2.1",
      "model_name": "NodeModel",
      "state": {
       "_id": "03b83df1-6bda-433d-9215-aca69a50e334",
       "_model_module_version": "0.2.1",
       "_view_module_version": "0.2.1",
       "icon": "file",
       "name": "Algorithmic and High-Frequency - Alvaro Cartea.azw3"
      }
     },
     "a30ae521d5444ce195fd776e9cfbf29a": {
      "model_module": "ipytree",
      "model_module_version": "0.2.1",
      "model_name": "NodeModel",
      "state": {
       "_id": "3c04e4a2-8fb8-4f4d-8204-0a8e4cf45046",
       "_model_module_version": "0.2.1",
       "_view_module_version": "0.2.1",
       "name": "intro",
       "nodes": [
        "IPY_MODEL_6194f24d38da4a50a7f9e7ec621ca29c",
        "IPY_MODEL_ec6c41094e84453e8d48beaba5486f81",
        "IPY_MODEL_6f6781e14338480a955abb2b2ceda3ef",
        "IPY_MODEL_07a6e8b64ad741c6947bd6acfc5c3720"
       ],
       "opened": false
      }
     },
     "a33557c8758b4c9e89b4d4073faf5e1e": {
      "model_module": "@jupyter-widgets/base",
      "model_module_version": "1.2.0",
      "model_name": "LayoutModel",
      "state": {
       "min_width": "475px"
      }
     },
     "a336ecc42c684ddea6e309ce7e47f6f7": {
      "model_module": "ipytree",
      "model_module_version": "0.2.1",
      "model_name": "NodeModel",
      "state": {
       "_id": "b446b039-9fac-4ada-aca9-d2be8c7f684f",
       "_model_module_version": "0.2.1",
       "_view_module_version": "0.2.1",
       "icon": "file",
       "name": "nodes.cpython-36.pyc"
      }
     },
     "a39e9f8337f542b3853627af50e9a877": {
      "model_module": "ipytree",
      "model_module_version": "0.2.1",
      "model_name": "NodeModel",
      "state": {
       "_id": "689dab1c-3a44-4a84-a4eb-cd99aef0b015",
       "_model_module_version": "0.2.1",
       "_view_module_version": "0.2.1",
       "icon": "file",
       "name": "1.2 Touch model optimizations.ipynb"
      }
     },
     "a3a271b1e5f442e3b63bec29b701f539": {
      "model_module": "ipytree",
      "model_module_version": "0.2.1",
      "model_name": "NodeModel",
      "state": {
       "_id": "6ea271d6-a4d7-4444-9698-7e3546c72c8b",
       "_model_module_version": "0.2.1",
       "_view_module_version": "0.2.1",
       "icon": "file",
       "name": "algos.py"
      }
     },
     "a3bb8a75023741c2a5be16e0e4398110": {
      "model_module": "@jupyter-widgets/base",
      "model_module_version": "1.2.0",
      "model_name": "LayoutModel",
      "state": {}
     },
     "a3fea888ffbe49d588bda1b3866405a7": {
      "model_module": "ipytree",
      "model_module_version": "0.2.1",
      "model_name": "NodeModel",
      "state": {
       "_id": "ed1a037d-a849-4a55-b3c8-c0902476c95d",
       "_model_module_version": "0.2.1",
       "_view_module_version": "0.2.1",
       "icon": "file",
       "name": "10.6 FXCM - common portfolio.ipynb"
      }
     },
     "a43c6f9c2a664137a0b6c4b444254f6a": {
      "model_module": "ipytree",
      "model_module_version": "0.2.1",
      "model_name": "NodeModel",
      "state": {
       "_id": "f513ac99-0525-46b4-b01a-a2fc21d151b4",
       "_model_module_version": "0.2.1",
       "_view_module_version": "0.2.1",
       "icon": "file",
       "name": "pymc3_bayes_stochastic_vol.py"
      }
     },
     "a480fc4a592f4548b55a1978dc69576f": {
      "model_module": "ipytree",
      "model_module_version": "0.2.1",
      "model_name": "NodeModel",
      "state": {
       "_id": "ebbe7932-2241-428e-a8e2-3bf875c9966a",
       "_model_module_version": "0.2.1",
       "_view_module_version": "0.2.1",
       "icon": "file",
       "name": "orders_pti_models.py"
      }
     },
     "a4d9670d04bf49748ee3e1e57b8d9fb9": {
      "model_module": "ipytree",
      "model_module_version": "0.2.1",
      "model_name": "NodeModel",
      "state": {
       "_id": "55664f77-9ba6-4a91-86cb-81746a8a3f12",
       "_model_module_version": "0.2.1",
       "_view_module_version": "0.2.1",
       "name": "support_resistance",
       "nodes": [
        "IPY_MODEL_0a32b2df7e094bd0a6cf8e03c5e39371",
        "IPY_MODEL_98a0b0ec2acb4c39a9aeebc425fc3cfd"
       ],
       "opened": false
      }
     },
     "a4fa3c40ac4f40229a7caa2a82390d08": {
      "model_module": "ipytree",
      "model_module_version": "0.2.1",
      "model_name": "NodeModel",
      "state": {
       "_id": "d23ed1b8-b714-4408-ba23-021a506e3285",
       "_model_module_version": "0.2.1",
       "_view_module_version": "0.2.1",
       "icon": "file",
       "name": "3.2 CryptCorrellations.ipynb"
      }
     },
     "a52a6a8e9b1849849c57fbf1e4d311c3": {
      "model_module": "ipytree",
      "model_module_version": "0.2.1",
      "model_name": "NodeModel",
      "state": {
       "_id": "742f8c8b-0def-41b7-a720-3cd4ed38b01f",
       "_model_module_version": "0.2.1",
       "_view_module_version": "0.2.1",
       "icon": "file",
       "name": "research_utils.py"
      }
     },
     "a53713c388914542841d9c66723d1f9a": {
      "model_module": "ipytree",
      "model_module_version": "0.2.1",
      "model_name": "NodeModel",
      "state": {
       "_id": "d6ec1857-39b3-46b4-ba51-6526e892256e",
       "_model_module_version": "0.2.1",
       "_view_module_version": "0.2.1",
       "icon": "file",
       "name": "vwap.pdf"
      }
     },
     "a5487cc3a1f94e5983e3b7edd296fa8a": {
      "model_module": "ipytree",
      "model_module_version": "0.2.1",
      "model_name": "NodeModel",
      "state": {
       "_id": "91da226b-4f26-429c-b629-90fc5e852263",
       "_model_module_version": "0.2.1",
       "_view_module_version": "0.2.1",
       "icon": "file",
       "name": "plot_helpers.py"
      }
     },
     "a57e5565994e41708b1611fa3e96e7ec": {
      "model_module": "ipytree",
      "model_module_version": "0.2.1",
      "model_name": "NodeModel",
      "state": {
       "_id": "aa54a587-28f5-4956-887e-a109c93694d5",
       "_model_module_version": "0.2.1",
       "_view_module_version": "0.2.1",
       "icon": "file",
       "name": "SSRN-id2949334.pdf"
      }
     },
     "a58d5d1ca92943ac9cb7853ac970bbf7": {
      "model_module": "ipytree",
      "model_module_version": "0.2.1",
      "model_name": "NodeModel",
      "state": {
       "_id": "524090a7-45fc-47f6-aeb1-712335407c51",
       "_model_module_version": "0.2.1",
       "_view_module_version": "0.2.1",
       "icon": "file",
       "name": "1. Components Portfolio Trading.ipynb"
      }
     },
     "a59e5c8a685d4e55978c199125734660": {
      "model_module": "@jupyter-widgets/base",
      "model_module_version": "1.2.0",
      "model_name": "LayoutModel",
      "state": {}
     },
     "a5a01e10e2944f139c85bfb38e26a141": {
      "model_module": "@jupyter-widgets/base",
      "model_module_version": "1.2.0",
      "model_name": "LayoutModel",
      "state": {}
     },
     "a5ab502b71ee48dc8757a8bf4fac4656": {
      "model_module": "ipytree",
      "model_module_version": "0.2.1",
      "model_name": "NodeModel",
      "state": {
       "_id": "f30e3680-e0be-485b-bc50-fbd7ecaa1985",
       "_model_module_version": "0.2.1",
       "_view_module_version": "0.2.1",
       "icon": "warning",
       "icon_style": "warning",
       "name": "File1",
       "selected": true
      }
     },
     "a5ba6dc009c04165ae2d73a97799ca96": {
      "model_module": "ipytree",
      "model_module_version": "0.2.1",
      "model_name": "NodeModel",
      "state": {
       "_id": "018c08f0-44cb-4e03-861d-fb1c9bc359a8",
       "_model_module_version": "0.2.1",
       "_view_module_version": "0.2.1",
       "name": "nb",
       "nodes": [
        "IPY_MODEL_6cf96cb8d4cb4397a67bb3b9702591b0",
        "IPY_MODEL_b8531b2e7444457e841b93d62821a5dc",
        "IPY_MODEL_1e42b0cbb25e480d8a8e1cee4fa5670f",
        "IPY_MODEL_642740582a074f98b3dea4515a8e2a9d",
        "IPY_MODEL_366250fa648644fa8d683657a711f055",
        "IPY_MODEL_75c6003a16bd4c81b08e7c134536e605",
        "IPY_MODEL_698abae4bed3480cb9047de626a67150",
        "IPY_MODEL_5be5531b16bb4e56a06156e1f7ba411a",
        "IPY_MODEL_9fda1924a774409496da1728230415be",
        "IPY_MODEL_ee041eda11164e2c9c84212507d5ac8c",
        "IPY_MODEL_f113bcb2b6ad4049895099bfa90b09d2",
        "IPY_MODEL_6ffb84807cdf49c0a2dc48cc5b1cb3f1",
        "IPY_MODEL_923b20d8ea4f4bc8a93a85a66639485d",
        "IPY_MODEL_6607451b68e04252b0dda4e660950e41",
        "IPY_MODEL_6e347c41e2e14a71a30ebe38140a74fc",
        "IPY_MODEL_ab37c668dc03447696a729c1d436c590",
        "IPY_MODEL_f00e01a2c54b428da5a7dc99bb81d8b0",
        "IPY_MODEL_b98667c052624c9f94e5161481b771bb",
        "IPY_MODEL_e291b32fb84f4849b1cd8c0fb2904863",
        "IPY_MODEL_91cf05c5e5e84e878abf42728b00c55e",
        "IPY_MODEL_f416857a759f4320a81981fb5b02fbbb"
       ]
      }
     },
     "a5e4402ecbb04258a1dcbfcd17df9299": {
      "model_module": "@jupyter-widgets/base",
      "model_module_version": "1.2.0",
      "model_name": "LayoutModel",
      "state": {}
     },
     "a601d2b7edf5414cbbd4752e8bfaf621": {
      "model_module": "ipytree",
      "model_module_version": "0.2.1",
      "model_name": "NodeModel",
      "state": {
       "_id": "ec15979b-a0e5-45af-9445-4535d7afa32e",
       "_model_module_version": "0.2.1",
       "_view_module_version": "0.2.1",
       "icon": "file",
       "name": "CryptoCorrUtils.ipynb"
      }
     },
     "a61a848585db4755b8a0f0c5a7e50c1a": {
      "model_module": "ipytree",
      "model_module_version": "0.2.1",
      "model_name": "NodeModel",
      "state": {
       "_id": "029a8b18-1b78-4267-8df7-133816d6d67f",
       "_model_module_version": "0.2.1",
       "_view_module_version": "0.2.1",
       "name": "eod",
       "nodes": [
        "IPY_MODEL_6806f03b7f46473cb8aece570f345917",
        "IPY_MODEL_ee2cba1ab9634f1d9a61f26cd097ec04"
       ],
       "opened": false
      }
     },
     "a663b1ad4f1f430b989c985617bf6fb8": {
      "model_module": "@jupyter-widgets/base",
      "model_module_version": "1.2.0",
      "model_name": "LayoutModel",
      "state": {
       "width": "310px"
      }
     },
     "a68b30467255480bad45ef9a363c003b": {
      "model_module": "ipytree",
      "model_module_version": "0.2.1",
      "model_name": "NodeModel",
      "state": {
       "_id": "b9ded2e9-65ec-49ae-bfcf-6f5d7dd98810",
       "_model_module_version": "0.2.1",
       "_view_module_version": "0.2.1",
       "icon": "file",
       "name": "1. Daily Gaps Research.ipynb"
      }
     },
     "a6d4089bb354408e8aa6286a63034d23": {
      "model_module": "ipytree",
      "model_module_version": "0.2.1",
      "model_name": "NodeModel",
      "state": {
       "_id": "df4827d8-a433-4c4b-b6c5-a04e7d886d4f",
       "_model_module_version": "0.2.1",
       "_view_module_version": "0.2.1",
       "icon": "file",
       "name": "plot_utils.ipynb"
      }
     },
     "a6df623c16474972be14f86c2484ac56": {
      "model_module": "ipytree",
      "model_module_version": "0.2.1",
      "model_name": "NodeModel",
      "state": {
       "_id": "4b5e8414-3041-48fb-b8c5-30b0fbd94904",
       "_model_module_version": "0.2.1",
       "_view_module_version": "0.2.1",
       "icon": "file",
       "name": "utils.cpython-36.pyc"
      }
     },
     "a73a17de37db487fbf93d8a60a5b180a": {
      "model_module": "ipytree",
      "model_module_version": "0.2.1",
      "model_name": "NodeModel",
      "state": {
       "_id": "a0033ed7-1986-4ca9-93c6-f0cc56f917cc",
       "_model_module_version": "0.2.1",
       "_view_module_version": "0.2.1",
       "icon": "file",
       "name": "SGFilter.pdf"
      }
     },
     "a7c0b0df1fce4c0fa75e13197891023d": {
      "model_module": "ipytree",
      "model_module_version": "0.2.1",
      "model_name": "NodeModel",
      "state": {
       "_id": "5b56e8ca-99e7-4584-a3cb-c548e35a4bd6",
       "_model_module_version": "0.2.1",
       "_view_module_version": "0.2.1",
       "name": "arbitrage",
       "nodes": [
        "IPY_MODEL_c23b0f64426d45f9a6196ee40d718969",
        "IPY_MODEL_9dcaa81c531144bc994e54603165578e",
        "IPY_MODEL_1d0799ad758f4a7184ca9e66a371f71b",
        "IPY_MODEL_112d838b5991467eb72d06eadd0e6404",
        "IPY_MODEL_09f0b181f25e4e51aa928b14117a3c34",
        "IPY_MODEL_59b0bb0fc8924313beb2642660127a7a",
        "IPY_MODEL_bb788ebe0563422ab6fb23571bf8432e",
        "IPY_MODEL_382365a27f384c8a81f83fd9677d41d5"
       ],
       "opened": false
      }
     },
     "a80f2e8102784c598a1645355476c447": {
      "model_module": "@jupyter-widgets/output",
      "model_module_version": "1.0.0",
      "model_name": "OutputModel",
      "state": {
       "layout": "IPY_MODEL_b84284d975f24797a603075bfeb9d33a",
       "outputs": [
        {
         "data": {
          "application/vnd.jupyter.widget-view+json": {
           "model_id": "",
           "version_major": 2,
           "version_minor": 0
          },
          "text/plain": "Tree(multiple_selection=False, nodes=(Node(name='projects', nodes=(Node(icon='file', name='external'), Node(na…"
         },
         "metadata": {},
         "output_type": "display_data"
        }
       ]
      }
     },
     "a813aee5f8f2477995b8953838677445": {
      "model_module": "ipytree",
      "model_module_version": "0.2.1",
      "model_name": "NodeModel",
      "state": {
       "_id": "ffdcb1f3-138c-4266-ace8-aa66d3a00d77",
       "_model_module_version": "0.2.1",
       "_view_module_version": "0.2.1",
       "name": "docs",
       "nodes": [
        "IPY_MODEL_cf0f5894d8ec4957bf816f51062fb40a"
       ],
       "opened": false
      }
     },
     "a834f9a6cf654a0fae222fbd4b881c5f": {
      "model_module": "ipytree",
      "model_module_version": "0.2.1",
      "model_name": "NodeModel",
      "state": {
       "_id": "d965e320-f0a7-4719-91fc-0649211eb75f",
       "_model_module_version": "0.2.1",
       "_view_module_version": "0.2.1",
       "icon": "file",
       "name": "0. Cash And Carry Crypto.ipynb"
      }
     },
     "a83cd44a70da40828abacf9d234d5c08": {
      "model_module": "ipytree",
      "model_module_version": "0.2.1",
      "model_name": "NodeModel",
      "state": {
       "_id": "4cfc1a84-c4d7-4e4e-abdc-37a544c41950",
       "_model_module_version": "0.2.1",
       "_view_module_version": "0.2.1",
       "icon": "info",
       "icon_style": "info",
       "name": "media"
      }
     },
     "a899f33ea804431f996c711acfcc26f8": {
      "model_module": "ipytree",
      "model_module_version": "0.2.1",
      "model_name": "NodeModel",
      "state": {
       "_id": "11850b7e-5905-4ca7-b17a-d94a0b3542fb",
       "_model_module_version": "0.2.1",
       "_view_module_version": "0.2.1",
       "icon": "file",
       "name": "FuturesCfd.ipynb"
      }
     },
     "aa1fafcb8e2a4ba8a2975279382f957a": {
      "model_module": "ipytree",
      "model_module_version": "0.2.1",
      "model_name": "NodeModel",
      "state": {
       "_id": "5ad864b4-3e2d-4b6c-b3d0-246e51fe21d2",
       "_model_module_version": "0.2.1",
       "_view_module_version": "0.2.1",
       "icon": "file",
       "name": "_Linear Predicting Model.ipynb"
      }
     },
     "aa36ef2a0e4b409e89b37ddcde29c001": {
      "model_module": "ipytree",
      "model_module_version": "0.2.1",
      "model_name": "NodeModel",
      "state": {
       "_id": "34221086-b6c8-443f-823b-ac69d2c50f0a",
       "_model_module_version": "0.2.1",
       "_view_module_version": "0.2.1",
       "icon": "file",
       "name": "monthly_rebalance_run.py"
      }
     },
     "aa5b91be3a744d2e882d6d565e859ce1": {
      "model_module": "ipytree",
      "model_module_version": "0.2.1",
      "model_name": "NodeModel",
      "state": {
       "_id": "58edfb2d-913f-410e-b8bf-4e72b6b1b182",
       "_model_module_version": "0.2.1",
       "_view_module_version": "0.2.1",
       "icon": "file",
       "name": "webui_install.sh"
      }
     },
     "aa6c35dbd09847698538aebe0efd4e5c": {
      "model_module": "ipytree",
      "model_module_version": "0.2.1",
      "model_name": "NodeModel",
      "state": {
       "_id": "17506e84-3a8c-4195-8584-f570cc0178e5",
       "_model_module_version": "0.2.1",
       "_view_module_version": "0.2.1",
       "name": "chapter-time-series-analysis-state-space-models-kalman-filter",
       "nodes": [
        "IPY_MODEL_bd34443fa09b45209b68bf9faec8a13b"
       ],
       "opened": false
      }
     },
     "aa746dd538894c67aaae4c679df8c5dc": {
      "model_module": "ipytree",
      "model_module_version": "0.2.1",
      "model_name": "NodeModel",
      "state": {
       "_id": "6ee66e68-d331-47a2-b781-64c67315bf8e",
       "_model_module_version": "0.2.1",
       "_view_module_version": "0.2.1",
       "icon": "plus",
       "icon_style": "success",
       "name": "File2"
      }
     },
     "ab1e4025ffb74dd3b9546cf05f4ebe87": {
      "model_module": "ipytree",
      "model_module_version": "0.2.1",
      "model_name": "NodeModel",
      "state": {
       "_id": "418d884f-dd9b-418a-9caa-f5e9779a0163",
       "_model_module_version": "0.2.1",
       "_view_module_version": "0.2.1",
       "icon": "info",
       "icon_style": "info",
       "name": "media"
      }
     },
     "ab37c668dc03447696a729c1d436c590": {
      "model_module": "ipytree",
      "model_module_version": "0.2.1",
      "model_name": "NodeModel",
      "state": {
       "_id": "4cb5d2d2-61c5-43e3-a6b6-738d529f0bbd",
       "_model_module_version": "0.2.1",
       "_view_module_version": "0.2.1",
       "name": "options",
       "nodes": [
        "IPY_MODEL_d68190c037aa4ad58000f2b9414d5020"
       ],
       "opened": false
      }
     },
     "ab3a4b9f0ef44ebf994e37eb2f582503": {
      "model_module": "ipytree",
      "model_module_version": "0.2.1",
      "model_name": "NodeModel",
      "state": {
       "_id": "a4677c1e-1061-4f85-8e45-769299123b29",
       "_model_module_version": "0.2.1",
       "_view_module_version": "0.2.1",
       "icon": "file",
       "name": "Progressive Cracking.ipynb"
      }
     },
     "ab48844e8a73405f9841141b3a341278": {
      "model_module": "ipytree",
      "model_module_version": "0.2.1",
      "model_name": "NodeModel",
      "state": {
       "_id": "2968bf9a-149d-4a3c-b532-8f363622ca7c",
       "_model_module_version": "0.2.1",
       "_view_module_version": "0.2.1",
       "icon": "file",
       "name": "0.Uniswap tests.ipynb"
      }
     },
     "ab56c062beed4b4db9871bd52eec25b3": {
      "model_module": "ipytree",
      "model_module_version": "0.2.1",
      "model_name": "NodeModel",
      "state": {
       "_id": "6c0c48b7-3aa8-4706-9188-46638ec04b6b",
       "_model_module_version": "0.2.1",
       "_view_module_version": "0.2.1",
       "icon": "file",
       "name": "handy_utils.py"
      }
     },
     "ab728971a99a48759c8672fc3a8842b7": {
      "model_module": "ipytree",
      "model_module_version": "0.2.1",
      "model_name": "NodeModel",
      "state": {
       "_id": "8f25b192-6b55-4856-b0a6-19df07ade016",
       "_model_module_version": "0.2.1",
       "_view_module_version": "0.2.1",
       "icon": "file",
       "name": "run_helpers.py"
      }
     },
     "ab86c28a1a234c2b8405d8acbf739305": {
      "model_module": "ipytree",
      "model_module_version": "0.2.1",
      "model_name": "NodeModel",
      "state": {
       "_id": "77c75d90-1406-4c4b-98c4-c4c54a3a4b56",
       "_model_module_version": "0.2.1",
       "_view_module_version": "0.2.1",
       "icon": "file",
       "name": "__init__.py"
      }
     },
     "abba8cbfdfed4d9780b9355320c33efd": {
      "model_module": "ipytree",
      "model_module_version": "0.2.1",
      "model_name": "NodeModel",
      "state": {
       "_id": "ce44b27d-890c-4090-a954-1aca93d4cedf",
       "_model_module_version": "0.2.1",
       "_view_module_version": "0.2.1",
       "icon": "file",
       "name": "run_helpers.cpython-36.pyc"
      }
     },
     "ac0bd69c8d40492db6ee8e5322099fbc": {
      "model_module": "ipytree",
      "model_module_version": "0.2.1",
      "model_name": "NodeModel",
      "state": {
       "_id": "b63cf11a-61c2-49c1-8337-61a81de9c85a",
       "_model_module_version": "0.2.1",
       "_view_module_version": "0.2.1",
       "name": "tracking",
       "nodes": [
        "IPY_MODEL_772df9a213a0464d9b8222731af92534",
        "IPY_MODEL_91dd8473ff0e45ee8c2f5fa5a4f3c113",
        "IPY_MODEL_cd83d66be4004dcabf9e4bba4e2a43c6",
        "IPY_MODEL_e728512bcfef4ccaa90e5ae318a34938"
       ],
       "opened": false
      }
     },
     "acb33dbdc2334925b3295c9478c4ea26": {
      "model_module": "ipytree",
      "model_module_version": "0.2.1",
      "model_name": "NodeModel",
      "state": {
       "_id": "63a36da6-169c-44a8-9483-a09f30b60ce5",
       "_model_module_version": "0.2.1",
       "_view_module_version": "0.2.1",
       "icon": "file",
       "name": "kalman_qstrader_backtest.py"
      }
     },
     "acbae6a511f7490a8fa77906c7f3764a": {
      "model_module": "ipytree",
      "model_module_version": "0.2.1",
      "model_name": "NodeModel",
      "state": {
       "_id": "aaca97da-459a-43a5-9a4b-69cb13fd27d2",
       "_model_module_version": "0.2.1",
       "_view_module_version": "0.2.1",
       "icon": "file",
       "name": "HMMinStockMarketForecasting.pdf"
      }
     },
     "accafacc967945578601ef5fe42dc8fa": {
      "model_module": "ipytree",
      "model_module_version": "0.2.1",
      "model_name": "NodeModel",
      "state": {
       "_id": "eb6a217b-f20d-4c2a-b816-884eff053ae7",
       "_model_module_version": "0.2.1",
       "_view_module_version": "0.2.1",
       "icon": "file",
       "name": "data_helpers.py"
      }
     },
     "ad03b1a9cdb44473a0d081a49b1152f7": {
      "model_module": "ipytree",
      "model_module_version": "0.2.1",
      "model_name": "NodeModel",
      "state": {
       "_id": "531cb4a7-ea8e-45af-8e48-613626c960a9",
       "_model_module_version": "0.2.1",
       "_view_module_version": "0.2.1",
       "name": "__pycache__",
       "nodes": [
        "IPY_MODEL_49ecc1f33f684684a98a0cd298bc365c",
        "IPY_MODEL_d41cd5c86fbe474d8cddb7e1a5635797"
       ],
       "opened": false
      }
     },
     "adeb57df33f441c189757558468894be": {
      "model_module": "ipytree",
      "model_module_version": "0.2.1",
      "model_name": "NodeModel",
      "state": {
       "_id": "1baa13f4-7b2d-4c2b-a1a6-2afa95489426",
       "_model_module_version": "0.2.1",
       "_view_module_version": "0.2.1",
       "icon": "file",
       "name": "PseudoMM.ipynb"
      }
     },
     "adfb78a7f7c64cbb917e383ecb78d285": {
      "model_module": "ipytree",
      "model_module_version": "0.2.1",
      "model_name": "NodeModel",
      "state": {
       "_id": "3d1ae0ae-c0a6-416e-9ed1-41b0d0b373d0",
       "_model_module_version": "0.2.1",
       "_view_module_version": "0.2.1",
       "name": "loaders",
       "nodes": [
        "IPY_MODEL_32a78ee806de4d3f83cc9ac6a6b0ce40",
        "IPY_MODEL_2347f62c389c46b1883427c3e41563fc",
        "IPY_MODEL_6586de30b2a74dbe9b2c93f18762dcdb",
        "IPY_MODEL_6a884b179776494798e17cb11b47b0a0",
        "IPY_MODEL_ffdc08b1ebc74d38b20ec19883028000"
       ],
       "opened": false
      }
     },
     "ae0fa954c7824fe18301aa9686ab46d3": {
      "model_module": "ipytree",
      "model_module_version": "0.2.1",
      "model_name": "NodeModel",
      "state": {
       "_id": "e0bec545-d291-4ea6-8f79-b91faf56245c",
       "_model_module_version": "0.2.1",
       "_view_module_version": "0.2.1",
       "name": "indicators",
       "nodes": [
        "IPY_MODEL_0f19328a84734cfdb3ae968412a67dc6",
        "IPY_MODEL_63c891b3205441499f0ee560c896f69c",
        "IPY_MODEL_4ffc9a8bc5404f1b963e5f0e351a55a9",
        "IPY_MODEL_1de63680f7db4806ac92b05b9c91f0d0",
        "IPY_MODEL_b121fa634532411b90cb916369b380c0",
        "IPY_MODEL_f31c6c26f77b4ce1afee82b01f141dc8"
       ],
       "opened": false
      }
     },
     "ae136ab7e40a4dd982f9be044d4272c4": {
      "model_module": "ipytree",
      "model_module_version": "0.2.1",
      "model_name": "NodeModel",
      "state": {
       "_id": "1edfeb49-275a-4415-8835-8cb8eaad66de",
       "_model_module_version": "0.2.1",
       "_view_module_version": "0.2.1",
       "icon": "file",
       "name": "image2020-5-13_16-2-59.png"
      }
     },
     "ae1755a75c6740d48bed753a5f9c3b60": {
      "model_module": "ipytree",
      "model_module_version": "0.2.1",
      "model_name": "NodeModel",
      "state": {
       "_id": "bca490fe-3e3e-4f00-ae82-07cdb3491edd",
       "_model_module_version": "0.2.1",
       "_view_module_version": "0.2.1",
       "icon": "file",
       "name": "levels_tracker.py"
      }
     },
     "ae3c99bdd55c416e89f2ecc557bb0c7d": {
      "model_module": "ipytree",
      "model_module_version": "0.2.1",
      "model_name": "NodeModel",
      "state": {
       "_id": "171120c9-8469-4f27-a27a-15f1f5290514",
       "_model_module_version": "0.2.1",
       "_view_module_version": "0.2.1",
       "icon": "file",
       "name": "beta_binomial.py"
      }
     },
     "ae6cfd2e18ba4cc184be2b30f3a69b27": {
      "model_module": "ipytree",
      "model_module_version": "0.2.1",
      "model_name": "NodeModel",
      "state": {
       "_id": "812b71c9-96ef-47f0-b79d-42a3a8a389d1",
       "_model_module_version": "0.2.1",
       "_view_module_version": "0.2.1",
       "icon": "file",
       "name": "PredictiveModel_Bayesian.ipynb"
      }
     },
     "aeae23d53f964c6a9405fc1e86f446db": {
      "model_module": "ipytree",
      "model_module_version": "0.2.1",
      "model_name": "NodeModel",
      "state": {
       "_id": "51087ba8-40af-401f-b62e-33d7acca4735",
       "_model_module_version": "0.2.1",
       "_view_module_version": "0.2.1",
       "icon": "file",
       "name": "PMM_ModelTraining.ipynb"
      }
     },
     "aef064577fef4caf9ba08abccc61eede": {
      "model_module": "ipytree",
      "model_module_version": "0.2.1",
      "model_name": "NodeModel",
      "state": {
       "_id": "9facbe74-d201-4594-8b2c-4a45e795d45f",
       "_model_module_version": "0.2.1",
       "_view_module_version": "0.2.1",
       "icon": "file",
       "name": "johansen.R"
      }
     },
     "af05ed753ba246e7bed1fb09430853e5": {
      "model_module": "ipytree",
      "model_module_version": "0.2.1",
      "model_name": "NodeModel",
      "state": {
       "_id": "1c6d23bb-f363-406e-8ff0-8fe15893234a",
       "_model_module_version": "0.2.1",
       "_view_module_version": "0.2.1",
       "icon": "file",
       "name": "FractalMktHoFinForcast.2010.Blackledge.pdf"
      }
     },
     "af1b93fbe33742e7b806033c6dc2cc9c": {
      "model_module": "ipytree",
      "model_module_version": "0.2.1",
      "model_name": "NodeModel",
      "state": {
       "_id": "268b4085-131a-4c0e-8844-cb16ff2fb4dd",
       "_model_module_version": "0.2.1",
       "_view_module_version": "0.2.1",
       "icon": "archive",
       "icon_style": "warning",
       "name": "root"
      }
     },
     "af387b13b0024e0890505063157358dd": {
      "model_module": "ipytree",
      "model_module_version": "0.2.1",
      "model_name": "NodeModel",
      "state": {
       "_id": "a2441060-cb0f-475a-b16a-dd638b5e1888",
       "_model_module_version": "0.2.1",
       "_view_module_version": "0.2.1",
       "icon": "file",
       "name": "Order Flow On Crypto.ipynb"
      }
     },
     "afa4405753864f9faffd9283b4f3eb66": {
      "model_module": "ipytree",
      "model_module_version": "0.2.1",
      "model_name": "NodeModel",
      "state": {
       "_id": "a6fc38ca-6f21-4e89-84ac-11b042738871",
       "_model_module_version": "0.2.1",
       "_view_module_version": "0.2.1",
       "icon": "file",
       "name": "entries_generator.py"
      }
     },
     "afeb565dd04c44c58598d6a7e6f2214a": {
      "model_module": "@jupyter-widgets/controls",
      "model_module_version": "1.5.0",
      "model_name": "DescriptionStyleModel",
      "state": {
       "description_width": ""
      }
     },
     "afee576e22aa454c862e8b1371d3fe7f": {
      "model_module": "ipytree",
      "model_module_version": "0.2.1",
      "model_name": "NodeModel",
      "state": {
       "_id": "464890fd-cad1-4da8-839b-aa4b6cfc076a",
       "_model_module_version": "0.2.1",
       "_view_module_version": "0.2.1",
       "icon": "file",
       "name": "Basic Model Parameters Searching.ipynb"
      }
     },
     "b05638c80f794c6199bb13b48ab43372": {
      "model_module": "ipytree",
      "model_module_version": "0.2.1",
      "model_name": "NodeModel",
      "state": {
       "_id": "f505c0c9-6453-41da-9fdc-3b03917eca8e",
       "_model_module_version": "0.2.1",
       "_view_module_version": "0.2.1",
       "icon": "file",
       "name": "Single Progression Single Currencies.xlsx"
      }
     },
     "b0faf7120ebb49408386cf6d7e42ef56": {
      "model_module": "ipytree",
      "model_module_version": "0.2.1",
      "model_name": "NodeModel",
      "state": {
       "_id": "7d8dc2bc-47ad-49d1-9d1d-7bb621422071",
       "_model_module_version": "0.2.1",
       "_view_module_version": "0.2.1",
       "name": "__pycache__",
       "nodes": [
        "IPY_MODEL_fd66fe7268824cae9c79f20f9a1aa55d",
        "IPY_MODEL_3788e165c8da41dcb1f743a092794b1c",
        "IPY_MODEL_9ee3ea27bbd24f99a178cb41d919cc31"
       ],
       "opened": false
      }
     },
     "b0fd760266a54a4ea865aa051cdffdb5": {
      "model_module": "ipytree",
      "model_module_version": "0.2.1",
      "model_name": "NodeModel",
      "state": {
       "_id": "4df20c74-47fe-4443-a4ea-adfb48af7b59",
       "_model_module_version": "0.2.1",
       "_view_module_version": "0.2.1",
       "icon": "file",
       "name": "PPA for SSA.ipynb"
      }
     },
     "b1078bdf8a3e4ffeb8d55e94298d692a": {
      "model_module": "ipytree",
      "model_module_version": "0.2.1",
      "model_name": "NodeModel",
      "state": {
       "_id": "c34f1bfe-1a86-4fa6-a15f-bc904aaaa03d",
       "_model_module_version": "0.2.1",
       "_view_module_version": "0.2.1",
       "icon": "file",
       "name": "7. Regime model.ipynb"
      }
     },
     "b121fa634532411b90cb916369b380c0": {
      "model_module": "ipytree",
      "model_module_version": "0.2.1",
      "model_name": "NodeModel",
      "state": {
       "_id": "a97dd477-dd4b-4dad-9fab-0668340778c4",
       "_model_module_version": "0.2.1",
       "_view_module_version": "0.2.1",
       "icon": "file",
       "name": "pewma.py"
      }
     },
     "b13021b18a7642d195b5959f1e67b0cf": {
      "model_module": "ipytree",
      "model_module_version": "0.2.1",
      "model_name": "NodeModel",
      "state": {
       "_id": "b7cc0eef-adec-445b-96f4-29bac2473bd2",
       "_model_module_version": "0.2.1",
       "_view_module_version": "0.2.1",
       "icon": "info",
       "icon_style": "warning",
       "name": "File1",
       "selected": true
      }
     },
     "b1795c597d5f4b0390763e283e3d6d66": {
      "model_module": "@jupyter-widgets/controls",
      "model_module_version": "1.5.0",
      "model_name": "VBoxModel",
      "state": {
       "children": [
        "IPY_MODEL_f38742b67e7f447a9caccc9874c8373a",
        "IPY_MODEL_c67c6558f76a4ccaa4e0e8902d097c87"
       ],
       "layout": "IPY_MODEL_a5e4402ecbb04258a1dcbfcd17df9299"
      }
     },
     "b1fa98e4c7d2474793e9250d442b7be9": {
      "model_module": "ipytree",
      "model_module_version": "0.2.1",
      "model_name": "NodeModel",
      "state": {
       "_id": "b89f8630-3937-4ba8-a34e-e8f9acab2040",
       "_model_module_version": "0.2.1",
       "_view_module_version": "0.2.1",
       "icon": "file",
       "name": "example.py"
      }
     },
     "b20792b4614143f9a00ccabbc1e70a51": {
      "model_module": "ipytree",
      "model_module_version": "0.2.1",
      "model_name": "NodeModel",
      "state": {
       "_id": "718d4d58-8608-41be-95fd-99b96d5c1567",
       "_model_module_version": "0.2.1",
       "_view_module_version": "0.2.1",
       "icon": "file",
       "name": "core.cpython-36.pyc"
      }
     },
     "b288579703fc4065b311a8762d9f859c": {
      "model_module": "ipytree",
      "model_module_version": "0.2.1",
      "model_name": "NodeModel",
      "state": {
       "_id": "e1bb2b3e-e242-49fb-ab58-776d0b1f83b9",
       "_model_module_version": "0.2.1",
       "_view_module_version": "0.2.1",
       "name": "chapter-time-series-analysis-random-walks-white-noise",
       "nodes": [
        "IPY_MODEL_c72a0ec5448d403ea6b13f9cac9a4d09"
       ],
       "opened": false
      }
     },
     "b28ad133dfc049b4a462cc5c07dbd208": {
      "model_module": "ipytree",
      "model_module_version": "0.2.1",
      "model_name": "NodeModel",
      "state": {
       "_id": "c1c50daf-fe51-4de0-b095-f2e9c3118bc5",
       "_model_module_version": "0.2.1",
       "_view_module_version": "0.2.1",
       "icon": "warn",
       "icon_style": "warning",
       "name": "File1",
       "selected": true
      }
     },
     "b2a197dde8de49e593781b4baa82c139": {
      "model_module": "ipytree",
      "model_module_version": "0.2.1",
      "model_name": "NodeModel",
      "state": {
       "_id": "684d3663-0d5f-46f7-a9aa-c160e9752a32",
       "_model_module_version": "0.2.1",
       "_view_module_version": "0.2.1",
       "icon": "file",
       "name": "levels_structs.py"
      }
     },
     "b3b3e0f1b6894550ba5d7d22f0bff88e": {
      "model_module": "ipytree",
      "model_module_version": "0.2.1",
      "model_name": "NodeModel",
      "state": {
       "_id": "e7aa0c20-998b-43d4-8a32-8b413b96e88c",
       "_model_module_version": "0.2.1",
       "_view_module_version": "0.2.1",
       "icon": "file",
       "name": "Price Percentiles Momentum.ipynb"
      }
     },
     "b3d7d981059a41578e643e8f70c4724a": {
      "model_module": "ipytree",
      "model_module_version": "0.2.1",
      "model_name": "NodeModel",
      "state": {
       "_id": "b59efbdc-0b85-412d-a1ca-631bad3b602f",
       "_model_module_version": "0.2.1",
       "_view_module_version": "0.2.1",
       "name": "chapter-time-series-analysis-hidden-markov-models",
       "nodes": [
        "IPY_MODEL_4dbcbd5a08e74d6c952f1712af4e719b"
       ],
       "opened": false
      }
     },
     "b46525fee1064ad5b99f568dcd4b6821": {
      "model_module": "ipytree",
      "model_module_version": "0.2.1",
      "model_name": "NodeModel",
      "state": {
       "_id": "06826539-47d0-456b-974c-97b5605439b7",
       "_model_module_version": "0.2.1",
       "_view_module_version": "0.2.1",
       "icon": "file",
       "name": "uniswap.py"
      }
     },
     "b487786451984165ba0052ec2249f31c": {
      "model_module": "ipytree",
      "model_module_version": "0.2.1",
      "model_name": "NodeModel",
      "state": {
       "_id": "ded200c1-81f3-446d-a0d2-6294475d6c81",
       "_model_module_version": "0.2.1",
       "_view_module_version": "0.2.1",
       "icon": "file",
       "name": "mpl_finance.py"
      }
     },
     "b4dd0b5de7ba45b5a7b02a4e4385970e": {
      "model_module": "ipytree",
      "model_module_version": "0.2.1",
      "model_name": "NodeModel",
      "state": {
       "_id": "d90805d9-e0ce-42ed-bc36-8fa0bc091ba8",
       "_model_module_version": "0.2.1",
       "_view_module_version": "0.2.1",
       "icon": "file",
       "name": "LevelsBreakout.ipynb"
      }
     },
     "b4f7f860ef774b1fa6304a346f3c3755": {
      "model_module": "ipytree",
      "model_module_version": "0.2.1",
      "model_name": "NodeModel",
      "state": {
       "_id": "a187c518-5c1d-44bf-8732-adfb6521f932",
       "_model_module_version": "0.2.1",
       "_view_module_version": "0.2.1",
       "name": "mt4",
       "nodes": [
        "IPY_MODEL_9374893e901e46c386eaddb42836fc7c"
       ],
       "opened": false
      }
     },
     "b561bcacd68c4c45ac09b59b47f281e8": {
      "model_module": "ipytree",
      "model_module_version": "0.2.1",
      "model_name": "NodeModel",
      "state": {
       "_id": "d3f5a675-396a-4746-855f-050efa3b41f4",
       "_model_module_version": "0.2.1",
       "_view_module_version": "0.2.1",
       "icon": "file",
       "name": "PMM_Indicators.ipynb"
      }
     },
     "b583d7b5567e4cd1b866319a07e0188e": {
      "model_module": "ipytree",
      "model_module_version": "0.2.1",
      "model_name": "NodeModel",
      "state": {
       "_id": "a7a02b38-146a-4f83-b832-776724b9f631",
       "_model_module_version": "0.2.1",
       "_view_module_version": "0.2.1",
       "icon": "file",
       "name": "WFT_FBREAK_binance.json"
      }
     },
     "b5b8c2917e0843a297ecb436d074c250": {
      "model_module": "ipytree",
      "model_module_version": "0.2.1",
      "model_name": "NodeModel",
      "state": {
       "_id": "518970f0-394b-4234-bb00-f093edbfe3cd",
       "_model_module_version": "0.2.1",
       "_view_module_version": "0.2.1",
       "icon": "file",
       "name": "Hull, J. - Options, Futures, and Other Derivatives. Solutions Manual - 2012 - 8th Ed.pdf"
      }
     },
     "b5ceea2e14464314a662582aa67feca7": {
      "model_module": "ipytree",
      "model_module_version": "0.2.1",
      "model_name": "NodeModel",
      "state": {
       "_id": "678d057a-d10b-4cf8-80ad-331053067a37",
       "_model_module_version": "0.2.1",
       "_view_module_version": "0.2.1",
       "icon": "file",
       "name": "simulated_data.py"
      }
     },
     "b6188412eeb74b949b4fbd457d8b1583": {
      "model_module": "ipytree",
      "model_module_version": "0.2.1",
      "model_name": "NodeModel",
      "state": {
       "_id": "fd14a297-30c7-4edc-a912-590c37d8e6b9",
       "_model_module_version": "0.2.1",
       "_view_module_version": "0.2.1",
       "icon": "file",
       "name": "default.tpl"
      }
     },
     "b65a9e6c2a9e426ba3f9cb9db4bb5234": {
      "model_module": "ipytree",
      "model_module_version": "0.2.1",
      "model_name": "NodeModel",
      "state": {
       "_id": "422b2a7d-5a8a-41c1-a447-a002d1df784c",
       "_model_module_version": "0.2.1",
       "_view_module_version": "0.2.1",
       "icon": "file",
       "name": "Simulation Results Processing 26-Jun-2018.pdf"
      }
     },
     "b6c78eb4c4044991833707d5f25c4462": {
      "model_module": "ipytree",
      "model_module_version": "0.2.1",
      "model_name": "NodeModel",
      "state": {
       "_id": "b561410e-6aa5-4ce3-9fca-1fa276bf8f59",
       "_model_module_version": "0.2.1",
       "_view_module_version": "0.2.1",
       "icon": "file",
       "name": "1.3 Verifying Live Trades.ipynb"
      }
     },
     "b727651d27244a199385c95d1992fcf7": {
      "model_module": "ipytree",
      "model_module_version": "0.2.1",
      "model_name": "NodeModel",
      "state": {
       "_id": "4ebdffac-fc29-42dd-a087-c8aeaefe4875",
       "_model_module_version": "0.2.1",
       "_view_module_version": "0.2.1",
       "icon": "file",
       "name": "Trends Arbitrage.ipynb"
      }
     },
     "b7631eab26544bafb39c00429e837097": {
      "model_module": "ipytree",
      "model_module_version": "0.2.1",
      "model_name": "TreeModel",
      "state": {
       "_model_module_version": "0.2.1",
       "_view_module_version": "0.2.1",
       "layout": "IPY_MODEL_707153ade3694addb69a5f1c4944d43b",
       "nodes": [
        "IPY_MODEL_66daa1149f944d9aa5c97b516f113ca7",
        "IPY_MODEL_ab1e4025ffb74dd3b9546cf05f4ebe87",
        "IPY_MODEL_e1283077e7464a24864d6bd3336039ff",
        "IPY_MODEL_ede3db4a1ea7470d8dfea2ab075c800e"
       ],
       "selected_nodes": [
        "IPY_MODEL_a5ab502b71ee48dc8757a8bf4fac4656"
       ]
      }
     },
     "b79faf3d567c4b54826854031e8bdf2b": {
      "model_module": "ipytree",
      "model_module_version": "0.2.1",
      "model_name": "NodeModel",
      "state": {
       "_id": "3e82d7c7-f84d-4e43-a152-56f3a81b5337",
       "_model_module_version": "0.2.1",
       "_view_module_version": "0.2.1",
       "icon": "file",
       "name": "2. Index Arbitrage Tests FX.ipynb"
      }
     },
     "b7d50e764aa444ef810bf2e69320a29f": {
      "model_module": "ipytree",
      "model_module_version": "0.2.1",
      "model_name": "NodeModel",
      "state": {
       "_id": "9f78bd8f-04f7-4e92-973f-79096a8bc947",
       "_model_module_version": "0.2.1",
       "_view_module_version": "0.2.1",
       "icon": "file",
       "name": "BookBuilder.ipynb"
      }
     },
     "b8206c4831934dd6b31fd834045816ad": {
      "model_module": "ipytree",
      "model_module_version": "0.2.1",
      "model_name": "NodeModel",
      "state": {
       "_id": "3300b6b1-3604-40a3-bae5-9c3c07339b4d",
       "_model_module_version": "0.2.1",
       "_view_module_version": "0.2.1",
       "icon": "file",
       "name": "bm_cfg.json"
      }
     },
     "b834dccd818041f0b8863bbd7e4ca031": {
      "model_module": "ipytree",
      "model_module_version": "0.2.1",
      "model_name": "NodeModel",
      "state": {
       "_id": "b1abea35-6a23-4f64-9b52-a6bb63f2b7a9",
       "_model_module_version": "0.2.1",
       "_view_module_version": "0.2.1",
       "icon": "file",
       "name": "4. Crawler Signals Analysis.ipynb"
      }
     },
     "b840eb46effb4cc79bd53fca1e675ba4": {
      "model_module": "ipytree",
      "model_module_version": "0.2.1",
      "model_name": "NodeModel",
      "state": {
       "_id": "f53dcb8a-7d7f-4e7a-abc9-58d69f0a0891",
       "_model_module_version": "0.2.1",
       "_view_module_version": "0.2.1",
       "icon": "file",
       "name": "BinanceAPI Data Updater.ipynb"
      }
     },
     "b84284d975f24797a603075bfeb9d33a": {
      "model_module": "@jupyter-widgets/base",
      "model_module_version": "1.2.0",
      "model_name": "LayoutModel",
      "state": {
       "max_width": "310px"
      }
     },
     "b8531b2e7444457e841b93d62821a5dc": {
      "model_module": "ipytree",
      "model_module_version": "0.2.1",
      "model_name": "NodeModel",
      "state": {
       "_id": "057c1ae8-0b9a-4021-aa95-c9597b286d34",
       "_model_module_version": "0.2.1",
       "_view_module_version": "0.2.1",
       "name": "bands",
       "nodes": [
        "IPY_MODEL_e46cc5ee2f934478b5afe0fcb52ab6f5"
       ]
      }
     },
     "b889bd49f5724333b925429078b4707d": {
      "model_module": "ipytree",
      "model_module_version": "0.2.1",
      "model_name": "NodeModel",
      "state": {
       "_id": "e5f46ec0-7f75-4f76-a061-406912f7fe9b",
       "_model_module_version": "0.2.1",
       "_view_module_version": "0.2.1",
       "icon": "file",
       "name": "data_refresher.ipynb"
      }
     },
     "b8d229261fdc4dcf8af986ef79234f93": {
      "model_module": "ipytree",
      "model_module_version": "0.2.1",
      "model_name": "NodeModel",
      "state": {
       "_id": "60ca7293-6457-42cd-9817-b6688dd065c5",
       "_model_module_version": "0.2.1",
       "_view_module_version": "0.2.1",
       "name": "fbreak",
       "nodes": [
        "IPY_MODEL_7214d8db0ae94521a55de9c51a273f7c",
        "IPY_MODEL_720a1c97cda646cfaab40f81cbcba018",
        "IPY_MODEL_a161f9eab9164284acf7b60ebcdeb607",
        "IPY_MODEL_ed16a4726de74d859dd9f0b6dff9baeb",
        "IPY_MODEL_1acc89199cf744a4824d9c0f52515489",
        "IPY_MODEL_72365f2bd24343c4a07cc84be0541944",
        "IPY_MODEL_2a840ce8cb7044279c327f1fba162422"
       ],
       "opened": false
      }
     },
     "b90c76c8f2a74e6d9cd4a339ed6c84ab": {
      "model_module": "ipytree",
      "model_module_version": "0.2.1",
      "model_name": "NodeModel",
      "state": {
       "_id": "ce3d5e43-e229-409e-bbba-ab33c4599da4",
       "_model_module_version": "0.2.1",
       "_view_module_version": "0.2.1",
       "icon": "file",
       "name": "analysis_utils.py"
      }
     },
     "b98667c052624c9f94e5161481b771bb": {
      "model_module": "ipytree",
      "model_module_version": "0.2.1",
      "model_name": "NodeModel",
      "state": {
       "_id": "83485c8a-b5fa-49fd-ba37-1acf5a01531e",
       "_model_module_version": "0.2.1",
       "_view_module_version": "0.2.1",
       "name": "price_patterns",
       "nodes": [
        "IPY_MODEL_9faf3f5442bf452499e7f3316db519f8",
        "IPY_MODEL_88ea968c0a30454a91bd902526e8d7e3",
        "IPY_MODEL_33467a1dfaed407c8149ad38dfe65fba",
        "IPY_MODEL_01d1d1d178e44918b62beda29c9a8304",
        "IPY_MODEL_3d89898608eb417da90598a48c73d905",
        "IPY_MODEL_5625b03144194ef3a159b55d7a405146",
        "IPY_MODEL_8ed3b91f1651408ea5e92736da99159c",
        "IPY_MODEL_12cf32fe6afe4722ae294864cbe165a5",
        "IPY_MODEL_ce2288611ea2462fbdb4bbec50603dfb",
        "IPY_MODEL_5dd74a67667e41babb32ae2d59e873de",
        "IPY_MODEL_52d618e313a44128a92a3edc24caebed",
        "IPY_MODEL_4c09819112104ab4b28c20135f292048",
        "IPY_MODEL_cada0945197243d9b26255237c7b2051"
       ],
       "opened": false
      }
     },
     "b9e837a33cb94a0a8a872376953d87f9": {
      "model_module": "ipytree",
      "model_module_version": "0.2.1",
      "model_name": "NodeModel",
      "state": {
       "_id": "50b7ffe9-ccf5-4283-8140-0c2e19ac0376",
       "_model_module_version": "0.2.1",
       "_view_module_version": "0.2.1",
       "name": "tests",
       "nodes": [
        "IPY_MODEL_1f35969345894eef905daf86ad9a9d22",
        "IPY_MODEL_15c38070bdd3480c8154c4b54c85f087",
        "IPY_MODEL_35af72dd13ae40389a154facbf892018",
        "IPY_MODEL_68248f2b01c84d9b88d79d5dfc686039",
        "IPY_MODEL_5e5da48f936f4f14915b7e307d2c906e",
        "IPY_MODEL_23bb38bf23bd461a9c2e7710376a0095",
        "IPY_MODEL_d847b66a5c3141a8921ad7ae3c7389be",
        "IPY_MODEL_8283ae2cfee6453a9d79a423e779079b"
       ],
       "opened": false
      }
     },
     "ba1566179ca6481586b380a6c0c89ef0": {
      "model_module": "@jupyter-widgets/controls",
      "model_module_version": "1.5.0",
      "model_name": "ButtonModel",
      "state": {
       "button_style": "primary",
       "description": "Save",
       "layout": "IPY_MODEL_c500f46226f041049143eaf55a9178ff",
       "style": "IPY_MODEL_bb36ae0baa984a838d4c1d57e04c5146",
       "tooltip": "Save edits to file."
      }
     },
     "ba3b6e60b7654656b5d42141d2a01ddc": {
      "model_module": "ipytree",
      "model_module_version": "0.2.1",
      "model_name": "NodeModel",
      "state": {
       "_id": "ec24a14f-5313-4a36-bf20-9e39015ac430",
       "_model_module_version": "0.2.1",
       "_view_module_version": "0.2.1",
       "icon": "file",
       "name": "Shirjaev_1_Osnovy_finansovoi_matematiki.djvu"
      }
     },
     "baaee93b4c5842849ef03cfb5401f258": {
      "model_module": "ipytree",
      "model_module_version": "0.2.1",
      "model_name": "NodeModel",
      "state": {
       "_id": "0e4fe718-30a7-4693-a28b-f612017c0226",
       "_model_module_version": "0.2.1",
       "_view_module_version": "0.2.1",
       "name": "chapter-time-series-analysis-serial-correlation",
       "nodes": [
        "IPY_MODEL_59554e2ea06a46f695365eec0012b7f0"
       ],
       "opened": false
      }
     },
     "baafde82fa714122821fb4a0c7e0a497": {
      "model_module": "ipytree",
      "model_module_version": "0.2.1",
      "model_name": "NodeModel",
      "state": {
       "_id": "5ba5ab95-1698-4a5c-9288-09348ec4bd5a",
       "_model_module_version": "0.2.1",
       "_view_module_version": "0.2.1",
       "icon": "file",
       "name": "4. Model1 Spread Deviation Trader.ipynb"
      }
     },
     "bb1cdf871f3142109c4579fad83d2654": {
      "model_module": "ipytree",
      "model_module_version": "0.2.1",
      "model_name": "NodeModel",
      "state": {
       "_id": "3bce7a09-a363-475c-9c36-9b1845e1df70",
       "_model_module_version": "0.2.1",
       "_view_module_version": "0.2.1",
       "icon": "file",
       "name": "PEWMA Experiments.ipynb"
      }
     },
     "bb36ae0baa984a838d4c1d57e04c5146": {
      "model_module": "@jupyter-widgets/controls",
      "model_module_version": "1.5.0",
      "model_name": "ButtonStyleModel",
      "state": {}
     },
     "bb658ac0489248f4bb08f3a38572ef69": {
      "model_module": "ipytree",
      "model_module_version": "0.2.1",
      "model_name": "NodeModel",
      "state": {
       "_id": "4eba44b2-69e3-4b5c-9807-9883725de092",
       "_model_module_version": "0.2.1",
       "_view_module_version": "0.2.1",
       "icon": "file",
       "name": "plot_helpers.py"
      }
     },
     "bb788ebe0563422ab6fb23571bf8432e": {
      "model_module": "ipytree",
      "model_module_version": "0.2.1",
      "model_name": "NodeModel",
      "state": {
       "_id": "d4234e64-05fc-4f87-840c-161002d46d9a",
       "_model_module_version": "0.2.1",
       "_view_module_version": "0.2.1",
       "icon": "file",
       "name": "MultiExchangeMR.ipynb"
      }
     },
     "bb95792e0e4b46f3a94a1c91793512ef": {
      "model_module": "ipytree",
      "model_module_version": "0.2.1",
      "model_name": "NodeModel",
      "state": {
       "_id": "33ee4568-401b-4e4d-b03f-a202c24b1a98",
       "_model_module_version": "0.2.1",
       "_view_module_version": "0.2.1",
       "icon": "info",
       "icon_style": "info",
       "name": "media"
      }
     },
     "bbe0773db1f54eea889e5180d1eda3ee": {
      "model_module": "@jupyter-widgets/controls",
      "model_module_version": "1.5.0",
      "model_name": "HBoxModel",
      "state": {
       "children": [
        "IPY_MODEL_e553da02e504410293a9091fc49b7514",
        "IPY_MODEL_28803f4749734b9a91237e5f7cfb3254"
       ],
       "layout": "IPY_MODEL_70771e06f43b4ea3ba542ac7ede12109"
      }
     },
     "bbec395d9e7441c9b43926fd338fd6d8": {
      "model_module": "ipytree",
      "model_module_version": "0.2.1",
      "model_name": "NodeModel",
      "state": {
       "_id": "84066ba2-f1ad-47a8-9161-ea15e652db7d",
       "_model_module_version": "0.2.1",
       "_view_module_version": "0.2.1",
       "icon": "file",
       "name": "AA_Logo.png"
      }
     },
     "bc09b00f0a0e42299f0506ee4e289204": {
      "model_module": "ipytree",
      "model_module_version": "0.2.1",
      "model_name": "NodeModel",
      "state": {
       "_id": "3a59f874-f142-428c-b4b8-5eafcf44531f",
       "_model_module_version": "0.2.1",
       "_view_module_version": "0.2.1",
       "icon": "file",
       "name": "2. FX Analysis Next Steps.ipynb"
      }
     },
     "bc37244931894bad9345c1e7fec0e83f": {
      "model_module": "ipytree",
      "model_module_version": "0.2.1",
      "model_name": "NodeModel",
      "state": {
       "_id": "1e6a34dc-c587-4392-9cba-15220dcdad03",
       "_model_module_version": "0.2.1",
       "_view_module_version": "0.2.1",
       "name": "promo",
       "nodes": [
        "IPY_MODEL_7190fed315d9439ebb1983f43b1d331b",
        "IPY_MODEL_e067ed9bff034024b01ba15bdb38f35d"
       ],
       "opened": false
      }
     },
     "bcd8e1d9b9454378860cf8a643e80374": {
      "model_module": "@jupyter-widgets/base",
      "model_module_version": "1.2.0",
      "model_name": "LayoutModel",
      "state": {}
     },
     "bd34443fa09b45209b68bf9faec8a13b": {
      "model_module": "ipytree",
      "model_module_version": "0.2.1",
      "model_name": "NodeModel",
      "state": {
       "_id": "587b1bb3-22f9-4ecc-92ca-f546b0b2b861",
       "_model_module_version": "0.2.1",
       "_view_module_version": "0.2.1",
       "icon": "file",
       "name": "kalman_filter_dynamic_hedge_ratio.py"
      }
     },
     "bd3a4398a696402ea717a84d08cd26e6": {
      "model_module": "ipytree",
      "model_module_version": "0.2.1",
      "model_name": "NodeModel",
      "state": {
       "_id": "4821a79b-c63b-43ff-8c22-c2100b24dc9e",
       "_model_module_version": "0.2.1",
       "_view_module_version": "0.2.1",
       "icon": "file",
       "name": "WOO.ipynb"
      }
     },
     "bda5c712eeb34d5097d1e36e96b7c9a0": {
      "model_module": "ipytree",
      "model_module_version": "0.2.1",
      "model_name": "NodeModel",
      "state": {
       "_id": "68e00d93-1ef0-4b5a-95fc-59c03fc7a165",
       "_model_module_version": "0.2.1",
       "_view_module_version": "0.2.1",
       "icon": "file",
       "name": "0. GARCH predictor.ipynb"
      }
     },
     "bdf7734cea90489fb9b81e08388f4d96": {
      "model_module": "ipytree",
      "model_module_version": "0.2.1",
      "model_name": "NodeModel",
      "state": {
       "_id": "b2e5b1c9-fd30-42d3-b83b-960cdf46acbf",
       "_model_module_version": "0.2.1",
       "_view_module_version": "0.2.1",
       "icon": "file",
       "name": "executions.csv"
      }
     },
     "be276d6c7cbe4ff1957f62a6826480c7": {
      "model_module": "ipytree",
      "model_module_version": "0.2.1",
      "model_name": "NodeModel",
      "state": {
       "_id": "3c7d9992-df27-404e-a52a-d94365cd3e8f",
       "_model_module_version": "0.2.1",
       "_view_module_version": "0.2.1",
       "icon": "file",
       "name": "viewer.cpython-36.pyc"
      }
     },
     "be2e26ae04484ee69958924c32f415c4": {
      "model_module": "ipytree",
      "model_module_version": "0.2.1",
      "model_name": "NodeModel",
      "state": {
       "_id": "42c6fcb6-a84b-4a00-9812-910403948783",
       "_model_module_version": "0.2.1",
       "_view_module_version": "0.2.1",
       "icon": "file",
       "name": "GuideToFramework.ipynb"
      }
     },
     "be54152de20947bfacc838dd7656c220": {
      "model_module": "ipytree",
      "model_module_version": "0.2.1",
      "model_name": "NodeModel",
      "state": {
       "_id": "4f4d446b-018b-4046-b333-a9ddcb641d8c",
       "_model_module_version": "0.2.1",
       "_view_module_version": "0.2.1",
       "icon": "file",
       "name": "i4. Task Manager.ipynb"
      }
     },
     "bee2b727ec8548848658bcd12ebee11d": {
      "model_module": "ipytree",
      "model_module_version": "0.2.1",
      "model_name": "NodeModel",
      "state": {
       "_id": "6de1c8be-6975-4f0f-878b-e0c2e855ee9f",
       "_model_module_version": "0.2.1",
       "_view_module_version": "0.2.1",
       "name": "chapter-trading-strategies-introductory-portfolio-strategies",
       "nodes": [
        "IPY_MODEL_034c675b218242eea4eaa0c153115016",
        "IPY_MODEL_c5cc6ca52daa406b99c4d913b4691db6",
        "IPY_MODEL_aa36ef2a0e4b409e89b37ddcde29c001",
        "IPY_MODEL_39a563e8f8c541669be03bd40e95fb77"
       ],
       "opened": false
      }
     },
     "bf1070103f59456fa4c759da07028dcf": {
      "model_module": "ipytree",
      "model_module_version": "0.2.1",
      "model_name": "NodeModel",
      "state": {
       "_id": "ea1a3eea-1c31-4b4b-a7ae-76aa0157befd",
       "_model_module_version": "0.2.1",
       "_view_module_version": "0.2.1",
       "icon": "file",
       "name": "__init__.py"
      }
     },
     "bf7e8ddd5d89490ba46f5628cfba1144": {
      "model_module": "ipytree",
      "model_module_version": "0.2.1",
      "model_name": "NodeModel",
      "state": {
       "_id": "93873073-e9cd-4d19-90a5-8a12a42e833c",
       "_model_module_version": "0.2.1",
       "_view_module_version": "0.2.1",
       "icon": "file",
       "name": "qmodels.py"
      }
     },
     "bfa389e687bb473a8a2a062f228783ed": {
      "model_module": "ipytree",
      "model_module_version": "0.2.1",
      "model_name": "NodeModel",
      "state": {
       "_id": "d9b3a4a7-a82f-42d5-8cc3-f9241b4b9132",
       "_model_module_version": "0.2.1",
       "_view_module_version": "0.2.1",
       "icon": "file",
       "name": "FHM_currency_trasing.pdf"
      }
     },
     "bff75124e6214941ac457cb88228d7b0": {
      "model_module": "@jupyter-widgets/base",
      "model_module_version": "1.2.0",
      "model_name": "LayoutModel",
      "state": {}
     },
     "c033db66338a4506af22965436322425": {
      "model_module": "ipytree",
      "model_module_version": "0.2.1",
      "model_name": "NodeModel",
      "state": {
       "_id": "3ac19c10-04ab-4652-96d3-e82915becbb4",
       "_model_module_version": "0.2.1",
       "_view_module_version": "0.2.1",
       "icon": "file",
       "name": "levels_tracker.py"
      }
     },
     "c0cca5f5b56c44148972c4229d96f3db": {
      "model_module": "ipytree",
      "model_module_version": "0.2.1",
      "model_name": "NodeModel",
      "state": {
       "_id": "7e020cd6-0911-49e7-bdee-b1c60618192f",
       "_model_module_version": "0.2.1",
       "_view_module_version": "0.2.1",
       "name": "fix44",
       "nodes": [
        "IPY_MODEL_4547080819fb42568323e1bc9a461c70"
       ],
       "opened": false
      }
     },
     "c0e68006f9294e569b2bb88f4c17aca0": {
      "model_module": "ipytree",
      "model_module_version": "0.2.1",
      "model_name": "NodeModel",
      "state": {
       "_id": "08d5f982-ed90-497b-a5b7-77679e02ed9a",
       "_model_module_version": "0.2.1",
       "_view_module_version": "0.2.1",
       "icon": "file",
       "name": "Data Tricks Collection.ipynb"
      }
     },
     "c10bfa27c93b47709190af03d503b824": {
      "model_module": "ipytree",
      "model_module_version": "0.2.1",
      "model_name": "NodeModel",
      "state": {
       "_id": "35ed2686-e05d-4f3c-96ac-f12c5f1d5f57",
       "_model_module_version": "0.2.1",
       "_view_module_version": "0.2.1",
       "icon": "file",
       "name": "google_trends.py"
      }
     },
     "c112ca63ef5544d5901883930f9e148c": {
      "model_module": "@jupyter-widgets/base",
      "model_module_version": "1.2.0",
      "model_name": "LayoutModel",
      "state": {}
     },
     "c1326380340946b2869499af6ab78fdf": {
      "model_module": "@jupyter-widgets/controls",
      "model_module_version": "1.5.0",
      "model_name": "ButtonModel",
      "state": {
       "button_style": "primary",
       "description": "Save",
       "layout": "IPY_MODEL_35f45cb4168042818dd995da5c749123",
       "style": "IPY_MODEL_39c91a2cccd744c2b064b9037ffb7708",
       "tooltip": "Save edits to file."
      }
     },
     "c18be129f0c2461ba7a0172b560c4b7f": {
      "model_module": "ipytree",
      "model_module_version": "0.2.1",
      "model_name": "NodeModel",
      "state": {
       "_id": "c9b08ba0-f817-4b7f-a387-a2c6758876c8",
       "_model_module_version": "0.2.1",
       "_view_module_version": "0.2.1",
       "icon": "file",
       "name": "levels_detector.cpython-36.pyc"
      }
     },
     "c1df584b9e30498b8de91e559f52d346": {
      "model_module": "ipytree",
      "model_module_version": "0.2.1",
      "model_name": "NodeModel",
      "state": {
       "_id": "b347f556-2d98-4dda-985d-0bbe9107e707",
       "_model_module_version": "0.2.1",
       "_view_module_version": "0.2.1",
       "icon": "file",
       "name": "TrendsHMM.pdf"
      }
     },
     "c202d409e98c4d9b8c0d5204fff21d65": {
      "model_module": "ipytree",
      "model_module_version": "0.2.1",
      "model_name": "NodeModel",
      "state": {
       "_id": "e49681ff-0c5d-4952-a0d5-7a36c5bb46be",
       "_model_module_version": "0.2.1",
       "_view_module_version": "0.2.1",
       "icon": "file",
       "name": "README.md"
      }
     },
     "c23b0f64426d45f9a6196ee40d718969": {
      "model_module": "ipytree",
      "model_module_version": "0.2.1",
      "model_name": "NodeModel",
      "state": {
       "_id": "a080883a-ac8a-422a-9fdc-66a9b42df4d2",
       "_model_module_version": "0.2.1",
       "_view_module_version": "0.2.1",
       "icon": "file",
       "name": "Binance_Futures_vs_Perp.ipynb"
      }
     },
     "c242af8a81594d6e8b53d7441f348355": {
      "model_module": "ipytree",
      "model_module_version": "0.2.1",
      "model_name": "NodeModel",
      "state": {
       "_id": "bf94c7f1-500f-4074-91c0-3d16cbd58390",
       "_model_module_version": "0.2.1",
       "_view_module_version": "0.2.1",
       "icon": "cut",
       "icon_style": "danger",
       "name": "Documents"
      }
     },
     "c295c560878343fe833c49e99b1aaf68": {
      "model_module": "ipytree",
      "model_module_version": "0.2.1",
      "model_name": "NodeModel",
      "state": {
       "_id": "5915ebc1-3203-4730-996e-022c1f6dd896",
       "_model_module_version": "0.2.1",
       "_view_module_version": "0.2.1",
       "icon": "file",
       "name": "volatility_utils.ipynb"
      }
     },
     "c2b48bde16fe47a484324fcc194b3c87": {
      "model_module": "ipytree",
      "model_module_version": "0.2.1",
      "model_name": "NodeModel",
      "state": {
       "_id": "2f042858-b8e1-4fca-b102-f21db793c216",
       "_model_module_version": "0.2.1",
       "_view_module_version": "0.2.1",
       "name": "charting",
       "nodes": [
        "IPY_MODEL_b487786451984165ba0052ec2249f31c",
        "IPY_MODEL_737beba3e23b4f63a570c9725a49f5af",
        "IPY_MODEL_9ab37a56557342b3be4d81ac0005f121"
       ],
       "opened": false
      }
     },
     "c2b69db595f04926b17c8975318c44ea": {
      "model_module": "ipytree",
      "model_module_version": "0.2.1",
      "model_name": "NodeModel",
      "state": {
       "_id": "07857c6e-ccec-4ec9-8086-37aaa3b9b938",
       "_model_module_version": "0.2.1",
       "_view_module_version": "0.2.1",
       "icon": "cut",
       "icon_style": "danger",
       "name": "Documents"
      }
     },
     "c33879559ce640b79bc5c9af2d8d73c2": {
      "model_module": "ipytree",
      "model_module_version": "0.2.1",
      "model_name": "NodeModel",
      "state": {
       "_id": "124db8a3-397a-4025-9f8f-8ee9985d941e",
       "_model_module_version": "0.2.1",
       "_view_module_version": "0.2.1",
       "icon": "file",
       "name": "trading_servers.cpython-36.pyc"
      }
     },
     "c340e2daae3e4fe4bbe7b6e060d3b7cc": {
      "model_module": "@jupyter-widgets/controls",
      "model_module_version": "1.5.0",
      "model_name": "DescriptionStyleModel",
      "state": {
       "description_width": ""
      }
     },
     "c446d9bf00c0400c8c1f18c68c15358c": {
      "model_module": "ipytree",
      "model_module_version": "0.2.1",
      "model_name": "NodeModel",
      "state": {
       "_id": "49a2a480-af92-418f-9dca-d5cfaaf17d0e",
       "_model_module_version": "0.2.1",
       "_view_module_version": "0.2.1",
       "icon": "archive",
       "icon_style": "warning",
       "name": "root"
      }
     },
     "c448def6c4664bad8f53a67ca8abd39d": {
      "model_module": "ipytree",
      "model_module_version": "0.2.1",
      "model_name": "NodeModel",
      "state": {
       "_id": "3e274606-58bd-4391-bf09-42831b71c2a2",
       "_model_module_version": "0.2.1",
       "_view_module_version": "0.2.1",
       "name": "tools",
       "nodes": [
        "IPY_MODEL_f77a2478497d4636a3a39810762df379",
        "IPY_MODEL_c2b48bde16fe47a484324fcc194b3c87",
        "IPY_MODEL_adfb78a7f7c64cbb917e383ecb78d285",
        "IPY_MODEL_9aeb8479bfc64fe0994697ca2c5c334a"
       ]
      }
     },
     "c44fd495a75d4f8689e1534d6c43392a": {
      "model_module": "@jupyter-widgets/controls",
      "model_module_version": "1.5.0",
      "model_name": "DescriptionStyleModel",
      "state": {
       "description_width": ""
      }
     },
     "c492614912624df4a22bf659e0b77b3e": {
      "model_module": "ipytree",
      "model_module_version": "0.2.1",
      "model_name": "NodeModel",
      "state": {
       "_id": "4a15e017-1fe0-4e7e-8b48-7533ed0e1037",
       "_model_module_version": "0.2.1",
       "_view_module_version": "0.2.1",
       "name": "live",
       "nodes": [
        "IPY_MODEL_9ef068ae77ea4844a5195ff02d4a8578",
        "IPY_MODEL_3cb9001c93ea4278a6edf39edd6ed34c"
       ],
       "opened": false
      }
     },
     "c500f46226f041049143eaf55a9178ff": {
      "model_module": "@jupyter-widgets/base",
      "model_module_version": "1.2.0",
      "model_name": "LayoutModel",
      "state": {}
     },
     "c501e09d86734c94a604e391985b21f1": {
      "model_module": "ipytree",
      "model_module_version": "0.2.1",
      "model_name": "NodeModel",
      "state": {
       "_id": "919d5416-95f1-4db9-9495-76ec48aeea11",
       "_model_module_version": "0.2.1",
       "_view_module_version": "0.2.1",
       "name": "chapter-machine-learning-cross-validation",
       "nodes": [
        "IPY_MODEL_3b8591c95f32438cb60ca039f43b84d6"
       ],
       "opened": false
      }
     },
     "c597ec21a0224baa960693b894ea202c": {
      "model_module": "ipytree",
      "model_module_version": "0.2.1",
      "model_name": "NodeModel",
      "state": {
       "_id": "5740cc8b-0862-437a-8352-e8a26801b5bc",
       "_model_module_version": "0.2.1",
       "_view_module_version": "0.2.1",
       "icon": "file",
       "name": "README.md"
      }
     },
     "c5aa415488b14980bd250637b18c7ca0": {
      "model_module": "ipytree",
      "model_module_version": "0.2.1",
      "model_name": "NodeModel",
      "state": {
       "_id": "af752213-8e90-4909-a4e9-1ea5679b8ff3",
       "_model_module_version": "0.2.1",
       "_view_module_version": "0.2.1",
       "icon": "file",
       "name": "orders_pti_models.py"
      }
     },
     "c5cc6ca52daa406b99c4d913b4691db6": {
      "model_module": "ipytree",
      "model_module_version": "0.2.1",
      "model_name": "NodeModel",
      "state": {
       "_id": "201714af-f1dd-4955-9c07-fc2256c965c0",
       "_model_module_version": "0.2.1",
       "_view_module_version": "0.2.1",
       "icon": "file",
       "name": "equities_bonds_60_40_etf_portfolio_backtest.py"
      }
     },
     "c5d90b94fa94410b88c219c17ae53201": {
      "model_module": "ipytree",
      "model_module_version": "0.2.1",
      "model_name": "NodeModel",
      "state": {
       "_id": "0f8ce82d-1a00-43fe-ada4-79e647ba7e2b",
       "_model_module_version": "0.2.1",
       "_view_module_version": "0.2.1",
       "icon": "file",
       "name": "tokens.py"
      }
     },
     "c5f5045174b64951b0c4a406f18a8604": {
      "model_module": "ipytree",
      "model_module_version": "0.2.1",
      "model_name": "NodeModel",
      "state": {
       "_id": "c59349c1-1660-42e0-a88e-588efc351730",
       "_model_module_version": "0.2.1",
       "_view_module_version": "0.2.1",
       "icon": "file",
       "name": "trading_server.py"
      }
     },
     "c6555c9d91e542f58a4a3281f37144fb": {
      "model_module": "ipytree",
      "model_module_version": "0.2.1",
      "model_name": "NodeModel",
      "state": {
       "_id": "bbd398ce-fdce-4adb-ac49-6aa920df00a9",
       "_model_module_version": "0.2.1",
       "_view_module_version": "0.2.1",
       "name": "chapter-trading-strategies-sentdex-sentiment-qstrader",
       "nodes": [
        "IPY_MODEL_3d744c206e3c4b2ca021c8b14169543d",
        "IPY_MODEL_58c9e4c3baa34d6792380d96e761f2a6"
       ],
       "opened": false
      }
     },
     "c67c6558f76a4ccaa4e0e8902d097c87": {
      "model_module": "@jupyter-widgets/controls",
      "model_module_version": "1.5.0",
      "model_name": "TextareaModel",
      "state": {
       "layout": "IPY_MODEL_f811c7e735e9426d85144664bc1908ac",
       "style": "IPY_MODEL_80fc5d1aecd54efd9112b763bb959419"
      }
     },
     "c70145ccab4843beb3a2852899d3a12a": {
      "model_module": "ipytree",
      "model_module_version": "0.2.1",
      "model_name": "NodeModel",
      "state": {
       "_id": "76582bc1-b066-40cd-80c7-ec0b75bdc5b5",
       "_model_module_version": "0.2.1",
       "_view_module_version": "0.2.1",
       "icon": "file",
       "name": "README.md"
      }
     },
     "c704b63c8596459c8ba3be39a67ec17b": {
      "model_module": "@jupyter-widgets/controls",
      "model_module_version": "1.5.0",
      "model_name": "VBoxModel",
      "state": {
       "children": [
        "IPY_MODEL_f134134eac0a4392909768348695de66",
        "IPY_MODEL_2e55f890951243d781cf9c35ebbe4ede"
       ],
       "layout": "IPY_MODEL_9fdc9a05b9a9485e90c4a6f9b22a3e96"
      }
     },
     "c72a0ec5448d403ea6b13f9cac9a4d09": {
      "model_module": "ipytree",
      "model_module_version": "0.2.1",
      "model_name": "NodeModel",
      "state": {
       "_id": "55ba64c1-e847-4754-bab3-3b9f0ba15ef6",
       "_model_module_version": "0.2.1",
       "_view_module_version": "0.2.1",
       "icon": "file",
       "name": "random_walk_white_noise.R"
      }
     },
     "c72e9abd9af64ffd9370e877d365c474": {
      "model_module": "ipytree",
      "model_module_version": "0.2.1",
      "model_name": "NodeModel",
      "state": {
       "_id": "36295361-289c-4abf-a88f-33eef1ecf1c9",
       "_model_module_version": "0.2.1",
       "_view_module_version": "0.2.1",
       "name": "StochCalcs",
       "nodes": [
        "IPY_MODEL_0794aa16813f4c3ea0b019c76a4eee68",
        "IPY_MODEL_0f9e50f24dcf4e7285d9f04c5cf7115f",
        "IPY_MODEL_e0c84fd53ea04c5da6612b62b6782864",
        "IPY_MODEL_fb30a31add65405392b5d6d49737479a",
        "IPY_MODEL_e8bac6750088487993221bf419c33f18",
        "IPY_MODEL_d71f0552fad947b29089fd1ee2be4519",
        "IPY_MODEL_ba3b6e60b7654656b5d42141d2a01ddc",
        "IPY_MODEL_d55f57aaa5314a48a9f9c89f3533aec4",
        "IPY_MODEL_3f838f0013e54eb497fcfd9afce2e9bd",
        "IPY_MODEL_ec93aed20f2443579ed691f508ab4f20",
        "IPY_MODEL_582ba11dcf334510bba973d04eec3431",
        "IPY_MODEL_cecc3ff20c664ce497cfe9c1beaba5aa"
       ],
       "opened": false
      }
     },
     "c731799e4f5f4616b3711b66dbf42df9": {
      "model_module": "ipytree",
      "model_module_version": "0.2.1",
      "model_name": "NodeModel",
      "state": {
       "_id": "e966ea25-a628-4aeb-b231-d76d47f40471",
       "_model_module_version": "0.2.1",
       "_view_module_version": "0.2.1",
       "icon": "file",
       "name": "smart_trade_broker_live_12aug2020.zip"
      }
     },
     "c73ece92a18641248f56e4416a740ee2": {
      "model_module": "ipytree",
      "model_module_version": "0.2.1",
      "model_name": "NodeModel",
      "state": {
       "_id": "af61ca36-5122-4e71-abcb-8de1f4722470",
       "_model_module_version": "0.2.1",
       "_view_module_version": "0.2.1",
       "name": "data",
       "nodes": [
        "IPY_MODEL_36ff18dca2b0464cbc08a9d93e488a6a",
        "IPY_MODEL_6d21e41e1c354ec09790925d3eb1528c",
        "IPY_MODEL_74cca7b9b62f4e2d80b479da933a4cc1"
       ],
       "opened": false
      }
     },
     "c7916149c8154c24a92cef2d25789dd6": {
      "model_module": "ipytree",
      "model_module_version": "0.2.1",
      "model_name": "NodeModel",
      "state": {
       "_id": "ccee89ff-2213-4857-94f2-367d00c73bfc",
       "_model_module_version": "0.2.1",
       "_view_module_version": "0.2.1",
       "icon": "file",
       "name": "GeneralDescription.ipynb"
      }
     },
     "c87623b8cdfe429cb8ccbfa0f39b25c2": {
      "model_module": "ipytree",
      "model_module_version": "0.2.1",
      "model_name": "NodeModel",
      "state": {
       "_id": "ed3398cf-5e72-4af9-87a1-51c9d85e1b96",
       "_model_module_version": "0.2.1",
       "_view_module_version": "0.2.1",
       "icon": "file",
       "name": "required.txt"
      }
     },
     "c8785769a9d84e699f911f13a7c70e97": {
      "model_module": "ipytree",
      "model_module_version": "0.2.1",
      "model_name": "NodeModel",
      "state": {
       "_id": "731ce10a-67c3-44a8-aaf4-5e31a32618ed",
       "_model_module_version": "0.2.1",
       "_view_module_version": "0.2.1",
       "name": "histdata",
       "nodes": [
        "IPY_MODEL_cc136bbfbcd04bd2ba4fa17a598222f4"
       ],
       "opened": false
      }
     },
     "c894bcbcfd704b75a3af058674e5b174": {
      "model_module": "ipytree",
      "model_module_version": "0.2.1",
      "model_name": "NodeModel",
      "state": {
       "_id": "65c4db41-44e2-4d63-8a73-e3b6b7091e0e",
       "_model_module_version": "0.2.1",
       "_view_module_version": "0.2.1",
       "icon": "file",
       "name": "1. Simple Trading Model.ipynb"
      }
     },
     "c9efa3fac24d445f92da54a0b0dc0161": {
      "model_module": "ipytree",
      "model_module_version": "0.2.1",
      "model_name": "NodeModel",
      "state": {
       "_id": "ef87bdd2-3ac3-4ce2-b60a-c6bf0b2a2562",
       "_model_module_version": "0.2.1",
       "_view_module_version": "0.2.1",
       "name": "meanreverting",
       "nodes": [
        "IPY_MODEL_4722128adbd44e9fa0688ec4f357cd41",
        "IPY_MODEL_f1a03ef154f048c38cc9e36353d22e33",
        "IPY_MODEL_e4c67cc247194e0e839b66761778c480"
       ],
       "opened": false
      }
     },
     "ca396a30cb724574b9e2cb3d91594404": {
      "model_module": "ipytree",
      "model_module_version": "0.2.1",
      "model_name": "NodeModel",
      "state": {
       "_id": "67874f1d-da28-41b7-8e1c-a432d3039059",
       "_model_module_version": "0.2.1",
       "_view_module_version": "0.2.1",
       "icon": "file",
       "name": "Orders_2020-11-18.csv"
      }
     },
     "ca488b88993c4dac88eb233fb0e36f8a": {
      "model_module": "ipytree",
      "model_module_version": "0.2.1",
      "model_name": "NodeModel",
      "state": {
       "_id": "162bf403-f1ef-4661-8b71-9bdbe1a488c4",
       "_model_module_version": "0.2.1",
       "_view_module_version": "0.2.1",
       "name": "chapter-trading-strategies-cointegration-strategies",
       "nodes": [
        "IPY_MODEL_0efc812653d2446080df7eaa95d059af",
        "IPY_MODEL_0b82c461fa314034993f94791988278f",
        "IPY_MODEL_1bc7269510cc46d4968e56fab19b08d8"
       ],
       "opened": false
      }
     },
     "ca67aac5fa2c432aad8e1ef8e45d6bdb": {
      "model_module": "ipytree",
      "model_module_version": "0.2.1",
      "model_name": "NodeModel",
      "state": {
       "_id": "ad78346a-4a62-4486-b20b-a5190b87de35",
       "_model_module_version": "0.2.1",
       "_view_module_version": "0.2.1",
       "icon": "warning",
       "icon_style": "success",
       "name": "local"
      }
     },
     "cab67806b58f4cea85eab55dc24481cc": {
      "model_module": "ipytree",
      "model_module_version": "0.2.1",
      "model_name": "NodeModel",
      "state": {
       "_id": "31db50aa-7516-47b8-8ac0-dbec29e30ca2",
       "_model_module_version": "0.2.1",
       "_view_module_version": "0.2.1",
       "icon": "file",
       "name": "__init__.cpython-36.pyc"
      }
     },
     "cad1c6c2f5b04f6ab80f0742a6fb2f46": {
      "model_module": "ipytree",
      "model_module_version": "0.2.1",
      "model_name": "NodeModel",
      "state": {
       "_id": "2a367d11-0622-48ca-9176-c70443c76e2e",
       "_model_module_version": "0.2.1",
       "_view_module_version": "0.2.1",
       "icon": "home",
       "icon_style": "success",
       "name": "home",
       "nodes": [
        "IPY_MODEL_60a76bdb79e3431e9c7483cc8ca77def",
        "IPY_MODEL_c242af8a81594d6e8b53d7441f348355"
       ]
      }
     },
     "cad2914c445d4002b85756f159bff720": {
      "model_module": "ipytree",
      "model_module_version": "0.2.1",
      "model_name": "NodeModel",
      "state": {
       "_id": "f48ae0d3-fbb6-4e84-af76-3201c76c527a",
       "_model_module_version": "0.2.1",
       "_view_module_version": "0.2.1",
       "name": "trends",
       "nodes": [
        "IPY_MODEL_5246958c5ebc43e5804e55ff51d05e05",
        "IPY_MODEL_94d25d7055784217aa0eb3a09bc487c4"
       ],
       "opened": false
      }
     },
     "cada0945197243d9b26255237c7b2051": {
      "model_module": "ipytree",
      "model_module_version": "0.2.1",
      "model_name": "NodeModel",
      "state": {
       "_id": "b791767b-40fe-402b-a05d-2959069e3c03",
       "_model_module_version": "0.2.1",
       "_view_module_version": "0.2.1",
       "name": "time_of_day_trends_fx",
       "nodes": [
        "IPY_MODEL_1ff2afb460ad4edeab87e45aea324347",
        "IPY_MODEL_c894bcbcfd704b75a3af058674e5b174",
        "IPY_MODEL_0b6ac60fe2a44f7392ee40cca7c5d1d5",
        "IPY_MODEL_5632f93539244776a61aee5cc8726599"
       ],
       "opened": false
      }
     },
     "caf4b107456e4fe8a3a530e3838154c6": {
      "model_module": "@jupyter-widgets/base",
      "model_module_version": "1.2.0",
      "model_name": "LayoutModel",
      "state": {}
     },
     "cb0d426dd564406d9879d2dfdf4540f4": {
      "model_module": "ipytree",
      "model_module_version": "0.2.1",
      "model_name": "NodeModel",
      "state": {
       "_id": "e16be57f-d477-4da1-b7f7-84e28ba66e87",
       "_model_module_version": "0.2.1",
       "_view_module_version": "0.2.1",
       "icon": "file",
       "name": "Arctic Storage Tests.ipynb"
      }
     },
     "cb160219952c4e5f9f3355794a9a4eb2": {
      "model_module": "@jupyter-widgets/base",
      "model_module_version": "1.2.0",
      "model_name": "LayoutModel",
      "state": {}
     },
     "cb3f2f9467224764a502da70de84b20e": {
      "model_module": "ipytree",
      "model_module_version": "0.2.1",
      "model_name": "NodeModel",
      "state": {
       "_id": "9e6934bb-31bf-4f12-8bf2-672850f194a9",
       "_model_module_version": "0.2.1",
       "_view_module_version": "0.2.1",
       "icon": "file",
       "name": "sell_orders_fix.txt"
      }
     },
     "cb428dfd41a04c0f93d7d226c58951d3": {
      "model_module": "@jupyter-widgets/controls",
      "model_module_version": "1.5.0",
      "model_name": "HBoxModel",
      "state": {
       "children": [
        "IPY_MODEL_c704b63c8596459c8ba3be39a67ec17b"
       ],
       "layout": "IPY_MODEL_8c1df9e7ae964eb88a6c6388f2f72f9f"
      }
     },
     "cc136bbfbcd04bd2ba4fa17a598222f4": {
      "model_module": "ipytree",
      "model_module_version": "0.2.1",
      "model_name": "NodeModel",
      "state": {
       "_id": "4256721d-0028-43df-a12d-33873616179e",
       "_model_module_version": "0.2.1",
       "_view_module_version": "0.2.1",
       "icon": "file",
       "name": "HistDataDownloader.ipynb"
      }
     },
     "cc23e2f2189e40b3a143b25c00ca8a6e": {
      "model_module": "ipytree",
      "model_module_version": "0.2.1",
      "model_name": "NodeModel",
      "state": {
       "_id": "f5042dc2-2ed6-4aeb-b9e4-5ca0406f774b",
       "_model_module_version": "0.2.1",
       "_view_module_version": "0.2.1",
       "name": "publication",
       "nodes": [
        "IPY_MODEL_14361c5e55aa483388b7b9ed6dd3d913",
        "IPY_MODEL_5bdebe38e2e74c5bbbf5c59e0d2c2b7e",
        "IPY_MODEL_ef20cd46b1794fbc8e9d5f5a47418f38",
        "IPY_MODEL_ddd004d7f79248b29ecc666f2c333757"
       ],
       "opened": false
      }
     },
     "ccd0a0f43f2e4253a2f8dc352703346f": {
      "model_module": "ipytree",
      "model_module_version": "0.2.1",
      "model_name": "NodeModel",
      "state": {
       "_id": "ef8e51b1-7ee8-44a9-85a2-a4bb7d191f81",
       "_model_module_version": "0.2.1",
       "_view_module_version": "0.2.1",
       "icon": "plus",
       "icon_style": "success",
       "name": "File2",
       "opened": false
      }
     },
     "ccd5539f458547b58412c0651d34242b": {
      "model_module": "ipytree",
      "model_module_version": "0.2.1",
      "model_name": "NodeModel",
      "state": {
       "_id": "f93b0a6a-e37d-48ad-948e-cea2cad6fb44",
       "_model_module_version": "0.2.1",
       "_view_module_version": "0.2.1",
       "icon": "file",
       "name": "binance_blended.yml"
      }
     },
     "cd2212eefa89434e9bb5b8ed88741bcd": {
      "model_module": "ipytree",
      "model_module_version": "0.2.1",
      "model_name": "NodeModel",
      "state": {
       "_id": "63061b81-2b19-405c-b68e-687b94b6aa94",
       "_model_module_version": "0.2.1",
       "_view_module_version": "0.2.1",
       "icon": "file",
       "name": "Volatility Modelling.ipynb"
      }
     },
     "cd7831cd3c444ae594b45c6506241b7e": {
      "model_module": "ipytree",
      "model_module_version": "0.2.1",
      "model_name": "NodeModel",
      "state": {
       "_id": "5803be7d-7748-44aa-be36-07306a1712d0",
       "_model_module_version": "0.2.1",
       "_view_module_version": "0.2.1",
       "icon": "file",
       "name": "smart_trade_broker2.csv"
      }
     },
     "cd83d66be4004dcabf9e4bba4e2a43c6": {
      "model_module": "ipytree",
      "model_module_version": "0.2.1",
      "model_name": "NodeModel",
      "state": {
       "_id": "62eafdfb-9d71-4351-bd65-3873f61466f3",
       "_model_module_version": "0.2.1",
       "_view_module_version": "0.2.1",
       "icon": "file",
       "name": "trailings.py"
      }
     },
     "cd94096f6c7848c9bbdbad25fe519258": {
      "model_module": "ipytree",
      "model_module_version": "0.2.1",
      "model_name": "NodeModel",
      "state": {
       "_id": "2dfc56a9-5810-48e1-9152-6eec176ba325",
       "_model_module_version": "0.2.1",
       "_view_module_version": "0.2.1",
       "icon": "file",
       "name": "1. FX Data First Look.ipynb"
      }
     },
     "cd9fdd0113f64ff39f0436fec471f1bb": {
      "model_module": "ipytree",
      "model_module_version": "0.2.1",
      "model_name": "NodeModel",
      "state": {
       "_id": "c9e8fe0a-82e0-4043-b8fc-71e60aa0c2dd",
       "_model_module_version": "0.2.1",
       "_view_module_version": "0.2.1",
       "name": "__pycache__",
       "nodes": [
        "IPY_MODEL_68c0bc7830f44e80acf2be909c2141fa"
       ],
       "opened": false
      }
     },
     "cdbe0695035b4d8dbe1e42a08f4e4b19": {
      "model_module": "ipytree",
      "model_module_version": "0.2.1",
      "model_name": "NodeModel",
      "state": {
       "_id": "3f1fe961-16e9-47c6-aef9-be089e7713b9",
       "_model_module_version": "0.2.1",
       "_view_module_version": "0.2.1",
       "icon": "file",
       "name": "reuters-svm.py"
      }
     },
     "cdd3ae520eae4daeb2b8c64ce49c7c82": {
      "model_module": "ipytree",
      "model_module_version": "0.2.1",
      "model_name": "NodeModel",
      "state": {
       "_id": "195172a3-daa0-4185-8dd8-1598c32c3ca5",
       "_model_module_version": "0.2.1",
       "_view_module_version": "0.2.1",
       "name": "smarttrade",
       "nodes": [
        "IPY_MODEL_3447edb2e0cc4a139b99e67f2efd1412",
        "IPY_MODEL_2c5b6a2cb0614bcba49ff918fc9f0ef4"
       ]
      }
     },
     "cddd20dda8b2443ca861759b4b2569c5": {
      "model_module": "ipytree",
      "model_module_version": "0.2.1",
      "model_name": "NodeModel",
      "state": {
       "_id": "7885e371-7090-4331-8665-bd8e76344e85",
       "_model_module_version": "0.2.1",
       "_view_module_version": "0.2.1",
       "icon": "warning",
       "icon_style": "success",
       "name": "local"
      }
     },
     "ce2288611ea2462fbdb4bbec50603dfb": {
      "model_module": "ipytree",
      "model_module_version": "0.2.1",
      "model_name": "NodeModel",
      "state": {
       "_id": "6db02944-2334-4db0-be30-7f81b4dea768",
       "_model_module_version": "0.2.1",
       "_view_module_version": "0.2.1",
       "icon": "file",
       "name": "utils.py"
      }
     },
     "cecc3ff20c664ce497cfe9c1beaba5aa": {
      "model_module": "ipytree",
      "model_module_version": "0.2.1",
      "model_name": "NodeModel",
      "state": {
       "_id": "1bbed909-3f7b-4f5e-951c-7ba3944f7b28",
       "_model_module_version": "0.2.1",
       "_view_module_version": "0.2.1",
       "icon": "file",
       "name": "ito.pdf"
      }
     },
     "cef565ae0b5f4d44b0ed33ce285bce3c": {
      "model_module": "ipytree",
      "model_module_version": "0.2.1",
      "model_name": "NodeModel",
      "state": {
       "_id": "3b6df272-8523-41af-8c56-3ceddc813406",
       "_model_module_version": "0.2.1",
       "_view_module_version": "0.2.1",
       "icon": "file",
       "name": "Over Weekends Recorded Data tests.ipynb"
      }
     },
     "cf0271856bf847a2871efbe0a3b3fc51": {
      "model_module": "ipytree",
      "model_module_version": "0.2.1",
      "model_name": "NodeModel",
      "state": {
       "_id": "d14c733e-271b-44c8-83d7-d8218c0af88b",
       "_model_module_version": "0.2.1",
       "_view_module_version": "0.2.1",
       "icon": "file",
       "name": "levels_stats.cpython-36.pyc"
      }
     },
     "cf0f5894d8ec4957bf816f51062fb40a": {
      "model_module": "ipytree",
      "model_module_version": "0.2.1",
      "model_name": "NodeModel",
      "state": {
       "_id": "d73b16d9-ca7a-4af2-9255-12bff6463d0d",
       "_model_module_version": "0.2.1",
       "_view_module_version": "0.2.1",
       "icon": "file",
       "name": "jurik_1.pdf"
      }
     },
     "cf575224dfb44d6caf0c4cdafd95f802": {
      "model_module": "ipytree",
      "model_module_version": "0.2.1",
      "model_name": "NodeModel",
      "state": {
       "_id": "d19cf449-6a99-41fe-8668-85ca0c98959f",
       "_model_module_version": "0.2.1",
       "_view_module_version": "0.2.1",
       "icon": "file",
       "name": "Strategies Collection.ipynb"
      }
     },
     "cfd7efaff51149e7a676266e374e201b": {
      "model_module": "ipytree",
      "model_module_version": "0.2.1",
      "model_name": "NodeModel",
      "state": {
       "_id": "e2c9decf-081f-4783-ae8e-4ea9a475b81a",
       "_model_module_version": "0.2.1",
       "_view_module_version": "0.2.1",
       "icon": "file",
       "name": "stats.py"
      }
     },
     "d024ccd9e01b4062b80dbb8a45ec44fb": {
      "model_module": "ipytree",
      "model_module_version": "0.2.1",
      "model_name": "NodeModel",
      "state": {
       "_id": "ba992672-0a46-4ca5-b820-ace93ef0a7ad",
       "_model_module_version": "0.2.1",
       "_view_module_version": "0.2.1",
       "icon": "file",
       "name": "0. Knowledge DB design.ipynb",
       "selected": true
      }
     },
     "d0399568558f485586a4694eb6322783": {
      "model_module": "ipytree",
      "model_module_version": "0.2.1",
      "model_name": "NodeModel",
      "state": {
       "_id": "f856a238-6131-4fb2-a416-363a4473e76f",
       "_model_module_version": "0.2.1",
       "_view_module_version": "0.2.1",
       "icon": "file",
       "name": "utils.py"
      }
     },
     "d045f7923b1a483a8d6fa8be9d7ca587": {
      "model_module": "ipytree",
      "model_module_version": "0.2.1",
      "model_name": "NodeModel",
      "state": {
       "_id": "9aa79a61-b7d9-40d0-893e-c924761d188e",
       "_model_module_version": "0.2.1",
       "_view_module_version": "0.2.1",
       "icon": "file",
       "name": "bayes-linear-reg-sim.py"
      }
     },
     "d061c875308a45c3a6a6d6746356e72b": {
      "model_module": "ipytree",
      "model_module_version": "0.2.1",
      "model_name": "NodeModel",
      "state": {
       "_id": "dfe00fec-7d9a-4e68-a225-a6309b406e22",
       "_model_module_version": "0.2.1",
       "_view_module_version": "0.2.1",
       "icon": "file",
       "name": "booster"
      }
     },
     "d075d37e76434926b903d120b1a6ad76": {
      "model_module": "ipytree",
      "model_module_version": "0.2.1",
      "model_name": "NodeModel",
      "state": {
       "_id": "78c7e933-a246-4cf9-b3bc-dbf950953b88",
       "_model_module_version": "0.2.1",
       "_view_module_version": "0.2.1",
       "icon": "save",
       "icon_style": "info",
       "name": "Desktop",
       "nodes": [
        "IPY_MODEL_9ffe998e4c364cf89c3ad75a041a4939",
        "IPY_MODEL_342df03a42a143cd98c95a462b3887e0"
       ]
      }
     },
     "d11aa241920940b0bf015782c009221c": {
      "model_module": "ipytree",
      "model_module_version": "0.2.1",
      "model_name": "NodeModel",
      "state": {
       "_id": "f4b02601-1e4d-4831-8b58-9bda4dd0982f",
       "_model_module_version": "0.2.1",
       "_view_module_version": "0.2.1",
       "icon": "file",
       "name": "Estimations.ipynb"
      }
     },
     "d133a6fc8a5f41ee8f5ac4565e00275e": {
      "model_module": "ipytree",
      "model_module_version": "0.2.1",
      "model_name": "NodeModel",
      "state": {
       "_id": "00d8b377-ceb8-45d0-9020-a8a0d4e67928",
       "_model_module_version": "0.2.1",
       "_view_module_version": "0.2.1",
       "icon": "file",
       "name": "utils.py"
      }
     },
     "d152ce4dfd4947bab39a385122da9a4e": {
      "model_module": "ipytree",
      "model_module_version": "0.2.1",
      "model_name": "NodeModel",
      "state": {
       "_id": "b39ee578-70eb-44cf-b9b3-4956d88499fe",
       "_model_module_version": "0.2.1",
       "_view_module_version": "0.2.1",
       "icon": "file",
       "name": "utils.py"
      }
     },
     "d1cde431ea1045fdb2d4b6ef39350c9d": {
      "model_module": "ipytree",
      "model_module_version": "0.2.1",
      "model_name": "NodeModel",
      "state": {
       "_id": "f0fc0abe-1144-4240-a0dd-0675cf65b2af",
       "_model_module_version": "0.2.1",
       "_view_module_version": "0.2.1",
       "icon": "file",
       "name": "management.py"
      }
     },
     "d1ebe1d309144858bb83b68a893dba1b": {
      "model_module": "ipytree",
      "model_module_version": "0.2.1",
      "model_name": "NodeModel",
      "state": {
       "_id": "ccf49c89-38b3-4190-bd6c-fbe65198f1a2",
       "_model_module_version": "0.2.1",
       "_view_module_version": "0.2.1",
       "icon": "file",
       "name": "benchmarks.py"
      }
     },
     "d23a1773505a40d89e72ce01afcc1aac": {
      "model_module": "ipytree",
      "model_module_version": "0.2.1",
      "model_name": "NodeModel",
      "state": {
       "_id": "ac9f0184-0250-4240-bf07-f0a8e4a17531",
       "_model_module_version": "0.2.1",
       "_view_module_version": "0.2.1",
       "icon": "file",
       "name": "UserDataLoadersTests.ipynb"
      }
     },
     "d256ef52d91846bca6218aeb7126e04d": {
      "model_module": "ipytree",
      "model_module_version": "0.2.1",
      "model_name": "NodeModel",
      "state": {
       "_id": "47f250fe-0ffa-4815-a11e-eff712b2ea44",
       "_model_module_version": "0.2.1",
       "_view_module_version": "0.2.1",
       "icon": "file",
       "name": "YahooDailyLoader.ipynb"
      }
     },
     "d28e681069ae416cbffcb1468d3fced7": {
      "model_module": "ipytree",
      "model_module_version": "0.2.1",
      "model_name": "NodeModel",
      "state": {
       "_id": "d74dd8aa-8bd0-4a39-9c9e-06409ae6fd3c",
       "_model_module_version": "0.2.1",
       "_view_module_version": "0.2.1",
       "icon": "file",
       "name": "3.1. Turtles Breakout Model.ipynb"
      }
     },
     "d2adee2f385544f0a11aa46adb73aa55": {
      "model_module": "ipytree",
      "model_module_version": "0.2.1",
      "model_name": "NodeModel",
      "state": {
       "_id": "5966ad04-9d6b-4738-8a44-08b56291508c",
       "_model_module_version": "0.2.1",
       "_view_module_version": "0.2.1",
       "icon": "file",
       "name": "FXCM_EURJPY_ticks_links.txt"
      }
     },
     "d2f208be4809432c88f38406138add56": {
      "model_module": "ipytree",
      "model_module_version": "0.2.1",
      "model_name": "NodeModel",
      "state": {
       "_id": "ac0dfb70-3238-4b9f-8b15-b0debd348e72",
       "_model_module_version": "0.2.1",
       "_view_module_version": "0.2.1",
       "icon": "file",
       "name": "QC_model_test.ipynb"
      }
     },
     "d3594af70e454d13948310f5e49fab93": {
      "model_module": "ipytree",
      "model_module_version": "0.2.1",
      "model_name": "NodeModel",
      "state": {
       "_id": "63e8dc76-ec30-4173-8e14-53ad95dcc4f4",
       "_model_module_version": "0.2.1",
       "_view_module_version": "0.2.1",
       "icon": "file",
       "name": "PFL.csv"
      }
     },
     "d394cbd7aa174f6da6299fd9fd07ce3a": {
      "model_module": "ipytree",
      "model_module_version": "0.2.1",
      "model_name": "NodeModel",
      "state": {
       "_id": "e49997a0-92a5-4e4b-a5b2-da14090f8de3",
       "_model_module_version": "0.2.1",
       "_view_module_version": "0.2.1",
       "icon": "file",
       "name": "FXCM_EURUSD_ticks_links.txt"
      }
     },
     "d39d425024c84be18d0117027074b500": {
      "model_module": "ipytree",
      "model_module_version": "0.2.1",
      "model_name": "NodeModel",
      "state": {
       "_id": "06daef19-dbe9-40ce-831d-39ec1b3631b8",
       "_model_module_version": "0.2.1",
       "_view_module_version": "0.2.1",
       "icon": "file",
       "name": "blockchain_data.py"
      }
     },
     "d3b9a47ffc134980b45dc4daea6f0dd9": {
      "model_module": "ipytree",
      "model_module_version": "0.2.1",
      "model_name": "NodeModel",
      "state": {
       "_id": "dd08c3e0-0b69-4e2a-b15b-db9b2263442a",
       "_model_module_version": "0.2.1",
       "_view_module_version": "0.2.1",
       "name": "model",
       "nodes": [
        "IPY_MODEL_466c9d406335428591703b059e564a80",
        "IPY_MODEL_feb274f41b0142aeb06eeeb5c69688c3",
        "IPY_MODEL_0b6e7cd6bf074662a8408506d9e80b55",
        "IPY_MODEL_f8e10e2638be470fa16b485594cd87b1",
        "IPY_MODEL_1ae30c31c7254ee9ac8d9eb05918fcd8"
       ],
       "opened": false
      }
     },
     "d3ce740d5dec479c946214b95874e883": {
      "model_module": "@jupyter-widgets/base",
      "model_module_version": "1.2.0",
      "model_name": "LayoutModel",
      "state": {
       "max_width": "310px"
      }
     },
     "d41cd5c86fbe474d8cddb7e1a5635797": {
      "model_module": "ipytree",
      "model_module_version": "0.2.1",
      "model_name": "NodeModel",
      "state": {
       "_id": "a08ae320-7f53-4cca-9333-65fbc3df12a1",
       "_model_module_version": "0.2.1",
       "_view_module_version": "0.2.1",
       "icon": "file",
       "name": "optimizer.cpython-36.pyc"
      }
     },
     "d45a4ffe65954982b4f01eabe865a3ba": {
      "model_module": "@jupyter-widgets/base",
      "model_module_version": "1.2.0",
      "model_name": "LayoutModel",
      "state": {}
     },
     "d4af2ad852b34059ac540675bc7ebc5e": {
      "model_module": "ipytree",
      "model_module_version": "0.2.1",
      "model_name": "NodeModel",
      "state": {
       "_id": "3690f8bd-5712-429a-a496-43779cb26305",
       "_model_module_version": "0.2.1",
       "_view_module_version": "0.2.1",
       "icon": "file",
       "name": "README.md"
      }
     },
     "d4c8bcfb28ad43d780b65b050ee9f2de": {
      "model_module": "ipytree",
      "model_module_version": "0.2.1",
      "model_name": "NodeModel",
      "state": {
       "_id": "41b03f49-0ca9-4ffc-aae2-9940c12e401e",
       "_model_module_version": "0.2.1",
       "_view_module_version": "0.2.1",
       "icon": "file",
       "name": "arima_garch.R"
      }
     },
     "d4cd248bbe85492d92e362fac41ace14": {
      "model_module": "ipytree",
      "model_module_version": "0.2.1",
      "model_name": "NodeModel",
      "state": {
       "_id": "ec29a5ab-04f6-48fb-9d3e-8901c0a3139e",
       "_model_module_version": "0.2.1",
       "_view_module_version": "0.2.1",
       "name": "servers",
       "nodes": [
        "IPY_MODEL_975e333d1b304477835196b2bbf2dd99",
        "IPY_MODEL_c5f5045174b64951b0c4a406f18a8604",
        "IPY_MODEL_e5a44af936ac49cd8627e0702dc710e6"
       ],
       "opened": false
      }
     },
     "d52049ec3d6d47239bed21e1b12b1c9c": {
      "model_module": "ipytree",
      "model_module_version": "0.2.1",
      "model_name": "NodeModel",
      "state": {
       "_id": "104b16d5-77c5-4030-af8b-afedabc3ee1f",
       "_model_module_version": "0.2.1",
       "_view_module_version": "0.2.1",
       "icon": "file",
       "name": "timeseries.cpython-36.pyc"
      }
     },
     "d53be208724645858e633927f750b098": {
      "model_module": "ipytree",
      "model_module_version": "0.2.1",
      "model_name": "NodeModel",
      "state": {
       "_id": "5616cbe9-9c16-4934-9269-81263c7727c8",
       "_model_module_version": "0.2.1",
       "_view_module_version": "0.2.1",
       "name": "patterns",
       "nodes": [
        "IPY_MODEL_5e6dfe3bfed544ec9d11dfbbacab2d35",
        "IPY_MODEL_f49ca7741f80480a8ab792cf45727b09",
        "IPY_MODEL_4dfdc02339094b3684950da7870b090e",
        "IPY_MODEL_56ce75746a69436d8ecfdec54a38946d",
        "IPY_MODEL_132e8b1d936f40af907ad08f96dfcacc"
       ],
       "opened": false
      }
     },
     "d55354df4f99487baca3c09f24c488a8": {
      "model_module": "ipytree",
      "model_module_version": "0.2.1",
      "model_name": "NodeModel",
      "state": {
       "_id": "cf39324e-b9d2-4bb7-9832-b7bdcf86fe29",
       "_model_module_version": "0.2.1",
       "_view_module_version": "0.2.1",
       "name": "stocks",
       "nodes": [
        "IPY_MODEL_6efcea3061a34f2ca9266e6369870cf2",
        "IPY_MODEL_9183d2d60e2649969a9c8cafeb1eac60",
        "IPY_MODEL_e24e84aed7634a4982d2629410f3a656",
        "IPY_MODEL_7fdaf5c3c87c4df9b215ee806d0b62bd",
        "IPY_MODEL_ecf21636cff2420bb235c113a1e4a36a",
        "IPY_MODEL_9a3d79d319e14505a3976b8b1e77a2d8",
        "IPY_MODEL_a1d8e8415b4740b69f6f09fae0b897ca",
        "IPY_MODEL_ae136ab7e40a4dd982f9be044d4272c4"
       ],
       "opened": false
      }
     },
     "d55f57aaa5314a48a9f9c89f3533aec4": {
      "model_module": "ipytree",
      "model_module_version": "0.2.1",
      "model_name": "NodeModel",
      "state": {
       "_id": "b6d5fc82-b519-4d97-a488-8c0d9c7780e0",
       "_model_module_version": "0.2.1",
       "_view_module_version": "0.2.1",
       "icon": "file",
       "name": "Shirjaev_2_Osnovy_finansovoi_matematiki.djvu"
      }
     },
     "d5abc5672af34dd893fc612aec2f5d62": {
      "model_module": "@jupyter-widgets/controls",
      "model_module_version": "1.5.0",
      "model_name": "DescriptionStyleModel",
      "state": {
       "description_width": ""
      }
     },
     "d5c4253674e74e03abed05f20836a851": {
      "model_module": "ipytree",
      "model_module_version": "0.2.1",
      "model_name": "NodeModel",
      "state": {
       "_id": "727de32c-261c-463a-874a-8ef4e8c57395",
       "_model_module_version": "0.2.1",
       "_view_module_version": "0.2.1",
       "name": "PCAPortf",
       "nodes": [
        "IPY_MODEL_5dafa7cfaa154ddf9a2b5e0885017954",
        "IPY_MODEL_f69e1f3a1eff49c199c028131d53221a"
       ],
       "opened": false
      }
     },
     "d66964dee90f4f00a44d8e936a73058e": {
      "model_module": "ipytree",
      "model_module_version": "0.2.1",
      "model_name": "NodeModel",
      "state": {
       "_id": "68b8c609-9f73-4cda-95b1-3c086aff4ca4",
       "_model_module_version": "0.2.1",
       "_view_module_version": "0.2.1",
       "icon": "file",
       "name": "levels_structs.cpython-36.pyc"
      }
     },
     "d67d7f8705e74327a4975801483eaa85": {
      "model_module": "ipytree",
      "model_module_version": "0.2.1",
      "model_name": "NodeModel",
      "state": {
       "_id": "21d5f3d5-bb83-4ea2-9b20-2d265b4030d9",
       "_model_module_version": "0.2.1",
       "_view_module_version": "0.2.1",
       "icon": "file",
       "name": "5. Position Calculations.ipynb"
      }
     },
     "d68190c037aa4ad58000f2b9414d5020": {
      "model_module": "ipytree",
      "model_module_version": "0.2.1",
      "model_name": "NodeModel",
      "state": {
       "_id": "0a25f5bf-c893-4ba7-bb2c-9eef4c919127",
       "_model_module_version": "0.2.1",
       "_view_module_version": "0.2.1",
       "icon": "file",
       "name": "OptionsMath.ipynb"
      }
     },
     "d6cb5790ecfb4787912d01594d73e634": {
      "model_module": "ipytree",
      "model_module_version": "0.2.1",
      "model_name": "NodeModel",
      "state": {
       "_id": "7650182c-404a-4240-893a-4441f6037893",
       "_model_module_version": "0.2.1",
       "_view_module_version": "0.2.1",
       "icon": "file",
       "name": "__init__.cpython-36.pyc"
      }
     },
     "d6d18369a0154e07ab6dd1092ac166fe": {
      "model_module": "ipytree",
      "model_module_version": "0.2.1",
      "model_name": "NodeModel",
      "state": {
       "_id": "7b60df97-f4e9-4d8c-aba4-31eb5d9a25f5",
       "_model_module_version": "0.2.1",
       "_view_module_version": "0.2.1",
       "name": "Bayes",
       "nodes": [
        "IPY_MODEL_88f2de7208da4c9f9c02c46f39659d23"
       ],
       "opened": false
      }
     },
     "d71558d0791c4dbab317a30910536a85": {
      "model_module": "@jupyter-widgets/base",
      "model_module_version": "1.2.0",
      "model_name": "LayoutModel",
      "state": {}
     },
     "d71f0552fad947b29089fd1ee2be4519": {
      "model_module": "ipytree",
      "model_module_version": "0.2.1",
      "model_name": "NodeModel",
      "state": {
       "_id": "39bf511a-2ad9-42f3-a14e-533ee10bb377",
       "_model_module_version": "0.2.1",
       "_view_module_version": "0.2.1",
       "icon": "file",
       "name": "SSRN-id2506430.pdf"
      }
     },
     "d7641bd461944c188a9a23c1a0690507": {
      "model_module": "@jupyter-widgets/controls",
      "model_module_version": "1.5.0",
      "model_name": "TextModel",
      "state": {
       "layout": "IPY_MODEL_a663b1ad4f1f430b989c985617bf6fb8",
       "placeholder": "Search files/folders...",
       "style": "IPY_MODEL_d5abc5672af34dd893fc612aec2f5d62"
      }
     },
     "d7c9ae02190343f9b6ff048594032032": {
      "model_module": "ipytree",
      "model_module_version": "0.2.1",
      "model_name": "NodeModel",
      "state": {
       "_id": "8bc5b4d1-02d6-41f6-92e0-408375375de6",
       "_model_module_version": "0.2.1",
       "_view_module_version": "0.2.1",
       "icon": "file",
       "name": "grid_strategy_test.py"
      }
     },
     "d7cc0c9f4c20480da7553168b860fb5c": {
      "model_module": "ipytree",
      "model_module_version": "0.2.1",
      "model_name": "NodeModel",
      "state": {
       "_id": "e029f45d-ebd6-4d2a-8b96-38727a4e0c36",
       "_model_module_version": "0.2.1",
       "_view_module_version": "0.2.1",
       "name": "binance",
       "nodes": [
        "IPY_MODEL_daaad892c29c411b995b223f715accc0"
       ],
       "opened": false
      }
     },
     "d83e5597473e456888f7cda59532e0e2": {
      "model_module": "ipytree",
      "model_module_version": "0.2.1",
      "model_name": "NodeModel",
      "state": {
       "_id": "2b725900-df7a-4de6-87bd-3dee00a5c45e",
       "_model_module_version": "0.2.1",
       "_view_module_version": "0.2.1",
       "icon": "file",
       "name": "dsloaders.py"
      }
     },
     "d847b66a5c3141a8921ad7ae3c7389be": {
      "model_module": "ipytree",
      "model_module_version": "0.2.1",
      "model_name": "NodeModel",
      "state": {
       "_id": "fe90ff18-418d-4d80-bb01-7edb3c8eec0a",
       "_model_module_version": "0.2.1",
       "_view_module_version": "0.2.1",
       "icon": "file",
       "name": "trackers_test.py"
      }
     },
     "d90caae32743412080b5dcc4601ac27e": {
      "model_module": "@jupyter-widgets/controls",
      "model_module_version": "1.5.0",
      "model_name": "DescriptionStyleModel",
      "state": {
       "description_width": ""
      }
     },
     "d9702f5ae1b6405c9e7945e0797f439d": {
      "model_module": "ipytree",
      "model_module_version": "0.2.1",
      "model_name": "NodeModel",
      "state": {
       "_id": "b306b2b7-b112-4819-9520-3b7cf00f0fc0",
       "_model_module_version": "0.2.1",
       "_view_module_version": "0.2.1",
       "icon": "file",
       "name": "0. Key Levels Initial.ipynb"
      }
     },
     "d9b812258ac14543ae976121f57b36b0": {
      "model_module": "ipytree",
      "model_module_version": "0.2.1",
      "model_name": "NodeModel",
      "state": {
       "_id": "1a59f593-ff53-4eb1-938e-a43f835087f4",
       "_model_module_version": "0.2.1",
       "_view_module_version": "0.2.1",
       "icon": "file",
       "name": "1.1 FBreak model optimizations.ipynb"
      }
     },
     "da2eae74dab248a8be9e3e02b85560f4": {
      "model_module": "ipytree",
      "model_module_version": "0.2.1",
      "model_name": "NodeModel",
      "state": {
       "_id": "6c1a9053-e5a6-40a6-94d6-09d1877c5478",
       "_model_module_version": "0.2.1",
       "_view_module_version": "0.2.1",
       "icon": "file",
       "name": "mkt_data_snapshot_issue.txt"
      }
     },
     "daaad892c29c411b995b223f715accc0": {
      "model_module": "ipytree",
      "model_module_version": "0.2.1",
      "model_name": "NodeModel",
      "state": {
       "_id": "88cb21e5-386a-4cdd-b329-b855cd118c1d",
       "_model_module_version": "0.2.1",
       "_view_module_version": "0.2.1",
       "icon": "file",
       "name": "Contracts Calculations.ipynb"
      }
     },
     "dab53ad5f0174c0c9a48ad16ba18bcec": {
      "model_module": "ipytree",
      "model_module_version": "0.2.1",
      "model_name": "NodeModel",
      "state": {
       "_id": "b8d4b075-b552-44fb-abba-61494bd361f9",
       "_model_module_version": "0.2.1",
       "_view_module_version": "0.2.1",
       "name": "chapter-bayesian-statistics-linear-regression",
       "nodes": [
        "IPY_MODEL_d045f7923b1a483a8d6fa8be9d7ca587"
       ],
       "opened": false
      }
     },
     "dad558ad7bb9487cbf229df1f1ab8ea7": {
      "model_module": "ipytree",
      "model_module_version": "0.2.1",
      "model_name": "NodeModel",
      "state": {
       "_id": "6d1b63c5-677f-46ed-a1e7-e86a6071909f",
       "_model_module_version": "0.2.1",
       "_view_module_version": "0.2.1",
       "icon": "file",
       "name": "2. Fast Alpha Testing.ipynb"
      }
     },
     "db0823ba4c0646479d0161d7d3df449c": {
      "model_module": "ipytree",
      "model_module_version": "0.2.1",
      "model_name": "NodeModel",
      "state": {
       "_id": "b54f1e25-04f5-40dd-8c33-a08594d738c9",
       "_model_module_version": "0.2.1",
       "_view_module_version": "0.2.1",
       "icon": "file",
       "name": "dsloaders.py"
      }
     },
     "db13e0805797431499a5f9bbd52ce428": {
      "model_module": "ipytree",
      "model_module_version": "0.2.1",
      "model_name": "NodeModel",
      "state": {
       "_id": "e6aa2399-86d7-427b-a5cf-5e951b2e4c9b",
       "_model_module_version": "0.2.1",
       "_view_module_version": "0.2.1",
       "icon": "file",
       "name": "1. RSI2.ipynb"
      }
     },
     "db2d74e652bb4429845f440f10e58f8b": {
      "model_module": "ipytree",
      "model_module_version": "0.2.1",
      "model_name": "NodeModel",
      "state": {
       "_id": "ba8640f5-f611-4be8-95af-a4e2958c11b0",
       "_model_module_version": "0.2.1",
       "_view_module_version": "0.2.1",
       "name": "models",
       "nodes": [
        "IPY_MODEL_64440c93fda34480835b988660ec51b6",
        "IPY_MODEL_468f990e35cd491d87c7f026b5f66150",
        "IPY_MODEL_026b1cf8e17144a6bf0a107671140331",
        "IPY_MODEL_5f62a4af83404785a0d9da7f6417ce0f",
        "IPY_MODEL_98b6d8a831614b13a78aabd027599f68",
        "IPY_MODEL_8a804b1a883d4f91a27dcaf3fb7c80ad",
        "IPY_MODEL_9d451e5fe8684ff1a75e4741a8f60c94",
        "IPY_MODEL_2da54621186840789fa678267bb103e3",
        "IPY_MODEL_e9b583c50b734144bd9ce8c13aa270b3",
        "IPY_MODEL_40b1b63a9fdb40a6945c641706297b51",
        "IPY_MODEL_b4f7f860ef774b1fa6304a346f3c3755",
        "IPY_MODEL_1fc0be8f898b49c8bc4cc313a550a4ee"
       ],
       "opened": false
      }
     },
     "dbd336ccf0ff48bf81f559213fd9e852": {
      "model_module": "ipytree",
      "model_module_version": "0.2.1",
      "model_name": "TreeModel",
      "state": {
       "_model_module_version": "0.2.1",
       "_view_module_version": "0.2.1",
       "layout": "IPY_MODEL_0f3a2ed983ce41979c26764b53989b69",
       "nodes": [
        "IPY_MODEL_23f79e66eadb42779db13f2e43175e86",
        "IPY_MODEL_a83cd44a70da40828abacf9d234d5c08",
        "IPY_MODEL_fd44f3a2acb74c36acfb5a89c4286c6a",
        "IPY_MODEL_cad1c6c2f5b04f6ab80f0742a6fb2f46"
       ],
       "selected_nodes": [
        "IPY_MODEL_041ee022baf94642aaae55d2d4bdf37c"
       ]
      }
     },
     "dbdfa8f275d943caa64e7fc59e9a8849": {
      "model_module": "ipytree",
      "model_module_version": "0.2.1",
      "model_name": "NodeModel",
      "state": {
       "_id": "9e29e76c-2b4c-4b4d-80ca-57fa36b89f3b",
       "_model_module_version": "0.2.1",
       "_view_module_version": "0.2.1",
       "icon": "file",
       "name": "multiproc.cpython-36.pyc"
      }
     },
     "dbe12bc3172046d3a3543e6775bc8a85": {
      "model_module": "ipytree",
      "model_module_version": "0.2.1",
      "model_name": "NodeModel",
      "state": {
       "_id": "baf16d6b-dd82-4eee-8e81-c6aae7a70105",
       "_model_module_version": "0.2.1",
       "_view_module_version": "0.2.1",
       "icon": "file",
       "name": "plot_utils.py"
      }
     },
     "dc1699589f8d4762bcc9761a64ac6495": {
      "model_module": "ipytree",
      "model_module_version": "0.2.1",
      "model_name": "NodeModel",
      "state": {
       "_id": "7332dc74-dbbe-4874-97d2-04a01abd8be6",
       "_model_module_version": "0.2.1",
       "_view_module_version": "0.2.1",
       "icon": "file",
       "name": "operations.py"
      }
     },
     "dc85f5578658448e9fdd25852ca73848": {
      "model_module": "ipytree",
      "model_module_version": "0.2.1",
      "model_name": "NodeModel",
      "state": {
       "_id": "bb32f92b-5787-4705-a56b-d1468c05634b",
       "_model_module_version": "0.2.1",
       "_view_module_version": "0.2.1",
       "icon": "file",
       "name": "1. KAMA MeanRevert.ipynb"
      }
     },
     "dc9ba02020784a77a45ccdd30914d1fb": {
      "model_module": "ipytree",
      "model_module_version": "0.2.1",
      "model_name": "NodeModel",
      "state": {
       "_id": "f9354727-a2e1-422c-8dc3-61a628d0575c",
       "_model_module_version": "0.2.1",
       "_view_module_version": "0.2.1",
       "icon": "file",
       "name": "5. Augmented Bollinger Bands.ipynb"
      }
     },
     "dcb2d27abd7342c6a128ee71b4c54a4c": {
      "model_module": "ipytree",
      "model_module_version": "0.2.1",
      "model_name": "NodeModel",
      "state": {
       "_id": "5b90c7e8-551e-4ae8-8e63-f5612b2a0cb5",
       "_model_module_version": "0.2.1",
       "_view_module_version": "0.2.1",
       "icon": "file",
       "name": "levels_structs.py"
      }
     },
     "dcb636edc2ec46939f78757f47c05783": {
      "model_module": "ipytree",
      "model_module_version": "0.2.1",
      "model_name": "NodeModel",
      "state": {
       "_id": "0da1f19c-b84f-458e-92f3-c5ec879b884e",
       "_model_module_version": "0.2.1",
       "_view_module_version": "0.2.1",
       "name": "data",
       "nodes": [
        "IPY_MODEL_b8206c4831934dd6b31fd834045816ad",
        "IPY_MODEL_2f123a4fcf7f4f1791f0b0dc11279ba2",
        "IPY_MODEL_621c02abf6874ec6a6b0a056b8e0bf98",
        "IPY_MODEL_c0cca5f5b56c44148972c4229d96f3db"
       ],
       "opened": false
      }
     },
     "dcdb1ae102424b8ebd32133c519f7461": {
      "model_module": "@jupyter-widgets/base",
      "model_module_version": "1.2.0",
      "model_name": "LayoutModel",
      "state": {
       "height": "600px",
       "width": "630px"
      }
     },
     "dd3a4fa21b5e454a8d87fcfe0f4681a3": {
      "model_module": "@jupyter-widgets/controls",
      "model_module_version": "1.5.0",
      "model_name": "TextModel",
      "state": {
       "layout": "IPY_MODEL_a33557c8758b4c9e89b4d4073faf5e1e",
       "style": "IPY_MODEL_d90caae32743412080b5dcc4601ac27e"
      }
     },
     "ddd004d7f79248b29ecc666f2c333757": {
      "model_module": "ipytree",
      "model_module_version": "0.2.1",
      "model_name": "NodeModel",
      "state": {
       "_id": "087bc509-0a00-4108-9e5e-3420c44b68fd",
       "_model_module_version": "0.2.1",
       "_view_module_version": "0.2.1",
       "icon": "file",
       "name": "publication.tpl"
      }
     },
     "de2f1fa59b804efe970098e2dcfe5bb3": {
      "model_module": "ipytree",
      "model_module_version": "0.2.1",
      "model_name": "NodeModel",
      "state": {
       "_id": "412db5a4-0ebd-477e-9bda-59c8c90a308b",
       "_model_module_version": "0.2.1",
       "_view_module_version": "0.2.1",
       "name": "breakouts",
       "nodes": [
        "IPY_MODEL_7d0a90cf654444739763bf65a1358e13"
       ]
      }
     },
     "de4f5095fcf4479dbbaea5a29f21caff": {
      "model_module": "ipytree",
      "model_module_version": "0.2.1",
      "model_name": "NodeModel",
      "state": {
       "_id": "b90c2cac-07bc-479f-b4ab-7e838b119a7f",
       "_model_module_version": "0.2.1",
       "_view_module_version": "0.2.1",
       "icon": "file",
       "name": "IWD_holdings.csv"
      }
     },
     "de93264be4c74529bb33422a1aa3d66f": {
      "model_module": "@jupyter-widgets/controls",
      "model_module_version": "1.5.0",
      "model_name": "TextareaModel",
      "state": {
       "layout": "IPY_MODEL_2ba23639844f4f56bc70eb8e73b57fdf",
       "style": "IPY_MODEL_7df099e8c63f421aa412ac11be1d0f01",
       "value": "from ira.utils import java_rest\nfrom ira.utils.java_rest import __javarest_req as jreq\nfrom ira.utils.utils import mstruct, dict2struct\nfrom ira.utils.ui_utils import green, red, yellow\nfrom ira.analysis.portfolio import split_cumulative_pnl\nfrom ira.analysis.tearsheet import tearsheet\nfrom ira.strategies.helpers import permutate_params\nfrom ira.simulator.utils import generate_simulation_identificator\nfrom ira.utils.nb_functions import z_load_sim_portfolio, z_load_sim_executions, z_ls, z_load\n\nfrom IPython.core.display import display, HTML\nimport numpy as np\nimport pandas as pd\nfrom time import sleep\nimport json\nimport requests\nfrom collections import defaultdict\nfrom string import Template\n\n\ndef as_flatten(d, pfx='',sep='__'):\n    \"\"\"\n    Convert nested dictionaries into flatten presentation\n    \"\"\"\n    prfx = lambda p, v: f'{p}{sep}{v}' if p else v\n    r = {}\n    for k, v in d.items():\n        if isinstance(v, dict):\n            r.update(as_flatten(v, prfx(pfx, k), sep))\n        else:\n            r[prfx(pfx, k)] = v\n    return r\n\n\ndef to_nested(flatten_dict, sep='__'):\n    \"\"\"\n    Convert flatten dict to nested\n    \"\"\"\n    def rec_dd():\n        return defaultdict(rec_dd)\n    \n    cfg = rec_dd()\n    for ks, v in flatten_dict.items():\n        keys = ks.split(sep)\n        d = cfg\n        for k in keys[:-1]:\n            d = d[k]\n        d[keys[-1]] = v\n    return cfg\n\n\ndef print_flatten(d, sep='__'):\n    \"\"\"\n    Print config as flatten dictionary (for writing variations)\n    \"\"\"\n    s = ',\\n'.join([f\"  '{k}': [{repr(v)}]\" for k, v in as_flatten(d, sep=sep).items()])\n    print('{\\n' + s + '\\n}')\n    \n\ndef variate_params(original, queries, conditions=None):\n    \"\"\"\n    Variate original parameters by queries\n    \n    parameters = {\n        \"EURUSD\": {\n            \"filter\": {\n                \"type\": \"ADX\",\n                \"params\": {\n                    \"timeframe\": \"1h\",\n                    \"period\": 20,\n                    \"threshold\": 15,\n                    \"smoother\": \"ema\",\n                }\n            },\n        }\n    }\n    \n    variations = variate_params(parameters, {\n        'EURUSD__filter__params__timeframe': ['1H'],\n        'EURUSD__filter__params__period': [10, 20, 24],\n    })\n    \n    \"\"\"\n    source = as_flatten(original)\n    \n    configs = []\n    for query in permutate_params(queries, conditions=conditions):\n        \n        new_cfg = dict(source)\n        desc = ''\n        for k, v in query.items():\n            new_cfg[k] = v\n            desc += f'\\t{k}: {v}\\n'\n            \n        configs.append(mstruct(\n            description=desc,\n            config=to_nested(new_cfg))\n        )\n        \n    return configs\n\n\n\nclass SimulationServer:\n    def __init__(self, host, strategy, basic_params, deposit, \n                 data_source=None, instrument_type=None, timeout=5, port=44777):\n        self.host = f'{host}.appliedalpha.com' if '.com' not in host else host\n        self.basic_params = basic_params \n        self.strategy = strategy\n        self.base_name = strategy.split('.java')[0].split('/')[-1]\n        self.data_source = data_source\n        self.instrument_type = instrument_type\n        self.deposit = deposit\n        self.timeout = timeout\n        self.groups = self.get_simulator_groups()\n        self.port = port\n        self.parameters()\n    \n    def parameters(self):\n        if self.basic_params is not None:\n            print_flatten(self.basic_params)\n    \n\n    def get_simulator_groups(self):\n        r = requests.get(f'http://{self.host}:{self.port}/simulator_groups/get_groups_tree', verify=False, timeout=self.timeout)\n        if r.status_code != 200:\n            raise Exception(f\"Error retrieving group list from server: {r.status_code} / {r.reason}\")\n        return self.grps(json.loads(r.text))\n\n    def grps(self, groups, pfx=''):\n        res = []\n        for c in groups['children']:\n            n_pfx = pfx + '/' + str(c['group_name'])\n            res.append((n_pfx, c['group_id']))\n            res.extend(self.grps(c, n_pfx))\n        return res\n    \n    def find_simulation_group_id(self, path):\n        from pathlib import Path\n        query = str(Path('/Simulations') / path)\n        for n, gid in self.groups:\n            if n == query:\n                return gid\n        return None\n    \n    def _process_basic_params(self, instruments):\n        # TODO: think on it later !!!\n        flt = as_flatten(self.basic_params)\n        final = {}\n        for i in instruments:\n            d0 = {}\n            for k, v in flt.items():\n                if '$instrument' in k: \n                    d0[k.replace('$instrument', i)] = v\n                else:\n                    final[k] = v\n            final.update(d0)\n        return to_nested(final)\n        \n    def simulation(self, parameters, instruments, start, end, group, description='', run=True, salt='S'):\n        \"\"\"\n        Create new simulation and run it.\n        \"\"\"\n        configs = {\n            'dukas': {\n                'datasource_type': \"DATASERVER\", \n                'client_id': \"aa\", \n                'apikey': \"AppliedAlphaDataServerKey\", \n                'source': 'dukas', \n                'ohlcv_builder_source_type': None, \n                'volume_multiplier': 10000\n            },\n\n            'bitmex': {\n                \"datasource_type\": \"DATABANK\",\n                \"apikey\": \"73034021-0EBC-493D-8A00-E0F138111F41\"\n            }\n        }\n        \n        sim_id = salt + generate_simulation_identificator(self.strategy, self.data_source, pd.Timestamp('now'))\n        \n        instruments = instruments if isinstance(instruments, (list, tuple, set)) else [instruments]\n\n        if \"is_simulation\" not in parameters:\n            parameters[\"is_simulation\"] = True\n\n        if not self.strategy.startswith('src/main'):\n            strategy_path = 'src/main/java/%s' % self.strategy\n        else:\n            strategy_path = self.strategy\n\n        if self.data_source in configs:\n            ds = java_rest.get_datasource(**configs[self.data_source])\n        else:\n            raise ValueError(f'unknown datasource {self.data_source} !')\n\n        # parameters can be presented as structure\n        p_args = parameters.to_dict() if isinstance(parameters, mstruct) else parameters \n\n        # handle description templates\n        description = Template(description).substitute({'dates': '%s / %s' % (start, end), 'instruments': ','.join(instruments)})\n\n        group_id = self.find_simulation_group_id(group)\n        if group_id is None:\n            raise Exception(f\"Can't find group '{group}' !\")\n        \n        n_attempts = 5\n        while n_attempts > 0:\n            try:\n                r = java_rest.add_simulation(sim_id, description, ds, start, end, group_id, p_args, strategy_path, instruments,\n                                             self.deposit, broker_commissions=self.data_source, \n                                             instrument_type=self.instrument_type,\n                                             host=self.host, run=run)\n                if r.code == 200:\n                    resp = json.loads(r.response)\n                    print(f\"[{yellow(resp['strategyExecutionId'])}] > {green(resp['state'])}\")\n                else:\n                    resp = json.loads(r.response)\n                    print(f\"[{yellow(sim_id)}] > {red(resp['errorMessage'])} : [{red(resp['errorType'])}]\")\n                n_attempts = 0\n            except e:\n                n_attempts -= 1\n                print(f\"[{red(sim_id)}] > error running simulation: {red(str(e))} try another one ...\")\n                sleep(5)\n\n        return resp\n    \n    def load_simulation_results(self, sim_id, split=False):\n        \"\"\"\n        Load simulation results for given id\n        \"\"\"\n        if '@' not in sim_id and self.base_name:\n            sim_id = f'{sim_id}@{self.base_name}'\n            \n        portfolio = z_load_sim_portfolio(sim_id, host=self.host)\n        executions = z_load_sim_executions(sim_id, host=self.host)\n        logs = z_load(sim_id, dbname='IRA_simulations_user_custom_logs', host=self.host)['data']\n        \n        executions.set_index('creation_time', inplace=True)\n        executions = executions[~np.isnat(executions.index)]\n        \n        if portfolio is not None and split:\n            portfolio = split_cumulative_pnl(portfolio)\n        \n        return mstruct(name=sim_id, \n                       portfolio=portfolio, number_processed_signals=len(executions),\n                       executions=executions, logs=logs)\n        \n    def load_simulation_config(self, sim_id):\n        if '@' not in sim_id and self.base_name:\n            sim_id = f'{sim_id}@{self.base_name}'\n            \n        cfg = z_load(sim_id, dbname='IRA_simulations_configs', host=self.host)['data']\n        if cfg is not None:\n            return cfg.iloc[0].to_dict()\n        raise Exception(f\"Can't find configuration for {sim_id}\")\n        \n    def report(self, sim_id): \n        \"\"\"\n        Display tearsheet report on results\n        \"\"\"\n        cfg = self.load_simulation_config(sim_id)\n        capital = cfg['allocated_total_bp_amount_usd']\n        r = self.load_simulation_results(sim_id)\n        r.description = cfg.get('simulation_description', '') \n        return tearsheet(r, capital)\n    \n    def get_statistics(self, sim_id):\n        r = jreq(f'get_simulation_stats/{sim_id}', host=self.host)\n        if r.code == 200:\n            return dict2struct(json.loads(r.response))\n        return None\n    \n    def ls_simulations(self, query='self', stats=False):\n        \"\"\"\n        List all available simulations for given query\n        \"\"\"\n        if query == 'self' and self.base_name:\n            query = f'.*@{self.base_name}'\n            \n        def _fmt(x, f='.2f'):\n            if isinstance(x, (int, float)):\n                xs = f'%{f}' % x\n                return green(xs) if x >= 0 else red(xs)\n            return x\n        recs = {}\n        sids = sorted(z_ls(query, dbname='IRA_simulations_configs', host=self.host))\n        max_l = max([len(s) for s in sids]) + 1 \n        for s in sids:\n            \n            if stats:\n                print(f\"{yellow(s).ljust(max_l)}\", end='')\n                st = self.get_statistics(s)\n                if st is not None:\n                    recs[s] = st.to_dict()\n                    try:\n                        print(f\": Gain {_fmt(st.net_pnl, '+10.2f')} | sharpe: {_fmt(st.sharpe, '+.2f')} | pf: {st.profit_factor:.2f} | mdd: {st.mdd:.2f} | comm: {st.commissions_total:.2f} | trades: {st.trades_count}\")\n                    except:\n                        print(':' + red(' - wrong data -'))\n                else:\n                    print(':' + red(' - no stats data -'))\n            else:\n                lnk = f\"<a href='https://{self.host}/explore/backtesting/jsimulator/?simid={s.replace('@', '%40')}'><font color='orange'>{s}</font></a>\"\n                display(HTML(lnk))\n        return pd.DataFrame.from_dict(recs, orient='index')\n    \n    def variate(self, rules: dict, instruments, start, stop, group, conditions=None, salt='S'):\n        if not isinstance(rules, dict):\n            raise Exception('rules argument must be a dictionary !')\n            \n        variations = variate_params(self.basic_params, rules, conditions=conditions)\n        for v in variations:\n            self.simulation(v.config, instruments, start, stop, group, v.description, salt=salt)\n            \n    def run(self, sim_id):\n        if '@' not in sim_id and self.base_name:\n            sim_id = f'{sim_id}@{self.base_name}'\n        return java_rest.run_simulation(sim_id, host=self.host) \n    \n    def delete(self, sim_id):\n        if '@' not in sim_id and self.base_name:\n            sim_id = f'{sim_id}@{self.base_name}'\n        return jreq(f'delete_simulation_config?simulation_id={sim_id}', host=self.host)\n        \n        \n        \n        \n"
      }
     },
     "dea246b47c574a9584ae4be8a275daca": {
      "model_module": "ipytree",
      "model_module_version": "0.2.1",
      "model_name": "NodeModel",
      "state": {
       "_id": "d4e518ac-46c2-4f3e-b204-d5db6b5b0727",
       "_model_module_version": "0.2.1",
       "_view_module_version": "0.2.1",
       "icon": "warning",
       "icon_style": "success",
       "name": "local"
      }
     },
     "deadf1ae31c34f2d835017edfdf0a375": {
      "model_module": "ipytree",
      "model_module_version": "0.2.1",
      "model_name": "NodeModel",
      "state": {
       "_id": "bfc0c57b-4895-43ca-9f8d-b2a06aa220e2",
       "_model_module_version": "0.2.1",
       "_view_module_version": "0.2.1",
       "name": "models",
       "nodes": [
        "IPY_MODEL_dcb2d27abd7342c6a128ee71b4c54a4c",
        "IPY_MODEL_ae1755a75c6740d48bed753a5f9c3b60",
        "IPY_MODEL_2ab8898091704b2ea08a0ced5aedae17",
        "IPY_MODEL_7c55b63f7edf4b6ea2330cfa47d3b5e5"
       ],
       "opened": false
      }
     },
     "def9a4c05e9a4e14aa59ed59980ad1a2": {
      "model_module": "ipytree",
      "model_module_version": "0.2.1",
      "model_name": "NodeModel",
      "state": {
       "_id": "fabda5a3-593f-4fb1-98eb-ed1c8d25f1ae",
       "_model_module_version": "0.2.1",
       "_view_module_version": "0.2.1",
       "icon": "file",
       "name": "0. Initial tests.ipynb"
      }
     },
     "defb1929f404413a973dd197725b91bd": {
      "model_module": "ipytree",
      "model_module_version": "0.2.1",
      "model_name": "NodeModel",
      "state": {
       "_id": "fe463058-ac0f-4b4d-bb54-151b54f995e4",
       "_model_module_version": "0.2.1",
       "_view_module_version": "0.2.1",
       "icon": "file",
       "name": "3. Volatility Impact.ipynb"
      }
     },
     "df5a514e1e60440d8e8f43e35651585a": {
      "model_module": "ipytree",
      "model_module_version": "0.2.1",
      "model_name": "NodeModel",
      "state": {
       "_id": "bdfce88f-f994-49b1-8e00-0ea9cd204118",
       "_model_module_version": "0.2.1",
       "_view_module_version": "0.2.1",
       "icon": "file",
       "name": "generators.cpython-36.pyc"
      }
     },
     "e0506eda31064d578288feeaed400253": {
      "model_module": "ipytree",
      "model_module_version": "0.2.1",
      "model_name": "NodeModel",
      "state": {
       "_id": "9035c064-aea6-4f68-a6ef-ae37f1263ffe",
       "_model_module_version": "0.2.1",
       "_view_module_version": "0.2.1",
       "icon": "file",
       "name": "1. __DEPRECATED__ Key Levels detector (first version).ipynb"
      }
     },
     "e0619b9cf821451ea49f96044c50427f": {
      "model_module": "ipytree",
      "model_module_version": "0.2.1",
      "model_name": "NodeModel",
      "state": {
       "_id": "6be60010-70f4-4c11-b355-0eaa512bc57e",
       "_model_module_version": "0.2.1",
       "_view_module_version": "0.2.1",
       "icon": "file",
       "name": "structs.cpython-36.pyc"
      }
     },
     "e067ed9bff034024b01ba15bdb38f35d": {
      "model_module": "ipytree",
      "model_module_version": "0.2.1",
      "model_name": "NodeModel",
      "state": {
       "_id": "31a7d304-aa80-4e26-ae04-8821db363f46",
       "_model_module_version": "0.2.1",
       "_view_module_version": "0.2.1",
       "name": "grid",
       "nodes": [
        "IPY_MODEL_bda5c712eeb34d5097d1e36e96b7c9a0",
        "IPY_MODEL_32f4d1af3d124b3293a2f766764479e4"
       ],
       "opened": false
      }
     },
     "e0905c778f624732b86e0748ff227a91": {
      "model_module": "ipytree",
      "model_module_version": "0.2.1",
      "model_name": "NodeModel",
      "state": {
       "_id": "07ecc697-61e0-4a6c-8edc-b5ed7a29a0a8",
       "_model_module_version": "0.2.1",
       "_view_module_version": "0.2.1",
       "icon": "cut",
       "icon_style": "danger",
       "name": "Documents"
      }
     },
     "e098a1aeb15b4fbf98872547103e7ef0": {
      "model_module": "ipytree",
      "model_module_version": "0.2.1",
      "model_name": "NodeModel",
      "state": {
       "_id": "2037df71-40e1-4187-baa1-5880d7dca7d1",
       "_model_module_version": "0.2.1",
       "_view_module_version": "0.2.1",
       "icon": "file",
       "name": "2. Swing Indicator.ipynb"
      }
     },
     "e0c84fd53ea04c5da6612b62b6782864": {
      "model_module": "ipytree",
      "model_module_version": "0.2.1",
      "model_name": "NodeModel",
      "state": {
       "_id": "e3c9067f-f900-4007-9d47-b656c18a01f6",
       "_model_module_version": "0.2.1",
       "_view_module_version": "0.2.1",
       "icon": "file",
       "name": "Bernt_Oksendal_Stochastic_Differential_Equati.pdf"
      }
     },
     "e0d7b8f7475b46af9da5920ba903ad9c": {
      "model_module": "ipytree",
      "model_module_version": "0.2.1",
      "model_name": "NodeModel",
      "state": {
       "_id": "fc275457-fecf-459a-9b44-0e3cabb77241",
       "_model_module_version": "0.2.1",
       "_view_module_version": "0.2.1",
       "icon": "file",
       "name": "drawdown.py"
      }
     },
     "e1283077e7464a24864d6bd3336039ff": {
      "model_module": "ipytree",
      "model_module_version": "0.2.1",
      "model_name": "NodeModel",
      "state": {
       "_id": "273e2499-2a96-4d76-96a0-1724444a17c4",
       "_model_module_version": "0.2.1",
       "_view_module_version": "0.2.1",
       "icon": "warning",
       "icon_style": "success",
       "name": "local"
      }
     },
     "e164bde1f1d34f1997c0740dcdffd931": {
      "model_module": "ipytree",
      "model_module_version": "0.2.1",
      "model_name": "NodeModel",
      "state": {
       "_id": "4b3cc86b-aa37-4a1d-ac0c-107e1c9d584f",
       "_model_module_version": "0.2.1",
       "_view_module_version": "0.2.1",
       "name": "triangular",
       "nodes": [
        "IPY_MODEL_8e471edf2e924cb9a983aa94502ca4ab",
        "IPY_MODEL_53b11a60907748fab1b5029a82bd2654",
        "IPY_MODEL_59b706c01b37413c80c13632b623eb79",
        "IPY_MODEL_b6c78eb4c4044991833707d5f25c4462",
        "IPY_MODEL_f13e9e7bb57a40199832892968232580",
        "IPY_MODEL_dbe12bc3172046d3a3543e6775bc8a85",
        "IPY_MODEL_d0399568558f485586a4694eb6322783"
       ],
       "opened": false
      }
     },
     "e194b2012f7241bb94b9227a619f3df4": {
      "model_module": "ipytree",
      "model_module_version": "0.2.1",
      "model_name": "NodeModel",
      "state": {
       "_id": "2fb4224e-c095-454d-9b3a-e8ce6770960e",
       "_model_module_version": "0.2.1",
       "_view_module_version": "0.2.1",
       "icon": "file",
       "name": "symbols.txt"
      }
     },
     "e1daae0b7dd049b1a0e8494d8fcc6afa": {
      "model_module": "ipytree",
      "model_module_version": "0.2.1",
      "model_name": "NodeModel",
      "state": {
       "_id": "e4a9a7b3-a3f9-47e9-80ca-f2eb15f80d05",
       "_model_module_version": "0.2.1",
       "_view_module_version": "0.2.1",
       "icon": "file",
       "name": "find_high_low_points.py"
      }
     },
     "e1ddcbc5286a4dd5bf38b0c641bb1a7a": {
      "model_module": "ipytree",
      "model_module_version": "0.2.1",
      "model_name": "NodeModel",
      "state": {
       "_id": "1c26356d-0f5d-4766-8f2b-89c5aea413b8",
       "_model_module_version": "0.2.1",
       "_view_module_version": "0.2.1",
       "icon": "file",
       "name": "publicator.py"
      }
     },
     "e24e84aed7634a4982d2629410f3a656": {
      "model_module": "ipytree",
      "model_module_version": "0.2.1",
      "model_name": "NodeModel",
      "state": {
       "_id": "42807d22-d2f2-441f-9ec5-65dbf285c5b0",
       "_model_module_version": "0.2.1",
       "_view_module_version": "0.2.1",
       "icon": "file",
       "name": "MorningBracketBreakout.ipynb"
      }
     },
     "e254c122291d497fa610fcbcd6289222": {
      "model_module": "ipytree",
      "model_module_version": "0.2.1",
      "model_name": "NodeModel",
      "state": {
       "_id": "22825949-3588-49c2-a015-527b37ac699c",
       "_model_module_version": "0.2.1",
       "_view_module_version": "0.2.1",
       "icon": "file",
       "name": "aat-ebook-20170201.pdf"
      }
     },
     "e291b32fb84f4849b1cd8c0fb2904863": {
      "model_module": "ipytree",
      "model_module_version": "0.2.1",
      "model_name": "NodeModel",
      "state": {
       "_id": "023681ca-9e55-4761-bda2-aeabf6fbd6a9",
       "_model_module_version": "0.2.1",
       "_view_module_version": "0.2.1",
       "name": "sentiments",
       "nodes": [
        "IPY_MODEL_cd94096f6c7848c9bbdbad25fe519258",
        "IPY_MODEL_bc09b00f0a0e42299f0506ee4e289204",
        "IPY_MODEL_635f424e090446448fb7b5d96434c93b",
        "IPY_MODEL_2cca9c8a640c472390a760c1333ceb19",
        "IPY_MODEL_21541e2fb3be4b6381d9a6779604d30f",
        "IPY_MODEL_eecee34257f545ec88efda8f855e3d56",
        "IPY_MODEL_4f7d51d552f246d581854a4f83ddd789",
        "IPY_MODEL_6190289f988144c0b4d42dcbb638f3e0",
        "IPY_MODEL_7243fa0d9173407e9557b9e4aed8467e",
        "IPY_MODEL_4e7f4335c4964c108b88f70cf6a46d83",
        "IPY_MODEL_f2b4b80f424c4c0a86c93f96d89e7fc6"
       ],
       "opened": false
      }
     },
     "e2ff467e86cb4d76be9abb693e5aa3c9": {
      "model_module": "ipytree",
      "model_module_version": "0.2.1",
      "model_name": "NodeModel",
      "state": {
       "_id": "7a5ad5b5-2e3d-46dc-8490-1e6adc6264a6",
       "_model_module_version": "0.2.1",
       "_view_module_version": "0.2.1",
       "icon": "file",
       "name": "WFT_template.json"
      }
     },
     "e34f1810d091438ca2ced3bd3519f8f4": {
      "model_module": "ipytree",
      "model_module_version": "0.2.1",
      "model_name": "NodeModel",
      "state": {
       "_id": "7e785855-2380-4762-a104-3dff9fcb70f7",
       "_model_module_version": "0.2.1",
       "_view_module_version": "0.2.1",
       "name": "Quant",
       "nodes": [
        "IPY_MODEL_8bdc341ef029439eba7e0442a780babf",
        "IPY_MODEL_7cc32def184443c09fd4d4ac143abb7d",
        "IPY_MODEL_484422906ce64c5f81d968c3bd455767",
        "IPY_MODEL_899757c5590e4466b2114b00835f7680",
        "IPY_MODEL_d5c4253674e74e03abed05f20836a851",
        "IPY_MODEL_756acfd16dc14be09edfba2fcf1020d9",
        "IPY_MODEL_06501cd4c8fc45109cd960d2ec410e4f",
        "IPY_MODEL_f48ce067ed394783876b73d27d78ea5c",
        "IPY_MODEL_988a1f765dec448f98993ed43d31f65f",
        "IPY_MODEL_93a8e6e47940418a82d97439e357824d",
        "IPY_MODEL_2fe23172988a4551a43172ad6c2d2b79",
        "IPY_MODEL_d53be208724645858e633927f750b098"
       ],
       "opened": false
      }
     },
     "e3539cfd0c194fccb6613eb89f3333f5": {
      "model_module": "ipytree",
      "model_module_version": "0.2.1",
      "model_name": "NodeModel",
      "state": {
       "_id": "389c3b7a-1518-4f60-a562-39f695eae6ce",
       "_model_module_version": "0.2.1",
       "_view_module_version": "0.2.1",
       "icon": "file",
       "name": "binance - python data download api .ipynb"
      }
     },
     "e3ac082eeb4349cbaa90c69ae9f05174": {
      "model_module": "ipytree",
      "model_module_version": "0.2.1",
      "model_name": "NodeModel",
      "state": {
       "_id": "4b8bba0d-44e1-4527-98e8-5f7abd7b89df",
       "_model_module_version": "0.2.1",
       "_view_module_version": "0.2.1",
       "icon": "save",
       "icon_style": "info",
       "name": "Desktop",
       "nodes": [
        "IPY_MODEL_b13021b18a7642d195b5959f1e67b0cf",
        "IPY_MODEL_83fd29d5832c46988c333e43b16778cd"
       ]
      }
     },
     "e3ed9a9be9a24abf81eea177b7db3817": {
      "model_module": "ipytree",
      "model_module_version": "0.2.1",
      "model_name": "NodeModel",
      "state": {
       "_id": "b56e4b54-dc0a-4267-be60-6845a68d6860",
       "_model_module_version": "0.2.1",
       "_view_module_version": "0.2.1",
       "name": "__pycache__",
       "nodes": [
        "IPY_MODEL_10ccc6d45e1b4c9f99f3e1008676b8c0",
        "IPY_MODEL_09d86643bb294bc0911506bd493dfa0f",
        "IPY_MODEL_ea5f409759904ee78c5147cf661631ce"
       ],
       "opened": false
      }
     },
     "e46cc5ee2f934478b5afe0fcb52ab6f5": {
      "model_module": "ipytree",
      "model_module_version": "0.2.1",
      "model_name": "NodeModel",
      "state": {
       "_id": "12911dc5-acb6-4592-a9b0-8c24b9a8d193",
       "_model_module_version": "0.2.1",
       "_view_module_version": "0.2.1",
       "name": "probabilistic_ema",
       "nodes": [
        "IPY_MODEL_bb1cdf871f3142109c4579fad83d2654",
        "IPY_MODEL_9685e1625b0d4fa89d47447d83f0b0b2",
        "IPY_MODEL_3337d33a0abe4267b4abbd19a2c1237b",
        "IPY_MODEL_8ed558586cf2442896f704ee219a6e37"
       ],
       "opened": false
      }
     },
     "e485930051ab412580e80e25c689f358": {
      "model_module": "ipytree",
      "model_module_version": "0.2.1",
      "model_name": "NodeModel",
      "state": {
       "_id": "23820985-6974-4616-b290-bd82fa94dfd3",
       "_model_module_version": "0.2.1",
       "_view_module_version": "0.2.1",
       "icon": "file",
       "name": "LevelsStatistics.ipynb"
      }
     },
     "e4bf88e7ffc648f0812be2360cd4ab17": {
      "model_module": "ipytree",
      "model_module_version": "0.2.1",
      "model_name": "TreeModel",
      "state": {
       "_model_module_version": "0.2.1",
       "_view_module_version": "0.2.1",
       "layout": "IPY_MODEL_c112ca63ef5544d5901883930f9e148c",
       "nodes": [
        "IPY_MODEL_af1b93fbe33742e7b806033c6dc2cc9c",
        "IPY_MODEL_0135f22dd79c4a32afc6c52fa661574b",
        "IPY_MODEL_06a1719d45b740eca9f32ebb326d96cb",
        "IPY_MODEL_58758e3030bf44f1beddd7b367affda6"
       ],
       "selected_nodes": [
        "IPY_MODEL_b13021b18a7642d195b5959f1e67b0cf"
       ]
      }
     },
     "e4c67cc247194e0e839b66761778c480": {
      "model_module": "ipytree",
      "model_module_version": "0.2.1",
      "model_name": "NodeModel",
      "state": {
       "_id": "2de4980c-e2aa-4ade-a55a-da8accf4c34b",
       "_model_module_version": "0.2.1",
       "_view_module_version": "0.2.1",
       "icon": "file",
       "name": "data_export.txt.gz"
      }
     },
     "e4d85e569b384c2ea5c7ee7c21a0c3c5": {
      "model_module": "ipytree",
      "model_module_version": "0.2.1",
      "model_name": "NodeModel",
      "state": {
       "_id": "5a6c006a-8d87-440d-9cb2-45dc745edf2d",
       "_model_module_version": "0.2.1",
       "_view_module_version": "0.2.1",
       "icon": "file",
       "name": "Tick Data Parser.ipynb"
      }
     },
     "e4e180dbe6414b98b149d9e1532648ec": {
      "model_module": "ipytree",
      "model_module_version": "0.2.1",
      "model_name": "NodeModel",
      "state": {
       "_id": "d2f0a6e8-20c7-414f-adb0-2c8f7bad0dab",
       "_model_module_version": "0.2.1",
       "_view_module_version": "0.2.1",
       "icon": "file",
       "name": "EURUSD.csv"
      }
     },
     "e4e1cfc9732a43889f13dc9165cdd119": {
      "model_module": "ipytree",
      "model_module_version": "0.2.1",
      "model_name": "NodeModel",
      "state": {
       "_id": "564b3c80-05e9-41c6-afc8-50eb3dc4f2af",
       "_model_module_version": "0.2.1",
       "_view_module_version": "0.2.1",
       "icon": "file",
       "name": "pickers.cpython-36.pyc"
      }
     },
     "e4ecf38be7694a51860289244cf5049f": {
      "model_module": "ipytree",
      "model_module_version": "0.2.1",
      "model_name": "NodeModel",
      "state": {
       "_id": "793cf139-09e9-4288-b1e9-c6e19c291ff0",
       "_model_module_version": "0.2.1",
       "_view_module_version": "0.2.1",
       "name": "Utils",
       "nodes": [
        "IPY_MODEL_3e831ec8fc314f9385e0303020090b65",
        "IPY_MODEL_2b3be589ed40456fb545e028b7d77810"
       ],
       "opened": false
      }
     },
     "e50af391c74143d5b1b763ba6dcaf173": {
      "model_module": "ipytree",
      "model_module_version": "0.2.1",
      "model_name": "NodeModel",
      "state": {
       "_id": "54922179-9b96-426a-b1f5-143d8c15207e",
       "_model_module_version": "0.2.1",
       "_view_module_version": "0.2.1",
       "name": "models",
       "nodes": [
        "IPY_MODEL_3b57c4c73a164c589a42b9a3bdaf69c1",
        "IPY_MODEL_c5aa415488b14980bd250637b18c7ca0",
        "IPY_MODEL_015fa36ed4f3482bb2ca72269b0bd147",
        "IPY_MODEL_63cb2e9da5ca453b83c0dc3f0c935d68"
       ],
       "opened": false
      }
     },
     "e553da02e504410293a9091fc49b7514": {
      "model_module": "@jupyter-widgets/controls",
      "model_module_version": "1.5.0",
      "model_name": "TextModel",
      "state": {
       "layout": "IPY_MODEL_953b332345d24b7487845e326dac498c",
       "style": "IPY_MODEL_1a2cb729ae0849cb9ec181311136de6c",
       "value": "/home/quant1/projects/alpha/servers/simulator.py"
      }
     },
     "e55cc3e2fc464d74879543f6b12585b5": {
      "model_module": "ipytree",
      "model_module_version": "0.2.1",
      "model_name": "NodeModel",
      "state": {
       "_id": "14f0f09c-63c2-4445-9854-fe8477021808",
       "_model_module_version": "0.2.1",
       "_view_module_version": "0.2.1",
       "icon": "file",
       "name": "regime_hmm_strategy.py"
      }
     },
     "e5a44af936ac49cd8627e0702dc710e6": {
      "model_module": "ipytree",
      "model_module_version": "0.2.1",
      "model_name": "NodeModel",
      "state": {
       "_id": "9201d2db-0138-4245-a770-a0e95a81eb3d",
       "_model_module_version": "0.2.1",
       "_view_module_version": "0.2.1",
       "name": "__pycache__",
       "nodes": [
        "IPY_MODEL_856e0c9247ce405b8cb629628fff5a69"
       ],
       "opened": false
      }
     },
     "e610f6a2c2254e2e88145c82866217d3": {
      "model_module": "ipytree",
      "model_module_version": "0.2.1",
      "model_name": "NodeModel",
      "state": {
       "_id": "4d43706c-3fb9-4ded-ac17-ff37b2ce2073",
       "_model_module_version": "0.2.1",
       "_view_module_version": "0.2.1",
       "icon": "file",
       "name": "mfp_orders_test.ipynb"
      }
     },
     "e61f584656104d979ecef7322f6e9db6": {
      "model_module": "@jupyter-widgets/controls",
      "model_module_version": "1.5.0",
      "model_name": "VBoxModel",
      "state": {
       "children": [
        "IPY_MODEL_bbe0773db1f54eea889e5180d1eda3ee",
        "IPY_MODEL_de93264be4c74529bb33422a1aa3d66f"
       ],
       "layout": "IPY_MODEL_d45a4ffe65954982b4f01eabe865a3ba"
      }
     },
     "e691c9e7987242d3af9c7bd629182337": {
      "model_module": "ipytree",
      "model_module_version": "0.2.1",
      "model_name": "NodeModel",
      "state": {
       "_id": "2cd8ba4e-ae1b-4ad8-84e4-3b57eb634922",
       "_model_module_version": "0.2.1",
       "_view_module_version": "0.2.1",
       "icon": "file",
       "name": "custom.css"
      }
     },
     "e69fb36fdce84e4bb717284bb21edcd8": {
      "model_module": "ipytree",
      "model_module_version": "0.2.1",
      "model_name": "NodeModel",
      "state": {
       "_id": "6ad0614c-8dcb-42bf-87e3-a6a16406665d",
       "_model_module_version": "0.2.1",
       "_view_module_version": "0.2.1",
       "icon": "file",
       "name": "data_stats_utils.py"
      }
     },
     "e6a70c062993424bbb3c3a00f013a844": {
      "model_module": "ipytree",
      "model_module_version": "0.2.1",
      "model_name": "NodeModel",
      "state": {
       "_id": "32e0e23c-b099-4fb9-9d43-5f66af81a895",
       "_model_module_version": "0.2.1",
       "_view_module_version": "0.2.1",
       "icon": "file",
       "name": "market_data_gbp_usd.txt"
      }
     },
     "e6b7f0a42ac541c0a3a321fe197336ef": {
      "model_module": "ipytree",
      "model_module_version": "0.2.1",
      "model_name": "NodeModel",
      "state": {
       "_id": "90d3ddb1-1dd7-451b-a07e-245b056248f9",
       "_model_module_version": "0.2.1",
       "_view_module_version": "0.2.1",
       "icon": "file",
       "name": "Hull, J. - Options, Futures, and Other Derivatives - 2014 - 9th Ed.pdf"
      }
     },
     "e70324c6b2ba46268fc2f144888830f5": {
      "model_module": "ipytree",
      "model_module_version": "0.2.1",
      "model_name": "NodeModel",
      "state": {
       "_id": "7d7d5fbd-9ae6-4138-9128-575598afcd5c",
       "_model_module_version": "0.2.1",
       "_view_module_version": "0.2.1",
       "icon": "file",
       "name": "dbkda_2013_3_10_30009.pdf"
      }
     },
     "e728512bcfef4ccaa90e5ae318a34938": {
      "model_module": "ipytree",
      "model_module_version": "0.2.1",
      "model_name": "NodeModel",
      "state": {
       "_id": "42d00a27-e3d1-40c3-8866-de4eb0a8764a",
       "_model_module_version": "0.2.1",
       "_view_module_version": "0.2.1",
       "name": "__pycache__",
       "nodes": [
        "IPY_MODEL_6b9e1ae128294bcdbf4adff860d2ed1c",
        "IPY_MODEL_9c7e5aec2f024d7aa0f2a3cd0522d515",
        "IPY_MODEL_e7ea7d708c9141d1b80f8ae27a698373"
       ],
       "opened": false
      }
     },
     "e753f159e6c747f0b9a6d52516b3bad8": {
      "model_module": "ipytree",
      "model_module_version": "0.2.1",
      "model_name": "NodeModel",
      "state": {
       "_id": "50e3f1ef-d853-4f75-aafe-1063db70b27a",
       "_model_module_version": "0.2.1",
       "_view_module_version": "0.2.1",
       "icon": "file",
       "name": "levels_utils.cpython-36.pyc"
      }
     },
     "e75fe51c9cfa46638b7779d940486ac6": {
      "model_module": "ipytree",
      "model_module_version": "0.2.1",
      "model_name": "NodeModel",
      "state": {
       "_id": "c5999a37-2b95-43d5-9da9-cc1ae681fec0",
       "_model_module_version": "0.2.1",
       "_view_module_version": "0.2.1",
       "icon": "file",
       "name": "ES.csv.gz"
      }
     },
     "e7d0a68e52ef4843a37dbc9b68a5b057": {
      "model_module": "ipytree",
      "model_module_version": "0.2.1",
      "model_name": "NodeModel",
      "state": {
       "_id": "516a2dab-44f2-4cce-b11d-accd08b45480",
       "_model_module_version": "0.2.1",
       "_view_module_version": "0.2.1",
       "icon": "file",
       "name": "FXCM_GBPUSD_links.txt"
      }
     },
     "e7ea7d708c9141d1b80f8ae27a698373": {
      "model_module": "ipytree",
      "model_module_version": "0.2.1",
      "model_name": "NodeModel",
      "state": {
       "_id": "881862ff-2087-482e-9609-7ad7bbf91bac",
       "_model_module_version": "0.2.1",
       "_view_module_version": "0.2.1",
       "icon": "file",
       "name": "trailings.cpython-36.pyc"
      }
     },
     "e7fd3ea3b23d43a0976d2aff61dd5ce9": {
      "model_module": "ipytree",
      "model_module_version": "0.2.1",
      "model_name": "NodeModel",
      "state": {
       "_id": "35e0aae5-f47d-4ede-9e23-d725ef5a9e3e",
       "_model_module_version": "0.2.1",
       "_view_module_version": "0.2.1",
       "name": "skb",
       "nodes": [
        "IPY_MODEL_0011afc0378d4fd9a733234ae3935843",
        "IPY_MODEL_6be23c47661d4641857584c420dc23c5",
        "IPY_MODEL_7319877489b24783b99852bfd699860d",
        "IPY_MODEL_9eb568119f3e4632831bb5c123e3763c",
        "IPY_MODEL_e8c31f399c0440dfafbe9ac5a1328d49",
        "IPY_MODEL_94fe44ff4a4e45b2849749271e3c7302",
        "IPY_MODEL_92ac906d57ab4f3f95944e51acd8941a"
       ],
       "opened": false
      }
     },
     "e85b0ed4d4f740fc9c2f6a20077b7fa4": {
      "model_module": "ipytree",
      "model_module_version": "0.2.1",
      "model_name": "NodeModel",
      "state": {
       "_id": "d6b89f82-64b1-4d3e-96d5-89720656057e",
       "_model_module_version": "0.2.1",
       "_view_module_version": "0.2.1",
       "icon": "file",
       "name": "history.html.gz"
      }
     },
     "e85ffd33b5814aeab3334071200c456c": {
      "model_module": "@jupyter-widgets/base",
      "model_module_version": "1.2.0",
      "model_name": "LayoutModel",
      "state": {}
     },
     "e86007b763a34f98b023953698e5c91e": {
      "model_module": "ipytree",
      "model_module_version": "0.2.1",
      "model_name": "NodeModel",
      "state": {
       "_id": "738ae6b6-a869-4389-b107-f702704cca4c",
       "_model_module_version": "0.2.1",
       "_view_module_version": "0.2.1",
       "name": "test",
       "nodes": [
        "IPY_MODEL_9c65dd6462da418783721a6d020b4cd2",
        "IPY_MODEL_b1fa98e4c7d2474793e9250d442b7be9",
        "IPY_MODEL_f6a5e715c1fd47b5bb4ac1227cb6777f"
       ],
       "opened": false
      }
     },
     "e8bac6750088487993221bf419c33f18": {
      "model_module": "ipytree",
      "model_module_version": "0.2.1",
      "model_name": "NodeModel",
      "state": {
       "_id": "83fdf576-a4d9-4084-8624-46d2c279159a",
       "_model_module_version": "0.2.1",
       "_view_module_version": "0.2.1",
       "icon": "file",
       "name": "Gregory_Lawler_Introduction_to_stochastic_pro.djvu"
      }
     },
     "e8c1e4d3bd5448838e2159e049837b4f": {
      "model_module": "ipytree",
      "model_module_version": "0.2.1",
      "model_name": "NodeModel",
      "state": {
       "_id": "2b0b569a-f8c8-4c8b-8e02-ecb114c9e4f2",
       "_model_module_version": "0.2.1",
       "_view_module_version": "0.2.1",
       "icon": "file",
       "name": "1.0 Optimization (15Min).ipynb"
      }
     },
     "e8c31f399c0440dfafbe9ac5a1328d49": {
      "model_module": "ipytree",
      "model_module_version": "0.2.1",
      "model_name": "NodeModel",
      "state": {
       "_id": "6aa1d265-f438-497e-96a2-47e057aefa59",
       "_model_module_version": "0.2.1",
       "_view_module_version": "0.2.1",
       "name": "__pycache__",
       "nodes": [
        "IPY_MODEL_a336ecc42c684ddea6e309ce7e47f6f7",
        "IPY_MODEL_89f2f69d2c434b7a84e83f980f2ee8b6",
        "IPY_MODEL_5008f098488246ff9cd0c38a3c11f95f"
       ],
       "opened": false
      }
     },
     "e91447d28455434a8b511df27f2c3d5e": {
      "model_module": "ipytree",
      "model_module_version": "0.2.1",
      "model_name": "NodeModel",
      "state": {
       "_id": "ac22f048-6e72-44b1-80a7-68f11753efb0",
       "_model_module_version": "0.2.1",
       "_view_module_version": "0.2.1",
       "icon": "save",
       "icon_style": "info",
       "name": "Desktop",
       "nodes": [
        "IPY_MODEL_67efe08a2bf24a61915a1bc18db77471",
        "IPY_MODEL_aa746dd538894c67aaae4c679df8c5dc"
       ]
      }
     },
     "e954ba481fe949498ee625c12d054e84": {
      "model_module": "ipytree",
      "model_module_version": "0.2.1",
      "model_name": "NodeModel",
      "state": {
       "_id": "9ce2d0fd-e2d4-4586-a6ac-e90c1451fdee",
       "_model_module_version": "0.2.1",
       "_view_module_version": "0.2.1",
       "name": "app",
       "nodes": [
        "IPY_MODEL_0a52b5f0c3bd4bd8aaa322575feb75a6"
       ],
       "opened": false
      }
     },
     "e97d69df808c4762b5fad931bb1c2c80": {
      "model_module": "ipytree",
      "model_module_version": "0.2.1",
      "model_name": "NodeModel",
      "state": {
       "_id": "c1ee2e77-74f6-46f7-983d-f034e3de26ff",
       "_model_module_version": "0.2.1",
       "_view_module_version": "0.2.1",
       "icon": "file",
       "name": "10. New Wave Trading Model.ipynb"
      }
     },
     "e9b583c50b734144bd9ce8c13aa270b3": {
      "model_module": "ipytree",
      "model_module_version": "0.2.1",
      "model_name": "NodeModel",
      "state": {
       "_id": "234ade4d-ef35-4ad3-a105-686add0ed62a",
       "_model_module_version": "0.2.1",
       "_view_module_version": "0.2.1",
       "icon": "file",
       "name": "jk_indicators.py"
      }
     },
     "ea5f409759904ee78c5147cf661631ce": {
      "model_module": "ipytree",
      "model_module_version": "0.2.1",
      "model_name": "NodeModel",
      "state": {
       "_id": "1c0deb3b-5a8c-4057-900a-995057933a1c",
       "_model_module_version": "0.2.1",
       "_view_module_version": "0.2.1",
       "icon": "file",
       "name": "tick_loaders.cpython-36.pyc"
      }
     },
     "eac4369c4ef844158c491761f0f51e06": {
      "model_module": "ipytree",
      "model_module_version": "0.2.1",
      "model_name": "NodeModel",
      "state": {
       "_id": "e4e9ff87-72e2-4f6f-b9e1-7638635ccbd7",
       "_model_module_version": "0.2.1",
       "_view_module_version": "0.2.1",
       "icon": "home",
       "icon_style": "success",
       "name": "home",
       "nodes": [
        "IPY_MODEL_d075d37e76434926b903d120b1a6ad76",
        "IPY_MODEL_0240f83840734776870c84fe5f26c5d3"
       ]
      }
     },
     "eb29f7a1883747ee9953feba3c4d2ec9": {
      "model_module": "ipytree",
      "model_module_version": "0.2.1",
      "model_name": "NodeModel",
      "state": {
       "_id": "67efb582-2714-4f92-b49e-fb8cc58900dc",
       "_model_module_version": "0.2.1",
       "_view_module_version": "0.2.1",
       "name": "chapter-time-series-analysis-arma-models",
       "nodes": [
        "IPY_MODEL_9fd40ef0a24641f0a1119baea23d7360",
        "IPY_MODEL_1d27aebcbf6548b0923dbe3cb169b91a",
        "IPY_MODEL_4221837879664211abcda6bc77a27e8a"
       ],
       "opened": false
      }
     },
     "ec598869dc404290a665be713a497b8d": {
      "model_module": "ipytree",
      "model_module_version": "0.2.1",
      "model_name": "NodeModel",
      "state": {
       "_id": "c0f81652-00d5-4700-8acc-b8a1e275ac6c",
       "_model_module_version": "0.2.1",
       "_view_module_version": "0.2.1",
       "icon": "file",
       "name": "stat_helpers.py"
      }
     },
     "ec6c41094e84453e8d48beaba5486f81": {
      "model_module": "ipytree",
      "model_module_version": "0.2.1",
      "model_name": "NodeModel",
      "state": {
       "_id": "52f1b55d-9e50-4511-a294-e74ed98ba45f",
       "_model_module_version": "0.2.1",
       "_view_module_version": "0.2.1",
       "icon": "file",
       "name": "DT 3 min ES 06-19.csv"
      }
     },
     "ec93aed20f2443579ed691f508ab4f20": {
      "model_module": "ipytree",
      "model_module_version": "0.2.1",
      "model_name": "NodeModel",
      "state": {
       "_id": "fc386438-ffb4-4f6f-8478-10bc51d3d209",
       "_model_module_version": "0.2.1",
       "_view_module_version": "0.2.1",
       "icon": "file",
       "name": "[Steven_E._Shreve]_Stochastic_Calculus_for_Finance(BookFi.org) I.pdf"
      }
     },
     "ecf21636cff2420bb235c113a1e4a36a": {
      "model_module": "ipytree",
      "model_module_version": "0.2.1",
      "model_name": "NodeModel",
      "state": {
       "_id": "a4927a3a-8eda-42d8-9dc7-a7c4d6102d11",
       "_model_module_version": "0.2.1",
       "_view_module_version": "0.2.1",
       "icon": "file",
       "name": "Short Term Volatility Breakout.ipynb"
      }
     },
     "ed16a4726de74d859dd9f0b6dff9baeb": {
      "model_module": "ipytree",
      "model_module_version": "0.2.1",
      "model_name": "NodeModel",
      "state": {
       "_id": "1b09002e-8f01-4849-9d08-cc58c848ab2d",
       "_model_module_version": "0.2.1",
       "_view_module_version": "0.2.1",
       "icon": "file",
       "name": "3.1 Debug Strategy.ipynb"
      }
     },
     "ed269f25fba5416d964bb6d54fda3d20": {
      "model_module": "ipytree",
      "model_module_version": "0.2.1",
      "model_name": "NodeModel",
      "state": {
       "_id": "03e93806-5571-440d-9f4f-22ad08e913b0",
       "_model_module_version": "0.2.1",
       "_view_module_version": "0.2.1",
       "icon": "file",
       "name": "244728_TechnologyOffices.pdf"
      }
     },
     "ed94dd574cbe485ba4e1b23064dc2228": {
      "model_module": "ipytree",
      "model_module_version": "0.2.1",
      "model_name": "NodeModel",
      "state": {
       "_id": "93e195b6-cc13-4451-ae54-87798c91da52",
       "_model_module_version": "0.2.1",
       "_view_module_version": "0.2.1",
       "icon": "file",
       "name": "Volatility Trading FX Tests.ipynb"
      }
     },
     "ede3db4a1ea7470d8dfea2ab075c800e": {
      "model_module": "ipytree",
      "model_module_version": "0.2.1",
      "model_name": "NodeModel",
      "state": {
       "_id": "bade251d-0e7d-4a94-8ed2-7c376bc6fcc0",
       "_model_module_version": "0.2.1",
       "_view_module_version": "0.2.1",
       "icon": "home",
       "icon_style": "success",
       "name": "home",
       "nodes": [
        "IPY_MODEL_0f6fb94510d745419f3ab07bb5f8115e",
        "IPY_MODEL_2f8f2a1474284f9bb285b07a1471f15f"
       ]
      }
     },
     "edf6474afec24c538b605cd7a3d745ff": {
      "model_module": "ipytree",
      "model_module_version": "0.2.1",
      "model_name": "NodeModel",
      "state": {
       "_id": "ad5b08c2-b7b7-4e51-870a-f61cd558967d",
       "_model_module_version": "0.2.1",
       "_view_module_version": "0.2.1",
       "name": "gridtrading",
       "nodes": [
        "IPY_MODEL_db2d74e652bb4429845f440f10e58f8b"
       ]
      }
     },
     "ee041eda11164e2c9c84212507d5ac8c": {
      "model_module": "ipytree",
      "model_module_version": "0.2.1",
      "model_name": "NodeModel",
      "state": {
       "_id": "94ef186c-840e-4380-a0f1-cbbf2d3d450c",
       "_model_module_version": "0.2.1",
       "_view_module_version": "0.2.1",
       "name": "ideas",
       "nodes": [
        "IPY_MODEL_f5a52d6808da437ba59c001b0303f797",
        "IPY_MODEL_b0fd760266a54a4ea865aa051cdffdb5",
        "IPY_MODEL_ff3108ff13e144ee9540bf55e5c41a8c",
        "IPY_MODEL_1576378fb1d54693a6698e6cd51b1cb8",
        "IPY_MODEL_5eb9a0c7b4454a14aa1c500a3c52d0fe",
        "IPY_MODEL_9c88044850c8445e9d7ca522b55b0bdc",
        "IPY_MODEL_a813aee5f8f2477995b8953838677445",
        "IPY_MODEL_5bbae0f6a2664c4b847418e0897ff16e",
        "IPY_MODEL_62b51c83e9e54477bb05137adb74cad3",
        "IPY_MODEL_8d71b1c70e524ff3a6572e90dc59353d",
        "IPY_MODEL_0a78656d29b849848ed5a10e891fadca",
        "IPY_MODEL_a191fe98a61d4e63a2a63ab9dc8c6f4c",
        "IPY_MODEL_cad2914c445d4002b85756f159bff720"
       ],
       "opened": false
      }
     },
     "ee2cba1ab9634f1d9a61f26cd097ec04": {
      "model_module": "ipytree",
      "model_module_version": "0.2.1",
      "model_name": "NodeModel",
      "state": {
       "_id": "9fce2572-9c38-4e78-99ed-006758867874",
       "_model_module_version": "0.2.1",
       "_view_module_version": "0.2.1",
       "icon": "file",
       "name": "EODDATA_intraday_processing.ipynb"
      }
     },
     "ee832a0ec68d42e79eb56cc5eac61b22": {
      "model_module": "ipytree",
      "model_module_version": "0.2.1",
      "model_name": "NodeModel",
      "state": {
       "_id": "d794eeb1-5429-4d43-a4ac-49008661f9f5",
       "_model_module_version": "0.2.1",
       "_view_module_version": "0.2.1",
       "icon": "file",
       "name": "13. Nucleon find better exit strategy.ipynb"
      }
     },
     "ee9365802a7245fbbf818ddc68a50c3b": {
      "model_module": "ipytree",
      "model_module_version": "0.2.1",
      "model_name": "NodeModel",
      "state": {
       "_id": "b272d295-0093-4d64-85f6-ccce45152fea",
       "_model_module_version": "0.2.1",
       "_view_module_version": "0.2.1",
       "icon": "file",
       "name": "woo.json"
      }
     },
     "eecee34257f545ec88efda8f855e3d56": {
      "model_module": "ipytree",
      "model_module_version": "0.2.1",
      "model_name": "NodeModel",
      "state": {
       "_id": "4de96068-5858-4ac4-8215-1da98605897b",
       "_model_module_version": "0.2.1",
       "_view_module_version": "0.2.1",
       "icon": "file",
       "name": "6. Reversal Points.ipynb"
      }
     },
     "eee1f373d38447efa1762749e8d75ec3": {
      "model_module": "@jupyter-widgets/controls",
      "model_module_version": "1.5.0",
      "model_name": "DescriptionStyleModel",
      "state": {
       "description_width": ""
      }
     },
     "ef1b04b375714799af3027d5515b89f7": {
      "model_module": "ipytree",
      "model_module_version": "0.2.1",
      "model_name": "NodeModel",
      "state": {
       "_id": "d63f67a5-6403-467d-b6de-4e1adb0e0673",
       "_model_module_version": "0.2.1",
       "_view_module_version": "0.2.1",
       "icon": "file",
       "name": "Range Regims Detector.ipynb"
      }
     },
     "ef20cd46b1794fbc8e9d5f5a47418f38": {
      "model_module": "ipytree",
      "model_module_version": "0.2.1",
      "model_name": "NodeModel",
      "state": {
       "_id": "f08426b0-ffcd-4dcc-bcd7-676eb88fe7f4",
       "_model_module_version": "0.2.1",
       "_view_module_version": "0.2.1",
       "icon": "file",
       "name": "index.tpl"
      }
     },
     "ef583297956546e8be005ab34f200127": {
      "model_module": "ipytree",
      "model_module_version": "0.2.1",
      "model_name": "NodeModel",
      "state": {
       "_id": "20704995-8db3-4a08-a144-4e3d0111138b",
       "_model_module_version": "0.2.1",
       "_view_module_version": "0.2.1",
       "icon": "file",
       "name": "SysRiskNonstationaryFractionalDynStochasticEcoSig.2010.Blackledge.pdf"
      }
     },
     "ef7f32438d924f08bf8f7e7cd2d1f143": {
      "model_module": "@jupyter-widgets/controls",
      "model_module_version": "1.5.0",
      "model_name": "VBoxModel",
      "state": {
       "children": [
        "IPY_MODEL_175df57040094d88b44aea1d0e6ab37f",
        "IPY_MODEL_66b05c747b9742e7ab0d9c314eae598f"
       ],
       "layout": "IPY_MODEL_a3bb8a75023741c2a5be16e0e4398110"
      }
     },
     "efd742330bed4e3e9aa4c2bd70886277": {
      "model_module": "ipytree",
      "model_module_version": "0.2.1",
      "model_name": "NodeModel",
      "state": {
       "_id": "eec7d93d-d5c5-4208-af64-6fcb06891b11",
       "_model_module_version": "0.2.1",
       "_view_module_version": "0.2.1",
       "icon": "file",
       "name": "10.2 FXCM Optimization.ipynb"
      }
     },
     "f00e01a2c54b428da5a7dc99bb81d8b0": {
      "model_module": "ipytree",
      "model_module_version": "0.2.1",
      "model_name": "NodeModel",
      "state": {
       "_id": "10ffab2a-fbe4-4786-85f0-79b79c3e4d97",
       "_model_module_version": "0.2.1",
       "_view_module_version": "0.2.1",
       "name": "orderflow",
       "nodes": [
        "IPY_MODEL_c7916149c8154c24a92cef2d25789dd6",
        "IPY_MODEL_83b48d1e54474f338cb10943411da18e",
        "IPY_MODEL_736b17fb20c04840a7f482e98f058fd0",
        "IPY_MODEL_096ad896b6e845bfa8a9f290e168a17c"
       ],
       "opened": false
      }
     },
     "f028d574bcdc4cadb0fed830bd9d4b22": {
      "model_module": "ipytree",
      "model_module_version": "0.2.1",
      "model_name": "NodeModel",
      "state": {
       "_id": "80eb5ab7-3d08-4ab8-a8c3-41d00d9818b7",
       "_model_module_version": "0.2.1",
       "_view_module_version": "0.2.1",
       "name": "ML_books",
       "nodes": [
        "IPY_MODEL_3b2f180fddc74410a86d88373447019d",
        "IPY_MODEL_7507feca465a45b5b65bbda92085bb73",
        "IPY_MODEL_1c3ef0a2cfa540d9beaeed4694b34af3"
       ],
       "opened": false
      }
     },
     "f029180ae7034a8383fbaca3d85737dd": {
      "model_module": "ipytree",
      "model_module_version": "0.2.1",
      "model_name": "NodeModel",
      "state": {
       "_id": "af6628e2-349f-40a9-9e7c-4c92a5d2968f",
       "_model_module_version": "0.2.1",
       "_view_module_version": "0.2.1",
       "icon": "file",
       "name": "NimbleModel_I_BB_detector.ipynb"
      }
     },
     "f02e61fe117145508b6b29d55e76be74": {
      "model_module": "ipytree",
      "model_module_version": "0.2.1",
      "model_name": "NodeModel",
      "state": {
       "_id": "ccc11ac4-f73a-4cdd-96c7-18ebc6ab6221",
       "_model_module_version": "0.2.1",
       "_view_module_version": "0.2.1",
       "icon": "file",
       "name": "NimbleModel.ipynb"
      }
     },
     "f0a0c04944b14fcd829cbb149e863d2d": {
      "model_module": "ipytree",
      "model_module_version": "0.2.1",
      "model_name": "NodeModel",
      "state": {
       "_id": "3832bc38-3aca-4723-83f8-09d55d0f5046",
       "_model_module_version": "0.2.1",
       "_view_module_version": "0.2.1",
       "icon": "archive",
       "icon_style": "warning",
       "name": "root",
       "opened": false,
       "selected": true
      }
     },
     "f113bcb2b6ad4049895099bfa90b09d2": {
      "model_module": "ipytree",
      "model_module_version": "0.2.1",
      "model_name": "NodeModel",
      "state": {
       "_id": "40bbd3d5-1cc0-4584-a3f4-8d324eee1c5a",
       "_model_module_version": "0.2.1",
       "_view_module_version": "0.2.1",
       "name": "levels",
       "nodes": [
        "IPY_MODEL_6070099f4b0e440f8e82ff20ffd9c172",
        "IPY_MODEL_a247168fd4714d749ace88059981bf30",
        "IPY_MODEL_a4d9670d04bf49748ee3e1e57b8d9fb9"
       ]
      }
     },
     "f11f081815d74989b73f18f98e3a98b6": {
      "model_module": "ipytree",
      "model_module_version": "0.2.1",
      "model_name": "NodeModel",
      "state": {
       "_id": "665a3d48-13f8-4837-b4cf-515277a5c7b5",
       "_model_module_version": "0.2.1",
       "_view_module_version": "0.2.1",
       "icon": "file",
       "name": "0. Fund and Personal variants.ipynb"
      }
     },
     "f129e35b0e3449d1b33a7bec6260b149": {
      "model_module": "ipytree",
      "model_module_version": "0.2.1",
      "model_name": "NodeModel",
      "state": {
       "_id": "5d6cbf3d-49bc-494f-8ef8-90693141803d",
       "_model_module_version": "0.2.1",
       "_view_module_version": "0.2.1",
       "name": "dexes",
       "nodes": [
        "IPY_MODEL_2afde24302e94762984716f20f60f50d"
       ],
       "opened": false
      }
     },
     "f134134eac0a4392909768348695de66": {
      "model_module": "@jupyter-widgets/controls",
      "model_module_version": "1.5.0",
      "model_name": "TextModel",
      "state": {
       "layout": "IPY_MODEL_9baf14919f494314abb58dc4cab810e0",
       "placeholder": "Search files/folders...",
       "style": "IPY_MODEL_73ff844b1a0647a7b86044f3dfd511a2"
      }
     },
     "f13994695ab74e519a228db777aedcb0": {
      "model_module": "ipytree",
      "model_module_version": "0.2.1",
      "model_name": "NodeModel",
      "state": {
       "_id": "5d02d13c-3937-49fd-a4f8-4c7d57aff8aa",
       "_model_module_version": "0.2.1",
       "_view_module_version": "0.2.1",
       "icon": "file",
       "name": "10.4 FXCM Optimization.ipynb"
      }
     },
     "f13e9e7bb57a40199832892968232580": {
      "model_module": "ipytree",
      "model_module_version": "0.2.1",
      "model_name": "NodeModel",
      "state": {
       "_id": "0595d235-804e-4403-a0ef-716252524a37",
       "_model_module_version": "0.2.1",
       "_view_module_version": "0.2.1",
       "icon": "file",
       "name": "algo.py"
      }
     },
     "f14db8ff341347438719c7af5dc6a635": {
      "model_module": "@jupyter-widgets/controls",
      "model_module_version": "1.5.0",
      "model_name": "VBoxModel",
      "state": {
       "children": [
        "IPY_MODEL_37aa2c35b31147d7aac383219ead8136",
        "IPY_MODEL_96e4f9e5a602493b8a82654da5f7524c"
       ],
       "layout": "IPY_MODEL_699c1e1b4d81419db7ff6e79cac6d1f6"
      }
     },
     "f1a03ef154f048c38cc9e36353d22e33": {
      "model_module": "ipytree",
      "model_module_version": "0.2.1",
      "model_name": "NodeModel",
      "state": {
       "_id": "2bb67094-4616-4abb-96cf-40b2f2f13158",
       "_model_module_version": "0.2.1",
       "_view_module_version": "0.2.1",
       "icon": "file",
       "name": "Scores.ipynb"
      }
     },
     "f1a293eaeede4846a9b18ce49be8dc1c": {
      "model_module": "ipytree",
      "model_module_version": "0.2.1",
      "model_name": "NodeModel",
      "state": {
       "_id": "78db8484-a7a3-44d0-a0e5-9aea377846f7",
       "_model_module_version": "0.2.1",
       "_view_module_version": "0.2.1",
       "icon": "file",
       "name": "256163521-SSA-Beginners-Guide-v9.pdf"
      }
     },
     "f258ede86d3e4fe69124a0c0d5b6b85b": {
      "model_module": "ipytree",
      "model_module_version": "0.2.1",
      "model_name": "NodeModel",
      "state": {
       "_id": "7de92b82-098a-4c38-a769-037af9456bac",
       "_model_module_version": "0.2.1",
       "_view_module_version": "0.2.1",
       "icon": "file",
       "name": "trading_strategies.py"
      }
     },
     "f286dc8fc97741f3b3de22f56e2f5129": {
      "model_module": "ipytree",
      "model_module_version": "0.2.1",
      "model_name": "NodeModel",
      "state": {
       "_id": "50011c58-de7e-4248-b8cc-380399e8dba6",
       "_model_module_version": "0.2.1",
       "_view_module_version": "0.2.1",
       "name": "chapter-machine-learning-clustering-methods",
       "nodes": [
        "IPY_MODEL_75657b48706f4c2f9a99570715cdb599",
        "IPY_MODEL_b5ceea2e14464314a662582aa67feca7"
       ],
       "opened": false
      }
     },
     "f2a6319fea1f47d0aa3fc7379c87378b": {
      "model_module": "ipytree",
      "model_module_version": "0.2.1",
      "model_name": "NodeModel",
      "state": {
       "_id": "34ecb4ab-bc08-4d43-a81c-05812c308e96",
       "_model_module_version": "0.2.1",
       "_view_module_version": "0.2.1",
       "icon": "file",
       "name": "EB3M.csv"
      }
     },
     "f2ae363c08dd4f52ab9007fe422fcd03": {
      "model_module": "ipytree",
      "model_module_version": "0.2.1",
      "model_name": "NodeModel",
      "state": {
       "_id": "a8b4cd85-ab92-4c11-95ae-1081740fd4bd",
       "_model_module_version": "0.2.1",
       "_view_module_version": "0.2.1",
       "icon": "file",
       "name": "stat_helpers.py"
      }
     },
     "f2b16f70c1b54a2a9bdbb0909bd6d181": {
      "model_module": "ipytree",
      "model_module_version": "0.2.1",
      "model_name": "NodeModel",
      "state": {
       "_id": "58cc284e-058f-46b3-8d8d-1df71e97f7fd",
       "_model_module_version": "0.2.1",
       "_view_module_version": "0.2.1",
       "icon": "file",
       "name": "Breakout_and_stochastic.ipynb"
      }
     },
     "f2b4b80f424c4c0a86c93f96d89e7fc6": {
      "model_module": "ipytree",
      "model_module_version": "0.2.1",
      "model_name": "NodeModel",
      "state": {
       "_id": "b65900f3-c6b0-4dfe-8f48-6cc865f643ac",
       "_model_module_version": "0.2.1",
       "_view_module_version": "0.2.1",
       "name": "utils",
       "nodes": [
        "IPY_MODEL_638d2ff97f9d4c629cb7231a53e2a733",
        "IPY_MODEL_70e3fca0edd84620bda1c3be0136f2fd",
        "IPY_MODEL_cf575224dfb44d6caf0c4cdafd95f802",
        "IPY_MODEL_e69fb36fdce84e4bb717284bb21edcd8",
        "IPY_MODEL_0a0fe4540b504c41ac265e1f76449120",
        "IPY_MODEL_34d04b9bb4394bb3a803eeba4bf54fc4",
        "IPY_MODEL_a6d4089bb354408e8aa6286a63034d23",
        "IPY_MODEL_23ec55ada61241f79d85e0d35ef316d8",
        "IPY_MODEL_5c9e1704f86e41148e1344bac433ccdc",
        "IPY_MODEL_c295c560878343fe833c49e99b1aaf68"
       ],
       "opened": false
      }
     },
     "f302f15182c049f29a88656ab2087269": {
      "model_module": "ipytree",
      "model_module_version": "0.2.1",
      "model_name": "NodeModel",
      "state": {
       "_id": "0cda5a33-1a38-4701-92dc-590a8cd6e839",
       "_model_module_version": "0.2.1",
       "_view_module_version": "0.2.1",
       "icon": "file",
       "name": "2. Basis series research.ipynb"
      }
     },
     "f31c6c26f77b4ce1afee82b01f141dc8": {
      "model_module": "ipytree",
      "model_module_version": "0.2.1",
      "model_name": "NodeModel",
      "state": {
       "_id": "a2b229f5-d1b6-447d-a46d-07a4a41fcc1e",
       "_model_module_version": "0.2.1",
       "_view_module_version": "0.2.1",
       "icon": "file",
       "name": "stochastic.py"
      }
     },
     "f38742b67e7f447a9caccc9874c8373a": {
      "model_module": "@jupyter-widgets/controls",
      "model_module_version": "1.5.0",
      "model_name": "HBoxModel",
      "state": {
       "children": [
        "IPY_MODEL_912692bb498a420abe0abb61f761efdf",
        "IPY_MODEL_c1326380340946b2869499af6ab78fdf"
       ],
       "layout": "IPY_MODEL_885688d1d905404db65fe91aa778fcb9"
      }
     },
     "f3b401a802ce454c9a69f83a8928e0c1": {
      "model_module": "ipytree",
      "model_module_version": "0.2.1",
      "model_name": "NodeModel",
      "state": {
       "_id": "7b0a74c6-d87b-4ad8-ad15-30e3a1742bb3",
       "_model_module_version": "0.2.1",
       "_view_module_version": "0.2.1",
       "icon": "file",
       "name": "Testing ML Models For Momentum Detecting.ipynb"
      }
     },
     "f408cabeee394d02a9bc913f63f08640": {
      "model_module": "ipytree",
      "model_module_version": "0.2.1",
      "model_name": "NodeModel",
      "state": {
       "_id": "56d72400-99a1-4c91-bf21-e0adbb164592",
       "_model_module_version": "0.2.1",
       "_view_module_version": "0.2.1",
       "icon": "file",
       "name": "Demo_40_0.png"
      }
     },
     "f416857a759f4320a81981fb5b02fbbb": {
      "model_module": "ipytree",
      "model_module_version": "0.2.1",
      "model_name": "NodeModel",
      "state": {
       "_id": "2a3f500c-7846-45b1-8d91-cfdd1e18e3a4",
       "_model_module_version": "0.2.1",
       "_view_module_version": "0.2.1",
       "name": "volatility",
       "nodes": [
        "IPY_MODEL_6563a3aa79e9426f92ec67cd44640f40",
        "IPY_MODEL_a19d56bbf5c84b899cb989392ece00ba",
        "IPY_MODEL_cd2212eefa89434e9bb5b8ed88741bcd",
        "IPY_MODEL_737a3d2aa21346108671363445e93a77",
        "IPY_MODEL_75628122b41e46d5854b82d68a416e9a",
        "IPY_MODEL_ed94dd574cbe485ba4e1b23064dc2228",
        "IPY_MODEL_068efb2d8fc64f4fa9a6f9fca02de307",
        "IPY_MODEL_5ed64112be99412f9b849af706ece448",
        "IPY_MODEL_001a594b11d746e0b9f29e8e99d6e6f3"
       ],
       "opened": false
      }
     },
     "f41a1801058a43e0af6c4b15384f38bd": {
      "model_module": "ipytree",
      "model_module_version": "0.2.1",
      "model_name": "NodeModel",
      "state": {
       "_id": "2477eddb-d7b4-461a-92af-7e4237396345",
       "_model_module_version": "0.2.1",
       "_view_module_version": "0.2.1",
       "name": "decomposition",
       "nodes": [
        "IPY_MODEL_2795a1f70fdc404a8a38840f5a7dae83",
        "IPY_MODEL_5c3241b67384445e9a833d380d84220c",
        "IPY_MODEL_0782a53f7265481b8858970c1d782175"
       ],
       "opened": false
      }
     },
     "f42e9b8a2487416795458b10fe31ef70": {
      "model_module": "ipytree",
      "model_module_version": "0.2.1",
      "model_name": "NodeModel",
      "state": {
       "_id": "9230eefd-c6d9-4ba7-8aa8-6863631ab55b",
       "_model_module_version": "0.2.1",
       "_view_module_version": "0.2.1",
       "name": "oldstuff",
       "nodes": [
        "IPY_MODEL_b583d7b5567e4cd1b866319a07e0188e",
        "IPY_MODEL_e2ff467e86cb4d76be9abb693e5aa3c9",
        "IPY_MODEL_764c44688056473db2f6cb51954d54a7",
        "IPY_MODEL_ee9365802a7245fbbf818ddc68a50c3b"
       ],
       "opened": false
      }
     },
     "f4339cafacb34587ae06a49a168acd95": {
      "model_module": "ipytree",
      "model_module_version": "0.2.1",
      "model_name": "NodeModel",
      "state": {
       "_id": "dda23a1c-b39e-40cc-b6d7-996dd48a9390",
       "_model_module_version": "0.2.1",
       "_view_module_version": "0.2.1",
       "icon": "file",
       "name": "input.csv.gz"
      }
     },
     "f475d1fa16764a03ac740bdfd35aae83": {
      "model_module": "ipytree",
      "model_module_version": "0.2.1",
      "model_name": "NodeModel",
      "state": {
       "_id": "f41a2db9-42e5-4a11-adc8-cebc9278c96f",
       "_model_module_version": "0.2.1",
       "_view_module_version": "0.2.1",
       "icon": "file",
       "name": "Signals Tracking.ipynb"
      }
     },
     "f4796ebdbd9f47f9b7e5566ced57b8ab": {
      "model_module": "ipytree",
      "model_module_version": "0.2.1",
      "model_name": "NodeModel",
      "state": {
       "_id": "570ce9ca-dc8d-41ac-beea-adec9b82582d",
       "_model_module_version": "0.2.1",
       "_view_module_version": "0.2.1",
       "icon": "file",
       "name": "4. IBS clustering.ipynb"
      }
     },
     "f48ce067ed394783876b73d27d78ea5c": {
      "model_module": "ipytree",
      "model_module_version": "0.2.1",
      "model_name": "NodeModel",
      "state": {
       "_id": "e3885472-790a-4b99-b46f-fac54b0dbec4",
       "_model_module_version": "0.2.1",
       "_view_module_version": "0.2.1",
       "name": "cluster",
       "nodes": [
        "IPY_MODEL_a57e5565994e41708b1611fa3e96e7ec",
        "IPY_MODEL_e70324c6b2ba46268fc2f144888830f5"
       ],
       "opened": false
      }
     },
     "f49ca7741f80480a8ab792cf45727b09": {
      "model_module": "ipytree",
      "model_module_version": "0.2.1",
      "model_name": "NodeModel",
      "state": {
       "_id": "00cb6d46-3fb9-4010-b72b-3f31adf05ba3",
       "_model_module_version": "0.2.1",
       "_view_module_version": "0.2.1",
       "icon": "file",
       "name": "Resumo_alargado.pdf"
      }
     },
     "f4eec3f738784d0f97dee6180bf0db99": {
      "model_module": "ipytree",
      "model_module_version": "0.2.1",
      "model_name": "NodeModel",
      "state": {
       "_id": "77ae811b-0057-4384-8d37-d86757c9a480",
       "_model_module_version": "0.2.1",
       "_view_module_version": "0.2.1",
       "icon": "file",
       "name": "0. Inside Bar.ipynb"
      }
     },
     "f54fc97f113a4eb4b394d3880142fc0b": {
      "model_module": "ipytree",
      "model_module_version": "0.2.1",
      "model_name": "NodeModel",
      "state": {
       "_id": "3ac05817-ccd1-4034-83d8-569311d37bfb",
       "_model_module_version": "0.2.1",
       "_view_module_version": "0.2.1",
       "icon": "copy",
       "icon_style": "warning",
       "name": "File1",
       "opened": false,
       "selected": true
      }
     },
     "f5a52d6808da437ba59c001b0303f797": {
      "model_module": "ipytree",
      "model_module_version": "0.2.1",
      "model_name": "NodeModel",
      "state": {
       "_id": "1ad3cc3e-7571-4436-bb50-01df6e7817a3",
       "_model_module_version": "0.2.1",
       "_view_module_version": "0.2.1",
       "icon": "file",
       "name": "0. Resources List.ipynb"
      }
     },
     "f69e1f3a1eff49c199c028131d53221a": {
      "model_module": "ipytree",
      "model_module_version": "0.2.1",
      "model_name": "NodeModel",
      "state": {
       "_id": "6ad5616e-4820-4ac1-b4ad-f2bff15bc8b1",
       "_model_module_version": "0.2.1",
       "_view_module_version": "0.2.1",
       "icon": "file",
       "name": "288699023-Principal-Components-Analysis.pdf"
      }
     },
     "f6a5e715c1fd47b5bb4ac1227cb6777f": {
      "model_module": "ipytree",
      "model_module_version": "0.2.1",
      "model_name": "NodeModel",
      "state": {
       "_id": "cab1332b-8eab-42e6-9a87-7e7481d98c84",
       "_model_module_version": "0.2.1",
       "_view_module_version": "0.2.1",
       "icon": "file",
       "name": "example_cli.sh"
      }
     },
     "f71dc45ec1d84e4190e94a19f6693d67": {
      "model_module": "ipytree",
      "model_module_version": "0.2.1",
      "model_name": "NodeModel",
      "state": {
       "_id": "53c419dc-4774-4199-a95f-911601fc42d5",
       "_model_module_version": "0.2.1",
       "_view_module_version": "0.2.1",
       "icon": "file",
       "name": "1. Separated Trades Flow Studies.ipynb"
      }
     },
     "f779da37fe94463696924dcc8106c78d": {
      "model_module": "ipytree",
      "model_module_version": "0.2.1",
      "model_name": "TreeModel",
      "state": {
       "_model_module_version": "0.2.1",
       "_view_module_version": "0.2.1",
       "layout": "IPY_MODEL_bff75124e6214941ac457cb88228d7b0",
       "nodes": [
        "IPY_MODEL_f0a0c04944b14fcd829cbb149e863d2d",
        "IPY_MODEL_063d7eb0435b4937b3dad2f1bd194386",
        "IPY_MODEL_cddd20dda8b2443ca861759b4b2569c5",
        "IPY_MODEL_eac4369c4ef844158c491761f0f51e06"
       ],
       "selected_nodes": [
        "IPY_MODEL_f0a0c04944b14fcd829cbb149e863d2d"
       ]
      }
     },
     "f77a2478497d4636a3a39810762df379": {
      "model_module": "ipytree",
      "model_module_version": "0.2.1",
      "model_name": "NodeModel",
      "state": {
       "_id": "d3eefe1b-dd39-4c07-b4a2-7b9e71a9241e",
       "_model_module_version": "0.2.1",
       "_view_module_version": "0.2.1",
       "name": "analysis",
       "nodes": [
        "IPY_MODEL_bf1070103f59456fa4c759da07028dcf",
        "IPY_MODEL_846f97c0e4974a71b37bd1e0c065d12a",
        "IPY_MODEL_e0d7b8f7475b46af9da5920ba903ad9c",
        "IPY_MODEL_17887049e0bb488ea843fe8a20f2e7d9",
        "IPY_MODEL_cfd7efaff51149e7a676266e374e201b",
        "IPY_MODEL_1e309aa205084afdbb97fd9878cfbacf",
        "IPY_MODEL_62e492e5dd5b4a51ad84257c4cdecfbb",
        "IPY_MODEL_367c4730f199437ba88eba141f797a86",
        "IPY_MODEL_851cc2d557be499880128df60c81f167"
       ],
       "opened": false
      }
     },
     "f7c7dd62eac64f39b7b051e13e8dfec8": {
      "model_module": "ipytree",
      "model_module_version": "0.2.1",
      "model_name": "NodeModel",
      "state": {
       "_id": "5e195a53-3e59-4c99-a128-166b8b07f59a",
       "_model_module_version": "0.2.1",
       "_view_module_version": "0.2.1",
       "icon": "file",
       "name": "CryptoNumbers.ipynb"
      }
     },
     "f7cb85db52834d8da748cd90ea51de9b": {
      "model_module": "ipytree",
      "model_module_version": "0.2.1",
      "model_name": "NodeModel",
      "state": {
       "_id": "f9b3fdf9-9542-4d77-ae4c-a6d3083224a9",
       "_model_module_version": "0.2.1",
       "_view_module_version": "0.2.1",
       "name": "chapter-bayesian-statistics-stochastic-volatility-model",
       "nodes": [
        "IPY_MODEL_6954c4dd70f0425e8cf46b924ee9d253",
        "IPY_MODEL_a43c6f9c2a664137a0b6c4b444254f6a",
        "IPY_MODEL_55e0c2eef5b04b68b487faf6c8d58fed"
       ],
       "opened": false
      }
     },
     "f811c7e735e9426d85144664bc1908ac": {
      "model_module": "@jupyter-widgets/base",
      "model_module_version": "1.2.0",
      "model_name": "LayoutModel",
      "state": {
       "height": "600px",
       "width": "630px"
      }
     },
     "f883116fc2884879b789a26a597c799d": {
      "model_module": "ipytree",
      "model_module_version": "0.2.1",
      "model_name": "NodeModel",
      "state": {
       "_id": "e76c1e1a-87c3-42a4-a2d5-9b3195bc89ec",
       "_model_module_version": "0.2.1",
       "_view_module_version": "0.2.1",
       "icon": "file",
       "name": "levels_tracker.cpython-36.pyc"
      }
     },
     "f886b2301aa64f2e94e834ac22b0481b": {
      "model_module": "ipytree",
      "model_module_version": "0.2.1",
      "model_name": "NodeModel",
      "state": {
       "_id": "84618de6-0999-4293-b7e5-c33d1417f35f",
       "_model_module_version": "0.2.1",
       "_view_module_version": "0.2.1",
       "icon": "file",
       "name": "binary_options.py"
      }
     },
     "f8880d9833164925969ea0ccca114fb7": {
      "model_module": "ipytree",
      "model_module_version": "0.2.1",
      "model_name": "NodeModel",
      "state": {
       "_id": "3b19ddf5-37f7-4308-adc8-bc177b799057",
       "_model_module_version": "0.2.1",
       "_view_module_version": "0.2.1",
       "icon": "file",
       "name": "Trades Estimation From Quotes.ipynb"
      }
     },
     "f8e10e2638be470fa16b485594cd87b1": {
      "model_module": "ipytree",
      "model_module_version": "0.2.1",
      "model_name": "NodeModel",
      "state": {
       "_id": "d75f8376-a563-408f-b091-72a6053c6872",
       "_model_module_version": "0.2.1",
       "_view_module_version": "0.2.1",
       "icon": "file",
       "name": "4. Optimizations Results.ipynb"
      }
     },
     "f9488b67a13b4fca9ec790b1b3d5218f": {
      "model_module": "ipytree",
      "model_module_version": "0.2.1",
      "model_name": "NodeModel",
      "state": {
       "_id": "b273c0ad-75db-42f7-82ea-1e1d93ee0077",
       "_model_module_version": "0.2.1",
       "_view_module_version": "0.2.1",
       "icon": "copy",
       "icon_style": "warning",
       "name": "File1",
       "opened": false,
       "selected": true
      }
     },
     "f955ea85837446b787abe2869e51dd0c": {
      "model_module": "ipytree",
      "model_module_version": "0.2.1",
      "model_name": "NodeModel",
      "state": {
       "_id": "668b1457-fc4b-4c92-ae2d-1f4f47ff15cc",
       "_model_module_version": "0.2.1",
       "_view_module_version": "0.2.1",
       "icon": "file",
       "name": "google_trends.cpython-36.pyc"
      }
     },
     "f9b8e0ab85284fe1bca8e1d7e5b340aa": {
      "model_module": "ipytree",
      "model_module_version": "0.2.1",
      "model_name": "NodeModel",
      "state": {
       "_id": "fb2d8903-d616-4331-9c9c-0e85258e61e0",
       "_model_module_version": "0.2.1",
       "_view_module_version": "0.2.1",
       "icon": "file",
       "name": "operations.cpython-36.pyc"
      }
     },
     "fa6acec850014baa97d8b61824f23a1d": {
      "model_module": "ipytree",
      "model_module_version": "0.2.1",
      "model_name": "NodeModel",
      "state": {
       "_id": "95f239d7-4402-4a9b-be82-1d43464c5e3b",
       "_model_module_version": "0.2.1",
       "_view_module_version": "0.2.1",
       "icon": "file",
       "name": "4.3 Model2 Regression Validation.ipynb"
      }
     },
     "fa8f087b8fc04ebf915cce14a0ba31ab": {
      "model_module": "ipytree",
      "model_module_version": "0.2.1",
      "model_name": "NodeModel",
      "state": {
       "_id": "4a5b62e3-08c3-437d-b3e2-8418d68a3423",
       "_model_module_version": "0.2.1",
       "_view_module_version": "0.2.1",
       "icon": "file",
       "name": "helpers.py"
      }
     },
     "fab1e6ed11f74adeaed7cc717da575e1": {
      "model_module": "ipytree",
      "model_module_version": "0.2.1",
      "model_name": "NodeModel",
      "state": {
       "_id": "e18bf3b2-ec23-4a12-a9c3-6be4d566fe2c",
       "_model_module_version": "0.2.1",
       "_view_module_version": "0.2.1",
       "icon": "file",
       "name": "bm_cfg.json"
      }
     },
     "fab69a02f47345be9d5b55b290d3cfeb": {
      "model_module": "ipytree",
      "model_module_version": "0.2.1",
      "model_name": "NodeModel",
      "state": {
       "_id": "c20e3c3e-c42d-4341-984e-d7419be03984",
       "_model_module_version": "0.2.1",
       "_view_module_version": "0.2.1",
       "icon": "file",
       "name": "AlphaFrameworkImplDetails.ipynb"
      }
     },
     "facc7b89ef1a477fa38842cf8e65d4e6": {
      "model_module": "ipytree",
      "model_module_version": "0.2.1",
      "model_name": "NodeModel",
      "state": {
       "_id": "71a39b6c-afba-4e07-a359-186510204be0",
       "_model_module_version": "0.2.1",
       "_view_module_version": "0.2.1",
       "name": "chapter-bayesian-statistics-markov-chain-monte-carlo",
       "nodes": [
        "IPY_MODEL_4d315ff3c0d140629197f771848b9857"
       ],
       "opened": false
      }
     },
     "fad4b5d3425e4231931c8bdae568489c": {
      "model_module": "ipytree",
      "model_module_version": "0.2.1",
      "model_name": "NodeModel",
      "state": {
       "_id": "1a13388a-0125-493b-bb79-7edb76e17409",
       "_model_module_version": "0.2.1",
       "_view_module_version": "0.2.1",
       "name": "c3p",
       "nodes": [
        "IPY_MODEL_a834f9a6cf654a0fae222fbd4b881c5f",
        "IPY_MODEL_9cb0620d965d42adb13668e25e0e5b89",
        "IPY_MODEL_f302f15182c049f29a88656ab2087269",
        "IPY_MODEL_1b9f407fe2f74fadb73c6b84ea1b3248",
        "IPY_MODEL_baafde82fa714122821fb4a0c7e0a497",
        "IPY_MODEL_611ce2b6c1ee45b68d4e09f45e1e5795",
        "IPY_MODEL_62233653610b42f092a0969b9f138830",
        "IPY_MODEL_fa6acec850014baa97d8b61824f23a1d",
        "IPY_MODEL_7304bc2d5ac84ce98ae27fb6c51a1d6c",
        "IPY_MODEL_3c670dcb13f24bdc868d10c6f80b63fb",
        "IPY_MODEL_c202d409e98c4d9b8c0d5204fff21d65",
        "IPY_MODEL_77ab5819860a421097c579ac726f23c4",
        "IPY_MODEL_3155ca4388464210b6d8aa5cdda33604",
        "IPY_MODEL_25b3c395cb6f42fd9437077acae6aee5"
       ],
       "opened": false
      }
     },
     "fb27447ff7b04ebcb51ab6f7e29084e1": {
      "model_module": "ipytree",
      "model_module_version": "0.2.1",
      "model_name": "NodeModel",
      "state": {
       "_id": "3f1c3877-8b12-49f3-84d2-e563cb37be5b",
       "_model_module_version": "0.2.1",
       "_view_module_version": "0.2.1",
       "icon": "file",
       "name": "Backtester With Tracker Tests.ipynb"
      }
     },
     "fb30a31add65405392b5d6d49737479a": {
      "model_module": "ipytree",
      "model_module_version": "0.2.1",
      "model_name": "NodeModel",
      "state": {
       "_id": "b29c96b0-fdee-4848-b7e3-1eb6b35794b4",
       "_model_module_version": "0.2.1",
       "_view_module_version": "0.2.1",
       "icon": "file",
       "name": "David_Ruppert_Statistics_and_Data_Analysis.pdf"
      }
     },
     "fbb9e96685fc48e2983c1772ec944158": {
      "model_module": "ipytree",
      "model_module_version": "0.2.1",
      "model_name": "NodeModel",
      "state": {
       "_id": "fd911c54-425a-4c7f-9bd8-f318e4b20b05",
       "_model_module_version": "0.2.1",
       "_view_module_version": "0.2.1",
       "icon": "file",
       "name": "999. Price Preparations.ipynb"
      }
     },
     "fbdf943d77ff48e6886a4e30a559368e": {
      "model_module": "ipytree",
      "model_module_version": "0.2.1",
      "model_name": "NodeModel",
      "state": {
       "_id": "a2dbf161-d5de-46f4-b734-8700cd0fa7bd",
       "_model_module_version": "0.2.1",
       "_view_module_version": "0.2.1",
       "icon": "file",
       "name": "tick_loaders.py"
      }
     },
     "fc049e246a394716a7da641a0778d694": {
      "model_module": "ipytree",
      "model_module_version": "0.2.1",
      "model_name": "NodeModel",
      "state": {
       "_id": "b9878b59-e149-4526-b177-a07cd42c347e",
       "_model_module_version": "0.2.1",
       "_view_module_version": "0.2.1",
       "icon": "info",
       "icon_style": "info",
       "name": "media"
      }
     },
     "fc69d38db1a049a1a8d672a70a41a84c": {
      "model_module": "ipytree",
      "model_module_version": "0.2.1",
      "model_name": "TreeModel",
      "state": {
       "_model_module_version": "0.2.1",
       "_view_module_version": "0.2.1",
       "layout": "IPY_MODEL_116c860d2dbd4b0b96c67ab8751d80c3",
       "multiple_selection": false,
       "nodes": [
        "IPY_MODEL_29a6c7273c5f46d7910f6f3fb99068d1"
       ],
       "selected_nodes": [
        "IPY_MODEL_975e333d1b304477835196b2bbf2dd99"
       ]
      }
     },
     "fcc0626eb7714a8287d609e3549fa454": {
      "model_module": "ipytree",
      "model_module_version": "0.2.1",
      "model_name": "NodeModel",
      "state": {
       "_id": "fc3a3faa-f0e3-4341-a8a1-5ed6a9e4ab59",
       "_model_module_version": "0.2.1",
       "_view_module_version": "0.2.1",
       "icon": "file",
       "name": "3.0. Turtles Generator Test.ipynb"
      }
     },
     "fcedc03913ce431f95147696f1ca2cc7": {
      "model_module": "ipytree",
      "model_module_version": "0.2.1",
      "model_name": "NodeModel",
      "state": {
       "_id": "654c450e-8a16-428a-bae3-43575d1a6e0f",
       "_model_module_version": "0.2.1",
       "_view_module_version": "0.2.1",
       "icon": "save",
       "icon_style": "info",
       "name": "Desktop",
       "nodes": [
        "IPY_MODEL_f9488b67a13b4fca9ec790b1b3d5218f",
        "IPY_MODEL_40a0b41faff349b8bb76759b9409e6cb"
       ]
      }
     },
     "fd44f3a2acb74c36acfb5a89c4286c6a": {
      "model_module": "ipytree",
      "model_module_version": "0.2.1",
      "model_name": "NodeModel",
      "state": {
       "_id": "b346666d-ad90-4793-8dde-6b17a0ef2968",
       "_model_module_version": "0.2.1",
       "_view_module_version": "0.2.1",
       "icon": "warning",
       "icon_style": "success",
       "name": "local"
      }
     },
     "fd66fe7268824cae9c79f20f9a1aa55d": {
      "model_module": "ipytree",
      "model_module_version": "0.2.1",
      "model_name": "NodeModel",
      "state": {
       "_id": "d54b97e8-6da1-4006-9de7-4ef42936adea",
       "_model_module_version": "0.2.1",
       "_view_module_version": "0.2.1",
       "icon": "file",
       "name": "__init__.cpython-36.pyc"
      }
     },
     "fd86a681d5564c3cb157675be7c4496c": {
      "model_module": "ipytree",
      "model_module_version": "0.2.1",
      "model_name": "NodeModel",
      "state": {
       "_id": "026127fe-4a1c-4ed9-a437-1a73fa22d48e",
       "_model_module_version": "0.2.1",
       "_view_module_version": "0.2.1",
       "icon": "file",
       "name": "Demo Executions Records Test.ipynb"
      }
     },
     "fe1e5c29706d4627a6ccfc53d8bc6069": {
      "model_module": "ipytree",
      "model_module_version": "0.2.1",
      "model_name": "NodeModel",
      "state": {
       "_id": "4f69f286-f743-4f29-856f-a6ae09089309",
       "_model_module_version": "0.2.1",
       "_view_module_version": "0.2.1",
       "icon": "file",
       "name": "MLforACframework.pdf"
      }
     },
     "fe83b6b8a7564cc08d975e8f4562a915": {
      "model_module": "ipytree",
      "model_module_version": "0.2.1",
      "model_name": "NodeModel",
      "state": {
       "_id": "c792a236-f450-4332-9352-1d0fb52ebd7f",
       "_model_module_version": "0.2.1",
       "_view_module_version": "0.2.1",
       "icon": "home",
       "icon_style": "success",
       "name": "home",
       "nodes": [
        "IPY_MODEL_559ceb3503984319b9258ef63374b422",
        "IPY_MODEL_c2b69db595f04926b17c8975318c44ea"
       ]
      }
     },
     "fe999617163f4c4ea22a2c970f13db1d": {
      "model_module": "ipytree",
      "model_module_version": "0.2.1",
      "model_name": "NodeModel",
      "state": {
       "_id": "2cd4d96d-1458-4780-949c-bdeee53ecd0c",
       "_model_module_version": "0.2.1",
       "_view_module_version": "0.2.1",
       "icon": "file",
       "name": "10.1 FXCM Optimization.ipynb"
      }
     },
     "feb274f41b0142aeb06eeeb5c69688c3": {
      "model_module": "ipytree",
      "model_module_version": "0.2.1",
      "model_name": "NodeModel",
      "state": {
       "_id": "c6f7fe10-0b39-46fc-be25-1c5d5a51d93e",
       "_model_module_version": "0.2.1",
       "_view_module_version": "0.2.1",
       "icon": "file",
       "name": "2. Backtest vs Live.ipynb"
      }
     },
     "fefd6ad07ace431695384de60c184dc2": {
      "model_module": "ipytree",
      "model_module_version": "0.2.1",
      "model_name": "NodeModel",
      "state": {
       "_id": "3dfb185b-2032-4189-9221-47af27a1122f",
       "_model_module_version": "0.2.1",
       "_view_module_version": "0.2.1",
       "icon": "file",
       "name": "levels_algos.cpython-36.pyc"
      }
     },
     "ff3108ff13e144ee9540bf55e5c41a8c": {
      "model_module": "ipytree",
      "model_module_version": "0.2.1",
      "model_name": "NodeModel",
      "state": {
       "_id": "e57def9a-5086-426d-8cd9-4c546c04ed72",
       "_model_module_version": "0.2.1",
       "_view_module_version": "0.2.1",
       "icon": "file",
       "name": "Portfolio Quality.ipynb"
      }
     },
     "ff66a68b45c24d3eb4c0bc6ede9b68f9": {
      "model_module": "ipytree",
      "model_module_version": "0.2.1",
      "model_name": "NodeModel",
      "state": {
       "_id": "3be2aad5-282f-4306-b7a3-9b38b453199e",
       "_model_module_version": "0.2.1",
       "_view_module_version": "0.2.1",
       "icon": "file",
       "name": "levels_detector.py"
      }
     },
     "ffb6766ba9df49f59fb391366059d1f5": {
      "model_module": "ipytree",
      "model_module_version": "0.2.1",
      "model_name": "NodeModel",
      "state": {
       "_id": "e353c1ef-239d-4038-91e6-cb0d469139ba",
       "_model_module_version": "0.2.1",
       "_view_module_version": "0.2.1",
       "icon": "file",
       "name": "UV Optimizer Runner.ipynb"
      }
     },
     "ffcb19aff86e47db95c294d3dcc0411a": {
      "model_module": "ipytree",
      "model_module_version": "0.2.1",
      "model_name": "NodeModel",
      "state": {
       "_id": "46a695b0-c6b5-4b0c-a233-c19c02b41b0e",
       "_model_module_version": "0.2.1",
       "_view_module_version": "0.2.1",
       "icon": "file",
       "name": "forecasts.py"
      }
     },
     "ffdc08b1ebc74d38b20ec19883028000": {
      "model_module": "ipytree",
      "model_module_version": "0.2.1",
      "model_name": "NodeModel",
      "state": {
       "_id": "89177b82-007c-4e2e-b57e-c3f360957cd6",
       "_model_module_version": "0.2.1",
       "_view_module_version": "0.2.1",
       "name": "__pycache__",
       "nodes": [
        "IPY_MODEL_7bd26bfcd3184b5481a6c90d5579c9a8",
        "IPY_MODEL_f955ea85837446b787abe2869e51dd0c",
        "IPY_MODEL_8a4ba1a36c4147ff803f1ebd173c308b"
       ],
       "opened": false
      }
     }
    },
    "version_major": 2,
    "version_minor": 0
   }
  }
 },
 "nbformat": 4,
 "nbformat_minor": 4
}
