{
 "cells": [
  {
   "cell_type": "code",
   "execution_count": 1,
   "metadata": {},
   "outputs": [
    {
     "data": {
      "text/html": [
       "<pre style=\"white-space:pre;overflow-x:auto;line-height:normal;font-family:Menlo,'DejaVu Sans Mono',consolas,'Courier New',monospace\"><span style=\"font-weight: bold\">(</span>c<span style=\"font-weight: bold\">)</span> <span style=\"color: #008000; font-weight: bold\">2017</span>, AppliedAlpha Infrastructure for Quantitative Research and Analysis, ver. master: \n",
       "<span style=\"color: #008000; font-weight: bold\">0.1513</span>\n",
       "</pre>\n"
      ],
      "text/plain": [
       "<rich.jupyter.JupyterRenderable at 0x7fe51b938898>"
      ]
     },
     "metadata": {},
     "output_type": "display_data"
    }
   ],
   "source": [
    "import ira\n",
    "%alphalab dark"
   ]
  },
  {
   "cell_type": "code",
   "execution_count": 2,
   "metadata": {},
   "outputs": [],
   "source": [
    "%load_ext autoreload\n",
    "%autoreload 2\n",
    "\n",
    "from skb.nodes import *"
   ]
  },
  {
   "cell_type": "markdown",
   "metadata": {},
   "source": [
    "Initial design on structures etc - very rough and preliminary ..."
   ]
  },
  {
   "cell_type": "markdown",
   "metadata": {
    "tags": []
   },
   "source": [
    "# Supplement Code"
   ]
  },
  {
   "cell_type": "code",
   "execution_count": 3,
   "metadata": {},
   "outputs": [],
   "source": [
    "# check collisions\n",
    "assert len(set(generate_id('sdasd') for i in range(1_000_000))) == 1_000_000, \"There are collissions !!!\""
   ]
  },
  {
   "cell_type": "markdown",
   "metadata": {},
   "source": [
    "# Designs"
   ]
  },
  {
   "cell_type": "markdown",
   "metadata": {},
   "source": [
    "<hr/>"
   ]
  },
  {
   "cell_type": "code",
   "execution_count": null,
   "metadata": {},
   "outputs": [],
   "source": [
    "z_ls('knodes', dbname='skb')"
   ]
  },
  {
   "cell_type": "code",
   "execution_count": null,
   "metadata": {},
   "outputs": [],
   "source": [
    "z_ld('knodes/67CBB7B86886', dbname='skb')['data']['broker_options'].values"
   ]
  },
  {
   "cell_type": "code",
   "execution_count": 4,
   "metadata": {},
   "outputs": [],
   "source": [
    "# for n in z_ls('knodes', dbname='skb'):\n",
    "#     z_del(n, dbname='skb')"
   ]
  },
  {
   "cell_type": "code",
   "execution_count": 24,
   "metadata": {},
   "outputs": [],
   "source": [
    "a = 123\n",
    "foo = lambda x : x + 1"
   ]
  },
  {
   "cell_type": "code",
   "execution_count": 26,
   "metadata": {},
   "outputs": [
    {
     "name": "stdout",
     "output_type": "stream",
     "text": [
      "{'id': '7674BB208804', 'path': 'projects/personal/prl', 'type': 'todo', 'name': 'Review old Java PRL code', 'description': ' Think about moving it apart\\n Reimplementation in Python/Rust\\n', 'data': 124, 'data_type': None, 'tags': ['patterns', 'personal', 'prl'], 'reference': ['https://github.com/dmarienko/PRL', 'https://github.com/dmarienko/PRL'], 'created': '2022-02-04T13:34:07.314357', 'timespan': '1w', 'author': 'quant1', 'meta': {'cwd': '/home/quant1/projects', 'python': '3.6.9', 'node': 'Ubuntu-1804-bionic-64-nextcloud', 'version': '#146-Ubuntu SMP Tue Apr 13 01:11:19 UTC 2021', 'os': 'Linux'}}\n"
     ]
    }
   ],
   "source": [
    "%%k_ todo projects/personal/prl\n",
    "\n",
    "Review old Java PRL code\n",
    "    - Think about moving it apart\n",
    "    - Reimplementation in Python/Rust\n",
    "    \n",
    "::: `foo(a) \n",
    "r: https://github.com/dmarienko/PRL\n",
    "r: https://github.com/dmarienko/PRL\n",
    "t: prl personal\n",
    "t: patterns\n",
    "s: 1w"
   ]
  },
  {
   "cell_type": "code",
   "execution_count": null,
   "metadata": {},
   "outputs": [],
   "source": []
  }
 ],
 "metadata": {
  "kernelspec": {
   "display_name": "Python 3",
   "language": "python",
   "name": "python3"
  },
  "language_info": {
   "codemirror_mode": {
    "name": "ipython",
    "version": 3
   },
   "file_extension": ".py",
   "mimetype": "text/x-python",
   "name": "python",
   "nbconvert_exporter": "python",
   "pygments_lexer": "ipython3",
   "version": "3.6.9"
  },
  "widgets": {
   "application/vnd.jupyter.widget-state+json": {
    "state": {},
    "version_major": 2,
    "version_minor": 0
   }
  }
 },
 "nbformat": 4,
 "nbformat_minor": 4
}
